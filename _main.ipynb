{
 "cells": [
  {
   "cell_type": "code",
   "id": "initial_id",
   "metadata": {
    "collapsed": true,
    "ExecuteTime": {
     "end_time": "2024-08-15T03:19:00.532957Z",
     "start_time": "2024-08-15T03:19:00.526724Z"
    }
   },
   "source": [
    "%%writefile main.py\n",
    "import heapq\n",
    "import re\n",
    "\n",
    "from flask import Flask, request, jsonify\n",
    "from nltk.tokenize import sent_tokenize\n",
    "from sentence_transformers import SentenceTransformer, util\n",
    "\n",
    "app = Flask(__name__)\n",
    "\n",
    "model = SentenceTransformer('all-MiniLM-L6-v2')\n",
    "\n",
    "\n",
    "def clean_text(text):\n",
    "    text = text.strip()\n",
    "\n",
    "    # remove extra whitespaces\n",
    "    text = re.sub(r'\\s+', ' ', text)\n",
    "\n",
    "    # remove \\n and quotes like “, ‘, ”\n",
    "    text = re.sub(r'[\\n“”‘’]', '', text)\n",
    "\n",
    "    return text\n",
    "\n",
    "\n",
    "def compute_sentence_embeddings(sentences):\n",
    "    embeddings = model.encode(sentences, convert_to_tensor=True)\n",
    "    return embeddings\n",
    "\n",
    "\n",
    "def summarize_text_with_transformer(text, summary_ratio=0.3):\n",
    "    text = clean_text(text)\n",
    "\n",
    "    # Tokenize the text into sentences\n",
    "    sentences = sent_tokenize(text)\n",
    "    if len(sentences) == 0:\n",
    "        return \"\"\n",
    "\n",
    "    # Compute sentence embeddings\n",
    "    sentence_embeddings = compute_sentence_embeddings(sentences)\n",
    "\n",
    "    # Compute pairwise sentence similarities\n",
    "    sentence_scores = {}\n",
    "    for i, sentence in enumerate(sentences):\n",
    "        sentence_score = util.pytorch_cos_sim(sentence_embeddings[i], sentence_embeddings).sum().item()\n",
    "        sentence_scores[sentence] = sentence_score / len(sentences)  # Normalize by number of sentences\n",
    "\n",
    "    # Get the top `summary_ratio`% of sentences with the highest scores\n",
    "    num_summary_sentences = max(1, int(len(sentences) * summary_ratio))\n",
    "    summary_sentences = heapq.nlargest(num_summary_sentences, sentence_scores, key=sentence_scores.get)\n",
    "    summary = ' '.join(summary_sentences)\n",
    "    return summary\n",
    "\n",
    "\n",
    "@app.route(\"/\")\n",
    "def hello_world():\n",
    "    return \"<p>Hello, World!</p>\"\n",
    "\n",
    "\n",
    "@app.route('/process', methods=['POST'])\n",
    "def process_text():\n",
    "    data = request.json\n",
    "    text = data.get('paragraph')\n",
    "\n",
    "    if not text:\n",
    "        return jsonify({'error': 'Missing text or metric'}), 400\n",
    "\n",
    "    if not summarize_text_with_transformer:\n",
    "        return jsonify({'error': 'Invalid metric'}), 400\n",
    "\n",
    "    summary = summarize_text_with_transformer(text)\n",
    "    return jsonify({\n",
    "        'summary': summary,\n",
    "    })\n",
    "\n",
    "\n",
    "if __name__ == '__main__':\n",
    "    app.run(debug=True)"
   ],
   "outputs": [
    {
     "name": "stdout",
     "output_type": "stream",
     "text": [
      "Overwriting main.py\n"
     ]
    }
   ],
   "execution_count": 1
  },
  {
   "metadata": {},
   "cell_type": "code",
   "outputs": [],
   "execution_count": null,
   "source": "",
   "id": "a94ebc4c98ff0026"
  }
 ],
 "metadata": {
  "kernelspec": {
   "display_name": "Python 3",
   "language": "python",
   "name": "python3"
  },
  "language_info": {
   "codemirror_mode": {
    "name": "ipython",
    "version": 2
   },
   "file_extension": ".py",
   "mimetype": "text/x-python",
   "name": "python",
   "nbconvert_exporter": "python",
   "pygments_lexer": "ipython2",
   "version": "2.7.6"
  }
 },
 "nbformat": 4,
 "nbformat_minor": 5
}
