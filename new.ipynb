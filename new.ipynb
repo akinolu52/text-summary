{
 "cells": [
  {
   "cell_type": "code",
   "execution_count": 25,
   "metadata": {
    "execution": {
     "iopub.execute_input": "2024-08-14T18:28:16.496691Z",
     "iopub.status.busy": "2024-08-14T18:28:16.496366Z",
     "iopub.status.idle": "2024-08-14T18:28:16.500788Z",
     "shell.execute_reply": "2024-08-14T18:28:16.500010Z",
     "shell.execute_reply.started": "2024-08-14T18:28:16.496630Z"
    },
    "trusted": true
   },
   "outputs": [
    {
     "name": "stdout",
     "output_type": "stream",
     "text": [
      "welcome...\n"
     ]
    }
   ],
   "source": [
    "print('welcome...')"
   ]
  },
  {
   "cell_type": "code",
   "execution_count": null,
   "metadata": {},
   "outputs": [],
   "source": [
    "%pip install textstat\n",
    "%pip install rouge_score\n",
    "%pip install bert_score\n",
    "%pip install gensim"
   ]
  },
  {
   "cell_type": "code",
   "execution_count": 41,
   "metadata": {
    "_cell_guid": "b1076dfc-b9ad-4769-8c92-a6c4dae69d19",
    "_uuid": "8f2839f25d086af736a60e9eeb907d3b93b6e0e5",
    "execution": {
     "iopub.execute_input": "2024-08-14T18:28:16.503406Z",
     "iopub.status.busy": "2024-08-14T18:28:16.502942Z",
     "iopub.status.idle": "2024-08-14T18:28:16.513806Z",
     "shell.execute_reply": "2024-08-14T18:28:16.512983Z",
     "shell.execute_reply.started": "2024-08-14T18:28:16.503188Z"
    },
    "trusted": true
   },
   "outputs": [],
   "source": [
    "import numpy as np \n",
    "import pandas as pd \n",
    "import re\n",
    "from keras import backend as K \n",
    "# import gensim\n",
    "import matplotlib.pyplot as plt\n",
    "from sklearn.model_selection import train_test_split\n",
    "from keras import backend as K \n",
    "from numpy import *\n",
    "import numpy as np\n",
    "import pandas as pd \n",
    "import re\n",
    "from bs4 import BeautifulSoup\n",
    "import tensorflow as tf\n",
    "from tensorflow.keras.preprocessing.sequence import pad_sequences\n",
    "from tensorflow.keras.preprocessing.text import Tokenizer\n",
    "from nltk.corpus import stopwords\n",
    "from tensorflow.keras.layers import Input, LSTM, Embedding, Dense, Concatenate, TimeDistributed\n",
    "from tensorflow.keras.models import Model\n",
    "from tensorflow.keras.callbacks import EarlyStopping\n",
    "import warnings\n",
    "import pickle\n",
    "from textstat import flesch_reading_ease, flesch_kincaid_grade\n",
    "from datasets import load_dataset, Dataset\n",
    "from nltk.translate.bleu_score import corpus_bleu\n",
    "from rouge_score import rouge_scorer\n",
    "from bert_score import score\n",
    "import seaborn as sns"
   ]
  },
  {
   "cell_type": "code",
   "execution_count": 8,
   "metadata": {},
   "outputs": [],
   "source": [
    "contraction_mapping = {\n",
    "    \"ain't\": \"is not\",\n",
    "    \"aren't\": \"are not\", \"can't\": \"cannot\", \"'cause\": \"because\", \"could've\": \"could have\",\n",
    "    \"couldn't\": \"could not\",\n",
    "    \"didn't\": \"did not\", \"doesn't\": \"does not\", \"don't\": \"do not\", \"hadn't\": \"had not\", \"hasn't\": \"has not\",\n",
    "    \"haven't\": \"have not\",\n",
    "    \"he'd\": \"he would\", \"he'll\": \"he will\", \"he's\": \"he is\", \"how'd\": \"how did\", \"how'd'y\": \"how do you\",\n",
    "    \"how'll\": \"how will\", \"how's\": \"how is\",\n",
    "    \"I'd\": \"I would\", \"I'd've\": \"I would have\", \"I'll\": \"I will\", \"I'll've\": \"I will have\", \"I'm\": \"I am\",\n",
    "    \"I've\": \"I have\", \"i'd\": \"i would\",\n",
    "    \"i'd've\": \"i would have\", \"i'll\": \"i will\", \"i'll've\": \"i will have\", \"i'm\": \"i am\", \"i've\": \"i have\",\n",
    "    \"isn't\": \"is not\", \"it'd\": \"it would\",\n",
    "    \"it'd've\": \"it would have\", \"it'll\": \"it will\", \"it'll've\": \"it will have\", \"it's\": \"it is\",\n",
    "    \"let's\": \"let us\", \"ma'am\": \"madam\",\n",
    "    \"mayn't\": \"may not\", \"might've\": \"might have\", \"mightn't\": \"might not\", \"mightn't've\": \"might not have\",\n",
    "    \"must've\": \"must have\",\n",
    "    \"mustn't\": \"must not\", \"mustn't've\": \"must not have\", \"needn't\": \"need not\", \"needn't've\": \"need not have\",\n",
    "    \"o'clock\": \"of the clock\",\n",
    "    \"oughtn't\": \"ought not\", \"oughtn't've\": \"ought not have\", \"shan't\": \"shall not\", \"sha'n't\": \"shall not\",\n",
    "    \"shan't've\": \"shall not have\",\n",
    "    \"she'd\": \"she would\", \"she'd've\": \"she would have\", \"she'll\": \"she will\", \"she'll've\": \"she will have\",\n",
    "    \"she's\": \"she is\",\n",
    "    \"should've\": \"should have\", \"shouldn't\": \"should not\", \"shouldn't've\": \"should not have\",\n",
    "    \"so've\": \"so have\", \"so's\": \"so as\",\n",
    "    \"this's\": \"this is\", \"that'd\": \"that would\", \"that'd've\": \"that would have\", \"that's\": \"that is\",\n",
    "    \"there'd\": \"there would\",\n",
    "    \"there'd've\": \"there would have\", \"there's\": \"there is\", \"here's\": \"here is\", \"they'd\": \"they would\",\n",
    "    \"they'd've\": \"they would have\",\n",
    "    \"they'll\": \"they will\", \"they'll've\": \"they will have\", \"they're\": \"they are\", \"they've\": \"they have\",\n",
    "    \"to've\": \"to have\",\n",
    "    \"wasn't\": \"was not\", \"we'd\": \"we would\", \"we'd've\": \"we would have\", \"we'll\": \"we will\",\n",
    "    \"we'll've\": \"we will have\", \"we're\": \"we are\",\n",
    "    \"we've\": \"we have\", \"weren't\": \"were not\", \"what'll\": \"what will\", \"what'll've\": \"what will have\",\n",
    "    \"what're\": \"what are\",\n",
    "    \"what's\": \"what is\", \"what've\": \"what have\", \"when's\": \"when is\", \"when've\": \"when have\",\n",
    "    \"where'd\": \"where did\", \"where's\": \"where is\",\n",
    "    \"where've\": \"where have\", \"who'll\": \"who will\", \"who'll've\": \"who will have\", \"who's\": \"who is\",\n",
    "    \"who've\": \"who have\",\n",
    "    \"why's\": \"why is\", \"why've\": \"why have\", \"will've\": \"will have\", \"won't\": \"will not\",\n",
    "    \"won't've\": \"will not have\",\n",
    "    \"would've\": \"would have\", \"wouldn't\": \"would not\", \"wouldn't've\": \"would not have\", \"y'all\": \"you all\",\n",
    "    \"y'all'd\": \"you all would\", \"y'all'd've\": \"you all would have\", \"y'all're\": \"you all are\",\n",
    "    \"y'all've\": \"you all have\",\n",
    "    \"you'd\": \"you would\", \"you'd've\": \"you would have\", \"you'll\": \"you will\", \"you'll've\": \"you will have\",\n",
    "    \"you're\": \"you are\", \"you've\": \"you have\"\n",
    "}"
   ]
  },
  {
   "cell_type": "code",
   "execution_count": 9,
   "metadata": {},
   "outputs": [],
   "source": [
    "class DataPreprocessor:\n",
    "    def __init__(self):\n",
    "        pass\n",
    "    \n",
    "    def load_csv_from_google_drive(self, url, name):\n",
    "        # Attempting to load a CSV file from a Google Drive link into a Pandas DataFrame.\n",
    "        try:\n",
    "            # Extracting file ID from the original URL to construct a direct download link.\n",
    "            url = 'https://drive.google.com/uc?id=' + url.split('/')[-2]\n",
    "\n",
    "            # Loading the CSV data from the constructed URL into a Pandas DataFrame.\n",
    "            df = pd.read_csv(url,encoding='iso-8859-1')\n",
    "\n",
    "            # Confirmation message upon successful loading of CSV data.\n",
    "            print(f'{name} CSV loaded successfully.')\n",
    "\n",
    "            # Returning the loaded DataFrame.\n",
    "            return df\n",
    "\n",
    "        except Exception as e:\n",
    "            # Handling any exceptions that may occur during the process and printing the error message.\n",
    "            print('Exception occurred: ', e)\n",
    "\n",
    "    def load_data(self,):\n",
    "        print('Loading the summary dataset...')\n",
    "        summary_df  = self.load_csv_from_google_drive(\"https://drive.google.com/file/d/1jjjtai8R0BTfTtfucbOQPCJTllXfV9Dy/view?usp=sharing\", \"Summary\")\n",
    "        \n",
    "        print('\\nLoading the raw dataset...')\n",
    "        raw_df  = self.load_csv_from_google_drive(\"https://drive.google.com/file/d/1pt4kBnL0i-qtBKwgxBeTTKnkGINq8miE/view?usp=sharing\", \"Raw\")\n",
    "\n",
    "        # preprocessing steps\n",
    "        raw_df_copy =  raw_df.iloc[:,0:2].copy()\n",
    "        summary_df_copy = summary_df.iloc[:,0:6].copy()\n",
    "        summary_df_copy['text'] = summary_df_copy['author'].str.cat(summary_df_copy['date'].str.cat(summary_df_copy['read_more'].str.cat(summary_df_copy['text'].str.cat(summary_df_copy['ctext'], sep = \" \"), sep =\" \"),sep= \" \"), sep = \" \")\n",
    "\n",
    "        data = pd.DataFrame()\n",
    "        data['text'] = pd.concat([raw_df_copy['text'], summary_df_copy['text']], ignore_index=True)\n",
    "        data['summary'] = pd.concat([raw_df_copy['headlines'], summary_df_copy['headlines']], ignore_index=True)\n",
    "\n",
    "        return data\n",
    " \n",
    "    \n",
    "    def replace_contractions(self, text):\n",
    "        def replace(match):\n",
    "            return contraction_mapping[match.group(0)]\n",
    "        return re.sub(\"|\".join(contraction_mapping.keys()), replace, text)\n",
    "\n",
    "    \n",
    "    def clean_text(self, _column):\n",
    "        for _text in _column:\n",
    "             # Convert to string and lowercase once\n",
    "            _text = str(_text).lower() \n",
    "\n",
    "            # Remove escape characters\n",
    "            _text = re.sub(r\"[\\t\\r\\n]\", ' ', _text)\n",
    "\n",
    "            # Remove multiple consecutive special characters\n",
    "            _text = re.sub(r\"(__+|--+|~~+|\\+\\+|\\.\\.+)\", ' ', _text)\n",
    "\n",
    "            # Remove specific special characters\n",
    "            _text = re.sub(r\"[<>()|&©ø\\[\\]\\'\\\",;?~*!]\", ' ', _text)\n",
    "\n",
    "            # Remove specific patterns\n",
    "            _text = re.sub(r\"(mailto:|\\\\x9\\d)\", ' ', _text)\n",
    "            _text = re.sub(r\"([iI][nN][cC]\\d+)\", 'inc_num', _text)\n",
    "            _text = re.sub(r\"([cC][mM]\\d+)|([cC][hH][gG]\\d+)\", 'cm_num', _text)\n",
    "\n",
    "            # Remove punctuation at the end of words\n",
    "            _text = re.sub(r\"(\\.\\s+|\\-\\s+|\\:\\s+)\", ' ', _text)\n",
    "\n",
    "            # Remove single characters between spaces\n",
    "            _text = re.sub(r\"(\\s+.\\s+)\", ' ', _text)\n",
    "\n",
    "            # Replace URLs with domain name\n",
    "            try:\n",
    "                url = re.search(r'((https*:\\/*)([^\\/\\s]+))(.[^\\s]+)', _text)\n",
    "                if url:\n",
    "                    repl_url = url.group(3)\n",
    "                    _text = re.sub(r'((https*:\\/*)([^\\/\\s]+))(.[^\\s]+)', repl_url, _text)\n",
    "            except Exception:\n",
    "                pass  # There might be emails with no URL in them\n",
    "\n",
    "            yield re.sub(r\"(\\s+)\", ' ', _text)\n",
    "\n",
    "\n",
    "    def split_data(self, data):\n",
    "        return train_test_split(data['text'], data['summary'], test_size=0.1, random_state=42, shuffle=True)"
   ]
  },
  {
   "cell_type": "code",
   "execution_count": 27,
   "metadata": {
    "_cell_guid": "79c7e3d0-c299-4dcb-8224-4455121ee9b0",
    "_uuid": "d629ff2d2480ee46fbb7e2d37f6b5fab8052498a",
    "execution": {
     "iopub.execute_input": "2024-08-14T18:28:16.515413Z",
     "iopub.status.busy": "2024-08-14T18:28:16.515080Z",
     "iopub.status.idle": "2024-08-14T18:28:17.094339Z",
     "shell.execute_reply": "2024-08-14T18:28:17.093681Z",
     "shell.execute_reply.started": "2024-08-14T18:28:16.515356Z"
    },
    "trusted": true
   },
   "outputs": [],
   "source": [
    "# summary = pd.read_csv('/kaggle/input/news-summary/news_summary.csv', encoding='iso-8859-1')\n",
    "# raw = pd.read_csv('/kaggle/input/news-summary/news_summary_more.csv', encoding='iso-8859-1')"
   ]
  },
  {
   "cell_type": "code",
   "execution_count": 28,
   "metadata": {
    "execution": {
     "iopub.execute_input": "2024-08-14T18:28:17.096074Z",
     "iopub.status.busy": "2024-08-14T18:28:17.095803Z",
     "iopub.status.idle": "2024-08-14T18:28:17.148721Z",
     "shell.execute_reply": "2024-08-14T18:28:17.148071Z",
     "shell.execute_reply.started": "2024-08-14T18:28:17.096023Z"
    },
    "trusted": true
   },
   "outputs": [],
   "source": [
    "# pre1 =  raw.iloc[:,0:2].copy()\n",
    "\n",
    "# pre2 = summary.iloc[:,0:6].copy()\n",
    "# pre2['text'] = pre2['author'].str.cat(pre2['date'].str.cat(pre2['read_more'].str.cat(pre2['text'].str.cat(pre2['ctext'], sep = \" \"), sep =\" \"),sep= \" \"), sep = \" \")"
   ]
  },
  {
   "cell_type": "code",
   "execution_count": 29,
   "metadata": {
    "execution": {
     "iopub.execute_input": "2024-08-14T18:28:17.151863Z",
     "iopub.status.busy": "2024-08-14T18:28:17.151634Z",
     "iopub.status.idle": "2024-08-14T18:28:17.194637Z",
     "shell.execute_reply": "2024-08-14T18:28:17.193461Z",
     "shell.execute_reply.started": "2024-08-14T18:28:17.151826Z"
    },
    "trusted": true
   },
   "outputs": [],
   "source": [
    "# pre = pd.DataFrame()\n",
    "# pre['text'] = pd.concat([pre1['text'], pre2['text']], ignore_index=True)\n",
    "# pre['summary'] = pd.concat([pre1['headlines'],pre2['headlines']],ignore_index = True)"
   ]
  },
  {
   "cell_type": "code",
   "execution_count": 84,
   "metadata": {
    "execution": {
     "iopub.execute_input": "2024-08-14T20:39:02.512591Z",
     "iopub.status.busy": "2024-08-14T20:39:02.512223Z",
     "iopub.status.idle": "2024-08-14T20:39:02.518318Z",
     "shell.execute_reply": "2024-08-14T20:39:02.517532Z",
     "shell.execute_reply.started": "2024-08-14T20:39:02.512539Z"
    },
    "trusted": true
   },
   "outputs": [
    {
     "data": {
      "text/plain": [
       "(98401, 2)"
      ]
     },
     "execution_count": 84,
     "metadata": {},
     "output_type": "execute_result"
    }
   ],
   "source": [
    "# pre1.shape"
   ]
  },
  {
   "cell_type": "code",
   "execution_count": 30,
   "metadata": {
    "execution": {
     "iopub.execute_input": "2024-08-14T18:28:17.198129Z",
     "iopub.status.busy": "2024-08-14T18:28:17.197789Z",
     "iopub.status.idle": "2024-08-14T18:28:17.207179Z",
     "shell.execute_reply": "2024-08-14T18:28:17.206496Z",
     "shell.execute_reply.started": "2024-08-14T18:28:17.198066Z"
    },
    "trusted": true
   },
   "outputs": [
    {
     "data": {
      "text/html": [
       "<div>\n",
       "<style scoped>\n",
       "    .dataframe tbody tr th:only-of-type {\n",
       "        vertical-align: middle;\n",
       "    }\n",
       "\n",
       "    .dataframe tbody tr th {\n",
       "        vertical-align: top;\n",
       "    }\n",
       "\n",
       "    .dataframe thead th {\n",
       "        text-align: right;\n",
       "    }\n",
       "</style>\n",
       "<table border=\"1\" class=\"dataframe\">\n",
       "  <thead>\n",
       "    <tr style=\"text-align: right;\">\n",
       "      <th></th>\n",
       "      <th>text</th>\n",
       "      <th>summary</th>\n",
       "    </tr>\n",
       "  </thead>\n",
       "  <tbody>\n",
       "    <tr>\n",
       "      <td>0</td>\n",
       "      <td>Saurav Kant, an alumnus of upGrad and IIIT-B's...</td>\n",
       "      <td>upGrad learner switches to career in ML &amp; Al w...</td>\n",
       "    </tr>\n",
       "    <tr>\n",
       "      <td>1</td>\n",
       "      <td>Kunal Shah's credit card bill payment platform...</td>\n",
       "      <td>Delhi techie wins free food from Swiggy for on...</td>\n",
       "    </tr>\n",
       "  </tbody>\n",
       "</table>\n",
       "</div>"
      ],
      "text/plain": [
       "                                                text  \\\n",
       "0  Saurav Kant, an alumnus of upGrad and IIIT-B's...   \n",
       "1  Kunal Shah's credit card bill payment platform...   \n",
       "\n",
       "                                             summary  \n",
       "0  upGrad learner switches to career in ML & Al w...  \n",
       "1  Delhi techie wins free food from Swiggy for on...  "
      ]
     },
     "execution_count": 30,
     "metadata": {},
     "output_type": "execute_result"
    }
   ],
   "source": [
    "# pre.head(2)"
   ]
  },
  {
   "cell_type": "code",
   "execution_count": 31,
   "metadata": {
    "execution": {
     "iopub.execute_input": "2024-08-14T18:28:17.209105Z",
     "iopub.status.busy": "2024-08-14T18:28:17.208843Z",
     "iopub.status.idle": "2024-08-14T18:28:17.219731Z",
     "shell.execute_reply": "2024-08-14T18:28:17.219031Z",
     "shell.execute_reply.started": "2024-08-14T18:28:17.209055Z"
    },
    "trusted": true
   },
   "outputs": [
    {
     "data": {
      "text/plain": [
       "0    Saurav Kant, an alumnus of upGrad and IIIT-B's...\n",
       "1    Kunal Shah's credit card bill payment platform...\n",
       "2    New Zealand defeated India by 8 wickets in the...\n",
       "3    With Aegon Life iTerm Insurance plan, customer...\n",
       "4    Speaking about the sexual harassment allegatio...\n",
       "5    Pakistani singer Rahat Fateh Ali Khan has deni...\n",
       "6    India recorded their lowest ODI total in New Z...\n",
       "7    Weeks after ex-CBI Director Alok Verma told th...\n",
       "8    Andhra Pradesh CM N Chandrababu Naidu has said...\n",
       "9    Congress candidate Shafia Zubair won the Ramga...\n",
       "Name: text, dtype: object"
      ]
     },
     "execution_count": 31,
     "metadata": {},
     "output_type": "execute_result"
    }
   ],
   "source": [
    "# pre['text'][:10]\n"
   ]
  },
  {
   "cell_type": "code",
   "execution_count": 32,
   "metadata": {
    "execution": {
     "iopub.execute_input": "2024-08-14T18:28:17.221320Z",
     "iopub.status.busy": "2024-08-14T18:28:17.221037Z",
     "iopub.status.idle": "2024-08-14T18:28:17.239778Z",
     "shell.execute_reply": "2024-08-14T18:28:17.238950Z",
     "shell.execute_reply.started": "2024-08-14T18:28:17.221267Z"
    },
    "trusted": true
   },
   "outputs": [],
   "source": [
    "# import re\n",
    "\n",
    "# def text_strip(column):\n",
    "#     for row in column:\n",
    "        \n",
    "#         #ORDER OF REGEX IS VERY VERY IMPORTANT!!!!!!\n",
    "        \n",
    "#         row=re.sub(\"(\\\\t)\", ' ', str(row)).lower() #remove escape charecters\n",
    "#         row=re.sub(\"(\\\\r)\", ' ', str(row)).lower() \n",
    "#         row=re.sub(\"(\\\\n)\", ' ', str(row)).lower()\n",
    "        \n",
    "#         row=re.sub(\"(__+)\", ' ', str(row)).lower()   #remove _ if it occors more than one time consecutively\n",
    "#         row=re.sub(\"(--+)\", ' ', str(row)).lower()   #remove - if it occors more than one time consecutively\n",
    "#         row=re.sub(\"(~~+)\", ' ', str(row)).lower()   #remove ~ if it occors more than one time consecutively\n",
    "#         row=re.sub(\"(\\+\\++)\", ' ', str(row)).lower()   #remove + if it occors more than one time consecutively\n",
    "#         row=re.sub(\"(\\.\\.+)\", ' ', str(row)).lower()   #remove . if it occors more than one time consecutively\n",
    "        \n",
    "#         row=re.sub(r\"[<>()|&©ø\\[\\]\\'\\\",;?~*!]\", ' ', str(row)).lower() #remove <>()|&©ø\"',;?~*!\n",
    "        \n",
    "#         row=re.sub(\"(mailto:)\", ' ', str(row)).lower() #remove mailto:\n",
    "#         row=re.sub(r\"(\\\\x9\\d)\", ' ', str(row)).lower() #remove \\x9* in text\n",
    "#         row=re.sub(\"([iI][nN][cC]\\d+)\", 'INC_NUM', str(row)).lower() #replace INC nums to INC_NUM\n",
    "#         row=re.sub(\"([cC][mM]\\d+)|([cC][hH][gG]\\d+)\", 'CM_NUM', str(row)).lower() #replace CM# and CHG# to CM_NUM\n",
    "        \n",
    "        \n",
    "#         row=re.sub(\"(\\.\\s+)\", ' ', str(row)).lower() #remove full stop at end of words(not between)\n",
    "#         row=re.sub(\"(\\-\\s+)\", ' ', str(row)).lower() #remove - at end of words(not between)\n",
    "#         row=re.sub(\"(\\:\\s+)\", ' ', str(row)).lower() #remove : at end of words(not between)\n",
    "        \n",
    "#         row=re.sub(\"(\\s+.\\s+)\", ' ', str(row)).lower() #remove any single charecters hanging between 2 spaces\n",
    "        \n",
    "#         #Replace any url as such https://abc.xyz.net/browse/sdf-5327 ====> abc.xyz.net\n",
    "#         try:\n",
    "#             url = re.search(r'((https*:\\/*)([^\\/\\s]+))(.[^\\s]+)', str(row))\n",
    "#             repl_url = url.group(3)\n",
    "#             row = re.sub(r'((https*:\\/*)([^\\/\\s]+))(.[^\\s]+)',repl_url, str(row))\n",
    "#         except:\n",
    "#             pass #there might be emails with no url in them\n",
    "        \n",
    "#         row = re.sub(\"(\\s+)\",' ',str(row)).lower() #remove multiple spaces\n",
    "    \n",
    "#         #Should always be last\n",
    "#         row=re.sub(\"(\\s+.\\s+)\", ' ', str(row)).lower() #remove any single charecters hanging between 2 spaces\n",
    "#         yield row"
   ]
  },
  {
   "cell_type": "code",
   "execution_count": 33,
   "metadata": {
    "execution": {
     "iopub.execute_input": "2024-08-14T18:28:17.241280Z",
     "iopub.status.busy": "2024-08-14T18:28:17.240979Z",
     "iopub.status.idle": "2024-08-14T18:28:17.257493Z",
     "shell.execute_reply": "2024-08-14T18:28:17.256728Z",
     "shell.execute_reply.started": "2024-08-14T18:28:17.241227Z"
    },
    "trusted": true
   },
   "outputs": [],
   "source": [
    "# brief_cleaning1 = text_strip(pre['text'])\n",
    "# brief_cleaning2 = text_strip(pre['summary'])"
   ]
  },
  {
   "cell_type": "code",
   "execution_count": 34,
   "metadata": {
    "execution": {
     "iopub.execute_input": "2024-08-14T18:28:17.258874Z",
     "iopub.status.busy": "2024-08-14T18:28:17.258616Z",
     "iopub.status.idle": "2024-08-14T18:28:17.267181Z",
     "shell.execute_reply": "2024-08-14T18:28:17.266510Z",
     "shell.execute_reply.started": "2024-08-14T18:28:17.258818Z"
    },
    "trusted": true
   },
   "outputs": [],
   "source": [
    "# from time import time\n",
    "# import spacy\n",
    "# nlp = spacy.load('en', disable=['ner', 'parser']) # disabling Named Entity Recognition for speed\n",
    "\n",
    "\n",
    "# t = time()\n",
    "\n",
    "# #Batch the data points into 5000 and run on all cores for faster preprocessing\n",
    "# text = [str(doc) for doc in nlp.pipe(brief_cleaning1, batch_size=5000, n_threads=-1)]\n",
    "\n",
    "# #Takes 7-8 mins\n",
    "# print('Time to clean up everything: {} mins'.format(round((time() - t) / 60, 2)))"
   ]
  },
  {
   "cell_type": "code",
   "execution_count": 35,
   "metadata": {
    "execution": {
     "iopub.execute_input": "2024-08-14T18:28:17.268840Z",
     "iopub.status.busy": "2024-08-14T18:28:17.268602Z",
     "iopub.status.idle": "2024-08-14T18:28:17.277128Z",
     "shell.execute_reply": "2024-08-14T18:28:17.276471Z",
     "shell.execute_reply.started": "2024-08-14T18:28:17.268794Z"
    },
    "trusted": true
   },
   "outputs": [],
   "source": [
    "# #Taking advantage of spaCy .pipe() method to speed-up the cleaning process:\n",
    "\n",
    "\n",
    "# t = time()\n",
    "\n",
    "# #Batch the data points into 5000 and run on all cores for faster preprocessing\n",
    "# summary = ['_START_ '+ str(doc) + ' _END_' for doc in nlp.pipe(brief_cleaning2, batch_size=5000, n_threads=-1)]\n",
    "\n",
    "# #Takes 7-8 mins\n",
    "# print('Time to clean up everything: {} mins'.format(round((time() - t) / 60, 2)))"
   ]
  },
  {
   "cell_type": "code",
   "execution_count": 36,
   "metadata": {
    "execution": {
     "iopub.execute_input": "2024-08-14T18:28:17.278594Z",
     "iopub.status.busy": "2024-08-14T18:28:17.278291Z",
     "iopub.status.idle": "2024-08-14T18:28:17.288939Z",
     "shell.execute_reply": "2024-08-14T18:28:17.288313Z",
     "shell.execute_reply.started": "2024-08-14T18:28:17.278540Z"
    },
    "trusted": true
   },
   "outputs": [],
   "source": [
    "# text[0]"
   ]
  },
  {
   "cell_type": "code",
   "execution_count": 37,
   "metadata": {
    "execution": {
     "iopub.execute_input": "2024-08-14T18:28:17.290589Z",
     "iopub.status.busy": "2024-08-14T18:28:17.290324Z",
     "iopub.status.idle": "2024-08-14T18:28:17.299150Z",
     "shell.execute_reply": "2024-08-14T18:28:17.298592Z",
     "shell.execute_reply.started": "2024-08-14T18:28:17.290542Z"
    },
    "trusted": true
   },
   "outputs": [],
   "source": [
    "# summary[0]"
   ]
  },
  {
   "cell_type": "code",
   "execution_count": 38,
   "metadata": {
    "execution": {
     "iopub.execute_input": "2024-08-14T18:28:17.300723Z",
     "iopub.status.busy": "2024-08-14T18:28:17.300412Z",
     "iopub.status.idle": "2024-08-14T18:28:51.153574Z",
     "shell.execute_reply": "2024-08-14T18:28:51.152617Z",
     "shell.execute_reply.started": "2024-08-14T18:28:17.300667Z"
    },
    "trusted": true
   },
   "outputs": [],
   "source": [
    "# # pre['cleaned_text'] = pd.Series(text)\n",
    "# # pre['cleaned_summary'] = pd.Series(summary)\n",
    "\n",
    "# pre['cleaned_text'] = pd.Series(brief_cleaning1)\n",
    "# pre['cleaned_summary'] = pd.Series(brief_cleaning2)"
   ]
  },
  {
   "cell_type": "code",
   "execution_count": 39,
   "metadata": {
    "execution": {
     "iopub.execute_input": "2024-08-14T18:28:51.155127Z",
     "iopub.status.busy": "2024-08-14T18:28:51.154863Z",
     "iopub.status.idle": "2024-08-14T18:28:57.949436Z",
     "shell.execute_reply": "2024-08-14T18:28:57.948600Z",
     "shell.execute_reply.started": "2024-08-14T18:28:51.155077Z"
    },
    "trusted": true
   },
   "outputs": [],
   "source": [
    "# pre.to_csv('cleaned_summary.csv')"
   ]
  },
  {
   "cell_type": "code",
   "execution_count": 40,
   "metadata": {
    "execution": {
     "iopub.execute_input": "2024-08-14T18:28:57.951521Z",
     "iopub.status.busy": "2024-08-14T18:28:57.951163Z",
     "iopub.status.idle": "2024-08-14T18:28:57.956804Z",
     "shell.execute_reply": "2024-08-14T18:28:57.955827Z",
     "shell.execute_reply.started": "2024-08-14T18:28:57.951464Z"
    },
    "trusted": true
   },
   "outputs": [],
   "source": [
    "# text_count = []\n",
    "# summary_count = []"
   ]
  },
  {
   "cell_type": "code",
   "execution_count": 10,
   "metadata": {},
   "outputs": [
    {
     "name": "stdout",
     "output_type": "stream",
     "text": [
      "Loading the summary dataset...\n",
      "Summary CSV loaded successfully.\n",
      "\n",
      "Loading the raw dataset...\n",
      "Raw CSV loaded successfully.\n"
     ]
    }
   ],
   "source": [
    "preprocessor = DataPreprocessor()\n",
    "dataset = preprocessor.load_data()"
   ]
  },
  {
   "cell_type": "code",
   "execution_count": 12,
   "metadata": {},
   "outputs": [],
   "source": [
    "df = dataset"
   ]
  },
  {
   "cell_type": "code",
   "execution_count": 21,
   "metadata": {},
   "outputs": [
    {
     "data": {
      "text/plain": [
       "(102915, 4)"
      ]
     },
     "execution_count": 21,
     "metadata": {},
     "output_type": "execute_result"
    }
   ],
   "source": [
    "dataset.shape"
   ]
  },
  {
   "cell_type": "code",
   "execution_count": 13,
   "metadata": {},
   "outputs": [],
   "source": [
    "df['text'] = df['text'].apply(str).apply(preprocessor.replace_contractions)\n",
    "df['summary'] = df['summary'].apply(str).apply(preprocessor.replace_contractions)"
   ]
  },
  {
   "cell_type": "code",
   "execution_count": 41,
   "metadata": {
    "execution": {
     "iopub.execute_input": "2024-08-14T18:28:57.959402Z",
     "iopub.status.busy": "2024-08-14T18:28:57.959022Z",
     "iopub.status.idle": "2024-08-14T18:28:58.670215Z",
     "shell.execute_reply": "2024-08-14T18:28:58.669569Z",
     "shell.execute_reply.started": "2024-08-14T18:28:57.959346Z"
    },
    "trusted": true
   },
   "outputs": [],
   "source": [
    "# for sent in pre['cleaned_text']:\n",
    "#     text_count.append(len(sent.split()))\n",
    "# for sent in pre['cleaned_summary']:\n",
    "#     summary_count.append(len(sent.split()))"
   ]
  },
  {
   "cell_type": "code",
   "execution_count": 42,
   "metadata": {
    "execution": {
     "iopub.execute_input": "2024-08-14T18:28:58.671777Z",
     "iopub.status.busy": "2024-08-14T18:28:58.671543Z",
     "iopub.status.idle": "2024-08-14T18:28:58.827846Z",
     "shell.execute_reply": "2024-08-14T18:28:58.827040Z",
     "shell.execute_reply.started": "2024-08-14T18:28:58.671740Z"
    },
    "trusted": true
   },
   "outputs": [],
   "source": [
    "# graph_df= pd.DataFrame()\n",
    "# graph_df['text']=text_count\n",
    "# graph_df['summary']=summary_count"
   ]
  },
  {
   "cell_type": "code",
   "execution_count": 43,
   "metadata": {
    "execution": {
     "iopub.execute_input": "2024-08-14T18:28:58.829643Z",
     "iopub.status.busy": "2024-08-14T18:28:58.829376Z",
     "iopub.status.idle": "2024-08-14T18:28:59.113446Z",
     "shell.execute_reply": "2024-08-14T18:28:59.112554Z",
     "shell.execute_reply.started": "2024-08-14T18:28:58.829594Z"
    },
    "trusted": true
   },
   "outputs": [
    {
     "data": {
      "image/png": "[encoded data removed]",
      "text/plain": [
       "<Figure size 432x288 with 2 Axes>"
      ]
     },
     "metadata": {
      "needs_background": "light"
     },
     "output_type": "display_data"
    }
   ],
   "source": [
    "# import matplotlib.pyplot as plt\n",
    "\n",
    "# graph_df.hist(bins = 5)\n",
    "# plt.show()"
   ]
  },
  {
   "cell_type": "code",
   "execution_count": 44,
   "metadata": {
    "execution": {
     "iopub.execute_input": "2024-08-14T18:28:59.115447Z",
     "iopub.status.busy": "2024-08-14T18:28:59.114916Z",
     "iopub.status.idle": "2024-08-14T18:28:59.248063Z",
     "shell.execute_reply": "2024-08-14T18:28:59.247261Z",
     "shell.execute_reply.started": "2024-08-14T18:28:59.115178Z"
    },
    "trusted": true
   },
   "outputs": [
    {
     "name": "stdout",
     "output_type": "stream",
     "text": [
      "0.9999805664869067\n"
     ]
    }
   ],
   "source": [
    "# #Check how much % of summary have 0-15 words\n",
    "# cnt=0\n",
    "# for i in pre['cleaned_summary']:\n",
    "#     if(len(i.split())<=15):\n",
    "#         cnt=cnt+1\n",
    "# print(cnt/len(pre['cleaned_summary']))"
   ]
  },
  {
   "cell_type": "code",
   "execution_count": 45,
   "metadata": {
    "execution": {
     "iopub.execute_input": "2024-08-14T18:28:59.249475Z",
     "iopub.status.busy": "2024-08-14T18:28:59.249259Z",
     "iopub.status.idle": "2024-08-14T18:28:59.827543Z",
     "shell.execute_reply": "2024-08-14T18:28:59.826624Z",
     "shell.execute_reply.started": "2024-08-14T18:28:59.249438Z"
    },
    "trusted": true
   },
   "outputs": [
    {
     "name": "stdout",
     "output_type": "stream",
     "text": [
      "0.9578389933440218\n"
     ]
    }
   ],
   "source": [
    "# #Check how much % of text have 0-70 words\n",
    "# cnt=0\n",
    "# for i in pre['cleaned_text']:\n",
    "#     if(len(i.split())<=100):\n",
    "#         cnt=cnt+1\n",
    "# print(cnt/len(pre['cleaned_text']))"
   ]
  },
  {
   "cell_type": "code",
   "execution_count": 15,
   "metadata": {},
   "outputs": [],
   "source": [
    "df['cleaned_text'] = pd.Series(preprocessor.clean_text(df['text']))\n",
    "df['cleaned_summary'] = pd.Series(preprocessor.clean_text(df['summary']))"
   ]
  },
  {
   "cell_type": "code",
   "execution_count": 16,
   "metadata": {},
   "outputs": [],
   "source": [
    "pre = df"
   ]
  },
  {
   "cell_type": "code",
   "execution_count": 22,
   "metadata": {},
   "outputs": [
    {
     "data": {
      "text/plain": [
       "(102915, 102915)"
      ]
     },
     "execution_count": 22,
     "metadata": {},
     "output_type": "execute_result"
    }
   ],
   "source": [
    "len(pre['cleaned_text']), len(pre['cleaned_summary'])"
   ]
  },
  {
   "cell_type": "code",
   "execution_count": 26,
   "metadata": {},
   "outputs": [],
   "source": [
    "#Model to summarize the text between 0-15 words for Summary and 0-100 words for Text\n",
    "max_text_len=100\n",
    "max_summary_len=15"
   ]
  },
  {
   "cell_type": "code",
   "execution_count": 27,
   "metadata": {
    "execution": {
     "iopub.execute_input": "2024-08-14T18:28:59.834377Z",
     "iopub.status.busy": "2024-08-14T18:28:59.834084Z",
     "iopub.status.idle": "2024-08-14T18:29:00.620521Z",
     "shell.execute_reply": "2024-08-14T18:29:00.619733Z",
     "shell.execute_reply.started": "2024-08-14T18:28:59.834327Z"
    },
    "trusted": true
   },
   "outputs": [],
   "source": [
    "#Select the Summaries and Text between max len defined above\n",
    "\n",
    "cleaned_text =np.array(pre['cleaned_text'])\n",
    "cleaned_summary=np.array(pre['cleaned_summary'])\n",
    "\n",
    "short_text=[]\n",
    "short_summary=[]\n",
    "\n",
    "for i in range(len(cleaned_text)):\n",
    "    if(len(cleaned_summary[i].split())<=max_summary_len and len(cleaned_text[i].split())<=max_text_len):\n",
    "        short_text.append(cleaned_text[i])\n",
    "        short_summary.append(cleaned_summary[i])\n",
    "        \n",
    "post_pre=pd.DataFrame({'text':short_text,'summary':short_summary})"
   ]
  },
  {
   "cell_type": "code",
   "execution_count": 28,
   "metadata": {},
   "outputs": [
    {
     "data": {
      "text/plain": [
       "(98572, 2)"
      ]
     },
     "execution_count": 28,
     "metadata": {},
     "output_type": "execute_result"
    }
   ],
   "source": [
    "post_pre.shape"
   ]
  },
  {
   "cell_type": "code",
   "execution_count": 31,
   "metadata": {},
   "outputs": [
    {
     "data": {
      "text/plain": [
       "(98574, 2)"
      ]
     },
     "execution_count": 31,
     "metadata": {},
     "output_type": "execute_result"
    }
   ],
   "source": [
    "post_pre = pd.read_csv('./news_summary.csv')\n",
    "post_pre.shape"
   ]
  },
  {
   "cell_type": "code",
   "execution_count": null,
   "metadata": {},
   "outputs": [],
   "source": []
  },
  {
   "cell_type": "code",
   "execution_count": 32,
   "metadata": {
    "execution": {
     "iopub.execute_input": "2024-08-14T18:29:00.622152Z",
     "iopub.status.busy": "2024-08-14T18:29:00.621910Z",
     "iopub.status.idle": "2024-08-14T18:29:00.637771Z",
     "shell.execute_reply": "2024-08-14T18:29:00.637019Z",
     "shell.execute_reply.started": "2024-08-14T18:29:00.622105Z"
    },
    "trusted": true
   },
   "outputs": [
    {
     "data": {
      "text/html": [
       "<div>\n",
       "<style scoped>\n",
       "    .dataframe tbody tr th:only-of-type {\n",
       "        vertical-align: middle;\n",
       "    }\n",
       "\n",
       "    .dataframe tbody tr th {\n",
       "        vertical-align: top;\n",
       "    }\n",
       "\n",
       "    .dataframe thead th {\n",
       "        text-align: right;\n",
       "    }\n",
       "</style>\n",
       "<table border=\"1\" class=\"dataframe\">\n",
       "  <thead>\n",
       "    <tr style=\"text-align: right;\">\n",
       "      <th></th>\n",
       "      <th>text</th>\n",
       "      <th>summary</th>\n",
       "    </tr>\n",
       "  </thead>\n",
       "  <tbody>\n",
       "    <tr>\n",
       "      <th>0</th>\n",
       "      <td>saurav kant an alumnus of upgrad and iiit-b pg...</td>\n",
       "      <td>upgrad learner switches to career in ml al wit...</td>\n",
       "    </tr>\n",
       "    <tr>\n",
       "      <th>1</th>\n",
       "      <td>kunal shah credit card bill payment platform c...</td>\n",
       "      <td>delhi techie wins free food from swiggy for on...</td>\n",
       "    </tr>\n",
       "  </tbody>\n",
       "</table>\n",
       "</div>"
      ],
      "text/plain": [
       "                                                text  \\\n",
       "0  saurav kant an alumnus of upgrad and iiit-b pg...   \n",
       "1  kunal shah credit card bill payment platform c...   \n",
       "\n",
       "                                             summary  \n",
       "0  upgrad learner switches to career in ml al wit...  \n",
       "1  delhi techie wins free food from swiggy for on...  "
      ]
     },
     "execution_count": 32,
     "metadata": {},
     "output_type": "execute_result"
    }
   ],
   "source": [
    "post_pre.head(2)"
   ]
  },
  {
   "cell_type": "code",
   "execution_count": 33,
   "metadata": {
    "execution": {
     "iopub.execute_input": "2024-08-14T20:39:45.392597Z",
     "iopub.status.busy": "2024-08-14T20:39:45.392279Z",
     "iopub.status.idle": "2024-08-14T20:39:45.397947Z",
     "shell.execute_reply": "2024-08-14T20:39:45.397117Z",
     "shell.execute_reply.started": "2024-08-14T20:39:45.392553Z"
    },
    "trusted": true
   },
   "outputs": [
    {
     "data": {
      "text/plain": [
       "(98574, 2)"
      ]
     },
     "execution_count": 33,
     "metadata": {},
     "output_type": "execute_result"
    }
   ],
   "source": [
    "post_pre.shape\n",
    "# (98574, 2)"
   ]
  },
  {
   "cell_type": "code",
   "execution_count": 34,
   "metadata": {
    "execution": {
     "iopub.execute_input": "2024-08-14T18:29:00.639526Z",
     "iopub.status.busy": "2024-08-14T18:29:00.639264Z",
     "iopub.status.idle": "2024-08-14T18:29:00.707085Z",
     "shell.execute_reply": "2024-08-14T18:29:00.706452Z",
     "shell.execute_reply.started": "2024-08-14T18:29:00.639478Z"
    },
    "trusted": true
   },
   "outputs": [],
   "source": [
    "#Add sostok and eostok at \n",
    "post_pre['summary'] = post_pre['summary'].apply(lambda x : 'sostok '+ x + ' eostok')\n"
   ]
  },
  {
   "cell_type": "code",
   "execution_count": 35,
   "metadata": {
    "execution": {
     "iopub.execute_input": "2024-08-14T18:29:00.708497Z",
     "iopub.status.busy": "2024-08-14T18:29:00.708272Z",
     "iopub.status.idle": "2024-08-14T18:29:00.716788Z",
     "shell.execute_reply": "2024-08-14T18:29:00.716076Z",
     "shell.execute_reply.started": "2024-08-14T18:29:00.708461Z"
    },
    "trusted": true
   },
   "outputs": [
    {
     "data": {
      "text/html": [
       "<div>\n",
       "<style scoped>\n",
       "    .dataframe tbody tr th:only-of-type {\n",
       "        vertical-align: middle;\n",
       "    }\n",
       "\n",
       "    .dataframe tbody tr th {\n",
       "        vertical-align: top;\n",
       "    }\n",
       "\n",
       "    .dataframe thead th {\n",
       "        text-align: right;\n",
       "    }\n",
       "</style>\n",
       "<table border=\"1\" class=\"dataframe\">\n",
       "  <thead>\n",
       "    <tr style=\"text-align: right;\">\n",
       "      <th></th>\n",
       "      <th>text</th>\n",
       "      <th>summary</th>\n",
       "    </tr>\n",
       "  </thead>\n",
       "  <tbody>\n",
       "    <tr>\n",
       "      <th>0</th>\n",
       "      <td>saurav kant an alumnus of upgrad and iiit-b pg...</td>\n",
       "      <td>sostok upgrad learner switches to career in ml...</td>\n",
       "    </tr>\n",
       "    <tr>\n",
       "      <th>1</th>\n",
       "      <td>kunal shah credit card bill payment platform c...</td>\n",
       "      <td>sostok delhi techie wins free food from swiggy...</td>\n",
       "    </tr>\n",
       "  </tbody>\n",
       "</table>\n",
       "</div>"
      ],
      "text/plain": [
       "                                                text  \\\n",
       "0  saurav kant an alumnus of upgrad and iiit-b pg...   \n",
       "1  kunal shah credit card bill payment platform c...   \n",
       "\n",
       "                                             summary  \n",
       "0  sostok upgrad learner switches to career in ml...  \n",
       "1  sostok delhi techie wins free food from swiggy...  "
      ]
     },
     "execution_count": 35,
     "metadata": {},
     "output_type": "execute_result"
    }
   ],
   "source": [
    "post_pre.head(2)"
   ]
  },
  {
   "cell_type": "markdown",
   "metadata": {},
   "source": [
    "**SEQ2SEQ MODEL BUILDING **"
   ]
  },
  {
   "cell_type": "markdown",
   "metadata": {},
   "source": [
    "Split the data to TRAIN and VALIDATION sets"
   ]
  },
  {
   "cell_type": "code",
   "execution_count": 38,
   "metadata": {
    "execution": {
     "iopub.execute_input": "2024-08-14T18:29:00.718164Z",
     "iopub.status.busy": "2024-08-14T18:29:00.717923Z",
     "iopub.status.idle": "2024-08-14T18:29:01.517052Z",
     "shell.execute_reply": "2024-08-14T18:29:01.516339Z",
     "shell.execute_reply.started": "2024-08-14T18:29:00.718123Z"
    },
    "trusted": true
   },
   "outputs": [],
   "source": [
    "x_tr,x_val,y_tr,y_val=train_test_split(np.array(post_pre['text']),np.array(post_pre['summary']),test_size=0.1,random_state=42,shuffle=True)"
   ]
  },
  {
   "cell_type": "code",
   "execution_count": 42,
   "metadata": {
    "execution": {
     "iopub.execute_input": "2024-08-14T18:29:01.518830Z",
     "iopub.status.busy": "2024-08-14T18:29:01.518560Z",
     "iopub.status.idle": "2024-08-14T18:29:07.700976Z",
     "shell.execute_reply": "2024-08-14T18:29:07.700201Z",
     "shell.execute_reply.started": "2024-08-14T18:29:01.518780Z"
    },
    "trusted": true
   },
   "outputs": [
    {
     "ename": "AttributeError",
     "evalue": "'float' object has no attribute 'lower'",
     "output_type": "error",
     "traceback": [
      "\u001B[0;31m---------------------------------------------------------------------------\u001B[0m",
      "\u001B[0;31mAttributeError\u001B[0m                            Traceback (most recent call last)",
      "Cell \u001B[0;32mIn[42], line 3\u001B[0m\n\u001B[1;32m      1\u001B[0m \u001B[38;5;66;03m#prepare a tokenizer for reviews on training data\u001B[39;00m\n\u001B[1;32m      2\u001B[0m x_tokenizer \u001B[38;5;241m=\u001B[39m Tokenizer() \n\u001B[0;32m----> 3\u001B[0m x_tokenizer\u001B[38;5;241m.\u001B[39mfit_on_texts(\u001B[38;5;28mlist\u001B[39m(x_tr))\n",
      "File \u001B[0;32m~/anaconda3/lib/python3.11/site-packages/keras/src/legacy/preprocessing/text.py:133\u001B[0m, in \u001B[0;36mTokenizer.fit_on_texts\u001B[0;34m(self, texts)\u001B[0m\n\u001B[1;32m    131\u001B[0m \u001B[38;5;28;01melse\u001B[39;00m:\n\u001B[1;32m    132\u001B[0m     \u001B[38;5;28;01mif\u001B[39;00m \u001B[38;5;28mself\u001B[39m\u001B[38;5;241m.\u001B[39manalyzer \u001B[38;5;129;01mis\u001B[39;00m \u001B[38;5;28;01mNone\u001B[39;00m:\n\u001B[0;32m--> 133\u001B[0m         seq \u001B[38;5;241m=\u001B[39m text_to_word_sequence(\n\u001B[1;32m    134\u001B[0m             text,\n\u001B[1;32m    135\u001B[0m             filters\u001B[38;5;241m=\u001B[39m\u001B[38;5;28mself\u001B[39m\u001B[38;5;241m.\u001B[39mfilters,\n\u001B[1;32m    136\u001B[0m             lower\u001B[38;5;241m=\u001B[39m\u001B[38;5;28mself\u001B[39m\u001B[38;5;241m.\u001B[39mlower,\n\u001B[1;32m    137\u001B[0m             split\u001B[38;5;241m=\u001B[39m\u001B[38;5;28mself\u001B[39m\u001B[38;5;241m.\u001B[39msplit,\n\u001B[1;32m    138\u001B[0m         )\n\u001B[1;32m    139\u001B[0m     \u001B[38;5;28;01melse\u001B[39;00m:\n\u001B[1;32m    140\u001B[0m         seq \u001B[38;5;241m=\u001B[39m \u001B[38;5;28mself\u001B[39m\u001B[38;5;241m.\u001B[39manalyzer(text)\n",
      "File \u001B[0;32m~/anaconda3/lib/python3.11/site-packages/keras/src/legacy/preprocessing/text.py:22\u001B[0m, in \u001B[0;36mtext_to_word_sequence\u001B[0;34m(input_text, filters, lower, split)\u001B[0m\n\u001B[1;32m     20\u001B[0m \u001B[38;5;250m\u001B[39m\u001B[38;5;124;03m\"\"\"DEPRECATED.\"\"\"\u001B[39;00m\n\u001B[1;32m     21\u001B[0m \u001B[38;5;28;01mif\u001B[39;00m lower:\n\u001B[0;32m---> 22\u001B[0m     input_text \u001B[38;5;241m=\u001B[39m input_text\u001B[38;5;241m.\u001B[39mlower()\n\u001B[1;32m     24\u001B[0m translate_dict \u001B[38;5;241m=\u001B[39m {c: split \u001B[38;5;28;01mfor\u001B[39;00m c \u001B[38;5;129;01min\u001B[39;00m filters}\n\u001B[1;32m     25\u001B[0m translate_map \u001B[38;5;241m=\u001B[39m \u001B[38;5;28mstr\u001B[39m\u001B[38;5;241m.\u001B[39mmaketrans(translate_dict)\n",
      "\u001B[0;31mAttributeError\u001B[0m: 'float' object has no attribute 'lower'"
     ]
    }
   ],
   "source": [
    "#prepare a tokenizer for reviews on training data\n",
    "x_tokenizer = Tokenizer() \n",
    "x_tokenizer.fit_on_texts(list(x_tr))"
   ]
  },
  {
   "cell_type": "markdown",
   "metadata": {},
   "source": [
    "**RARE WORD ANALYSIS FOR X i.e 'text'**\n",
    "* tot_cnt gives the size of vocabulary (which means every unique words in the text)\n",
    "\n",
    "* cnt gives me the no. of rare words whose count falls below threshold\n",
    "\n",
    "* tot_cnt - cnt gives me the top most common words"
   ]
  },
  {
   "cell_type": "code",
   "execution_count": 53,
   "metadata": {
    "execution": {
     "iopub.execute_input": "2024-08-14T18:29:07.702795Z",
     "iopub.status.busy": "2024-08-14T18:29:07.702517Z",
     "iopub.status.idle": "2024-08-14T18:29:07.762645Z",
     "shell.execute_reply": "2024-08-14T18:29:07.761783Z",
     "shell.execute_reply.started": "2024-08-14T18:29:07.702741Z"
    },
    "trusted": true
   },
   "outputs": [
    {
     "name": "stdout",
     "output_type": "stream",
     "text": [
      "% of rare words in vocabulary: 57.9523665354728\n",
      "Total Coverage of rare words: 1.3407638901855343\n"
     ]
    }
   ],
   "source": [
    "thresh=4\n",
    "\n",
    "cnt=0\n",
    "tot_cnt=0\n",
    "freq=0\n",
    "tot_freq=0\n",
    "\n",
    "for key,value in x_tokenizer.word_counts.items():\n",
    "    tot_cnt=tot_cnt+1\n",
    "    tot_freq=tot_freq+value\n",
    "    if(value<thresh):\n",
    "        cnt=cnt+1\n",
    "        freq=freq+value\n",
    "    \n",
    "print(\"% of rare words in vocabulary:\",(cnt/tot_cnt)*100)\n",
    "print(\"Total Coverage of rare words:\",(freq/tot_freq)*100)"
   ]
  },
  {
   "cell_type": "code",
   "execution_count": 54,
   "metadata": {
    "execution": {
     "iopub.execute_input": "2024-08-14T18:29:07.764404Z",
     "iopub.status.busy": "2024-08-14T18:29:07.764114Z",
     "iopub.status.idle": "2024-08-14T18:29:21.879037Z",
     "shell.execute_reply": "2024-08-14T18:29:21.878108Z",
     "shell.execute_reply.started": "2024-08-14T18:29:07.764355Z"
    },
    "trusted": true
   },
   "outputs": [
    {
     "name": "stdout",
     "output_type": "stream",
     "text": [
      "Size of vocabulary in X = 33333\n"
     ]
    }
   ],
   "source": [
    "\n",
    "#prepare a tokenizer for reviews on training data\n",
    "x_tokenizer = Tokenizer(num_words=tot_cnt-cnt) \n",
    "x_tokenizer.fit_on_texts(list(x_tr))\n",
    "\n",
    "#convert text sequences into integer sequences (i.e one-hot encodeing all the words)\n",
    "x_tr_seq    =   x_tokenizer.texts_to_sequences(x_tr) \n",
    "x_val_seq   =   x_tokenizer.texts_to_sequences(x_val)\n",
    "\n",
    "#padding zero upto maximum length\n",
    "x_tr    =   pad_sequences(x_tr_seq,  maxlen=max_text_len, padding='post')\n",
    "x_val   =   pad_sequences(x_val_seq, maxlen=max_text_len, padding='post')\n",
    "\n",
    "#size of vocabulary ( +1 for padding token)\n",
    "x_voc   =  x_tokenizer.num_words + 1\n",
    "\n",
    "print(\"Size of vocabulary in X = {}\".format(x_voc))"
   ]
  },
  {
   "cell_type": "markdown",
   "metadata": {},
   "source": [
    "**RARE WORD ANALYSIS FOR Y i.e 'summary'**\n",
    "* tot_cnt gives the size of vocabulary (which means every unique words in the text)\n",
    "\n",
    "* cnt gives me the no. of rare words whose count falls below threshold\n",
    "\n",
    "* tot_cnt - cnt gives me the top most common words"
   ]
  },
  {
   "cell_type": "code",
   "execution_count": 55,
   "metadata": {
    "execution": {
     "iopub.execute_input": "2024-08-14T18:29:21.880891Z",
     "iopub.status.busy": "2024-08-14T18:29:21.880567Z",
     "iopub.status.idle": "2024-08-14T18:29:24.124279Z",
     "shell.execute_reply": "2024-08-14T18:29:24.123642Z",
     "shell.execute_reply.started": "2024-08-14T18:29:21.880835Z"
    },
    "trusted": true
   },
   "outputs": [],
   "source": [
    "#prepare a tokenizer for reviews on training data\n",
    "y_tokenizer = Tokenizer()   \n",
    "y_tokenizer.fit_on_texts(list(y_tr))"
   ]
  },
  {
   "cell_type": "code",
   "execution_count": 56,
   "metadata": {
    "execution": {
     "iopub.execute_input": "2024-08-14T18:29:24.129164Z",
     "iopub.status.busy": "2024-08-14T18:29:24.128927Z",
     "iopub.status.idle": "2024-08-14T18:29:24.156423Z",
     "shell.execute_reply": "2024-08-14T18:29:24.155655Z",
     "shell.execute_reply.started": "2024-08-14T18:29:24.129124Z"
    },
    "trusted": true
   },
   "outputs": [
    {
     "name": "stdout",
     "output_type": "stream",
     "text": [
      "% of rare words in vocabulary: 66.22310223335177\n",
      "Total Coverage of rare words: 4.15134272933284\n"
     ]
    }
   ],
   "source": [
    "thresh=6\n",
    "\n",
    "cnt=0\n",
    "tot_cnt=0\n",
    "freq=0\n",
    "tot_freq=0\n",
    "\n",
    "for key,value in y_tokenizer.word_counts.items():\n",
    "    tot_cnt=tot_cnt+1\n",
    "    tot_freq=tot_freq+value\n",
    "    if(value<thresh):\n",
    "        cnt=cnt+1\n",
    "        freq=freq+value\n",
    "    \n",
    "print(\"% of rare words in vocabulary:\",(cnt/tot_cnt)*100)\n",
    "print(\"Total Coverage of rare words:\",(freq/tot_freq)*100)"
   ]
  },
  {
   "cell_type": "code",
   "execution_count": 57,
   "metadata": {
    "execution": {
     "iopub.execute_input": "2024-08-14T18:29:24.158334Z",
     "iopub.status.busy": "2024-08-14T18:29:24.157972Z",
     "iopub.status.idle": "2024-08-14T18:29:29.565076Z",
     "shell.execute_reply": "2024-08-14T18:29:29.564330Z",
     "shell.execute_reply.started": "2024-08-14T18:29:24.158288Z"
    },
    "trusted": true
   },
   "outputs": [
    {
     "name": "stdout",
     "output_type": "stream",
     "text": [
      "Size of vocabulary in Y = 11601\n"
     ]
    }
   ],
   "source": [
    "#prepare a tokenizer for reviews on training data\n",
    "y_tokenizer = Tokenizer(num_words=tot_cnt-cnt) \n",
    "y_tokenizer.fit_on_texts(list(y_tr))\n",
    "\n",
    "#convert text sequences into integer sequences (i.e one hot encode the text in Y)\n",
    "y_tr_seq    =   y_tokenizer.texts_to_sequences(y_tr) \n",
    "y_val_seq   =   y_tokenizer.texts_to_sequences(y_val) \n",
    "\n",
    "#padding zero upto maximum length\n",
    "y_tr    =   pad_sequences(y_tr_seq, maxlen=max_summary_len, padding='post')\n",
    "y_val   =   pad_sequences(y_val_seq, maxlen=max_summary_len, padding='post')\n",
    "\n",
    "#size of vocabulary\n",
    "y_voc  =   y_tokenizer.num_words +1\n",
    "print(\"Size of vocabulary in Y = {}\".format(y_voc))"
   ]
  },
  {
   "cell_type": "markdown",
   "metadata": {},
   "source": [
    "We will now remove \"Summary\" i.e Y (both train and val) which has only _START_ and _END_"
   ]
  },
  {
   "cell_type": "code",
   "execution_count": 58,
   "metadata": {
    "execution": {
     "iopub.execute_input": "2024-08-14T18:29:29.566564Z",
     "iopub.status.busy": "2024-08-14T18:29:29.566333Z",
     "iopub.status.idle": "2024-08-14T18:29:33.631658Z",
     "shell.execute_reply": "2024-08-14T18:29:33.631009Z",
     "shell.execute_reply.started": "2024-08-14T18:29:29.566526Z"
    },
    "trusted": true
   },
   "outputs": [],
   "source": [
    "ind=[]\n",
    "for i in range(len(y_tr)):\n",
    "    cnt=0\n",
    "    for j in y_tr[i]:\n",
    "        if j!=0:\n",
    "            cnt=cnt+1\n",
    "    if(cnt==2):\n",
    "        ind.append(i)\n",
    "\n",
    "y_tr=np.delete(y_tr,ind, axis=0)\n",
    "x_tr=np.delete(x_tr,ind, axis=0)"
   ]
  },
  {
   "cell_type": "code",
   "execution_count": 59,
   "metadata": {
    "execution": {
     "iopub.execute_input": "2024-08-14T18:29:33.633180Z",
     "iopub.status.busy": "2024-08-14T18:29:33.632898Z",
     "iopub.status.idle": "2024-08-14T18:29:34.095789Z",
     "shell.execute_reply": "2024-08-14T18:29:34.095046Z",
     "shell.execute_reply.started": "2024-08-14T18:29:33.633126Z"
    },
    "trusted": true
   },
   "outputs": [],
   "source": [
    "ind=[]\n",
    "for i in range(len(y_val)):\n",
    "    cnt=0\n",
    "    for j in y_val[i]:\n",
    "        if j!=0:\n",
    "            cnt=cnt+1\n",
    "    if(cnt==2):\n",
    "        ind.append(i)\n",
    "\n",
    "y_val=np.delete(y_val,ind, axis=0)\n",
    "x_val=np.delete(x_val,ind, axis=0)"
   ]
  },
  {
   "cell_type": "code",
   "execution_count": 60,
   "metadata": {
    "execution": {
     "iopub.execute_input": "2024-08-14T18:29:34.097391Z",
     "iopub.status.busy": "2024-08-14T18:29:34.097114Z",
     "iopub.status.idle": "2024-08-14T18:29:36.887529Z",
     "shell.execute_reply": "2024-08-14T18:29:36.886606Z",
     "shell.execute_reply.started": "2024-08-14T18:29:34.097348Z"
    },
    "trusted": true
   },
   "outputs": [
    {
     "name": "stdout",
     "output_type": "stream",
     "text": [
      "Size of vocabulary from the w2v model = 33333\n",
      "Model: \"model\"\n",
      "__________________________________________________________________________________________________\n",
      "Layer (type)                    Output Shape         Param #     Connected to                     \n",
      "==================================================================================================\n",
      "input_1 (InputLayer)            [(None, 100)]        0                                            \n",
      "__________________________________________________________________________________________________\n",
      "embedding (Embedding)           (None, 100, 200)     6666600     input_1[0][0]                    \n",
      "__________________________________________________________________________________________________\n",
      "lstm (LSTM)                     [(None, 100, 300), ( 601200      embedding[0][0]                  \n",
      "__________________________________________________________________________________________________\n",
      "input_2 (InputLayer)            [(None, None)]       0                                            \n",
      "__________________________________________________________________________________________________\n",
      "lstm_1 (LSTM)                   [(None, 100, 300), ( 721200      lstm[0][0]                       \n",
      "__________________________________________________________________________________________________\n",
      "embedding_1 (Embedding)         (None, None, 200)    2320200     input_2[0][0]                    \n",
      "__________________________________________________________________________________________________\n",
      "lstm_2 (LSTM)                   [(None, 100, 300), ( 721200      lstm_1[0][0]                     \n",
      "__________________________________________________________________________________________________\n",
      "lstm_3 (LSTM)                   [(None, None, 300),  601200      embedding_1[0][0]                \n",
      "                                                                 lstm_2[0][1]                     \n",
      "                                                                 lstm_2[0][2]                     \n",
      "__________________________________________________________________________________________________\n",
      "time_distributed (TimeDistribut (None, None, 11601)  3491901     lstm_3[0][0]                     \n",
      "==================================================================================================\n",
      "Total params: 15,123,501\n",
      "Trainable params: 15,123,501\n",
      "Non-trainable params: 0\n",
      "__________________________________________________________________________________________________\n"
     ]
    }
   ],
   "source": [
    "from keras import backend as K \n",
    "import gensim\n",
    "from numpy import *\n",
    "import numpy as np\n",
    "import pandas as pd \n",
    "import re\n",
    "from bs4 import BeautifulSoup\n",
    "from keras.preprocessing.text import Tokenizer \n",
    "from keras.preprocessing.sequence import pad_sequences\n",
    "from nltk.corpus import stopwords\n",
    "from tensorflow.keras.layers import Input, LSTM, Embedding, Dense, Concatenate, TimeDistributed\n",
    "from tensorflow.keras.models import Model\n",
    "from tensorflow.keras.callbacks import EarlyStopping\n",
    "import warnings\n",
    "pd.set_option(\"display.max_colwidth\", 200)\n",
    "warnings.filterwarnings(\"ignore\")\n",
    "\n",
    "print(\"Size of vocabulary from the w2v model = {}\".format(x_voc))\n",
    "\n",
    "K.clear_session()\n",
    "\n",
    "latent_dim = 300\n",
    "embedding_dim=200\n",
    "\n",
    "# Encoder\n",
    "encoder_inputs = Input(shape=(max_text_len,))\n",
    "\n",
    "#embedding layer\n",
    "enc_emb =  Embedding(x_voc, embedding_dim,trainable=True)(encoder_inputs)\n",
    "\n",
    "#encoder lstm 1\n",
    "encoder_lstm1 = LSTM(latent_dim,return_sequences=True,return_state=True,dropout=0.4,recurrent_dropout=0.4)\n",
    "encoder_output1, state_h1, state_c1 = encoder_lstm1(enc_emb)\n",
    "\n",
    "#encoder lstm 2\n",
    "encoder_lstm2 = LSTM(latent_dim,return_sequences=True,return_state=True,dropout=0.4,recurrent_dropout=0.4)\n",
    "encoder_output2, state_h2, state_c2 = encoder_lstm2(encoder_output1)\n",
    "\n",
    "#encoder lstm 3\n",
    "encoder_lstm3=LSTM(latent_dim, return_state=True, return_sequences=True,dropout=0.4,recurrent_dropout=0.4)\n",
    "encoder_outputs, state_h, state_c= encoder_lstm3(encoder_output2)\n",
    "\n",
    "# Set up the decoder, using `encoder_states` as initial state.\n",
    "decoder_inputs = Input(shape=(None,))\n",
    "\n",
    "#embedding layer\n",
    "dec_emb_layer = Embedding(y_voc, embedding_dim,trainable=True)\n",
    "dec_emb = dec_emb_layer(decoder_inputs)\n",
    "\n",
    "decoder_lstm = LSTM(latent_dim, return_sequences=True, return_state=True,dropout=0.4,recurrent_dropout=0.2)\n",
    "decoder_outputs,decoder_fwd_state, decoder_back_state = decoder_lstm(dec_emb,initial_state=[state_h, state_c])\n",
    "\n",
    "#dense layer\n",
    "decoder_dense =  TimeDistributed(Dense(y_voc, activation='softmax'))\n",
    "decoder_outputs = decoder_dense(decoder_outputs)\n",
    "\n",
    "# Define the model \n",
    "model = Model([encoder_inputs, decoder_inputs], decoder_outputs)\n",
    "\n",
    "model.summary()\n"
   ]
  },
  {
   "cell_type": "code",
   "execution_count": 61,
   "metadata": {
    "execution": {
     "iopub.execute_input": "2024-08-14T18:29:36.890305Z",
     "iopub.status.busy": "2024-08-14T18:29:36.889868Z",
     "iopub.status.idle": "2024-08-14T18:29:36.948253Z",
     "shell.execute_reply": "2024-08-14T18:29:36.947695Z",
     "shell.execute_reply.started": "2024-08-14T18:29:36.890146Z"
    },
    "trusted": true
   },
   "outputs": [],
   "source": [
    "model.compile(optimizer='rmsprop', loss='sparse_categorical_crossentropy')\n"
   ]
  },
  {
   "cell_type": "code",
   "execution_count": 62,
   "metadata": {
    "execution": {
     "iopub.execute_input": "2024-08-14T18:29:36.950036Z",
     "iopub.status.busy": "2024-08-14T18:29:36.949724Z",
     "iopub.status.idle": "2024-08-14T18:29:36.954177Z",
     "shell.execute_reply": "2024-08-14T18:29:36.953329Z",
     "shell.execute_reply.started": "2024-08-14T18:29:36.949980Z"
    },
    "trusted": true
   },
   "outputs": [],
   "source": [
    "es = EarlyStopping(monitor='val_loss', mode='min', verbose=1,patience=2)\n"
   ]
  },
  {
   "cell_type": "markdown",
   "metadata": {},
   "source": [
    "**Start fitting the model with the data**"
   ]
  },
  {
   "cell_type": "code",
   "execution_count": 63,
   "metadata": {
    "execution": {
     "iopub.execute_input": "2024-08-14T18:29:36.955739Z",
     "iopub.status.busy": "2024-08-14T18:29:36.955515Z",
     "iopub.status.idle": "2024-08-14T18:53:17.564846Z",
     "shell.execute_reply": "2024-08-14T18:53:17.563899Z",
     "shell.execute_reply.started": "2024-08-14T18:29:36.955701Z"
    },
    "trusted": true
   },
   "outputs": [
    {
     "name": "stdout",
     "output_type": "stream",
     "text": [
      "Train on 88716 samples, validate on 9858 samples\n",
      "Epoch 1/8\n",
      "88716/88716 [==============================] - 184s 2ms/sample - loss: 5.1898 - val_loss: 4.8612\n",
      "Epoch 2/8\n",
      "88716/88716 [==============================] - 177s 2ms/sample - loss: 4.7895 - val_loss: 4.5981\n",
      "Epoch 3/8\n",
      "88716/88716 [==============================] - 176s 2ms/sample - loss: 4.5212 - val_loss: 4.3548\n",
      "Epoch 4/8\n",
      "88716/88716 [==============================] - 177s 2ms/sample - loss: 4.2925 - val_loss: 4.1756\n",
      "Epoch 5/8\n",
      "88716/88716 [==============================] - 176s 2ms/sample - loss: 4.1199 - val_loss: 4.0465\n",
      "Epoch 6/8\n",
      "88716/88716 [==============================] - 176s 2ms/sample - loss: 3.9789 - val_loss: 3.9340\n",
      "Epoch 7/8\n",
      "88716/88716 [==============================] - 175s 2ms/sample - loss: 3.8622 - val_loss: 3.8528\n",
      "Epoch 8/8\n",
      "88716/88716 [==============================] - 176s 2ms/sample - loss: 3.7672 - val_loss: 3.7860\n"
     ]
    }
   ],
   "source": [
    "history=model.fit([x_tr,y_tr[:,:-1]], y_tr.reshape(y_tr.shape[0],y_tr.shape[1], 1)[:,1:] ,epochs=8,callbacks=[es],batch_size=256, validation_data=([x_val,y_val[:,:-1]], y_val.reshape(y_val.shape[0],y_val.shape[1], 1)[:,1:]))"
   ]
  },
  {
   "cell_type": "code",
   "execution_count": 76,
   "metadata": {
    "execution": {
     "iopub.execute_input": "2024-08-14T19:02:29.811278Z",
     "iopub.status.busy": "2024-08-14T19:02:29.810953Z",
     "iopub.status.idle": "2024-08-14T19:02:30.016050Z",
     "shell.execute_reply": "2024-08-14T19:02:30.015326Z",
     "shell.execute_reply.started": "2024-08-14T19:02:29.811219Z"
    },
    "trusted": true
   },
   "outputs": [
    {
     "data": {
      "image/png": "[encoded data removed]",
      "text/plain": [
       "<Figure size 864x576 with 1 Axes>"
      ]
     },
     "metadata": {
      "needs_background": "light"
     },
     "output_type": "display_data"
    }
   ],
   "source": [
    "plt.figure(figsize=(12, 8)) \n",
    "plt.plot(history.history['loss'], label='train')\n",
    "plt.plot(history.history['val_loss'], label='test')\n",
    "plt.legend()\n",
    "plt.show()"
   ]
  },
  {
   "cell_type": "code",
   "execution_count": 80,
   "metadata": {
    "execution": {
     "iopub.execute_input": "2024-08-14T19:51:43.765721Z",
     "iopub.status.busy": "2024-08-14T19:51:43.765384Z",
     "iopub.status.idle": "2024-08-14T19:51:44.141326Z",
     "shell.execute_reply": "2024-08-14T19:51:44.140594Z",
     "shell.execute_reply.started": "2024-08-14T19:51:43.765663Z"
    },
    "trusted": true
   },
   "outputs": [],
   "source": [
    "model.save('sequence_2_sequence.keras')\n",
    "model.save('sequence_2_sequence.h5')"
   ]
  },
  {
   "cell_type": "markdown",
   "metadata": {},
   "source": [
    "**Visualize the model learning**"
   ]
  },
  {
   "cell_type": "code",
   "execution_count": 79,
   "metadata": {
    "execution": {
     "iopub.execute_input": "2024-08-14T19:50:38.307415Z",
     "iopub.status.busy": "2024-08-14T19:50:38.307085Z",
     "iopub.status.idle": "2024-08-14T19:50:38.312068Z",
     "shell.execute_reply": "2024-08-14T19:50:38.311093Z",
     "shell.execute_reply.started": "2024-08-14T19:50:38.307370Z"
    },
    "trusted": true
   },
   "outputs": [
    {
     "name": "stdout",
     "output_type": "stream",
     "text": [
      "ok\n"
     ]
    }
   ],
   "source": [
    "print('ok')"
   ]
  },
  {
   "cell_type": "markdown",
   "metadata": {},
   "source": [
    "**Next, let’s build the dictionary to convert the index to word for target and source vocabulary:**"
   ]
  },
  {
   "cell_type": "code",
   "execution_count": 65,
   "metadata": {
    "execution": {
     "iopub.execute_input": "2024-08-14T18:53:18.581029Z",
     "iopub.status.busy": "2024-08-14T18:53:18.580714Z",
     "iopub.status.idle": "2024-08-14T18:53:18.585666Z",
     "shell.execute_reply": "2024-08-14T18:53:18.584852Z",
     "shell.execute_reply.started": "2024-08-14T18:53:18.580974Z"
    },
    "trusted": true
   },
   "outputs": [],
   "source": [
    "reverse_target_word_index=y_tokenizer.index_word\n",
    "reverse_source_word_index=x_tokenizer.index_word\n",
    "target_word_index=y_tokenizer.word_index"
   ]
  },
  {
   "cell_type": "code",
   "execution_count": 66,
   "metadata": {
    "execution": {
     "iopub.execute_input": "2024-08-14T18:53:18.587150Z",
     "iopub.status.busy": "2024-08-14T18:53:18.586897Z",
     "iopub.status.idle": "2024-08-14T18:53:18.924827Z",
     "shell.execute_reply": "2024-08-14T18:53:18.923763Z",
     "shell.execute_reply.started": "2024-08-14T18:53:18.587103Z"
    },
    "trusted": true
   },
   "outputs": [],
   "source": [
    "# Encode the input sequence to get the feature vector\n",
    "encoder_model = Model(inputs=encoder_inputs,outputs=[encoder_outputs, state_h, state_c])\n",
    "\n",
    "# Decoder setup\n",
    "# Below tensors will hold the states of the previous time step\n",
    "decoder_state_input_h = Input(shape=(latent_dim,))\n",
    "decoder_state_input_c = Input(shape=(latent_dim,))\n",
    "decoder_hidden_state_input = Input(shape=(max_text_len,latent_dim))\n",
    "\n",
    "# Get the embeddings of the decoder sequence\n",
    "dec_emb2= dec_emb_layer(decoder_inputs) \n",
    "# To predict the next word in the sequence, set the initial states to the states from the previous time step\n",
    "decoder_outputs2, state_h2, state_c2 = decoder_lstm(dec_emb2, initial_state=[decoder_state_input_h, decoder_state_input_c])\n",
    "\n",
    "# A dense softmax layer to generate prob dist. over the target vocabulary\n",
    "decoder_outputs2 = decoder_dense(decoder_outputs2) \n",
    "\n",
    "# Final decoder model\n",
    "decoder_model = Model(\n",
    "    [decoder_inputs] + [decoder_hidden_state_input,decoder_state_input_h, decoder_state_input_c],\n",
    "    [decoder_outputs2] + [state_h2, state_c2])"
   ]
  },
  {
   "cell_type": "markdown",
   "metadata": {},
   "source": [
    "**We are defining a function below which is the implementation of the inference process**"
   ]
  },
  {
   "cell_type": "code",
   "execution_count": 81,
   "metadata": {
    "execution": {
     "iopub.execute_input": "2024-08-14T19:56:56.707091Z",
     "iopub.status.busy": "2024-08-14T19:56:56.706667Z",
     "iopub.status.idle": "2024-08-14T19:56:56.939795Z",
     "shell.execute_reply": "2024-08-14T19:56:56.938664Z",
     "shell.execute_reply.started": "2024-08-14T19:56:56.706919Z"
    },
    "trusted": true
   },
   "outputs": [
    {
     "name": "stdout",
     "output_type": "stream",
     "text": [
      "Model components saved successfully...\n"
     ]
    },
    {
     "ename": "ValueError",
     "evalue": "Could not pack sequence. Structure had 4 elements, but flat_sequence had 3 elements.  Structure: [<tf.Tensor 'input_2:0' shape=(?, ?) dtype=float32>, <tf.Tensor 'input_5:0' shape=(?, 100, 300) dtype=float32>, <tf.Tensor 'input_3:0' shape=(?, 300) dtype=float32>, <tf.Tensor 'input_4:0' shape=(?, 300) dtype=float32>], flat_sequence: [<tensorflow.python.keras.utils.tf_utils.ListWrapper object at 0x78ea38080978>, <tensorflow.python.keras.utils.tf_utils.ListWrapper object at 0x78ea38080ef0>, <tensorflow.python.keras.utils.tf_utils.ListWrapper object at 0x78ea38080f60>].",
     "output_type": "error",
     "traceback": [
      "\u001B[0;31m---------------------------------------------------------------------------\u001B[0m",
      "\u001B[0;31mIndexError\u001B[0m                                Traceback (most recent call last)",
      "\u001B[0;32m/opt/conda/lib/python3.6/site-packages/tensorflow/python/util/nest.py\u001B[0m in \u001B[0;36mpack_sequence_as\u001B[0;34m(structure, flat_sequence, expand_composites)\u001B[0m\n\u001B[1;32m    439\u001B[0m     final_index, packed = _packed_nest_with_indices(structure, flat_sequence,\n\u001B[0;32m--> 440\u001B[0;31m                                                     0, is_seq)\n\u001B[0m\u001B[1;32m    441\u001B[0m     \u001B[0;32mif\u001B[0m \u001B[0mfinal_index\u001B[0m \u001B[0;34m<\u001B[0m \u001B[0mlen\u001B[0m\u001B[0;34m(\u001B[0m\u001B[0mflat_sequence\u001B[0m\u001B[0;34m)\u001B[0m\u001B[0;34m:\u001B[0m\u001B[0;34m\u001B[0m\u001B[0m\n",
      "\u001B[0;32m/opt/conda/lib/python3.6/site-packages/tensorflow/python/util/nest.py\u001B[0m in \u001B[0;36m_packed_nest_with_indices\u001B[0;34m(structure, flat, index, is_seq)\u001B[0m\n\u001B[1;32m    389\u001B[0m     \u001B[0;32melse\u001B[0m\u001B[0;34m:\u001B[0m\u001B[0;34m\u001B[0m\u001B[0m\n\u001B[0;32m--> 390\u001B[0;31m       \u001B[0mpacked\u001B[0m\u001B[0;34m.\u001B[0m\u001B[0mappend\u001B[0m\u001B[0;34m(\u001B[0m\u001B[0mflat\u001B[0m\u001B[0;34m[\u001B[0m\u001B[0mindex\u001B[0m\u001B[0;34m]\u001B[0m\u001B[0;34m)\u001B[0m\u001B[0;34m\u001B[0m\u001B[0m\n\u001B[0m\u001B[1;32m    391\u001B[0m       \u001B[0mindex\u001B[0m \u001B[0;34m+=\u001B[0m \u001B[0;36m1\u001B[0m\u001B[0;34m\u001B[0m\u001B[0m\n",
      "\u001B[0;31mIndexError\u001B[0m: list index out of range",
      "\nDuring handling of the above exception, another exception occurred:\n",
      "\u001B[0;31mValueError\u001B[0m                                Traceback (most recent call last)",
      "\u001B[0;32m<ipython-input-81-9c0af131d678>\u001B[0m in \u001B[0;36m<module>\u001B[0;34m\u001B[0m\n\u001B[1;32m     19\u001B[0m \u001B[0;31m# decoder_model.save('decoder_model.keras')\u001B[0m\u001B[0;34m\u001B[0m\u001B[0;34m\u001B[0m\u001B[0m\n\u001B[1;32m     20\u001B[0m \u001B[0mencoder_model\u001B[0m\u001B[0;34m.\u001B[0m\u001B[0msave\u001B[0m\u001B[0;34m(\u001B[0m\u001B[0;34m'encoder_model.h5'\u001B[0m\u001B[0;34m)\u001B[0m\u001B[0;34m\u001B[0m\u001B[0m\n\u001B[0;32m---> 21\u001B[0;31m \u001B[0mdecoder_model\u001B[0m\u001B[0;34m.\u001B[0m\u001B[0msave\u001B[0m\u001B[0;34m(\u001B[0m\u001B[0;34m'decoder_model.h5'\u001B[0m\u001B[0;34m)\u001B[0m\u001B[0;34m\u001B[0m\u001B[0m\n\u001B[0m",
      "\u001B[0;32m/opt/conda/lib/python3.6/site-packages/tensorflow/python/keras/engine/network.py\u001B[0m in \u001B[0;36msave\u001B[0;34m(self, filepath, overwrite, include_optimizer, save_format)\u001B[0m\n\u001B[1;32m   1209\u001B[0m     \u001B[0;31m`\u001B[0m\u001B[0;31m`\u001B[0m\u001B[0;31m`\u001B[0m\u001B[0;34m\u001B[0m\u001B[0m\n\u001B[1;32m   1210\u001B[0m     \"\"\"\n\u001B[0;32m-> 1211\u001B[0;31m     \u001B[0msaving\u001B[0m\u001B[0;34m.\u001B[0m\u001B[0msave_model\u001B[0m\u001B[0;34m(\u001B[0m\u001B[0mself\u001B[0m\u001B[0;34m,\u001B[0m \u001B[0mfilepath\u001B[0m\u001B[0;34m,\u001B[0m \u001B[0moverwrite\u001B[0m\u001B[0;34m,\u001B[0m \u001B[0minclude_optimizer\u001B[0m\u001B[0;34m,\u001B[0m \u001B[0msave_format\u001B[0m\u001B[0;34m)\u001B[0m\u001B[0;34m\u001B[0m\u001B[0m\n\u001B[0m\u001B[1;32m   1212\u001B[0m \u001B[0;34m\u001B[0m\u001B[0m\n\u001B[1;32m   1213\u001B[0m   \u001B[0;32mdef\u001B[0m \u001B[0msave_weights\u001B[0m\u001B[0;34m(\u001B[0m\u001B[0mself\u001B[0m\u001B[0;34m,\u001B[0m \u001B[0mfilepath\u001B[0m\u001B[0;34m,\u001B[0m \u001B[0moverwrite\u001B[0m\u001B[0;34m=\u001B[0m\u001B[0;32mTrue\u001B[0m\u001B[0;34m,\u001B[0m \u001B[0msave_format\u001B[0m\u001B[0;34m=\u001B[0m\u001B[0;32mNone\u001B[0m\u001B[0;34m)\u001B[0m\u001B[0;34m:\u001B[0m\u001B[0;34m\u001B[0m\u001B[0m\n",
      "\u001B[0;32m/opt/conda/lib/python3.6/site-packages/tensorflow/python/keras/saving/save.py\u001B[0m in \u001B[0;36msave_model\u001B[0;34m(model, filepath, overwrite, include_optimizer, save_format)\u001B[0m\n\u001B[1;32m    111\u001B[0m           'or using `save_weights`.')\n\u001B[1;32m    112\u001B[0m     hdf5_format.save_model_to_hdf5(\n\u001B[0;32m--> 113\u001B[0;31m         model, filepath, overwrite, include_optimizer)\n\u001B[0m\u001B[1;32m    114\u001B[0m     \u001B[0;32mreturn\u001B[0m\u001B[0;34m\u001B[0m\u001B[0m\n\u001B[1;32m    115\u001B[0m \u001B[0;34m\u001B[0m\u001B[0m\n",
      "\u001B[0;32m/opt/conda/lib/python3.6/site-packages/tensorflow/python/keras/saving/hdf5_format.py\u001B[0m in \u001B[0;36msave_model_to_hdf5\u001B[0;34m(model, filepath, overwrite, include_optimizer)\u001B[0m\n\u001B[1;32m     97\u001B[0m         {\n\u001B[1;32m     98\u001B[0m             \u001B[0;34m'class_name'\u001B[0m\u001B[0;34m:\u001B[0m \u001B[0mmodel\u001B[0m\u001B[0;34m.\u001B[0m\u001B[0m__class__\u001B[0m\u001B[0;34m.\u001B[0m\u001B[0m__name__\u001B[0m\u001B[0;34m,\u001B[0m\u001B[0;34m\u001B[0m\u001B[0m\n\u001B[0;32m---> 99\u001B[0;31m             \u001B[0;34m'config'\u001B[0m\u001B[0;34m:\u001B[0m \u001B[0mmodel\u001B[0m\u001B[0;34m.\u001B[0m\u001B[0mget_config\u001B[0m\u001B[0;34m(\u001B[0m\u001B[0;34m)\u001B[0m\u001B[0;34m\u001B[0m\u001B[0m\n\u001B[0m\u001B[1;32m    100\u001B[0m         },\n\u001B[1;32m    101\u001B[0m         default=serialization.get_json_type).encode('utf8')\n",
      "\u001B[0;32m/opt/conda/lib/python3.6/site-packages/tensorflow/python/keras/engine/network.py\u001B[0m in \u001B[0;36mget_config\u001B[0;34m(self)\u001B[0m\n\u001B[1;32m    991\u001B[0m       model_inputs.append(\n\u001B[1;32m    992\u001B[0m           tf_utils.ListWrapper([layer.name, new_node_index, tensor_index]))\n\u001B[0;32m--> 993\u001B[0;31m     \u001B[0mmodel_inputs\u001B[0m \u001B[0;34m=\u001B[0m \u001B[0mnest\u001B[0m\u001B[0;34m.\u001B[0m\u001B[0mpack_sequence_as\u001B[0m\u001B[0;34m(\u001B[0m\u001B[0mself\u001B[0m\u001B[0;34m.\u001B[0m\u001B[0m_nested_inputs\u001B[0m\u001B[0;34m,\u001B[0m \u001B[0mmodel_inputs\u001B[0m\u001B[0;34m)\u001B[0m\u001B[0;34m\u001B[0m\u001B[0m\n\u001B[0m\u001B[1;32m    994\u001B[0m     \u001B[0;31m# Preserve external Keras compat for Models with single input.\u001B[0m\u001B[0;34m\u001B[0m\u001B[0;34m\u001B[0m\u001B[0m\n\u001B[1;32m    995\u001B[0m     \u001B[0;32mif\u001B[0m \u001B[0;32mnot\u001B[0m \u001B[0mnest\u001B[0m\u001B[0;34m.\u001B[0m\u001B[0mis_sequence\u001B[0m\u001B[0;34m(\u001B[0m\u001B[0mmodel_inputs\u001B[0m\u001B[0;34m)\u001B[0m\u001B[0;34m:\u001B[0m\u001B[0;34m\u001B[0m\u001B[0m\n",
      "\u001B[0;32m/opt/conda/lib/python3.6/site-packages/tensorflow/python/util/nest.py\u001B[0m in \u001B[0;36mpack_sequence_as\u001B[0;34m(structure, flat_sequence, expand_composites)\u001B[0m\n\u001B[1;32m    447\u001B[0m           \u001B[0;34m\"Could not pack sequence. Structure had %d elements, but \"\u001B[0m\u001B[0;34m\u001B[0m\u001B[0m\n\u001B[1;32m    448\u001B[0m           \u001B[0;34m\"flat_sequence had %d elements.  Structure: %s, flat_sequence: %s.\"\u001B[0m \u001B[0;34m%\u001B[0m\u001B[0;34m\u001B[0m\u001B[0m\n\u001B[0;32m--> 449\u001B[0;31m           (len(flat_structure), len(flat_sequence), structure, flat_sequence))\n\u001B[0m\u001B[1;32m    450\u001B[0m   \u001B[0;32mreturn\u001B[0m \u001B[0m_sequence_like\u001B[0m\u001B[0;34m(\u001B[0m\u001B[0mstructure\u001B[0m\u001B[0;34m,\u001B[0m \u001B[0mpacked\u001B[0m\u001B[0;34m)\u001B[0m\u001B[0;34m\u001B[0m\u001B[0m\n\u001B[1;32m    451\u001B[0m \u001B[0;34m\u001B[0m\u001B[0m\n",
      "\u001B[0;31mValueError\u001B[0m: Could not pack sequence. Structure had 4 elements, but flat_sequence had 3 elements.  Structure: [<tf.Tensor 'input_2:0' shape=(?, ?) dtype=float32>, <tf.Tensor 'input_5:0' shape=(?, 100, 300) dtype=float32>, <tf.Tensor 'input_3:0' shape=(?, 300) dtype=float32>, <tf.Tensor 'input_4:0' shape=(?, 300) dtype=float32>], flat_sequence: [<tensorflow.python.keras.utils.tf_utils.ListWrapper object at 0x78ea38080978>, <tensorflow.python.keras.utils.tf_utils.ListWrapper object at 0x78ea38080ef0>, <tensorflow.python.keras.utils.tf_utils.ListWrapper object at 0x78ea38080f60>]."
     ]
    }
   ],
   "source": [
    "import pickle\n",
    "\n",
    "model_components = {\n",
    "    'x_tokenizer': x_tokenizer,\n",
    "    'y_tokenizer': y_tokenizer,\n",
    "    'reverse_source_word_index': reverse_source_word_index,\n",
    "    'reverse_target_word_index': reverse_target_word_index,\n",
    "    'target_word_index': target_word_index,\n",
    "    'max_text_len': max_text_len,\n",
    "    'max_summary_len': max_summary_len\n",
    "}\n",
    "\n",
    "with open('model_components.pkl', 'wb') as f:\n",
    "    pickle.dump(model_components, f)\n",
    "    print('Model components saved successfully...')\n",
    "    \n",
    "\n",
    "# encoder_model.save('encoder_model.keras')\n",
    "# decoder_model.save('decoder_model.keras')\n",
    "encoder_model.save('encoder_model.h5')\n",
    "decoder_model.save('decoder_model.h5')"
   ]
  },
  {
   "cell_type": "code",
   "execution_count": 83,
   "metadata": {
    "execution": {
     "iopub.execute_input": "2024-08-14T20:09:40.737396Z",
     "iopub.status.busy": "2024-08-14T20:09:40.736966Z",
     "iopub.status.idle": "2024-08-14T20:09:40.743605Z",
     "shell.execute_reply": "2024-08-14T20:09:40.742792Z",
     "shell.execute_reply.started": "2024-08-14T20:09:40.737334Z"
    },
    "trusted": true
   },
   "outputs": [
    {
     "data": {
      "text/plain": [
       "<tensorflow.python.keras.engine.training.Model at 0x78ea401ac940>"
      ]
     },
     "execution_count": 83,
     "metadata": {},
     "output_type": "execute_result"
    }
   ],
   "source": [
    "encoder_model"
   ]
  },
  {
   "cell_type": "code",
   "execution_count": 67,
   "metadata": {
    "execution": {
     "iopub.execute_input": "2024-08-14T18:53:18.927096Z",
     "iopub.status.busy": "2024-08-14T18:53:18.926708Z",
     "iopub.status.idle": "2024-08-14T18:53:18.938360Z",
     "shell.execute_reply": "2024-08-14T18:53:18.937550Z",
     "shell.execute_reply.started": "2024-08-14T18:53:18.927018Z"
    },
    "trusted": true
   },
   "outputs": [],
   "source": [
    "def decode_sequence(input_seq):\n",
    "    # Encode the input as state vectors.\n",
    "    e_out, e_h, e_c = encoder_model.predict(input_seq)\n",
    "    \n",
    "    # Generate empty target sequence of length 1.\n",
    "    target_seq = np.zeros((1,1))\n",
    "    \n",
    "    # Populate the first word of target sequence with the start word.\n",
    "    target_seq[0, 0] = target_word_index['sostok']\n",
    "\n",
    "    stop_condition = False\n",
    "    decoded_sentence = ''\n",
    "    while not stop_condition:\n",
    "      \n",
    "        output_tokens, h, c = decoder_model.predict([target_seq] + [e_out, e_h, e_c])\n",
    "\n",
    "        # Sample a token\n",
    "        sampled_token_index = np.argmax(output_tokens[0, -1, :])\n",
    "        sampled_token = reverse_target_word_index[sampled_token_index]\n",
    "        \n",
    "        if(sampled_token!='eostok'):\n",
    "            decoded_sentence += ' '+sampled_token\n",
    "\n",
    "        # Exit condition: either hit max length or find stop word.\n",
    "        if (sampled_token == 'eostok'  or len(decoded_sentence.split()) >= (max_summary_len-1)):\n",
    "            stop_condition = True\n",
    "\n",
    "        # Update the target sequence (of length 1).\n",
    "        target_seq = np.zeros((1,1))\n",
    "        target_seq[0, 0] = sampled_token_index\n",
    "\n",
    "        # Update internal states\n",
    "        e_h, e_c = h, c\n",
    "\n",
    "    return decoded_sentence"
   ]
  },
  {
   "cell_type": "markdown",
   "metadata": {},
   "source": [
    "**Let us define the functions to convert an integer sequence to a word sequence for summary as well as the reviews:**\n"
   ]
  },
  {
   "cell_type": "code",
   "execution_count": 68,
   "metadata": {
    "execution": {
     "iopub.execute_input": "2024-08-14T18:53:18.939869Z",
     "iopub.status.busy": "2024-08-14T18:53:18.939594Z",
     "iopub.status.idle": "2024-08-14T18:53:18.952578Z",
     "shell.execute_reply": "2024-08-14T18:53:18.951795Z",
     "shell.execute_reply.started": "2024-08-14T18:53:18.939821Z"
    },
    "trusted": true
   },
   "outputs": [],
   "source": [
    "def seq2summary(input_seq):\n",
    "    newString=''\n",
    "    for i in input_seq:\n",
    "        if((i!=0 and i!=target_word_index['sostok']) and i!=target_word_index['eostok']):\n",
    "            newString=newString+reverse_target_word_index[i]+' '\n",
    "    return newString\n",
    "\n",
    "def seq2text(input_seq):\n",
    "    newString=''\n",
    "    for i in input_seq:\n",
    "        if(i!=0):\n",
    "            newString=newString+reverse_source_word_index[i]+' '\n",
    "    return newString"
   ]
  },
  {
   "cell_type": "markdown",
   "metadata": {},
   "source": [
    "**Run the model over the data to see the results**"
   ]
  },
  {
   "cell_type": "code",
   "execution_count": 70,
   "metadata": {
    "execution": {
     "iopub.execute_input": "2024-08-14T18:53:50.687001Z",
     "iopub.status.busy": "2024-08-14T18:53:50.686717Z",
     "iopub.status.idle": "2024-08-14T18:53:52.530219Z",
     "shell.execute_reply": "2024-08-14T18:53:52.529306Z",
     "shell.execute_reply.started": "2024-08-14T18:53:50.686960Z"
    },
    "trusted": true
   },
   "outputs": [
    {
     "name": "stdout",
     "output_type": "stream",
     "text": [
      "Review: in an apparent reference to aimim chief asaduddin owaisi comment about muslim casualties in the sunjuwan attack the northern command chief lieutenant general devraj anbu said we don communalise martyrs those making statements don know the army well the enemy is frustrated and is trying to strike softer targets when they fail at borders they attack on camps he added \n",
      "Original summary: we don martyrs army northern command chief \n",
      "Predicted summary:  will be in kashmir if it is not to be rss\n",
      "\n",
      "\n",
      "Review: music composer himesh reshammiya has signed five year old reality show contestant kumar for song he added after hearing him reciting the hanuman chalisa on stage felt he could be the next big singer in the industry previously himesh has signed reality show contestants like palak muchhal and singh to sing for bollywood films \n",
      "Original summary: signs 5 yr old reality show contestant for song \n",
      "Predicted summary:  i am the best of the best actor\n",
      "\n",
      "\n",
      "Review: saudi journalist and critic jamal khashoggi death was brutal and planned murder turkish president recep tayyip erdoãâan said on tuesday he further called on saudi arabia to extradite the 18 suspects so that they could be tried in turkish courts khashoggi was killed inside saudi arabia consulate in istanbul \n",
      "Original summary: saudi journalist death was planned murder turkey \n",
      "Predicted summary:  saudi arabia to get its own own to death by men\n",
      "\n",
      "\n",
      "Review: a new song titled tab bhi tu sung by rahat fateh ali khan from varun dhawan starrer october has been released the song has been composed by anupam roy and its lyrics have been written by tanveer ghazi directed by shoojit sircar and also starring banita sandhu october is scheduled to release on april 13 \n",
      "Original summary: rahat fateh ali khan sings tab bhi tu for varun october \n",
      "Predicted summary:  trailer of rajkummar starrer starrer released\n",
      "\n",
      "\n",
      "Review: the delhi high court on wednesday asked the centre whether messages sent on blackberry messenger can be read as evidence after the supreme court declared the right to privacy fundamental right the court had asked this while hearing plea filed by businessman moin qureshi who was arrested on the basis of bbm messages in money laundering case \n",
      "Original summary: can message be read as evidence delhi hc asks centre \n",
      "Predicted summary:  sc refuses to hear plea against govt over ban on\n",
      "\n",
      "\n",
      "Review: shares of chinese automaker geely automobile surged over 7 on tuesday to record high this values the company at 22 billion equivalent to more than half of american automaker ford motor 43 billion valuation this came after geely july sales rose by 88 from year earlier while sales for the first seven months of 2017 increased by 89 \n",
      "Original summary: china worth half of ford value as shares rise 7 \n",
      "Predicted summary:  sensex falls points to be sold for first time in 2018\n",
      "\n",
      "\n",
      "Review: a dalit man was tied up and beaten to death allegedly on the orders of factory owner in gujarat rajkot an fir has been lodged in the case and five people have been detained in connection with the incident which was captured on camera the man wife was also beaten up according to reports \n",
      "Original summary: dalit man beaten to death on gujarat factory owner order \n",
      "Predicted summary:  man held for raping minor in delhi\n",
      "\n",
      "\n",
      "Review: the united democratic party udp will extend support to the national people party npp to form non congress government udp working president paul lyngdoh has said this comes day after congress met with the governor to stake claim to form the new government udp bjp ally secured six seats npp secured 19 seats while congress has secured 21 \n",
      "Original summary: extends support to to form non cong meghalaya govt \n",
      "Predicted summary:  congress to launch new party in 2019 polls\n",
      "\n",
      "\n",
      "Review: karan johar who had planned to make the film shiddat with late actress sridevi has reportedly decided to the project as per reports shiddat was to star sridevi sanjay dutt varun dhawan and alia bhatt in the lead roles this would have been sridevi first film with dharma productions since the 1993 film gumrah \n",
      "Original summary: johar his film post sridevi demise report \n",
      "Predicted summary:  salman khan to star in upcoming film reports\n",
      "\n",
      "\n",
      "Review: gmail users have reported that their inboxes were receiving spam emails that were apparently sent from their own accounts users also claimed the emails were getting through despite the fact that the accounts were secured with two factor authentication and updated passwords google spokesperson confirmed the same and said the company has already taken measures to protect against it \n",
      "Original summary: users receiving spam emails from own gmail accounts report \n",
      "Predicted summary:  google to launch users to let users use of its own\n",
      "\n",
      "\n"
     ]
    }
   ],
   "source": [
    "for i in range(0,10):\n",
    "    print(\"Review:\",seq2text(x_tr[i]))\n",
    "    print(\"Original summary:\",seq2summary(y_tr[i]))\n",
    "    print(\"Predicted summary:\",decode_sequence(x_tr[i].reshape(1,max_text_len)))\n",
    "    print(\"\\n\")"
   ]
  },
  {
   "cell_type": "code",
   "execution_count": null,
   "metadata": {},
   "outputs": [],
   "source": []
  }
 ],
 "metadata": {
  "kaggle": {
   "accelerator": "gpu",
   "dataSources": [
    {
     "datasetId": 1895,
     "sourceId": 791838,
     "sourceType": "datasetVersion"
    },
    {
     "sourceId": 51841083,
     "sourceType": "kernelVersion"
    }
   ],
   "dockerImageVersionId": 29662,
   "isGpuEnabled": true,
   "isInternetEnabled": true,
   "language": "python",
   "sourceType": "notebook"
  },
  "kernelspec": {
   "display_name": "Python 3",
   "language": "python",
   "name": "python3"
  },
  "language_info": {
   "codemirror_mode": {
    "name": "ipython",
    "version": 3
   },
   "file_extension": ".py",
   "mimetype": "text/x-python",
   "name": "python",
   "nbconvert_exporter": "python",
   "pygments_lexer": "ipython3",
   "version": "3.11.5"
  }
 },
 "nbformat": 4,
 "nbformat_minor": 4
}
