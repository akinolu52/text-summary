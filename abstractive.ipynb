{
 "cells": [
  {
   "cell_type": "code",
   "execution_count": 10,
   "metadata": {
    "_cell_guid": "b1076dfc-b9ad-4769-8c92-a6c4dae69d19",
    "_uuid": "8f2839f25d086af736a60e9eeb907d3b93b6e0e5",
    "execution": {
     "iopub.execute_input": "2024-08-13T05:18:07.391225Z",
     "iopub.status.busy": "2024-08-13T05:18:07.390035Z",
     "iopub.status.idle": "2024-08-13T05:18:07.398409Z",
     "shell.execute_reply": "2024-08-13T05:18:07.397484Z",
     "shell.execute_reply.started": "2024-08-13T05:18:07.391189Z"
    },
    "trusted": true
   },
   "outputs": [],
   "source": [
    "\n",
    "import pickle\n",
    "import re\n",
    "import warnings\n",
    "\n",
    "import matplotlib.pyplot as plt\n",
    "import numpy as np\n",
    "import pandas as pd\n",
    "from numpy import *\n",
    "from sklearn.model_selection import train_test_split\n",
    "from tensorflow.keras.callbacks import EarlyStopping\n",
    "from tensorflow.keras.layers import Input, LSTM, Embedding, Dense, TimeDistributed\n",
    "from tensorflow.keras.models import Model\n",
    "from tensorflow.keras.preprocessing.sequence import pad_sequences\n",
    "from tensorflow.keras.preprocessing.text import Tokenizer"
   ]
  },
  {
   "cell_type": "code",
   "execution_count": 11,
   "metadata": {
    "execution": {
     "iopub.execute_input": "2024-08-13T05:18:10.110471Z",
     "iopub.status.busy": "2024-08-13T05:18:10.110101Z",
     "iopub.status.idle": "2024-08-13T05:18:10.115370Z",
     "shell.execute_reply": "2024-08-13T05:18:10.114289Z",
     "shell.execute_reply.started": "2024-08-13T05:18:10.110444Z"
    },
    "trusted": true
   },
   "outputs": [],
   "source": [
    "pd.set_option(\"display.max_colwidth\", 200)\n",
    "warnings.filterwarnings(\"ignore\")"
   ]
  },
  {
   "cell_type": "code",
   "execution_count": 13,
   "metadata": {
    "execution": {
     "iopub.execute_input": "2024-08-13T05:18:19.659968Z",
     "iopub.status.busy": "2024-08-13T05:18:19.659060Z",
     "iopub.status.idle": "2024-08-13T05:18:19.674737Z",
     "shell.execute_reply": "2024-08-13T05:18:19.673243Z",
     "shell.execute_reply.started": "2024-08-13T05:18:19.659936Z"
    },
    "trusted": true
   },
   "outputs": [],
   "source": [
    "contraction_mapping = {\n",
    "    \"ain't\": \"is not\",\n",
    "    \"aren't\": \"are not\", \"can't\": \"cannot\", \"'cause\": \"because\", \"could've\": \"could have\",\n",
    "    \"couldn't\": \"could not\",\n",
    "\n",
    "    \"didn't\": \"did not\", \"doesn't\": \"does not\", \"don't\": \"do not\", \"hadn't\": \"had not\", \"hasn't\": \"has not\",\n",
    "    \"haven't\": \"have not\",\n",
    "\n",
    "    \"he'd\": \"he would\", \"he'll\": \"he will\", \"he's\": \"he is\", \"how'd\": \"how did\", \"how'd'y\": \"how do you\",\n",
    "    \"how'll\": \"how will\", \"how's\": \"how is\",\n",
    "\n",
    "    \"I'd\": \"I would\", \"I'd've\": \"I would have\", \"I'll\": \"I will\", \"I'll've\": \"I will have\", \"I'm\": \"I am\",\n",
    "    \"I've\": \"I have\", \"i'd\": \"i would\",\n",
    "\n",
    "    \"i'd've\": \"i would have\", \"i'll\": \"i will\", \"i'll've\": \"i will have\", \"i'm\": \"i am\", \"i've\": \"i have\",\n",
    "    \"isn't\": \"is not\", \"it'd\": \"it would\",\n",
    "\n",
    "    \"it'd've\": \"it would have\", \"it'll\": \"it will\", \"it'll've\": \"it will have\", \"it's\": \"it is\",\n",
    "    \"let's\": \"let us\", \"ma'am\": \"madam\",\n",
    "\n",
    "    \"mayn't\": \"may not\", \"might've\": \"might have\", \"mightn't\": \"might not\", \"mightn't've\": \"might not have\",\n",
    "    \"must've\": \"must have\",\n",
    "\n",
    "    \"mustn't\": \"must not\", \"mustn't've\": \"must not have\", \"needn't\": \"need not\", \"needn't've\": \"need not have\",\n",
    "    \"o'clock\": \"of the clock\",\n",
    "\n",
    "    \"oughtn't\": \"ought not\", \"oughtn't've\": \"ought not have\", \"shan't\": \"shall not\", \"sha'n't\": \"shall not\",\n",
    "    \"shan't've\": \"shall not have\",\n",
    "\n",
    "    \"she'd\": \"she would\", \"she'd've\": \"she would have\", \"she'll\": \"she will\", \"she'll've\": \"she will have\",\n",
    "    \"she's\": \"she is\",\n",
    "\n",
    "    \"should've\": \"should have\", \"shouldn't\": \"should not\", \"shouldn't've\": \"should not have\",\n",
    "    \"so've\": \"so have\", \"so's\": \"so as\",\n",
    "\n",
    "    \"this's\": \"this is\", \"that'd\": \"that would\", \"that'd've\": \"that would have\", \"that's\": \"that is\",\n",
    "    \"there'd\": \"there would\",\n",
    "\n",
    "    \"there'd've\": \"there would have\", \"there's\": \"there is\", \"here's\": \"here is\", \"they'd\": \"they would\",\n",
    "    \"they'd've\": \"they would have\",\n",
    "\n",
    "    \"they'll\": \"they will\", \"they'll've\": \"they will have\", \"they're\": \"they are\", \"they've\": \"they have\",\n",
    "    \"to've\": \"to have\",\n",
    "\n",
    "    \"wasn't\": \"was not\", \"we'd\": \"we would\", \"we'd've\": \"we would have\", \"we'll\": \"we will\",\n",
    "    \"we'll've\": \"we will have\", \"we're\": \"we are\",\n",
    "\n",
    "    \"we've\": \"we have\", \"weren't\": \"were not\", \"what'll\": \"what will\", \"what'll've\": \"what will have\",\n",
    "    \"what're\": \"what are\",\n",
    "\n",
    "    \"what's\": \"what is\", \"what've\": \"what have\", \"when's\": \"when is\", \"when've\": \"when have\",\n",
    "    \"where'd\": \"where did\", \"where's\": \"where is\",\n",
    "\n",
    "    \"where've\": \"where have\", \"who'll\": \"who will\", \"who'll've\": \"who will have\", \"who's\": \"who is\",\n",
    "    \"who've\": \"who have\",\n",
    "\n",
    "    \"why's\": \"why is\", \"why've\": \"why have\", \"will've\": \"will have\", \"won't\": \"will not\",\n",
    "    \"won't've\": \"will not have\",\n",
    "\n",
    "    \"would've\": \"would have\", \"wouldn't\": \"would not\", \"wouldn't've\": \"would not have\", \"y'all\": \"you all\",\n",
    "\n",
    "    \"y'all'd\": \"you all would\", \"y'all'd've\": \"you all would have\", \"y'all're\": \"you all are\",\n",
    "    \"y'all've\": \"you all have\",\n",
    "    \"you'd\": \"you would\", \"you'd've\": \"you would have\", \"you'll\": \"you will\", \"you'll've\": \"you will have\",\n",
    "    \"you're\": \"you are\", \"you've\": \"you have\"}"
   ]
  },
  {
   "cell_type": "code",
   "execution_count": 22,
   "metadata": {
    "execution": {
     "iopub.execute_input": "2024-08-13T05:21:28.690087Z",
     "iopub.status.busy": "2024-08-13T05:21:28.689761Z",
     "iopub.status.idle": "2024-08-13T05:21:28.714737Z",
     "shell.execute_reply": "2024-08-13T05:21:28.713809Z",
     "shell.execute_reply.started": "2024-08-13T05:21:28.690061Z"
    },
    "trusted": true
   },
   "outputs": [],
   "source": [
    "class DataPreprocessor:\n",
    "    def __init__(self, max_text_len=100, max_summary_len=15):\n",
    "        self.max_text_len = max_text_len\n",
    "        self.max_summary_len = max_summary_len\n",
    "        self.x_tokenizer = None\n",
    "        self.y_tokenizer = None\n",
    "        # self.data = None\n",
    "\n",
    "    def load_csv_from_google_drive(self, url, name):\n",
    "        # Attempting to load a CSV file from a Google Drive link into a Pandas DataFrame.\n",
    "        try:\n",
    "            # Extracting file ID from the original URL to construct a direct download link.\n",
    "            url = 'https://drive.google.com/uc?id=' + url.split('/')[-2]\n",
    "\n",
    "            # Loading the CSV data from the constructed URL into a Pandas DataFrame.\n",
    "            df = pd.read_csv(url, encoding='iso-8859-1')\n",
    "\n",
    "            # Confirmation message upon successful loading of CSV data.\n",
    "            print(f'{name} CSV loaded successfully.')\n",
    "\n",
    "            # Returning the loaded DataFrame.\n",
    "            return df\n",
    "\n",
    "        except Exception as e:\n",
    "            # Handling any exceptions that may occur during the process and printing the error message.\n",
    "            print('Exception occurred: ', e)\n",
    "\n",
    "    def load_data(self, ):\n",
    "        print('Loading the summary dataset...')\n",
    "        summary_df = self.load_csv_from_google_drive(\n",
    "            \"https://drive.google.com/file/d/1jjjtai8R0BTfTtfucbOQPCJTllXfV9Dy/view?usp=sharing\", \"Summary\")\n",
    "\n",
    "        print('\\nLoading the raw dataset...')\n",
    "        raw_df = self.load_csv_from_google_drive(\n",
    "            \"https://drive.google.com/file/d/1pt4kBnL0i-qtBKwgxBeTTKnkGINq8miE/view?usp=sharing\", \"Raw\")\n",
    "\n",
    "        # preprocessing steps\n",
    "        raw_df_copy = raw_df.iloc[:, 0:2].copy()\n",
    "        summary_df_copy = summary_df.iloc[:, 0:6].copy()\n",
    "        summary_df_copy['text'] = summary_df_copy['author'].str.cat(summary_df_copy['date'].str.cat(\n",
    "            summary_df_copy['read_more'].str.cat(summary_df_copy['text'].str.cat(summary_df_copy['ctext'], sep=\" \"),\n",
    "                                                 sep=\" \"), sep=\" \"), sep=\" \")\n",
    "\n",
    "        data = pd.DataFrame()\n",
    "        data['text'] = pd.concat([raw_df_copy['text'], summary_df_copy['text']], ignore_index=True)\n",
    "        data['summary'] = pd.concat([raw_df_copy['headlines'], summary_df_copy['headlines']], ignore_index=True)\n",
    "\n",
    "        self.data = data\n",
    "        return self.data\n",
    "\n",
    "    def replace_contractions(self, text):\n",
    "        def replace(match):\n",
    "            return contraction_mapping[match.group(0)]\n",
    "\n",
    "        return re.sub(\"|\".join(contraction_mapping.keys()), replace, text)\n",
    "\n",
    "    def clean_text(self, _column):\n",
    "        for row in _column:\n",
    "            row = re.sub(\"(\\\\t)\", ' ', str(row)).lower()  #remove escape charecters\n",
    "            row = re.sub(\"(\\\\r)\", ' ', str(row)).lower()\n",
    "            row = re.sub(\"(\\\\n)\", ' ', str(row)).lower()\n",
    "\n",
    "            row = re.sub(\"(__+)\", ' ', str(row)).lower()  #remove _ if it occors more than one time consecutively\n",
    "            row = re.sub(\"(--+)\", ' ', str(row)).lower()  #remove - if it occors more than one time consecutively\n",
    "            row = re.sub(\"(~~+)\", ' ', str(row)).lower()  #remove ~ if it occors more than one time consecutively\n",
    "            row = re.sub(\"(\\+\\++)\", ' ', str(row)).lower()  #remove + if it occors more than one time consecutively\n",
    "            row = re.sub(\"(\\.\\.+)\", ' ', str(row)).lower()  #remove . if it occors more than one time consecutively\n",
    "\n",
    "            row = re.sub(r\"[<>()|&©ø\\[\\]\\'\\\",;?~*!]\", ' ', str(row)).lower()  #remove <>()|&©ø\"',;?~*!\n",
    "\n",
    "            row = re.sub(\"(mailto:)\", ' ', str(row)).lower()  #remove mailto:\n",
    "            row = re.sub(r\"(\\\\x9\\d)\", ' ', str(row)).lower()  #remove \\x9* in text\n",
    "            row = re.sub(\"([iI][nN][cC]\\d+)\", 'INC_NUM', str(row)).lower()  #replace INC nums to INC_NUM\n",
    "            row = re.sub(\"([cC][mM]\\d+)|([cC][hH][gG]\\d+)\", 'CM_NUM', str(row)).lower()  #replace CM# and CHG# to CM_NUM\n",
    "\n",
    "            row = re.sub(\"(\\.\\s+)\", ' ', str(row)).lower()  #remove full stop at end of words(not between)\n",
    "            row = re.sub(\"(\\-\\s+)\", ' ', str(row)).lower()  #remove - at end of words(not between)\n",
    "            row = re.sub(\"(\\:\\s+)\", ' ', str(row)).lower()  #remove : at end of words(not between)\n",
    "\n",
    "            row = re.sub(\"(\\s+.\\s+)\", ' ', str(row)).lower()  #remove any single charecters hanging between 2 spaces\n",
    "\n",
    "            #Replace any url as such https://abc.xyz.net/browse/sdf-5327 ====> abc.xyz.net\n",
    "            try:\n",
    "                url = re.search(r'((https*:\\/*)([^\\/\\s]+))(.[^\\s]+)', str(row))\n",
    "                repl_url = url.group(3)\n",
    "                row = re.sub(r'((https*:\\/*)([^\\/\\s]+))(.[^\\s]+)', repl_url, str(row))\n",
    "            except Exception:\n",
    "                pass  #there might be emails with no url in them\n",
    "\n",
    "            row = re.sub(\"(\\s+)\", ' ', str(row)).lower()  #remove multiple spaces\n",
    "\n",
    "            yield re.sub(\"(\\s+.\\s+)\", ' ', str(row)).lower()\n",
    "\n",
    "    def split_data(self, data):\n",
    "        x_train, x_val, y_train, y_val = train_test_split(data['text'], data['summary'], test_size=0.1, random_state=0,\n",
    "                                                          shuffle=True)\n",
    "        return x_train, x_val, y_train, y_val"
   ]
  },
  {
   "cell_type": "code",
   "execution_count": 23,
   "metadata": {
    "execution": {
     "iopub.execute_input": "2024-08-13T05:21:29.188309Z",
     "iopub.status.busy": "2024-08-13T05:21:29.187945Z",
     "iopub.status.idle": "2024-08-13T05:21:35.600745Z",
     "shell.execute_reply": "2024-08-13T05:21:35.599797Z",
     "shell.execute_reply.started": "2024-08-13T05:21:29.188281Z"
    },
    "trusted": true
   },
   "outputs": [
    {
     "name": "stdout",
     "output_type": "stream",
     "text": [
      "Loading the summary dataset...\n",
      "Summary CSV loaded successfully.\n",
      "\n",
      "Loading the raw dataset...\n",
      "Raw CSV loaded successfully.\n"
     ]
    }
   ],
   "source": [
    "preprocessor = DataPreprocessor()\n",
    "df = preprocessor.load_data()"
   ]
  },
  {
   "cell_type": "code",
   "execution_count": 24,
   "metadata": {
    "execution": {
     "iopub.execute_input": "2024-08-13T05:21:55.052331Z",
     "iopub.status.busy": "2024-08-13T05:21:55.051928Z",
     "iopub.status.idle": "2024-08-13T05:21:55.059485Z",
     "shell.execute_reply": "2024-08-13T05:21:55.058582Z",
     "shell.execute_reply.started": "2024-08-13T05:21:55.052301Z"
    },
    "trusted": true
   },
   "outputs": [
    {
     "data": {
      "text/plain": [
       "Index(['text', 'summary'], dtype='object')"
      ]
     },
     "execution_count": 24,
     "metadata": {},
     "output_type": "execute_result"
    }
   ],
   "source": [
    "df.columns"
   ]
  },
  {
   "cell_type": "markdown",
   "metadata": {},
   "source": [
    "### Data Exploration"
   ]
  },
  {
   "cell_type": "code",
   "execution_count": 25,
   "metadata": {
    "execution": {
     "iopub.execute_input": "2024-08-13T05:21:59.369953Z",
     "iopub.status.busy": "2024-08-13T05:21:59.369042Z",
     "iopub.status.idle": "2024-08-13T05:21:59.382146Z",
     "shell.execute_reply": "2024-08-13T05:21:59.381256Z",
     "shell.execute_reply.started": "2024-08-13T05:21:59.369920Z"
    },
    "trusted": true
   },
   "outputs": [
    {
     "data": {
      "text/html": [
       "<div>\n",
       "<style scoped>\n",
       "    .dataframe tbody tr th:only-of-type {\n",
       "        vertical-align: middle;\n",
       "    }\n",
       "\n",
       "    .dataframe tbody tr th {\n",
       "        vertical-align: top;\n",
       "    }\n",
       "\n",
       "    .dataframe thead th {\n",
       "        text-align: right;\n",
       "    }\n",
       "</style>\n",
       "<table border=\"1\" class=\"dataframe\">\n",
       "  <thead>\n",
       "    <tr style=\"text-align: right;\">\n",
       "      <th></th>\n",
       "      <th>text</th>\n",
       "      <th>summary</th>\n",
       "    </tr>\n",
       "  </thead>\n",
       "  <tbody>\n",
       "    <tr>\n",
       "      <th>0</th>\n",
       "      <td>Saurav Kant, an alumnus of upGrad and IIIT-B's PG Program in Machine learning and Artificial Intelligence, was a Sr Systems Engineer at Infosys with almost 5 years of work experience. The program ...</td>\n",
       "      <td>upGrad learner switches to career in ML &amp; Al with 90% salary hike</td>\n",
       "    </tr>\n",
       "    <tr>\n",
       "      <th>1</th>\n",
       "      <td>Kunal Shah's credit card bill payment platform, CRED, gave users a chance to win free food from Swiggy for one year. Pranav Kaushik, a Delhi techie, bagged this reward after spending 2000 CRED coi...</td>\n",
       "      <td>Delhi techie wins free food from Swiggy for one year on CRED</td>\n",
       "    </tr>\n",
       "  </tbody>\n",
       "</table>\n",
       "</div>"
      ],
      "text/plain": [
       "                                                                                                                                                                                                      text  \\\n",
       "0  Saurav Kant, an alumnus of upGrad and IIIT-B's PG Program in Machine learning and Artificial Intelligence, was a Sr Systems Engineer at Infosys with almost 5 years of work experience. The program ...   \n",
       "1  Kunal Shah's credit card bill payment platform, CRED, gave users a chance to win free food from Swiggy for one year. Pranav Kaushik, a Delhi techie, bagged this reward after spending 2000 CRED coi...   \n",
       "\n",
       "                                                             summary  \n",
       "0  upGrad learner switches to career in ML & Al with 90% salary hike  \n",
       "1       Delhi techie wins free food from Swiggy for one year on CRED  "
      ]
     },
     "execution_count": 25,
     "metadata": {},
     "output_type": "execute_result"
    }
   ],
   "source": [
    "df.head(2)"
   ]
  },
  {
   "cell_type": "code",
   "execution_count": 1,
   "metadata": {
    "execution": {
     "iopub.execute_input": "2024-08-13T08:55:43.928050Z",
     "iopub.status.busy": "2024-08-13T08:55:43.927382Z",
     "iopub.status.idle": "2024-08-13T08:55:43.932540Z",
     "shell.execute_reply": "2024-08-13T08:55:43.931593Z",
     "shell.execute_reply.started": "2024-08-13T08:55:43.928018Z"
    },
    "trusted": true
   },
   "outputs": [],
   "source": [
    "df['text'][:10]"
   ]
  },
  {
   "cell_type": "code",
   "execution_count": 28,
   "metadata": {
    "execution": {
     "iopub.execute_input": "2024-08-13T05:22:58.955299Z",
     "iopub.status.busy": "2024-08-13T05:22:58.954646Z",
     "iopub.status.idle": "2024-08-13T05:23:11.767577Z",
     "shell.execute_reply": "2024-08-13T05:23:11.766570Z",
     "shell.execute_reply.started": "2024-08-13T05:22:58.955268Z"
    },
    "trusted": true
   },
   "outputs": [],
   "source": [
    "df['text'] = df['text'].apply(str).apply(preprocessor.replace_contractions)\n",
    "df['summary'] = df['summary'].apply(str).apply(preprocessor.replace_contractions)"
   ]
  },
  {
   "cell_type": "code",
   "execution_count": 30,
   "metadata": {
    "execution": {
     "iopub.execute_input": "2024-08-13T05:24:21.561343Z",
     "iopub.status.busy": "2024-08-13T05:24:21.560592Z",
     "iopub.status.idle": "2024-08-13T05:24:21.565585Z",
     "shell.execute_reply": "2024-08-13T05:24:21.564656Z",
     "shell.execute_reply.started": "2024-08-13T05:24:21.561310Z"
    },
    "trusted": true
   },
   "outputs": [],
   "source": [
    "text_data = preprocessor.clean_text(df['text'])\n",
    "summary_data = preprocessor.clean_text(df['summary'])"
   ]
  },
  {
   "cell_type": "code",
   "execution_count": 33,
   "metadata": {
    "execution": {
     "iopub.execute_input": "2024-08-13T05:34:07.111127Z",
     "iopub.status.busy": "2024-08-13T05:34:07.110303Z",
     "iopub.status.idle": "2024-08-13T05:42:30.016725Z",
     "shell.execute_reply": "2024-08-13T05:42:30.015531Z",
     "shell.execute_reply.started": "2024-08-13T05:34:07.111092Z"
    },
    "trusted": true
   },
   "outputs": [
    {
     "name": "stdout",
     "output_type": "stream",
     "text": [
      "Time to clean up everything: 8.36 mins\n"
     ]
    }
   ],
   "source": [
    "# from time import time\n",
    "# import spacy\n",
    "\n",
    "# # disabling Named Entity Recognition for speed\n",
    "# nlp = spacy.load('en_core_web_sm', disable=['ner', 'parser'])\n",
    "\n",
    "# t = time()\n",
    "\n",
    "# # Batch the data points into 5000 and run on all cores for faster preprocessing\n",
    "# text_column = [str(doc) for doc in nlp.pipe(text_data, batch_size=5000, n_process=-1)]\n",
    "\n",
    "# # Takes 7-8 mins\n",
    "# print(f'Time to clean up everything: {round((time() - t) / 60, 2)} mins')"
   ]
  },
  {
   "cell_type": "code",
   "execution_count": 34,
   "metadata": {
    "execution": {
     "iopub.execute_input": "2024-08-13T05:43:48.621628Z",
     "iopub.status.busy": "2024-08-13T05:43:48.620884Z",
     "iopub.status.idle": "2024-08-13T05:48:09.409999Z",
     "shell.execute_reply": "2024-08-13T05:48:09.408771Z",
     "shell.execute_reply.started": "2024-08-13T05:43:48.621591Z"
    },
    "trusted": true
   },
   "outputs": [
    {
     "name": "stdout",
     "output_type": "stream",
     "text": [
      "Time to clean up everything: 4.35 mins\n"
     ]
    }
   ],
   "source": [
    "# #Taking advantage of spaCy .pipe() method to speed-up the cleaning process:\n",
    "\n",
    "\n",
    "# t = time()\n",
    "\n",
    "# # Batch the data points into 5000 and run on all cores for faster preprocessing\n",
    "# summary_column = [\n",
    "#     f'_START_ {str(doc)} _END_'\n",
    "#     for doc in nlp.pipe(summary_data, batch_size=5000, n_process=-1)\n",
    "# ]\n",
    "\n",
    "# print(f'Time to clean up everything: {round((time() - t) / 60, 2)} mins')"
   ]
  },
  {
   "cell_type": "code",
   "execution_count": 35,
   "metadata": {
    "execution": {
     "iopub.execute_input": "2024-08-13T05:50:35.300882Z",
     "iopub.status.busy": "2024-08-13T05:50:35.300052Z",
     "iopub.status.idle": "2024-08-13T05:50:35.307657Z",
     "shell.execute_reply": "2024-08-13T05:50:35.306810Z",
     "shell.execute_reply.started": "2024-08-13T05:50:35.300849Z"
    },
    "trusted": true
   },
   "outputs": [
    {
     "data": {
      "text/plain": [
       "'saurav kant an alumnus of upgrad and iiit-b pg program in machine learning and artificial intelligence was sr systems engineer at infosys with almost years of work experience the program and upgrad 360-degree career support helped him transition to data scientist at tech mahindra with 90% salary hike upgrad online power learning has powered lakh+ careers.'"
      ]
     },
     "execution_count": 35,
     "metadata": {},
     "output_type": "execute_result"
    }
   ],
   "source": [
    "# text_column[0]"
   ]
  },
  {
   "cell_type": "code",
   "execution_count": 36,
   "metadata": {
    "execution": {
     "iopub.execute_input": "2024-08-13T05:50:37.399617Z",
     "iopub.status.busy": "2024-08-13T05:50:37.398698Z",
     "iopub.status.idle": "2024-08-13T05:50:37.404977Z",
     "shell.execute_reply": "2024-08-13T05:50:37.404178Z",
     "shell.execute_reply.started": "2024-08-13T05:50:37.399585Z"
    },
    "trusted": true
   },
   "outputs": [
    {
     "data": {
      "text/plain": [
       "'_START_ upgrad learner switches to career in ml al with 90% salary hike _END_'"
      ]
     },
     "execution_count": 36,
     "metadata": {},
     "output_type": "execute_result"
    }
   ],
   "source": [
    "# summary_column[0]"
   ]
  },
  {
   "cell_type": "code",
   "execution_count": 37,
   "metadata": {
    "execution": {
     "iopub.execute_input": "2024-08-13T05:50:43.921000Z",
     "iopub.status.busy": "2024-08-13T05:50:43.920650Z",
     "iopub.status.idle": "2024-08-13T05:50:43.966391Z",
     "shell.execute_reply": "2024-08-13T05:50:43.965599Z",
     "shell.execute_reply.started": "2024-08-13T05:50:43.920975Z"
    },
    "trusted": true
   },
   "outputs": [],
   "source": [
    "df['cleaned_text'] = pd.Series(text_data)\n",
    "df['cleaned_summary'] = pd.Series(summary_data)"
   ]
  },
  {
   "cell_type": "code",
   "execution_count": 38,
   "metadata": {
    "execution": {
     "iopub.execute_input": "2024-08-13T05:50:54.455070Z",
     "iopub.status.busy": "2024-08-13T05:50:54.454698Z",
     "iopub.status.idle": "2024-08-13T05:50:54.467360Z",
     "shell.execute_reply": "2024-08-13T05:50:54.466264Z",
     "shell.execute_reply.started": "2024-08-13T05:50:54.455042Z"
    },
    "trusted": true
   },
   "outputs": [
    {
     "data": {
      "text/html": [
       "<div>\n",
       "<style scoped>\n",
       "    .dataframe tbody tr th:only-of-type {\n",
       "        vertical-align: middle;\n",
       "    }\n",
       "\n",
       "    .dataframe tbody tr th {\n",
       "        vertical-align: top;\n",
       "    }\n",
       "\n",
       "    .dataframe thead th {\n",
       "        text-align: right;\n",
       "    }\n",
       "</style>\n",
       "<table border=\"1\" class=\"dataframe\">\n",
       "  <thead>\n",
       "    <tr style=\"text-align: right;\">\n",
       "      <th></th>\n",
       "      <th>text</th>\n",
       "      <th>summary</th>\n",
       "      <th>cleaned_text</th>\n",
       "      <th>cleaned_summary</th>\n",
       "    </tr>\n",
       "  </thead>\n",
       "  <tbody>\n",
       "    <tr>\n",
       "      <th>0</th>\n",
       "      <td>Saurav Kant, an alumnus of upGrad and IIIT-B's PG Program in Machine learning and Artificial Intelligence, was a Sr Systems Engineer at Infosys with almost 5 years of work experience. The program ...</td>\n",
       "      <td>upGrad learner switches to career in ML &amp; Al with 90% salary hike</td>\n",
       "      <td>saurav kant an alumnus of upgrad and iiit-b pg program in machine learning and artificial intelligence was sr systems engineer at infosys with almost years of work experience the program and upgra...</td>\n",
       "      <td>_START_ upgrad learner switches to career in ml al with 90% salary hike _END_</td>\n",
       "    </tr>\n",
       "    <tr>\n",
       "      <th>1</th>\n",
       "      <td>Kunal Shah's credit card bill payment platform, CRED, gave users a chance to win free food from Swiggy for one year. Pranav Kaushik, a Delhi techie, bagged this reward after spending 2000 CRED coi...</td>\n",
       "      <td>Delhi techie wins free food from Swiggy for one year on CRED</td>\n",
       "      <td>kunal shah credit card bill payment platform cred gave users chance to win free food from swiggy for one year pranav kaushik delhi techie bagged this reward after spending 2000 cred coins users ge...</td>\n",
       "      <td>_START_ delhi techie wins free food from swiggy for one year on cred _END_</td>\n",
       "    </tr>\n",
       "    <tr>\n",
       "      <th>2</th>\n",
       "      <td>New Zealand defeated India by 8 wickets in the fourth ODI at Hamilton on Thursday to win their first match of the five-match ODI series. India lost an international match under Rohit Sharma's capt...</td>\n",
       "      <td>New Zealand end Rohit Sharma-led India's 12-match winning streak</td>\n",
       "      <td>new zealand defeated india by wickets in the fourth odi at hamilton on thursday to win their first match of the five-match odi series india lost an international match under rohit sharma captaincy...</td>\n",
       "      <td>_START_ new zealand end rohit sharma-led india 12-match winning streak _END_</td>\n",
       "    </tr>\n",
       "    <tr>\n",
       "      <th>3</th>\n",
       "      <td>With Aegon Life iTerm Insurance plan, customers can enjoy tax benefits on your premiums paid and save up to Ã¢ÂÂ¹46,800^ on taxes. The plan provides life cover up to the age of 100 years. Also, c...</td>\n",
       "      <td>Aegon life iTerm insurance plan helps customers save tax</td>\n",
       "      <td>with aegon life iterm insurance plan customers can enjoy tax benefits on your premiums paid and save up to ã¢ââ¹46 800^ on taxes the plan provides life cover up to the age of 100 years also custo...</td>\n",
       "      <td>_START_ aegon life iterm insurance plan helps customers save tax _END_</td>\n",
       "    </tr>\n",
       "    <tr>\n",
       "      <th>4</th>\n",
       "      <td>Speaking about the sexual harassment allegations against Rajkumar Hirani, Sonam Kapoor said, \"I have known Hirani for many years...What if it is not true, the [#MeToo] movement will get derailed.\"...</td>\n",
       "      <td>Have known Hirani for yrs, what if MeToo claims are not true: Sonam</td>\n",
       "      <td>speaking about the sexual harassment allegations against rajkumar hirani sonam kapoor said have known hirani for many years what if it is not true the #metoo movement will get derailed in the #met...</td>\n",
       "      <td>_START_ have known hirani for yrs what if metoo claims are not true sonam _END_</td>\n",
       "    </tr>\n",
       "  </tbody>\n",
       "</table>\n",
       "</div>"
      ],
      "text/plain": [
       "                                                                                                                                                                                                      text  \\\n",
       "0  Saurav Kant, an alumnus of upGrad and IIIT-B's PG Program in Machine learning and Artificial Intelligence, was a Sr Systems Engineer at Infosys with almost 5 years of work experience. The program ...   \n",
       "1  Kunal Shah's credit card bill payment platform, CRED, gave users a chance to win free food from Swiggy for one year. Pranav Kaushik, a Delhi techie, bagged this reward after spending 2000 CRED coi...   \n",
       "2  New Zealand defeated India by 8 wickets in the fourth ODI at Hamilton on Thursday to win their first match of the five-match ODI series. India lost an international match under Rohit Sharma's capt...   \n",
       "3  With Aegon Life iTerm Insurance plan, customers can enjoy tax benefits on your premiums paid and save up to Ã¢ÂÂ¹46,800^ on taxes. The plan provides life cover up to the age of 100 years. Also, c...   \n",
       "4  Speaking about the sexual harassment allegations against Rajkumar Hirani, Sonam Kapoor said, \"I have known Hirani for many years...What if it is not true, the [#MeToo] movement will get derailed.\"...   \n",
       "\n",
       "                                                               summary  \\\n",
       "0    upGrad learner switches to career in ML & Al with 90% salary hike   \n",
       "1         Delhi techie wins free food from Swiggy for one year on CRED   \n",
       "2     New Zealand end Rohit Sharma-led India's 12-match winning streak   \n",
       "3             Aegon life iTerm insurance plan helps customers save tax   \n",
       "4  Have known Hirani for yrs, what if MeToo claims are not true: Sonam   \n",
       "\n",
       "                                                                                                                                                                                              cleaned_text  \\\n",
       "0  saurav kant an alumnus of upgrad and iiit-b pg program in machine learning and artificial intelligence was sr systems engineer at infosys with almost years of work experience the program and upgra...   \n",
       "1  kunal shah credit card bill payment platform cred gave users chance to win free food from swiggy for one year pranav kaushik delhi techie bagged this reward after spending 2000 cred coins users ge...   \n",
       "2  new zealand defeated india by wickets in the fourth odi at hamilton on thursday to win their first match of the five-match odi series india lost an international match under rohit sharma captaincy...   \n",
       "3  with aegon life iterm insurance plan customers can enjoy tax benefits on your premiums paid and save up to ã¢ââ¹46 800^ on taxes the plan provides life cover up to the age of 100 years also custo...   \n",
       "4  speaking about the sexual harassment allegations against rajkumar hirani sonam kapoor said have known hirani for many years what if it is not true the #metoo movement will get derailed in the #met...   \n",
       "\n",
       "                                                                   cleaned_summary  \n",
       "0    _START_ upgrad learner switches to career in ml al with 90% salary hike _END_  \n",
       "1       _START_ delhi techie wins free food from swiggy for one year on cred _END_  \n",
       "2     _START_ new zealand end rohit sharma-led india 12-match winning streak _END_  \n",
       "3           _START_ aegon life iterm insurance plan helps customers save tax _END_  \n",
       "4  _START_ have known hirani for yrs what if metoo claims are not true sonam _END_  "
      ]
     },
     "execution_count": 38,
     "metadata": {},
     "output_type": "execute_result"
    }
   ],
   "source": [
    "df.head()"
   ]
  },
  {
   "cell_type": "code",
   "execution_count": 39,
   "metadata": {
    "execution": {
     "iopub.execute_input": "2024-08-13T05:51:02.986432Z",
     "iopub.status.busy": "2024-08-13T05:51:02.985496Z",
     "iopub.status.idle": "2024-08-13T05:51:07.381589Z",
     "shell.execute_reply": "2024-08-13T05:51:07.380582Z",
     "shell.execute_reply.started": "2024-08-13T05:51:02.986391Z"
    },
    "trusted": true
   },
   "outputs": [],
   "source": [
    "# df.to_csv('./cleaned_summary.csv')"
   ]
  },
  {
   "cell_type": "code",
   "execution_count": 40,
   "metadata": {
    "execution": {
     "iopub.execute_input": "2024-08-13T05:51:55.328932Z",
     "iopub.status.busy": "2024-08-13T05:51:55.328059Z",
     "iopub.status.idle": "2024-08-13T05:51:56.044644Z",
     "shell.execute_reply": "2024-08-13T05:51:56.043838Z",
     "shell.execute_reply.started": "2024-08-13T05:51:55.328899Z"
    },
    "trusted": true
   },
   "outputs": [],
   "source": [
    "# Select the Summaries and Text between max_len defined above\n",
    "\n",
    "cleaned_text = np.array(df['cleaned_text'])\n",
    "cleaned_summary = np.array(df['cleaned_summary'])\n",
    "\n",
    "short_text = []\n",
    "short_summary = []\n",
    "\n",
    "for i in range(len(cleaned_text)):\n",
    "    if (len(cleaned_summary[i].split()) <= preprocessor.max_summary_len and len(\n",
    "            cleaned_text[i].split()) <= preprocessor.max_text_len):\n",
    "        short_text.append(cleaned_text[i])\n",
    "        short_summary.append(cleaned_summary[i])\n",
    "\n",
    "new_df = pd.DataFrame({\n",
    "    'text': short_text,\n",
    "    'summary': short_summary\n",
    "})"
   ]
  },
  {
   "cell_type": "code",
   "execution_count": 41,
   "metadata": {
    "execution": {
     "iopub.execute_input": "2024-08-13T05:51:59.699875Z",
     "iopub.status.busy": "2024-08-13T05:51:59.699508Z",
     "iopub.status.idle": "2024-08-13T05:51:59.718526Z",
     "shell.execute_reply": "2024-08-13T05:51:59.717355Z",
     "shell.execute_reply.started": "2024-08-13T05:51:59.699848Z"
    },
    "trusted": true
   },
   "outputs": [
    {
     "data": {
      "text/html": [
       "<div>\n",
       "<style scoped>\n",
       "    .dataframe tbody tr th:only-of-type {\n",
       "        vertical-align: middle;\n",
       "    }\n",
       "\n",
       "    .dataframe tbody tr th {\n",
       "        vertical-align: top;\n",
       "    }\n",
       "\n",
       "    .dataframe thead th {\n",
       "        text-align: right;\n",
       "    }\n",
       "</style>\n",
       "<table border=\"1\" class=\"dataframe\">\n",
       "  <thead>\n",
       "    <tr style=\"text-align: right;\">\n",
       "      <th></th>\n",
       "      <th>text</th>\n",
       "      <th>summary</th>\n",
       "    </tr>\n",
       "  </thead>\n",
       "  <tbody>\n",
       "    <tr>\n",
       "      <th>0</th>\n",
       "      <td>saurav kant an alumnus of upgrad and iiit-b pg program in machine learning and artificial intelligence was sr systems engineer at infosys with almost years of work experience the program and upgra...</td>\n",
       "      <td>_START_ upgrad learner switches to career in ml al with 90% salary hike _END_</td>\n",
       "    </tr>\n",
       "    <tr>\n",
       "      <th>1</th>\n",
       "      <td>kunal shah credit card bill payment platform cred gave users chance to win free food from swiggy for one year pranav kaushik delhi techie bagged this reward after spending 2000 cred coins users ge...</td>\n",
       "      <td>_START_ delhi techie wins free food from swiggy for one year on cred _END_</td>\n",
       "    </tr>\n",
       "    <tr>\n",
       "      <th>2</th>\n",
       "      <td>new zealand defeated india by wickets in the fourth odi at hamilton on thursday to win their first match of the five-match odi series india lost an international match under rohit sharma captaincy...</td>\n",
       "      <td>_START_ new zealand end rohit sharma-led india 12-match winning streak _END_</td>\n",
       "    </tr>\n",
       "    <tr>\n",
       "      <th>3</th>\n",
       "      <td>with aegon life iterm insurance plan customers can enjoy tax benefits on your premiums paid and save up to ã¢ââ¹46 800^ on taxes the plan provides life cover up to the age of 100 years also custo...</td>\n",
       "      <td>_START_ aegon life iterm insurance plan helps customers save tax _END_</td>\n",
       "    </tr>\n",
       "    <tr>\n",
       "      <th>4</th>\n",
       "      <td>speaking about the sexual harassment allegations against rajkumar hirani sonam kapoor said have known hirani for many years what if it is not true the #metoo movement will get derailed in the #met...</td>\n",
       "      <td>_START_ have known hirani for yrs what if metoo claims are not true sonam _END_</td>\n",
       "    </tr>\n",
       "  </tbody>\n",
       "</table>\n",
       "</div>"
      ],
      "text/plain": [
       "                                                                                                                                                                                                      text  \\\n",
       "0  saurav kant an alumnus of upgrad and iiit-b pg program in machine learning and artificial intelligence was sr systems engineer at infosys with almost years of work experience the program and upgra...   \n",
       "1  kunal shah credit card bill payment platform cred gave users chance to win free food from swiggy for one year pranav kaushik delhi techie bagged this reward after spending 2000 cred coins users ge...   \n",
       "2  new zealand defeated india by wickets in the fourth odi at hamilton on thursday to win their first match of the five-match odi series india lost an international match under rohit sharma captaincy...   \n",
       "3  with aegon life iterm insurance plan customers can enjoy tax benefits on your premiums paid and save up to ã¢ââ¹46 800^ on taxes the plan provides life cover up to the age of 100 years also custo...   \n",
       "4  speaking about the sexual harassment allegations against rajkumar hirani sonam kapoor said have known hirani for many years what if it is not true the #metoo movement will get derailed in the #met...   \n",
       "\n",
       "                                                                           summary  \n",
       "0    _START_ upgrad learner switches to career in ml al with 90% salary hike _END_  \n",
       "1       _START_ delhi techie wins free food from swiggy for one year on cred _END_  \n",
       "2     _START_ new zealand end rohit sharma-led india 12-match winning streak _END_  \n",
       "3           _START_ aegon life iterm insurance plan helps customers save tax _END_  \n",
       "4  _START_ have known hirani for yrs what if metoo claims are not true sonam _END_  "
      ]
     },
     "execution_count": 41,
     "metadata": {},
     "output_type": "execute_result"
    }
   ],
   "source": [
    "new_df.head()"
   ]
  },
  {
   "cell_type": "code",
   "execution_count": 42,
   "metadata": {
    "execution": {
     "iopub.execute_input": "2024-08-13T05:52:11.753078Z",
     "iopub.status.busy": "2024-08-13T05:52:11.752701Z",
     "iopub.status.idle": "2024-08-13T05:52:11.803292Z",
     "shell.execute_reply": "2024-08-13T05:52:11.802254Z",
     "shell.execute_reply.started": "2024-08-13T05:52:11.753050Z"
    },
    "trusted": true
   },
   "outputs": [],
   "source": [
    "# Add sostok and eostok at \n",
    "new_df['summary'] = new_df['summary'].apply(lambda x: f'sostok {x} eostok')"
   ]
  },
  {
   "cell_type": "code",
   "execution_count": 44,
   "metadata": {
    "execution": {
     "iopub.execute_input": "2024-08-13T05:52:18.044295Z",
     "iopub.status.busy": "2024-08-13T05:52:18.043616Z",
     "iopub.status.idle": "2024-08-13T05:52:18.053932Z",
     "shell.execute_reply": "2024-08-13T05:52:18.053030Z",
     "shell.execute_reply.started": "2024-08-13T05:52:18.044261Z"
    },
    "trusted": true
   },
   "outputs": [
    {
     "data": {
      "text/html": [
       "<div>\n",
       "<style scoped>\n",
       "    .dataframe tbody tr th:only-of-type {\n",
       "        vertical-align: middle;\n",
       "    }\n",
       "\n",
       "    .dataframe tbody tr th {\n",
       "        vertical-align: top;\n",
       "    }\n",
       "\n",
       "    .dataframe thead th {\n",
       "        text-align: right;\n",
       "    }\n",
       "</style>\n",
       "<table border=\"1\" class=\"dataframe\">\n",
       "  <thead>\n",
       "    <tr style=\"text-align: right;\">\n",
       "      <th></th>\n",
       "      <th>text</th>\n",
       "      <th>summary</th>\n",
       "    </tr>\n",
       "  </thead>\n",
       "  <tbody>\n",
       "    <tr>\n",
       "      <th>0</th>\n",
       "      <td>saurav kant an alumnus of upgrad and iiit-b pg program in machine learning and artificial intelligence was sr systems engineer at infosys with almost years of work experience the program and upgra...</td>\n",
       "      <td>sostok _START_ upgrad learner switches to career in ml al with 90% salary hike _END_ eostok</td>\n",
       "    </tr>\n",
       "    <tr>\n",
       "      <th>1</th>\n",
       "      <td>kunal shah credit card bill payment platform cred gave users chance to win free food from swiggy for one year pranav kaushik delhi techie bagged this reward after spending 2000 cred coins users ge...</td>\n",
       "      <td>sostok _START_ delhi techie wins free food from swiggy for one year on cred _END_ eostok</td>\n",
       "    </tr>\n",
       "    <tr>\n",
       "      <th>2</th>\n",
       "      <td>new zealand defeated india by wickets in the fourth odi at hamilton on thursday to win their first match of the five-match odi series india lost an international match under rohit sharma captaincy...</td>\n",
       "      <td>sostok _START_ new zealand end rohit sharma-led india 12-match winning streak _END_ eostok</td>\n",
       "    </tr>\n",
       "    <tr>\n",
       "      <th>3</th>\n",
       "      <td>with aegon life iterm insurance plan customers can enjoy tax benefits on your premiums paid and save up to ã¢ââ¹46 800^ on taxes the plan provides life cover up to the age of 100 years also custo...</td>\n",
       "      <td>sostok _START_ aegon life iterm insurance plan helps customers save tax _END_ eostok</td>\n",
       "    </tr>\n",
       "    <tr>\n",
       "      <th>4</th>\n",
       "      <td>speaking about the sexual harassment allegations against rajkumar hirani sonam kapoor said have known hirani for many years what if it is not true the #metoo movement will get derailed in the #met...</td>\n",
       "      <td>sostok _START_ have known hirani for yrs what if metoo claims are not true sonam _END_ eostok</td>\n",
       "    </tr>\n",
       "  </tbody>\n",
       "</table>\n",
       "</div>"
      ],
      "text/plain": [
       "                                                                                                                                                                                                      text  \\\n",
       "0  saurav kant an alumnus of upgrad and iiit-b pg program in machine learning and artificial intelligence was sr systems engineer at infosys with almost years of work experience the program and upgra...   \n",
       "1  kunal shah credit card bill payment platform cred gave users chance to win free food from swiggy for one year pranav kaushik delhi techie bagged this reward after spending 2000 cred coins users ge...   \n",
       "2  new zealand defeated india by wickets in the fourth odi at hamilton on thursday to win their first match of the five-match odi series india lost an international match under rohit sharma captaincy...   \n",
       "3  with aegon life iterm insurance plan customers can enjoy tax benefits on your premiums paid and save up to ã¢ââ¹46 800^ on taxes the plan provides life cover up to the age of 100 years also custo...   \n",
       "4  speaking about the sexual harassment allegations against rajkumar hirani sonam kapoor said have known hirani for many years what if it is not true the #metoo movement will get derailed in the #met...   \n",
       "\n",
       "                                                                                         summary  \n",
       "0    sostok _START_ upgrad learner switches to career in ml al with 90% salary hike _END_ eostok  \n",
       "1       sostok _START_ delhi techie wins free food from swiggy for one year on cred _END_ eostok  \n",
       "2     sostok _START_ new zealand end rohit sharma-led india 12-match winning streak _END_ eostok  \n",
       "3           sostok _START_ aegon life iterm insurance plan helps customers save tax _END_ eostok  \n",
       "4  sostok _START_ have known hirani for yrs what if metoo claims are not true sonam _END_ eostok  "
      ]
     },
     "execution_count": 44,
     "metadata": {},
     "output_type": "execute_result"
    }
   ],
   "source": [
    "new_df.head()"
   ]
  },
  {
   "cell_type": "markdown",
   "metadata": {},
   "source": [
    "**SEQ2SEQ MODEL BUILDING **"
   ]
  },
  {
   "cell_type": "markdown",
   "metadata": {},
   "source": [
    "Split the data to TRAIN and VALIDATION sets"
   ]
  },
  {
   "cell_type": "code",
   "execution_count": 104,
   "metadata": {
    "execution": {
     "iopub.execute_input": "2024-08-13T06:40:38.529612Z",
     "iopub.status.busy": "2024-08-13T06:40:38.528733Z",
     "iopub.status.idle": "2024-08-13T06:40:38.551531Z",
     "shell.execute_reply": "2024-08-13T06:40:38.550595Z",
     "shell.execute_reply.started": "2024-08-13T06:40:38.529579Z"
    },
    "trusted": true
   },
   "outputs": [
    {
     "name": "stdout",
     "output_type": "stream",
     "text": [
      "x_tr.shape: 88445\n",
      "y_tr.shape: 88445\n",
      "x_val.shape: 9828\n",
      "y_val.shape: 9828\n"
     ]
    }
   ],
   "source": [
    "x_tr, x_val, y_tr, y_val = preprocessor.split_data(new_df)\n",
    "\n",
    "print(f'x_tr.shape: {x_tr.shape[0]}')\n",
    "print(f'y_tr.shape: {y_tr.shape[0]}')\n",
    "print(f'x_val.shape: {x_val.shape[0]}')\n",
    "print(f'y_val.shape: {y_val.shape[0]}')"
   ]
  },
  {
   "cell_type": "code",
   "execution_count": 107,
   "metadata": {
    "execution": {
     "iopub.execute_input": "2024-08-13T06:43:02.846389Z",
     "iopub.status.busy": "2024-08-13T06:43:02.845646Z",
     "iopub.status.idle": "2024-08-13T06:43:08.172654Z",
     "shell.execute_reply": "2024-08-13T06:43:08.171827Z",
     "shell.execute_reply.started": "2024-08-13T06:43:02.846357Z"
    },
    "trusted": true
   },
   "outputs": [],
   "source": [
    "# Lets tokenize the text to get the vocab count\n",
    "\n",
    "# prepare a tokenizer for reviews on training data\n",
    "x_tokenizer = Tokenizer()\n",
    "x_tokenizer.fit_on_texts(list(x_tr))"
   ]
  },
  {
   "cell_type": "markdown",
   "metadata": {},
   "source": [
    "**RARE WORD ANALYSIS FOR X i.e 'text'**\n",
    "* tot_cnt gives the size of vocabulary (which means every unique words in the text)\n",
    "\n",
    "* cnt gives me the no. of rare words whose count falls below threshold\n",
    "\n",
    "* tot_cnt - cnt gives me the top most common words"
   ]
  },
  {
   "cell_type": "code",
   "execution_count": 119,
   "metadata": {
    "execution": {
     "iopub.execute_input": "2024-08-13T06:47:32.908316Z",
     "iopub.status.busy": "2024-08-13T06:47:32.907938Z",
     "iopub.status.idle": "2024-08-13T06:47:32.915802Z",
     "shell.execute_reply": "2024-08-13T06:47:32.914752Z",
     "shell.execute_reply.started": "2024-08-13T06:47:32.908287Z"
    },
    "trusted": true
   },
   "outputs": [],
   "source": [
    "def find_text_frequency_count(tokenized_text, threshold):\n",
    "    # Initialize count and frequency for words below the threshold\n",
    "    count = 0\n",
    "    frequency = 0\n",
    "\n",
    "    # Calculate total count of words and their total frequency\n",
    "    total_count = len(tokenized_text.word_counts)\n",
    "    total_frequency = 0\n",
    "\n",
    "    # Iterate through the word counts\n",
    "    for value in tokenized_text.word_counts.values():\n",
    "        total_frequency += value\n",
    "\n",
    "        # Check if the word count is below the threshold\n",
    "        if value < threshold:\n",
    "            count += 1\n",
    "            frequency += value\n",
    "\n",
    "    # Return the results\n",
    "    return count, total_count, frequency, total_frequency"
   ]
  },
  {
   "cell_type": "code",
   "execution_count": 110,
   "metadata": {
    "execution": {
     "iopub.execute_input": "2024-08-13T06:44:46.729513Z",
     "iopub.status.busy": "2024-08-13T06:44:46.729089Z",
     "iopub.status.idle": "2024-08-13T06:44:48.637682Z",
     "shell.execute_reply": "2024-08-13T06:44:48.636842Z",
     "shell.execute_reply.started": "2024-08-13T06:44:46.729483Z"
    },
    "trusted": true
   },
   "outputs": [],
   "source": [
    "#prepare a tokenizer for reviews on training data\n",
    "y_tokenizer = Tokenizer()\n",
    "y_tokenizer.fit_on_texts(list(y_tr))"
   ]
  },
  {
   "cell_type": "code",
   "execution_count": 127,
   "metadata": {
    "execution": {
     "iopub.execute_input": "2024-08-13T06:48:35.483609Z",
     "iopub.status.busy": "2024-08-13T06:48:35.482884Z",
     "iopub.status.idle": "2024-08-13T06:48:35.521452Z",
     "shell.execute_reply": "2024-08-13T06:48:35.520462Z",
     "shell.execute_reply.started": "2024-08-13T06:48:35.483577Z"
    },
    "trusted": true
   },
   "outputs": [
    {
     "name": "stdout",
     "output_type": "stream",
     "text": [
      "Rare vocabulary words in train dataset: 58.03%\n",
      "Rare words total Coverage in train dataset: 1.34\n"
     ]
    }
   ],
   "source": [
    "count, total_count, frequency, total_frequency = find_text_frequency_count(x_tokenizer, 4)\n",
    "\n",
    "print(f\"Rare vocabulary words in train dataset: {round((count / total_count) * 100, 2)}%\")\n",
    "print(f\"Rare words total Coverage in train dataset: {round((frequency / total_frequency) * 100, 2)}\")"
   ]
  },
  {
   "cell_type": "code",
   "execution_count": 128,
   "metadata": {
    "execution": {
     "iopub.execute_input": "2024-08-13T06:48:38.347213Z",
     "iopub.status.busy": "2024-08-13T06:48:38.346428Z",
     "iopub.status.idle": "2024-08-13T06:48:38.353138Z",
     "shell.execute_reply": "2024-08-13T06:48:38.352118Z",
     "shell.execute_reply.started": "2024-08-13T06:48:38.347168Z"
    },
    "trusted": true
   },
   "outputs": [
    {
     "data": {
      "text/plain": [
       "(46073, 79401, 68955, 5137019)"
      ]
     },
     "execution_count": 128,
     "metadata": {},
     "output_type": "execute_result"
    }
   ],
   "source": [
    "count, total_count, frequency, total_frequency"
   ]
  },
  {
   "cell_type": "code",
   "execution_count": 121,
   "metadata": {
    "execution": {
     "iopub.execute_input": "2024-08-13T06:47:44.549585Z",
     "iopub.status.busy": "2024-08-13T06:47:44.548688Z",
     "iopub.status.idle": "2024-08-13T06:47:44.556161Z",
     "shell.execute_reply": "2024-08-13T06:47:44.555066Z",
     "shell.execute_reply.started": "2024-08-13T06:47:44.549545Z"
    },
    "trusted": true
   },
   "outputs": [],
   "source": [
    "def tokenize_text(_train, _validate, num_words):\n",
    "    # prepare a tokenizer for reviews on training data\n",
    "    _tokenizer = Tokenizer(num_words=num_words)\n",
    "    _tokenizer.fit_on_texts(list(_train))\n",
    "\n",
    "    # convert text sequences into integer sequences\n",
    "    _train_seq = _tokenizer.texts_to_sequences(_train)\n",
    "    _validate_seq = _tokenizer.texts_to_sequences(_validate)\n",
    "\n",
    "    # padding zero upto maximum length\n",
    "    _train = pad_sequences(\n",
    "        _train_seq, maxlen=preprocessor.max_text_len, padding='post')\n",
    "    _validate = pad_sequences(\n",
    "        _validate_seq, maxlen=preprocessor.max_text_len, padding='post')\n",
    "\n",
    "    vocab_size = len(_tokenizer.word_index) + 1\n",
    "\n",
    "    return _train, _validate, vocab_size, _tokenizer"
   ]
  },
  {
   "cell_type": "code",
   "execution_count": 122,
   "metadata": {
    "execution": {
     "iopub.execute_input": "2024-08-13T06:47:47.342475Z",
     "iopub.status.busy": "2024-08-13T06:47:47.341627Z",
     "iopub.status.idle": "2024-08-13T06:47:58.152216Z",
     "shell.execute_reply": "2024-08-13T06:47:58.151213Z",
     "shell.execute_reply.started": "2024-08-13T06:47:47.342433Z"
    },
    "trusted": true
   },
   "outputs": [
    {
     "name": "stdout",
     "output_type": "stream",
     "text": [
      "X vocabulary size is: 79402\n"
     ]
    }
   ],
   "source": [
    "# prepare a tokenizer for reviews on training data\n",
    "x_train, x_validate, x_vocab_size, x_tokenizer = tokenize_text(x_tr, x_val, total_count - count)\n",
    "\n",
    "print(f\"X vocabulary size is: {x_vocab_size}\")"
   ]
  },
  {
   "cell_type": "code",
   "execution_count": 123,
   "metadata": {
    "execution": {
     "iopub.execute_input": "2024-08-13T06:48:09.897140Z",
     "iopub.status.busy": "2024-08-13T06:48:09.896768Z",
     "iopub.status.idle": "2024-08-13T06:48:09.916833Z",
     "shell.execute_reply": "2024-08-13T06:48:09.915846Z",
     "shell.execute_reply.started": "2024-08-13T06:48:09.897115Z"
    },
    "trusted": true
   },
   "outputs": [
    {
     "name": "stdout",
     "output_type": "stream",
     "text": [
      "Rare vocabulary words in test dataset: 66.31%\n",
      "Rare words total Coverage in test dataset: 3.55\n"
     ]
    }
   ],
   "source": [
    "count, total_count, frequency, total_frequency = find_text_frequency_count(y_tokenizer, threshold=6)\n",
    "\n",
    "print(f\"Rare vocabulary words in test dataset: {round((count / total_count) * 100, 2)}%\")\n",
    "print(f\"Rare words total Coverage in test dataset: {round((frequency / total_frequency) * 100, 2)}\")"
   ]
  },
  {
   "cell_type": "code",
   "execution_count": 125,
   "metadata": {
    "execution": {
     "iopub.execute_input": "2024-08-13T06:48:22.204175Z",
     "iopub.status.busy": "2024-08-13T06:48:22.203811Z",
     "iopub.status.idle": "2024-08-13T06:48:22.210671Z",
     "shell.execute_reply": "2024-08-13T06:48:22.209558Z",
     "shell.execute_reply.started": "2024-08-13T06:48:22.204147Z"
    },
    "trusted": true
   },
   "outputs": [
    {
     "data": {
      "text/plain": [
       "(22817, 34412, 42952, 1210275)"
      ]
     },
     "execution_count": 125,
     "metadata": {},
     "output_type": "execute_result"
    }
   ],
   "source": [
    "count, total_count, frequency, total_frequency"
   ]
  },
  {
   "cell_type": "code",
   "execution_count": 136,
   "metadata": {
    "execution": {
     "iopub.execute_input": "2024-08-13T06:53:23.237564Z",
     "iopub.status.busy": "2024-08-13T06:53:23.236881Z",
     "iopub.status.idle": "2024-08-13T06:53:27.916157Z",
     "shell.execute_reply": "2024-08-13T06:53:27.915171Z",
     "shell.execute_reply.started": "2024-08-13T06:53:23.237531Z"
    },
    "trusted": true
   },
   "outputs": [
    {
     "name": "stdout",
     "output_type": "stream",
     "text": [
      "Y vocabulary size is: 34413\n"
     ]
    }
   ],
   "source": [
    "# prepare a tokenizer for summary on training data\n",
    "y_train, y_validate, y_vocab_size, y_tokenizer = tokenize_text(y_tr, y_val, total_count - count)\n",
    "\n",
    "print(f\"Y vocabulary size is: {y_vocab_size}\")"
   ]
  },
  {
   "cell_type": "code",
   "execution_count": 142,
   "metadata": {
    "execution": {
     "iopub.execute_input": "2024-08-13T06:54:51.194390Z",
     "iopub.status.busy": "2024-08-13T06:54:51.194030Z",
     "iopub.status.idle": "2024-08-13T06:54:51.200980Z",
     "shell.execute_reply": "2024-08-13T06:54:51.199854Z",
     "shell.execute_reply.started": "2024-08-13T06:54:51.194363Z"
    },
    "trusted": true
   },
   "outputs": [],
   "source": [
    "def remove_summary(_x_data, _y_data):\n",
    "    # Create a boolean mask for rows with exactly two non-zero elements\n",
    "    mask = np.array([np.count_nonzero(row) != 2 for row in _y_data])\n",
    "\n",
    "    # Use the mask to filter out the rows\n",
    "    _x_data = _x_data[mask]\n",
    "    _y_data = _y_data[mask]\n",
    "\n",
    "    return _x_data, _y_data"
   ]
  },
  {
   "cell_type": "code",
   "execution_count": 144,
   "metadata": {
    "execution": {
     "iopub.execute_input": "2024-08-13T06:54:56.292013Z",
     "iopub.status.busy": "2024-08-13T06:54:56.291316Z",
     "iopub.status.idle": "2024-08-13T06:54:56.435958Z",
     "shell.execute_reply": "2024-08-13T06:54:56.434931Z",
     "shell.execute_reply.started": "2024-08-13T06:54:56.291980Z"
    },
    "trusted": true
   },
   "outputs": [],
   "source": [
    "x_train, y_train = remove_summary(x_train, y_train)\n",
    "x_validate, y_validate = remove_summary(x_validate, y_validate)"
   ]
  },
  {
   "cell_type": "code",
   "execution_count": 164,
   "metadata": {
    "execution": {
     "iopub.execute_input": "2024-08-13T08:33:13.621990Z",
     "iopub.status.busy": "2024-08-13T08:33:13.621498Z",
     "iopub.status.idle": "2024-08-13T08:33:13.652752Z",
     "shell.execute_reply": "2024-08-13T08:33:13.651834Z",
     "shell.execute_reply.started": "2024-08-13T08:33:13.621956Z"
    },
    "trusted": true
   },
   "outputs": [],
   "source": [
    "class Seq2SeqModel:\n",
    "    def __init__(self, ):\n",
    "        self.latent_dim = 300\n",
    "        self.embedding_dim = 200\n",
    "        self.batch_size = 256\n",
    "        self.epochs = 40  # change to higher number 8 50\n",
    "        self.model = None\n",
    "        self.encoder_model = None\n",
    "        self.decoder_model = None\n",
    "        self.max_text_len = 100\n",
    "        self.max_summary_len = 15\n",
    "\n",
    "        self.encoder_inputs = None\n",
    "        self.encoder_outputs = None\n",
    "        self.decoder_inputs = None\n",
    "        self.decoder_outputs = None\n",
    "        self.dec_emb_layer = None\n",
    "        self.decoder_lstm = None\n",
    "        self.decoder_dense = None\n",
    "        self.state_h = None\n",
    "        self.state_c = None\n",
    "\n",
    "    def create_model(self, x_vocab_size, y_vocab_size):\n",
    "        # Encoder\n",
    "        self.encoder_inputs = Input(shape=(self.max_text_len,))\n",
    "\n",
    "        # embedding layer\n",
    "        enc_emb_layer = Embedding(x_vocab_size, self.embedding_dim, trainable=True)(self.encoder_inputs)\n",
    "\n",
    "        # encoder lstm 1\n",
    "        encoder_lstm1 = LSTM(self.latent_dim, return_sequences=True, return_state=True, dropout=0.4,\n",
    "                             recurrent_dropout=0.4)\n",
    "        encoder_output1, state_h1, state_c1 = encoder_lstm1(enc_emb_layer)\n",
    "\n",
    "        # encoder lstm 2\n",
    "        encoder_lstm2 = LSTM(self.latent_dim, return_sequences=True, return_state=True, dropout=0.4,\n",
    "                             recurrent_dropout=0.4)\n",
    "        encoder_output2, state_h2, state_c2 = encoder_lstm2(encoder_output1)\n",
    "\n",
    "        # # encoder lstm 3\n",
    "        # encoder_lstm3 = LSTM(self.latent_dim, return_state=True, return_sequences=True, dropout=0.4,\n",
    "        #                      recurrent_dropout=0.4)\n",
    "        # self.encoder_outputs, self.state_h, self.state_c = encoder_lstm3(encoder_output2)\n",
    "\n",
    "        #encoder lstm 3\n",
    "        encoder_lstm3 = LSTM(self.latent_dim, return_state=True, return_sequences=True, dropout=0.4,\n",
    "                             recurrent_dropout=0.4)\n",
    "        encoder_output3, state_h3, state_c3 = encoder_lstm3(encoder_output2)\n",
    "\n",
    "        #encoder lstm 4\n",
    "        encoder_lstm4 = LSTM(self.latent_dim, return_state=True, return_sequences=True, dropout=0.4,\n",
    "                             recurrent_dropout=0.4)\n",
    "        encoder_output4, state_h4, state_c4 = encoder_lstm4(encoder_output3)\n",
    "\n",
    "        #encoder lstm 5\n",
    "        encoder_lstm5 = LSTM(self.latent_dim, return_state=True, return_sequences=True, dropout=0.4,\n",
    "                             recurrent_dropout=0.4)\n",
    "        self.encoder_outputs, self.state_h, self.state_c = encoder_lstm4(encoder_output4)\n",
    "\n",
    "        # Set up the decoder, using `encoder_states` as initial state.\n",
    "        self.decoder_inputs = Input(shape=(None,))\n",
    "\n",
    "        # embedding layer\n",
    "        self.dec_emb_layer = Embedding(y_vocab_size, self.embedding_dim, trainable=True)\n",
    "        dec_emb = self.dec_emb_layer(self.decoder_inputs)\n",
    "\n",
    "        self.decoder_lstm = LSTM(self.latent_dim, return_sequences=True, return_state=True, dropout=0.4,\n",
    "                                 recurrent_dropout=0.2)\n",
    "        self.decoder_outputs, decoder_fwd_state, decoder_back_state = self.decoder_lstm(dec_emb,\n",
    "                                                                                        initial_state=[self.state_h,\n",
    "                                                                                                       self.state_c])\n",
    "\n",
    "        # dense layer\n",
    "        self.decoder_dense = TimeDistributed(Dense(y_vocab_size, activation='softmax'))\n",
    "        self.decoder_outputs = self.decoder_dense(self.decoder_outputs)\n",
    "\n",
    "        # Define the model \n",
    "        self.model = Model([self.encoder_inputs, self.decoder_inputs], self.decoder_outputs)\n",
    "\n",
    "        self.model.compile(optimizer='rmsprop', loss='sparse_categorical_crossentropy')\n",
    "\n",
    "        self.get_model_summary()\n",
    "\n",
    "        return self.model\n",
    "\n",
    "    def encode_decoder(self, ):\n",
    "        # Encode the input sequence to get the feature vector\n",
    "        self.encoder_model = Model(inputs=self.encoder_inputs,\n",
    "                                   outputs=[self.encoder_outputs, self.state_h, self.state_c])\n",
    "\n",
    "        # Decoder setup\n",
    "        # Below tensors will hold the states of the previous time step\n",
    "        decoder_state_input_h = Input(shape=(self.latent_dim,))\n",
    "        decoder_state_input_c = Input(shape=(self.latent_dim,))\n",
    "        decoder_hidden_state_input = Input(shape=(self.max_text_len, self.latent_dim))\n",
    "\n",
    "        # Get the embeddings of the decoder sequence\n",
    "        dec_emb2 = self.dec_emb_layer(self.decoder_inputs)\n",
    "\n",
    "        # To predict the next word in the sequence, set the initial states to the states from the previous time step\n",
    "        decoder_outputs2, state_h2, state_c2 = self.decoder_lstm(dec_emb2, initial_state=[decoder_state_input_h,\n",
    "                                                                                          decoder_state_input_c])\n",
    "\n",
    "        # A dense softmax layer to generate prob dist. over the target vocabulary\n",
    "        decoder_outputs2 = self.decoder_dense(decoder_outputs2)\n",
    "\n",
    "        # Final decoder model\n",
    "        self.decoder_model = Model(\n",
    "            [self.decoder_inputs] + [decoder_hidden_state_input, decoder_state_input_h, decoder_state_input_c],\n",
    "            [decoder_outputs2] + [state_h2, state_c2]\n",
    "        )\n",
    "\n",
    "    def decode_sequence(self, input_seq, target_word_index, reverse_target_word_index):\n",
    "        # Encode the input as state vectors.\n",
    "        e_out, e_h, e_c = self.encoder_model.predict(input_seq)\n",
    "\n",
    "        # Generate empty target sequence of length 1.\n",
    "        target_seq = np.zeros((1, 1))\n",
    "\n",
    "        # Populate the first word of target sequence with the start word.\n",
    "        target_seq[0, 0] = target_word_index['sostok']\n",
    "\n",
    "        stop_condition = False\n",
    "        decoded_sentence = ''\n",
    "        while not stop_condition:\n",
    "            output_tokens, h, c = self.decoder_model.predict([target_seq] + [e_out, e_h, e_c])\n",
    "\n",
    "            # Sample a token\n",
    "            sampled_token_index = np.argmax(output_tokens[0, -1, :])\n",
    "            sampled_token = reverse_target_word_index[sampled_token_index]\n",
    "\n",
    "            if (sampled_token != 'eostok'):\n",
    "                decoded_sentence += f' {sampled_token}'\n",
    "\n",
    "            # Exit condition: either hit max length or find stop word.\n",
    "            if (sampled_token == 'eostok' or len(decoded_sentence.split()) >= (preprocessor.max_summary_len - 1)):\n",
    "                stop_condition = True\n",
    "\n",
    "            # Update the target sequence (of length 1).\n",
    "            target_seq = np.zeros((1, 1))\n",
    "            target_seq[0, 0] = sampled_token_index\n",
    "\n",
    "            # Update internal states\n",
    "            e_h, e_c = h, c\n",
    "\n",
    "        return decoded_sentence\n",
    "\n",
    "    def generate_summary(self, input_seq, target_word_index, reverse_target_word_index):\n",
    "        return ' '.join([reverse_target_word_index[i] for i in input_seq if\n",
    "                         i != 0 and i != target_word_index['sostok'] and i != target_word_index['eostok']])\n",
    "\n",
    "    def generate_text(self, input_seq, reverse_source_word_index):\n",
    "        return ' '.join([reverse_source_word_index[i] for i in input_seq if i != 0])\n",
    "\n",
    "    def get_model_summary(self):\n",
    "        return self.model.summary()\n",
    "\n",
    "    def plot(self, history):\n",
    "        plt.plot(history.history['loss'], label='train')\n",
    "        plt.plot(history.history['val_loss'], label='test')\n",
    "        plt.legend()\n",
    "        plt.show()\n",
    "\n",
    "    def save_model(self):\n",
    "        self.model.save('sequence_2_sequence.keras')\n",
    "        self.encoder_model.save('encoder_model.keras')\n",
    "        self.decoder_model.save('decoder_model.keras')\n",
    "        print('Model saved successfully...')\n",
    "\n",
    "    def train_model(self, _x_train, _y_train, _x_validate, _y_validate):\n",
    "        es = EarlyStopping(monitor='val_loss', mode='min', verbose=1, patience=2)\n",
    "\n",
    "        return self.model.fit(\n",
    "            [_x_train, _y_train[:, :-1]],\n",
    "            _y_train.reshape(_y_train.shape[0], _y_train.shape[1], 1)[:, 1:],\n",
    "            epochs=self.epochs,\n",
    "            callbacks=[es],\n",
    "            batch_size=self.batch_size,\n",
    "            validation_data=(\n",
    "                [_x_validate, _y_validate[:, :-1]],\n",
    "                _y_validate.reshape(_y_validate.shape[0], _y_validate.shape[1], 1)[:, 1:]\n",
    "            )\n",
    "        )\n"
   ]
  },
  {
   "cell_type": "code",
   "execution_count": 152,
   "metadata": {
    "execution": {
     "iopub.execute_input": "2024-08-13T07:49:52.284920Z",
     "iopub.status.busy": "2024-08-13T07:49:52.284292Z",
     "iopub.status.idle": "2024-08-13T07:49:52.498216Z",
     "shell.execute_reply": "2024-08-13T07:49:52.497357Z",
     "shell.execute_reply.started": "2024-08-13T07:49:52.284889Z"
    },
    "trusted": true
   },
   "outputs": [
    {
     "data": {
      "text/html": [
       "<pre style=\"white-space:pre;overflow-x:auto;line-height:normal;font-family:Menlo,'DejaVu Sans Mono',consolas,'Courier New',monospace\"><span style=\"font-weight: bold\">Model: \"functional_5\"</span>\n",
       "</pre>\n"
      ],
      "text/plain": [
       "\u001B[1mModel: \"functional_5\"\u001B[0m\n"
      ]
     },
     "metadata": {},
     "output_type": "display_data"
    },
    {
     "data": {
      "text/html": [
       "<pre style=\"white-space:pre;overflow-x:auto;line-height:normal;font-family:Menlo,'DejaVu Sans Mono',consolas,'Courier New',monospace\">┏━━━━━━━━━━━━━━━━━━━━━┳━━━━━━━━━━━━━━━━━━━┳━━━━━━━━━━━━┳━━━━━━━━━━━━━━━━━━━┓\n",
       "┃<span style=\"font-weight: bold\"> Layer (type)        </span>┃<span style=\"font-weight: bold\"> Output Shape      </span>┃<span style=\"font-weight: bold\">    Param # </span>┃<span style=\"font-weight: bold\"> Connected to      </span>┃\n",
       "┡━━━━━━━━━━━━━━━━━━━━━╇━━━━━━━━━━━━━━━━━━━╇━━━━━━━━━━━━╇━━━━━━━━━━━━━━━━━━━┩\n",
       "│ input_layer_10      │ (<span style=\"color: #00d7ff; text-decoration-color: #00d7ff\">None</span>, <span style=\"color: #00af00; text-decoration-color: #00af00\">100</span>)       │          <span style=\"color: #00af00; text-decoration-color: #00af00\">0</span> │ -                 │\n",
       "│ (<span style=\"color: #0087ff; text-decoration-color: #0087ff\">InputLayer</span>)        │                   │            │                   │\n",
       "├─────────────────────┼───────────────────┼────────────┼───────────────────┤\n",
       "│ embedding_10        │ (<span style=\"color: #00d7ff; text-decoration-color: #00d7ff\">None</span>, <span style=\"color: #00af00; text-decoration-color: #00af00\">100</span>, <span style=\"color: #00af00; text-decoration-color: #00af00\">200</span>)  │ <span style=\"color: #00af00; text-decoration-color: #00af00\">15,880,400</span> │ input_layer_10[<span style=\"color: #00af00; text-decoration-color: #00af00\">0</span>… │\n",
       "│ (<span style=\"color: #0087ff; text-decoration-color: #0087ff\">Embedding</span>)         │                   │            │                   │\n",
       "├─────────────────────┼───────────────────┼────────────┼───────────────────┤\n",
       "│ lstm_20 (<span style=\"color: #0087ff; text-decoration-color: #0087ff\">LSTM</span>)      │ [(<span style=\"color: #00d7ff; text-decoration-color: #00d7ff\">None</span>, <span style=\"color: #00af00; text-decoration-color: #00af00\">100</span>,      │    <span style=\"color: #00af00; text-decoration-color: #00af00\">601,200</span> │ embedding_10[<span style=\"color: #00af00; text-decoration-color: #00af00\">0</span>][<span style=\"color: #00af00; text-decoration-color: #00af00\">…</span> │\n",
       "│                     │ <span style=\"color: #00af00; text-decoration-color: #00af00\">300</span>), (<span style=\"color: #00d7ff; text-decoration-color: #00d7ff\">None</span>,      │            │                   │\n",
       "│                     │ <span style=\"color: #00af00; text-decoration-color: #00af00\">300</span>), (<span style=\"color: #00d7ff; text-decoration-color: #00d7ff\">None</span>,      │            │                   │\n",
       "│                     │ <span style=\"color: #00af00; text-decoration-color: #00af00\">300</span>)]             │            │                   │\n",
       "├─────────────────────┼───────────────────┼────────────┼───────────────────┤\n",
       "│ input_layer_11      │ (<span style=\"color: #00d7ff; text-decoration-color: #00d7ff\">None</span>, <span style=\"color: #00d7ff; text-decoration-color: #00d7ff\">None</span>)      │          <span style=\"color: #00af00; text-decoration-color: #00af00\">0</span> │ -                 │\n",
       "│ (<span style=\"color: #0087ff; text-decoration-color: #0087ff\">InputLayer</span>)        │                   │            │                   │\n",
       "├─────────────────────┼───────────────────┼────────────┼───────────────────┤\n",
       "│ lstm_21 (<span style=\"color: #0087ff; text-decoration-color: #0087ff\">LSTM</span>)      │ [(<span style=\"color: #00d7ff; text-decoration-color: #00d7ff\">None</span>, <span style=\"color: #00af00; text-decoration-color: #00af00\">100</span>,      │    <span style=\"color: #00af00; text-decoration-color: #00af00\">721,200</span> │ lstm_20[<span style=\"color: #00af00; text-decoration-color: #00af00\">0</span>][<span style=\"color: #00af00; text-decoration-color: #00af00\">0</span>]     │\n",
       "│                     │ <span style=\"color: #00af00; text-decoration-color: #00af00\">300</span>), (<span style=\"color: #00d7ff; text-decoration-color: #00d7ff\">None</span>,      │            │                   │\n",
       "│                     │ <span style=\"color: #00af00; text-decoration-color: #00af00\">300</span>), (<span style=\"color: #00d7ff; text-decoration-color: #00d7ff\">None</span>,      │            │                   │\n",
       "│                     │ <span style=\"color: #00af00; text-decoration-color: #00af00\">300</span>)]             │            │                   │\n",
       "├─────────────────────┼───────────────────┼────────────┼───────────────────┤\n",
       "│ embedding_11        │ (<span style=\"color: #00d7ff; text-decoration-color: #00d7ff\">None</span>, <span style=\"color: #00d7ff; text-decoration-color: #00d7ff\">None</span>, <span style=\"color: #00af00; text-decoration-color: #00af00\">200</span>) │  <span style=\"color: #00af00; text-decoration-color: #00af00\">6,882,600</span> │ input_layer_11[<span style=\"color: #00af00; text-decoration-color: #00af00\">0</span>… │\n",
       "│ (<span style=\"color: #0087ff; text-decoration-color: #0087ff\">Embedding</span>)         │                   │            │                   │\n",
       "├─────────────────────┼───────────────────┼────────────┼───────────────────┤\n",
       "│ lstm_22 (<span style=\"color: #0087ff; text-decoration-color: #0087ff\">LSTM</span>)      │ [(<span style=\"color: #00d7ff; text-decoration-color: #00d7ff\">None</span>, <span style=\"color: #00af00; text-decoration-color: #00af00\">100</span>,      │    <span style=\"color: #00af00; text-decoration-color: #00af00\">721,200</span> │ lstm_21[<span style=\"color: #00af00; text-decoration-color: #00af00\">0</span>][<span style=\"color: #00af00; text-decoration-color: #00af00\">0</span>]     │\n",
       "│                     │ <span style=\"color: #00af00; text-decoration-color: #00af00\">300</span>), (<span style=\"color: #00d7ff; text-decoration-color: #00d7ff\">None</span>,      │            │                   │\n",
       "│                     │ <span style=\"color: #00af00; text-decoration-color: #00af00\">300</span>), (<span style=\"color: #00d7ff; text-decoration-color: #00d7ff\">None</span>,      │            │                   │\n",
       "│                     │ <span style=\"color: #00af00; text-decoration-color: #00af00\">300</span>)]             │            │                   │\n",
       "├─────────────────────┼───────────────────┼────────────┼───────────────────┤\n",
       "│ lstm_23 (<span style=\"color: #0087ff; text-decoration-color: #0087ff\">LSTM</span>)      │ [(<span style=\"color: #00d7ff; text-decoration-color: #00d7ff\">None</span>, <span style=\"color: #00d7ff; text-decoration-color: #00d7ff\">None</span>,     │    <span style=\"color: #00af00; text-decoration-color: #00af00\">601,200</span> │ embedding_11[<span style=\"color: #00af00; text-decoration-color: #00af00\">0</span>][<span style=\"color: #00af00; text-decoration-color: #00af00\">…</span> │\n",
       "│                     │ <span style=\"color: #00af00; text-decoration-color: #00af00\">300</span>), (<span style=\"color: #00d7ff; text-decoration-color: #00d7ff\">None</span>,      │            │ lstm_22[<span style=\"color: #00af00; text-decoration-color: #00af00\">0</span>][<span style=\"color: #00af00; text-decoration-color: #00af00\">1</span>],    │\n",
       "│                     │ <span style=\"color: #00af00; text-decoration-color: #00af00\">300</span>), (<span style=\"color: #00d7ff; text-decoration-color: #00d7ff\">None</span>,      │            │ lstm_22[<span style=\"color: #00af00; text-decoration-color: #00af00\">0</span>][<span style=\"color: #00af00; text-decoration-color: #00af00\">2</span>]     │\n",
       "│                     │ <span style=\"color: #00af00; text-decoration-color: #00af00\">300</span>)]             │            │                   │\n",
       "├─────────────────────┼───────────────────┼────────────┼───────────────────┤\n",
       "│ time_distributed_5  │ (<span style=\"color: #00d7ff; text-decoration-color: #00d7ff\">None</span>, <span style=\"color: #00d7ff; text-decoration-color: #00d7ff\">None</span>,      │ <span style=\"color: #00af00; text-decoration-color: #00af00\">10,358,313</span> │ lstm_23[<span style=\"color: #00af00; text-decoration-color: #00af00\">0</span>][<span style=\"color: #00af00; text-decoration-color: #00af00\">0</span>]     │\n",
       "│ (<span style=\"color: #0087ff; text-decoration-color: #0087ff\">TimeDistributed</span>)   │ <span style=\"color: #00af00; text-decoration-color: #00af00\">34413</span>)            │            │                   │\n",
       "└─────────────────────┴───────────────────┴────────────┴───────────────────┘\n",
       "</pre>\n"
      ],
      "text/plain": [
       "┏━━━━━━━━━━━━━━━━━━━━━┳━━━━━━━━━━━━━━━━━━━┳━━━━━━━━━━━━┳━━━━━━━━━━━━━━━━━━━┓\n",
       "┃\u001B[1m \u001B[0m\u001B[1mLayer (type)       \u001B[0m\u001B[1m \u001B[0m┃\u001B[1m \u001B[0m\u001B[1mOutput Shape     \u001B[0m\u001B[1m \u001B[0m┃\u001B[1m \u001B[0m\u001B[1m   Param #\u001B[0m\u001B[1m \u001B[0m┃\u001B[1m \u001B[0m\u001B[1mConnected to     \u001B[0m\u001B[1m \u001B[0m┃\n",
       "┡━━━━━━━━━━━━━━━━━━━━━╇━━━━━━━━━━━━━━━━━━━╇━━━━━━━━━━━━╇━━━━━━━━━━━━━━━━━━━┩\n",
       "│ input_layer_10      │ (\u001B[38;5;45mNone\u001B[0m, \u001B[38;5;34m100\u001B[0m)       │          \u001B[38;5;34m0\u001B[0m │ -                 │\n",
       "│ (\u001B[38;5;33mInputLayer\u001B[0m)        │                   │            │                   │\n",
       "├─────────────────────┼───────────────────┼────────────┼───────────────────┤\n",
       "│ embedding_10        │ (\u001B[38;5;45mNone\u001B[0m, \u001B[38;5;34m100\u001B[0m, \u001B[38;5;34m200\u001B[0m)  │ \u001B[38;5;34m15,880,400\u001B[0m │ input_layer_10[\u001B[38;5;34m0\u001B[0m… │\n",
       "│ (\u001B[38;5;33mEmbedding\u001B[0m)         │                   │            │                   │\n",
       "├─────────────────────┼───────────────────┼────────────┼───────────────────┤\n",
       "│ lstm_20 (\u001B[38;5;33mLSTM\u001B[0m)      │ [(\u001B[38;5;45mNone\u001B[0m, \u001B[38;5;34m100\u001B[0m,      │    \u001B[38;5;34m601,200\u001B[0m │ embedding_10[\u001B[38;5;34m0\u001B[0m][\u001B[38;5;34m…\u001B[0m │\n",
       "│                     │ \u001B[38;5;34m300\u001B[0m), (\u001B[38;5;45mNone\u001B[0m,      │            │                   │\n",
       "│                     │ \u001B[38;5;34m300\u001B[0m), (\u001B[38;5;45mNone\u001B[0m,      │            │                   │\n",
       "│                     │ \u001B[38;5;34m300\u001B[0m)]             │            │                   │\n",
       "├─────────────────────┼───────────────────┼────────────┼───────────────────┤\n",
       "│ input_layer_11      │ (\u001B[38;5;45mNone\u001B[0m, \u001B[38;5;45mNone\u001B[0m)      │          \u001B[38;5;34m0\u001B[0m │ -                 │\n",
       "│ (\u001B[38;5;33mInputLayer\u001B[0m)        │                   │            │                   │\n",
       "├─────────────────────┼───────────────────┼────────────┼───────────────────┤\n",
       "│ lstm_21 (\u001B[38;5;33mLSTM\u001B[0m)      │ [(\u001B[38;5;45mNone\u001B[0m, \u001B[38;5;34m100\u001B[0m,      │    \u001B[38;5;34m721,200\u001B[0m │ lstm_20[\u001B[38;5;34m0\u001B[0m][\u001B[38;5;34m0\u001B[0m]     │\n",
       "│                     │ \u001B[38;5;34m300\u001B[0m), (\u001B[38;5;45mNone\u001B[0m,      │            │                   │\n",
       "│                     │ \u001B[38;5;34m300\u001B[0m), (\u001B[38;5;45mNone\u001B[0m,      │            │                   │\n",
       "│                     │ \u001B[38;5;34m300\u001B[0m)]             │            │                   │\n",
       "├─────────────────────┼───────────────────┼────────────┼───────────────────┤\n",
       "│ embedding_11        │ (\u001B[38;5;45mNone\u001B[0m, \u001B[38;5;45mNone\u001B[0m, \u001B[38;5;34m200\u001B[0m) │  \u001B[38;5;34m6,882,600\u001B[0m │ input_layer_11[\u001B[38;5;34m0\u001B[0m… │\n",
       "│ (\u001B[38;5;33mEmbedding\u001B[0m)         │                   │            │                   │\n",
       "├─────────────────────┼───────────────────┼────────────┼───────────────────┤\n",
       "│ lstm_22 (\u001B[38;5;33mLSTM\u001B[0m)      │ [(\u001B[38;5;45mNone\u001B[0m, \u001B[38;5;34m100\u001B[0m,      │    \u001B[38;5;34m721,200\u001B[0m │ lstm_21[\u001B[38;5;34m0\u001B[0m][\u001B[38;5;34m0\u001B[0m]     │\n",
       "│                     │ \u001B[38;5;34m300\u001B[0m), (\u001B[38;5;45mNone\u001B[0m,      │            │                   │\n",
       "│                     │ \u001B[38;5;34m300\u001B[0m), (\u001B[38;5;45mNone\u001B[0m,      │            │                   │\n",
       "│                     │ \u001B[38;5;34m300\u001B[0m)]             │            │                   │\n",
       "├─────────────────────┼───────────────────┼────────────┼───────────────────┤\n",
       "│ lstm_23 (\u001B[38;5;33mLSTM\u001B[0m)      │ [(\u001B[38;5;45mNone\u001B[0m, \u001B[38;5;45mNone\u001B[0m,     │    \u001B[38;5;34m601,200\u001B[0m │ embedding_11[\u001B[38;5;34m0\u001B[0m][\u001B[38;5;34m…\u001B[0m │\n",
       "│                     │ \u001B[38;5;34m300\u001B[0m), (\u001B[38;5;45mNone\u001B[0m,      │            │ lstm_22[\u001B[38;5;34m0\u001B[0m][\u001B[38;5;34m1\u001B[0m],    │\n",
       "│                     │ \u001B[38;5;34m300\u001B[0m), (\u001B[38;5;45mNone\u001B[0m,      │            │ lstm_22[\u001B[38;5;34m0\u001B[0m][\u001B[38;5;34m2\u001B[0m]     │\n",
       "│                     │ \u001B[38;5;34m300\u001B[0m)]             │            │                   │\n",
       "├─────────────────────┼───────────────────┼────────────┼───────────────────┤\n",
       "│ time_distributed_5  │ (\u001B[38;5;45mNone\u001B[0m, \u001B[38;5;45mNone\u001B[0m,      │ \u001B[38;5;34m10,358,313\u001B[0m │ lstm_23[\u001B[38;5;34m0\u001B[0m][\u001B[38;5;34m0\u001B[0m]     │\n",
       "│ (\u001B[38;5;33mTimeDistributed\u001B[0m)   │ \u001B[38;5;34m34413\u001B[0m)            │            │                   │\n",
       "└─────────────────────┴───────────────────┴────────────┴───────────────────┘\n"
      ]
     },
     "metadata": {},
     "output_type": "display_data"
    },
    {
     "data": {
      "text/html": [
       "<pre style=\"white-space:pre;overflow-x:auto;line-height:normal;font-family:Menlo,'DejaVu Sans Mono',consolas,'Courier New',monospace\"><span style=\"font-weight: bold\"> Total params: </span><span style=\"color: #00af00; text-decoration-color: #00af00\">35,766,113</span> (136.44 MB)\n",
       "</pre>\n"
      ],
      "text/plain": [
       "\u001B[1m Total params: \u001B[0m\u001B[38;5;34m35,766,113\u001B[0m (136.44 MB)\n"
      ]
     },
     "metadata": {},
     "output_type": "display_data"
    },
    {
     "data": {
      "text/html": [
       "<pre style=\"white-space:pre;overflow-x:auto;line-height:normal;font-family:Menlo,'DejaVu Sans Mono',consolas,'Courier New',monospace\"><span style=\"font-weight: bold\"> Trainable params: </span><span style=\"color: #00af00; text-decoration-color: #00af00\">35,766,113</span> (136.44 MB)\n",
       "</pre>\n"
      ],
      "text/plain": [
       "\u001B[1m Trainable params: \u001B[0m\u001B[38;5;34m35,766,113\u001B[0m (136.44 MB)\n"
      ]
     },
     "metadata": {},
     "output_type": "display_data"
    },
    {
     "data": {
      "text/html": [
       "<pre style=\"white-space:pre;overflow-x:auto;line-height:normal;font-family:Menlo,'DejaVu Sans Mono',consolas,'Courier New',monospace\"><span style=\"font-weight: bold\"> Non-trainable params: </span><span style=\"color: #00af00; text-decoration-color: #00af00\">0</span> (0.00 B)\n",
       "</pre>\n"
      ],
      "text/plain": [
       "\u001B[1m Non-trainable params: \u001B[0m\u001B[38;5;34m0\u001B[0m (0.00 B)\n"
      ]
     },
     "metadata": {},
     "output_type": "display_data"
    }
   ],
   "source": [
    "s2s_model = Seq2SeqModel()\n",
    "\n",
    "model = s2s_model.create_model(x_vocab_size, y_vocab_size)"
   ]
  },
  {
   "cell_type": "markdown",
   "metadata": {},
   "source": [
    "**Start training the model with the data**"
   ]
  },
  {
   "cell_type": "code",
   "execution_count": 153,
   "metadata": {
    "execution": {
     "iopub.execute_input": "2024-08-13T07:49:59.753541Z",
     "iopub.status.busy": "2024-08-13T07:49:59.752571Z",
     "iopub.status.idle": "2024-08-13T08:25:45.398879Z",
     "shell.execute_reply": "2024-08-13T08:25:45.397986Z",
     "shell.execute_reply.started": "2024-08-13T07:49:59.753493Z"
    },
    "trusted": true
   },
   "outputs": [
    {
     "name": "stdout",
     "output_type": "stream",
     "text": [
      "Epoch 1/5\n",
      "\u001B[1m346/346\u001B[0m \u001B[32m━━━━━━━━━━━━━━━━━━━━\u001B[0m\u001B[37m\u001B[0m \u001B[1m438s\u001B[0m 1s/step - loss: 2.0659 - val_loss: 0.8235\n",
      "Epoch 2/5\n",
      "\u001B[1m346/346\u001B[0m \u001B[32m━━━━━━━━━━━━━━━━━━━━\u001B[0m\u001B[37m\u001B[0m \u001B[1m427s\u001B[0m 1s/step - loss: 0.8303 - val_loss: 0.7916\n",
      "Epoch 3/5\n",
      "\u001B[1m346/346\u001B[0m \u001B[32m━━━━━━━━━━━━━━━━━━━━\u001B[0m\u001B[37m\u001B[0m \u001B[1m427s\u001B[0m 1s/step - loss: 0.8058 - val_loss: 0.7862\n",
      "Epoch 4/5\n",
      "\u001B[1m346/346\u001B[0m \u001B[32m━━━━━━━━━━━━━━━━━━━━\u001B[0m\u001B[37m\u001B[0m \u001B[1m427s\u001B[0m 1s/step - loss: 0.7997 - val_loss: 0.7826\n",
      "Epoch 5/5\n",
      "\u001B[1m346/346\u001B[0m \u001B[32m━━━━━━━━━━━━━━━━━━━━\u001B[0m\u001B[37m\u001B[0m \u001B[1m427s\u001B[0m 1s/step - loss: 0.7973 - val_loss: 0.7808\n"
     ]
    }
   ],
   "source": [
    "history = s2s_model.train_model(x_train, y_train, x_validate, y_validate)"
   ]
  },
  {
   "cell_type": "markdown",
   "metadata": {},
   "source": [
    "**Visualize the model learning**"
   ]
  },
  {
   "cell_type": "code",
   "execution_count": 154,
   "metadata": {
    "execution": {
     "iopub.execute_input": "2024-08-13T08:25:57.510094Z",
     "iopub.status.busy": "2024-08-13T08:25:57.509184Z",
     "iopub.status.idle": "2024-08-13T08:25:57.801135Z",
     "shell.execute_reply": "2024-08-13T08:25:57.800082Z",
     "shell.execute_reply.started": "2024-08-13T08:25:57.510059Z"
    },
    "trusted": true
   },
   "outputs": [
    {
     "data": {
      "image/png": "[encoded data removed]",
      "text/plain": [
       "<Figure size 640x480 with 1 Axes>"
      ]
     },
     "metadata": {},
     "output_type": "display_data"
    }
   ],
   "source": [
    "s2s_model.plot(history)"
   ]
  },
  {
   "cell_type": "markdown",
   "metadata": {},
   "source": [
    "**Next, let’s build the dictionary to convert the index to word for target and source vocabulary:**"
   ]
  },
  {
   "cell_type": "code",
   "execution_count": 156,
   "metadata": {
    "execution": {
     "iopub.execute_input": "2024-08-13T08:26:17.427119Z",
     "iopub.status.busy": "2024-08-13T08:26:17.426727Z",
     "iopub.status.idle": "2024-08-13T08:26:17.431741Z",
     "shell.execute_reply": "2024-08-13T08:26:17.430701Z",
     "shell.execute_reply.started": "2024-08-13T08:26:17.427090Z"
    },
    "trusted": true
   },
   "outputs": [],
   "source": [
    "reverse_source_word_index = x_tokenizer.index_word\n",
    "reverse_target_word_index = y_tokenizer.index_word\n",
    "target_word_index = y_tokenizer.word_index"
   ]
  },
  {
   "cell_type": "code",
   "execution_count": 157,
   "metadata": {
    "execution": {
     "iopub.execute_input": "2024-08-13T08:26:20.184666Z",
     "iopub.status.busy": "2024-08-13T08:26:20.183847Z",
     "iopub.status.idle": "2024-08-13T08:26:20.197701Z",
     "shell.execute_reply": "2024-08-13T08:26:20.196700Z",
     "shell.execute_reply.started": "2024-08-13T08:26:20.184632Z"
    },
    "trusted": true
   },
   "outputs": [],
   "source": [
    "s2s_model.encode_decoder()"
   ]
  },
  {
   "cell_type": "code",
   "execution_count": 155,
   "metadata": {
    "execution": {
     "iopub.execute_input": "2024-08-13T08:26:03.689150Z",
     "iopub.status.busy": "2024-08-13T08:26:03.688782Z",
     "iopub.status.idle": "2024-08-13T08:26:05.809454Z",
     "shell.execute_reply": "2024-08-13T08:26:05.808366Z",
     "shell.execute_reply.started": "2024-08-13T08:26:03.689124Z"
    },
    "trusted": true
   },
   "outputs": [
    {
     "name": "stdout",
     "output_type": "stream",
     "text": [
      "Model saved successfully...\n"
     ]
    }
   ],
   "source": [
    "s2s_model.save_model()"
   ]
  },
  {
   "cell_type": "code",
   "execution_count": null,
   "metadata": {},
   "outputs": [],
   "source": [
    "model_components = {\n",
    "    'x_tokenizer': x_tokenizer,\n",
    "    'y_tokenizer': y_tokenizer,\n",
    "    'reverse_source_word_index': reverse_source_word_index,\n",
    "    'reverse_target_word_index': reverse_target_word_index,\n",
    "    'target_word_index': target_word_index,\n",
    "    'max_text_len': preprocessor.max_text_len,\n",
    "    'max_summary_len': preprocessor.max_summary_len\n",
    "}\n",
    "\n",
    "with open('model_components.pkl', 'wb') as f:\n",
    "    pickle.dump(model_components, f)\n",
    "    print('Model components saved successfully...')"
   ]
  },
  {
   "cell_type": "markdown",
   "metadata": {},
   "source": [
    "**Run the model over the data to see the results**"
   ]
  },
  {
   "cell_type": "code",
   "execution_count": 3,
   "metadata": {
    "execution": {
     "iopub.execute_input": "2024-08-13T08:57:10.539428Z",
     "iopub.status.busy": "2024-08-13T08:57:10.538854Z",
     "iopub.status.idle": "2024-08-13T08:57:10.543365Z",
     "shell.execute_reply": "2024-08-13T08:57:10.542430Z",
     "shell.execute_reply.started": "2024-08-13T08:57:10.539400Z"
    },
    "trusted": true
   },
   "outputs": [],
   "source": [
    "for i in range(1, 10):\n",
    "    print(\"Review:\", s2s_model.generate_text(x_tr[i], reverse_source_word_index))\n",
    "    print(\"Original summary:\", s2s_model.generate_summary(y_tr[i], target_word_index, reverse_target_word_index))\n",
    "    print(\"Predicted summary:\", s2s_model.decode_sequence(\n",
    "        x_tr[i].reshape(1, preprocessor.max_text_len),\n",
    "        target_word_index, reverse_target_word_index\n",
    "    ))\n",
    "    print(\"\\n\")"
   ]
  },
  {
   "cell_type": "code",
   "execution_count": null,
   "metadata": {},
   "outputs": [],
   "source": []
  }
 ],
 "metadata": {
  "kaggle": {
   "accelerator": "gpu",
   "dataSources": [
    {
     "datasetId": 1895,
     "sourceId": 791838,
     "sourceType": "datasetVersion"
    },
    {
     "sourceId": 51841083,
     "sourceType": "kernelVersion"
    }
   ],
   "dockerImageVersionId": 30747,
   "isGpuEnabled": true,
   "isInternetEnabled": true,
   "language": "python",
   "sourceType": "notebook"
  },
  "kernelspec": {
   "display_name": "Python 3",
   "language": "python",
   "name": "python3"
  },
  "language_info": {
   "codemirror_mode": {
    "name": "ipython",
    "version": 3
   },
   "file_extension": ".py",
   "mimetype": "text/x-python",
   "name": "python",
   "nbconvert_exporter": "python",
   "pygments_lexer": "ipython3",
   "version": "3.10.13"
  }
 },
 "nbformat": 4,
 "nbformat_minor": 4
}
