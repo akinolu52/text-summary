{
 "cells": [
  {
   "cell_type": "code",
   "execution_count": 42,
   "id": "bc6edbb56250ba31",
   "metadata": {
    "ExecuteTime": {
     "end_time": "2024-08-15T05:28:40.386892Z",
     "start_time": "2024-08-15T05:28:29.795134Z"
    }
   },
   "outputs": [],
   "source": [
    "import numpy as np\n",
    "import torch\n",
    "from datasets import load_dataset\n",
    "from rouge_score import rouge_scorer\n",
    "from tqdm import tqdm\n",
    "from transformers import AutoModelForSeq2SeqLM, AutoTokenizer, DataCollatorForSeq2Seq\n",
    "from transformers import Seq2SeqTrainer, Seq2SeqTrainingArguments\n",
    "import matplotlib.pyplot as plt\n",
    "import re"
   ]
  },
  {
   "cell_type": "code",
   "execution_count": 2,
   "id": "initial_id",
   "metadata": {
    "ExecuteTime": {
     "end_time": "2024-08-15T05:29:20.627008Z",
     "start_time": "2024-08-15T05:29:18.584945Z"
    },
    "collapsed": true
   },
   "outputs": [
    {
     "name": "stderr",
     "output_type": "stream",
     "text": [
      "/Users/mac/anaconda3/lib/python3.11/site-packages/huggingface_hub/file_download.py:1132: FutureWarning: `resume_download` is deprecated and will be removed in version 1.0.0. Downloads always resume when possible. If you want to force a new download, use `force_download=True`.\n",
      "  warnings.warn(\n"
     ]
    }
   ],
   "source": [
    "# Use a smaller model\n",
    "model_name = \"facebook/bart-base\"  # Instead of bart-large-cnn\n",
    "\n",
    "# Set up the device\n",
    "device = torch.device(\"mps\" if torch.backends.mps.is_available() else \"cpu\")\n",
    "\n",
    "# Load the model and tokenizer\n",
    "model = AutoModelForSeq2SeqLM.from_pretrained(model_name).to(device)\n",
    "tokenizer = AutoTokenizer.from_pretrained(model_name)"
   ]
  },
  {
   "cell_type": "code",
   "execution_count": 3,
   "id": "4514777696c01777",
   "metadata": {
    "ExecuteTime": {
     "end_time": "2024-08-15T05:29:59.157605Z",
     "start_time": "2024-08-15T05:29:54.990011Z"
    }
   },
   "outputs": [],
   "source": [
    "# Load a smaller portion of the dataset\n",
    "\n",
    "dataset = load_dataset(\"cnn_dailymail\", \"3.0.0\", split=\"train[:1000]\")  # Load only 1000 samples\n",
    "dataset = dataset.train_test_split(test_size=0.1)  # Split into train and validation"
   ]
  },
  {
   "cell_type": "code",
   "execution_count": 4,
   "id": "c02ed05dbe48aa6a",
   "metadata": {
    "ExecuteTime": {
     "end_time": "2024-08-15T05:51:38.408883Z",
     "start_time": "2024-08-15T05:51:38.406122Z"
    }
   },
   "outputs": [
    {
     "data": {
      "text/plain": [
       "Dataset({\n",
       "    features: ['article', 'highlights', 'id'],\n",
       "    num_rows: 900\n",
       "})"
      ]
     },
     "execution_count": 4,
     "metadata": {},
     "output_type": "execute_result"
    }
   ],
   "source": [
    "dataset['train']"
   ]
  },
  {
   "cell_type": "code",
   "execution_count": 44,
   "id": "d99f9ade",
   "metadata": {},
   "outputs": [],
   "source": [
    "contraction_mapping = {\n",
    "    \"ain't\": \"is not\",\n",
    "    \"aren't\": \"are not\", \"can't\": \"cannot\", \"'cause\": \"because\", \"could've\": \"could have\",\n",
    "    \"couldn't\": \"could not\",\n",
    "\n",
    "    \"didn't\": \"did not\", \"doesn't\": \"does not\", \"don't\": \"do not\", \"hadn't\": \"had not\", \"hasn't\": \"has not\",\n",
    "    \"haven't\": \"have not\",\n",
    "\n",
    "    \"he'd\": \"he would\", \"he'll\": \"he will\", \"he's\": \"he is\", \"how'd\": \"how did\", \"how'd'y\": \"how do you\",\n",
    "    \"how'll\": \"how will\", \"how's\": \"how is\",\n",
    "\n",
    "    \"I'd\": \"I would\", \"I'd've\": \"I would have\", \"I'll\": \"I will\", \"I'll've\": \"I will have\", \"I'm\": \"I am\",\n",
    "    \"I've\": \"I have\", \"i'd\": \"i would\",\n",
    "\n",
    "    \"i'd've\": \"i would have\", \"i'll\": \"i will\", \"i'll've\": \"i will have\", \"i'm\": \"i am\", \"i've\": \"i have\",\n",
    "    \"isn't\": \"is not\", \"it'd\": \"it would\",\n",
    "\n",
    "    \"it'd've\": \"it would have\", \"it'll\": \"it will\", \"it'll've\": \"it will have\", \"it's\": \"it is\",\n",
    "    \"let's\": \"let us\", \"ma'am\": \"madam\",\n",
    "\n",
    "    \"mayn't\": \"may not\", \"might've\": \"might have\", \"mightn't\": \"might not\", \"mightn't've\": \"might not have\",\n",
    "    \"must've\": \"must have\",\n",
    "\n",
    "    \"mustn't\": \"must not\", \"mustn't've\": \"must not have\", \"needn't\": \"need not\", \"needn't've\": \"need not have\",\n",
    "    \"o'clock\": \"of the clock\",\n",
    "\n",
    "    \"oughtn't\": \"ought not\", \"oughtn't've\": \"ought not have\", \"shan't\": \"shall not\", \"sha'n't\": \"shall not\",\n",
    "    \"shan't've\": \"shall not have\",\n",
    "\n",
    "    \"she'd\": \"she would\", \"she'd've\": \"she would have\", \"she'll\": \"she will\", \"she'll've\": \"she will have\",\n",
    "    \"she's\": \"she is\",\n",
    "\n",
    "    \"should've\": \"should have\", \"shouldn't\": \"should not\", \"shouldn't've\": \"should not have\",\n",
    "    \"so've\": \"so have\", \"so's\": \"so as\",\n",
    "\n",
    "    \"this's\": \"this is\", \"that'd\": \"that would\", \"that'd've\": \"that would have\", \"that's\": \"that is\",\n",
    "    \"there'd\": \"there would\",\n",
    "\n",
    "    \"there'd've\": \"there would have\", \"there's\": \"there is\", \"here's\": \"here is\", \"they'd\": \"they would\",\n",
    "    \"they'd've\": \"they would have\",\n",
    "\n",
    "    \"they'll\": \"they will\", \"they'll've\": \"they will have\", \"they're\": \"they are\", \"they've\": \"they have\",\n",
    "    \"to've\": \"to have\",\n",
    "\n",
    "    \"wasn't\": \"was not\", \"we'd\": \"we would\", \"we'd've\": \"we would have\", \"we'll\": \"we will\",\n",
    "    \"we'll've\": \"we will have\", \"we're\": \"we are\",\n",
    "\n",
    "    \"we've\": \"we have\", \"weren't\": \"were not\", \"what'll\": \"what will\", \"what'll've\": \"what will have\",\n",
    "    \"what're\": \"what are\",\n",
    "\n",
    "    \"what's\": \"what is\", \"what've\": \"what have\", \"when's\": \"when is\", \"when've\": \"when have\",\n",
    "    \"where'd\": \"where did\", \"where's\": \"where is\",\n",
    "\n",
    "    \"where've\": \"where have\", \"who'll\": \"who will\", \"who'll've\": \"who will have\", \"who's\": \"who is\",\n",
    "    \"who've\": \"who have\",\n",
    "\n",
    "    \"why's\": \"why is\", \"why've\": \"why have\", \"will've\": \"will have\", \"won't\": \"will not\",\n",
    "    \"won't've\": \"will not have\",\n",
    "\n",
    "    \"would've\": \"would have\", \"wouldn't\": \"would not\", \"wouldn't've\": \"would not have\", \"y'all\": \"you all\",\n",
    "\n",
    "    \"y'all'd\": \"you all would\", \"y'all'd've\": \"you all would have\", \"y'all're\": \"you all are\",\n",
    "    \"y'all've\": \"you all have\",\n",
    "    \"you'd\": \"you would\", \"you'd've\": \"you would have\", \"you'll\": \"you will\", \"you'll've\": \"you will have\",\n",
    "    \"you're\": \"you are\", \"you've\": \"you have\"}"
   ]
  },
  {
   "cell_type": "code",
   "execution_count": 47,
   "id": "38a856cb",
   "metadata": {},
   "outputs": [],
   "source": [
    "def replace_contractions(text):\n",
    "    def replace(match):\n",
    "        return contraction_mapping[match.group(0)]\n",
    "\n",
    "    return re.sub(\"|\".join(contraction_mapping.keys()), replace, text)\n",
    "\n",
    "\n",
    "def clean_text(text):\n",
    "    # Remove HTML tags\n",
    "    text = re.sub(r'<.*?>', '', text)\n",
    "    # Remove non-printable characters\n",
    "    text = re.sub(r'[^\\x00-\\x7F]+', ' ', text)\n",
    "    # Normalize whitespace\n",
    "    text = re.sub(r'\\s+', ' ', text).strip()\n",
    "    \n",
    "    # text = text.lower()\n",
    "    return text"
   ]
  },
  {
   "cell_type": "code",
   "execution_count": 48,
   "id": "5b84003535b129c8",
   "metadata": {
    "ExecuteTime": {
     "end_time": "2024-08-15T05:30:14.440994Z",
     "start_time": "2024-08-15T05:30:13.877365Z"
    }
   },
   "outputs": [
    {
     "data": {
      "application/vnd.jupyter.widget-view+json": {
       "model_id": "3923bb49b2d2484c87bb410dbd774c1f",
       "version_major": 2,
       "version_minor": 0
      },
      "text/plain": [
       "Map:   0%|          | 0/900 [00:00<?, ? examples/s]"
      ]
     },
     "metadata": {},
     "output_type": "display_data"
    },
    {
     "data": {
      "application/vnd.jupyter.widget-view+json": {
       "model_id": "8fafc17771d44daba24e23c7e7c1214e",
       "version_major": 2,
       "version_minor": 0
      },
      "text/plain": [
       "Map:   0%|          | 0/100 [00:00<?, ? examples/s]"
      ]
     },
     "metadata": {},
     "output_type": "display_data"
    }
   ],
   "source": [
    "# Preprocess function\n",
    "def preprocess_function(data):\n",
    "    # Clean the input articles\n",
    "    cleaned_articles = [clean_text(replace_contractions(doc)) for doc in data[\"article\"]]\n",
    "    \n",
    "    # Clean the summaries\n",
    "    cleaned_summaries = [clean_text(replace_contractions(summary)) for summary in data[\"highlights\"]]\n",
    "    \n",
    "\n",
    "    # Add summarize prefix to input text\n",
    "    inputs = [f\"summarize: {doc}\" for doc in cleaned_articles]\n",
    "    \n",
    "    # Tokenize inputs\n",
    "    model_inputs = tokenizer(inputs, max_length=512, truncation=True, padding=\"max_length\")\n",
    "\n",
    "    # Tokenize labels (summaries)\n",
    "    labels = tokenizer(cleaned_summaries, max_length=128, truncation=True, padding=\"max_length\")\n",
    "\n",
    "    # Add labels to model inputs\n",
    "    model_inputs[\"labels\"] = labels[\"input_ids\"]\n",
    "\n",
    "    return model_inputs\n",
    "\n",
    "\n",
    "# Apply preprocessing\n",
    "tokenized_datasets = dataset.map(preprocess_function, batched=True)"
   ]
  },
  {
   "cell_type": "code",
   "execution_count": 6,
   "id": "49ad4a93f2ca2765",
   "metadata": {
    "ExecuteTime": {
     "end_time": "2024-08-15T05:30:32.684622Z",
     "start_time": "2024-08-15T05:30:32.682524Z"
    }
   },
   "outputs": [],
   "source": [
    "# Data collator\n",
    "data_collator = DataCollatorForSeq2Seq(tokenizer, model=model)"
   ]
  },
  {
   "cell_type": "code",
   "execution_count": 7,
   "id": "7ed43545fa7af84",
   "metadata": {
    "ExecuteTime": {
     "end_time": "2024-08-15T05:30:48.809403Z",
     "start_time": "2024-08-15T05:30:48.805273Z"
    }
   },
   "outputs": [],
   "source": [
    "# Compute metrics function\n",
    "def compute_metrics(eval_pred):\n",
    "    predictions, labels = eval_pred\n",
    "    decoded_preds = tokenizer.batch_decode(predictions, skip_special_tokens=True)\n",
    "    labels = np.where(labels != -100, labels, tokenizer.pad_token_id)\n",
    "    decoded_labels = tokenizer.batch_decode(labels, skip_special_tokens=True)\n",
    "\n",
    "    scorer = rouge_scorer.RougeScorer(['rouge1', 'rouge2', 'rougeL'], use_stemmer=True)\n",
    "    scores = [scorer.score(pred, label) for pred, label in zip(decoded_preds, decoded_labels)]\n",
    "\n",
    "    return {\n",
    "        'rouge1': np.mean([score['rouge1'].fmeasure for score in scores]),\n",
    "        'rouge2': np.mean([score['rouge2'].fmeasure for score in scores]),\n",
    "        'rougeL': np.mean([score['rougeL'].fmeasure for score in scores]),\n",
    "    }"
   ]
  },
  {
   "cell_type": "code",
   "execution_count": 57,
   "id": "c4fd6e2c093e91a3",
   "metadata": {
    "ExecuteTime": {
     "end_time": "2024-08-15T05:31:37.292156Z",
     "start_time": "2024-08-15T05:31:37.285844Z"
    }
   },
   "outputs": [],
   "source": [
    "# Training arguments\n",
    "training_args = Seq2SeqTrainingArguments(\n",
    "    output_dir=\"./results\",\n",
    "    evaluation_strategy=\"steps\",\n",
    "    eval_steps=100,\n",
    "    logging_steps=10,  # Log every 10 steps\n",
    "    learning_rate=2e-5,\n",
    "    per_device_train_batch_size=2,\n",
    "    per_device_eval_batch_size=2,\n",
    "    weight_decay=0.01,\n",
    "    save_total_limit=3,\n",
    "    num_train_epochs=5,\n",
    "    predict_with_generate=True,\n",
    "    fp16=False,\n",
    "    gradient_accumulation_steps=16,\n",
    ")"
   ]
  },
  {
   "cell_type": "code",
   "execution_count": 58,
   "id": "6fa662eb",
   "metadata": {},
   "outputs": [
    {
     "data": {
      "text/plain": [
       "(900, 100)"
      ]
     },
     "execution_count": 58,
     "metadata": {},
     "output_type": "execute_result"
    }
   ],
   "source": [
    "len(tokenized_datasets['train']), len(tokenized_datasets[\"test\"])"
   ]
  },
  {
   "cell_type": "code",
   "execution_count": 59,
   "id": "3c501108039279a0",
   "metadata": {
    "ExecuteTime": {
     "end_time": "2024-08-15T05:34:17.960378Z",
     "start_time": "2024-08-15T05:31:45.994513Z"
    }
   },
   "outputs": [
    {
     "data": {
      "application/vnd.jupyter.widget-view+json": {
       "model_id": "1ef63c6d7b1f41f5a7f00fbc1f73ee75",
       "version_major": 2,
       "version_minor": 0
      },
      "text/plain": [
       "  0%|          | 0/140 [00:00<?, ?it/s]"
      ]
     },
     "metadata": {},
     "output_type": "display_data"
    },
    {
     "name": "stdout",
     "output_type": "stream",
     "text": [
      "{'loss': 5.221, 'grad_norm': 32.32697296142578, 'learning_rate': 1.8571428571428575e-05, 'epoch': 0.36}\n",
      "{'loss': 4.2943, 'grad_norm': 31.341472625732422, 'learning_rate': 1.7142857142857142e-05, 'epoch': 0.71}\n",
      "{'loss': 3.9025, 'grad_norm': 31.656057357788086, 'learning_rate': 1.5714285714285715e-05, 'epoch': 1.07}\n",
      "{'loss': 3.5154, 'grad_norm': 31.809490203857422, 'learning_rate': 1.4285714285714287e-05, 'epoch': 1.42}\n",
      "{'loss': 3.2487, 'grad_norm': 30.272335052490234, 'learning_rate': 1.2857142857142859e-05, 'epoch': 1.78}\n",
      "{'loss': 3.0614, 'grad_norm': 30.996252059936523, 'learning_rate': 1.1428571428571429e-05, 'epoch': 2.13}\n",
      "{'loss': 2.8835, 'grad_norm': 28.928918838500977, 'learning_rate': 1e-05, 'epoch': 2.49}\n",
      "{'loss': 2.7442, 'grad_norm': 31.233362197875977, 'learning_rate': 8.571428571428571e-06, 'epoch': 2.84}\n",
      "{'loss': 2.5889, 'grad_norm': 29.376094818115234, 'learning_rate': 7.1428571428571436e-06, 'epoch': 3.2}\n",
      "{'loss': 2.4866, 'grad_norm': 30.515165328979492, 'learning_rate': 5.7142857142857145e-06, 'epoch': 3.56}\n"
     ]
    },
    {
     "data": {
      "application/vnd.jupyter.widget-view+json": {
       "model_id": "0149aeef871c4fad99ebc4af57193ee1",
       "version_major": 2,
       "version_minor": 0
      },
      "text/plain": [
       "  0%|          | 0/50 [00:00<?, ?it/s]"
      ]
     },
     "metadata": {},
     "output_type": "display_data"
    },
    {
     "name": "stdout",
     "output_type": "stream",
     "text": [
      "{'eval_loss': 2.1315457820892334, 'eval_rouge1': 0.2546130571755103, 'eval_rouge2': 0.1093442212280193, 'eval_rougeL': 0.20585234261855184, 'eval_runtime': 41.5844, 'eval_samples_per_second': 2.405, 'eval_steps_per_second': 1.202, 'epoch': 3.56}\n",
      "{'loss': 2.4351, 'grad_norm': 28.62091827392578, 'learning_rate': 4.2857142857142855e-06, 'epoch': 3.91}\n",
      "{'loss': 2.3746, 'grad_norm': 28.8541259765625, 'learning_rate': 2.8571428571428573e-06, 'epoch': 4.27}\n",
      "{'loss': 2.3208, 'grad_norm': 27.11536407470703, 'learning_rate': 1.4285714285714286e-06, 'epoch': 4.62}\n",
      "{'loss': 2.3032, 'grad_norm': 28.445068359375, 'learning_rate': 0.0, 'epoch': 4.98}\n",
      "{'train_runtime': 771.7629, 'train_samples_per_second': 5.831, 'train_steps_per_second': 0.181, 'train_loss': 3.0985912050519673, 'epoch': 4.98}\n"
     ]
    }
   ],
   "source": [
    "try:\n",
    "    # Initialize Trainer\n",
    "    trainer = Seq2SeqTrainer(\n",
    "        model=model,\n",
    "        args=training_args,\n",
    "        train_dataset=tokenized_datasets[\"train\"],\n",
    "        eval_dataset=tokenized_datasets[\"test\"],\n",
    "        tokenizer=tokenizer,\n",
    "        data_collator=data_collator,\n",
    "        compute_metrics=compute_metrics,\n",
    "    )\n",
    "\n",
    "    # Train the model\n",
    "    trainer.train()\n",
    "except Exception as e:\n",
    "    # Handling any exceptions that may occur during the process and printing the error message.\n",
    "    print('Exception occurred: ', e)"
   ]
  },
  {
   "cell_type": "code",
   "execution_count": 60,
   "id": "a0b7e6065a512c6d",
   "metadata": {
    "ExecuteTime": {
     "end_time": "2024-08-15T05:38:54.664815Z",
     "start_time": "2024-08-15T05:37:59.653681Z"
    }
   },
   "outputs": [
    {
     "data": {
      "application/vnd.jupyter.widget-view+json": {
       "model_id": "62161505901f4a929df705f1366364f6",
       "version_major": 2,
       "version_minor": 0
      },
      "text/plain": [
       "  0%|          | 0/50 [00:00<?, ?it/s]"
      ]
     },
     "metadata": {},
     "output_type": "display_data"
    },
    {
     "data": {
      "text/plain": [
       "{'eval_loss': 1.9911783933639526,\n",
       " 'eval_rouge1': 0.2555345756973549,\n",
       " 'eval_rouge2': 0.1110389753898788,\n",
       " 'eval_rougeL': 0.2060486794063048,\n",
       " 'eval_runtime': 43.524,\n",
       " 'eval_samples_per_second': 2.298,\n",
       " 'eval_steps_per_second': 1.149,\n",
       " 'epoch': 4.977777777777778}"
      ]
     },
     "execution_count": 60,
     "metadata": {},
     "output_type": "execute_result"
    }
   ],
   "source": [
    "# Evaluate the model\n",
    "results = trainer.evaluate()\n",
    "results"
   ]
  },
  {
   "cell_type": "code",
   "execution_count": 61,
   "id": "d775f5e1",
   "metadata": {},
   "outputs": [
    {
     "data": {
      "image/png": "[encoded data removed]",
      "text/plain": [
       "<Figure size 640x480 with 1 Axes>"
      ]
     },
     "metadata": {},
     "output_type": "display_data"
    }
   ],
   "source": [
    "scores = results \n",
    "\n",
    "rouge_names = ['rouge1', 'rouge2', 'rougeL']\n",
    "score_values = [scores[f'eval_{rouge}'] for rouge in rouge_names]\n",
    "\n",
    "plt.bar(rouge_names, score_values, color=['blue', 'orange', 'green'])\n",
    "plt.xlabel(\"ROUGE Metrics\")\n",
    "plt.ylabel(\"F1 Score\")\n",
    "plt.title(\"Average ROUGE Scores\")\n",
    "plt.show()"
   ]
  },
  {
   "cell_type": "code",
   "execution_count": 62,
   "id": "94f2969df401ef66",
   "metadata": {
    "ExecuteTime": {
     "end_time": "2024-08-15T05:39:40.623699Z",
     "start_time": "2024-08-15T05:39:06.901520Z"
    }
   },
   "outputs": [
    {
     "name": "stderr",
     "output_type": "stream",
     "text": [
      "100%|██████████| 10/10 [00:15<00:00,  1.53s/it]\n"
     ]
    }
   ],
   "source": [
    "# Error analysis function\n",
    "def perform_error_analysis(trainer, dataset, num_samples=10):\n",
    "    errors = []\n",
    "    for i in tqdm(range(min(num_samples, len(dataset)))):\n",
    "        input_ids = torch.tensor([dataset[i][\"input_ids\"]]).to(device)\n",
    "        attention_mask = torch.tensor([dataset[i][\"attention_mask\"]]).to(device)\n",
    "\n",
    "        with torch.no_grad():\n",
    "            outputs = trainer.model.generate(input_ids, attention_mask=attention_mask, max_length=128)\n",
    "\n",
    "        predicted_summary = tokenizer.decode(outputs[0], skip_special_tokens=True)\n",
    "        actual_summary = tokenizer.decode(dataset[i][\"labels\"], skip_special_tokens=True)\n",
    "        input_text = tokenizer.decode(input_ids[0], skip_special_tokens=True)\n",
    "\n",
    "        rouge_scores = rouge_scorer.RougeScorer(['rouge1', 'rouge2', 'rougeL'], use_stemmer=True)\n",
    "        scores = rouge_scores.score(predicted_summary, actual_summary)\n",
    "\n",
    "        errors.append({\n",
    "            'input': input_text,\n",
    "            'predicted': predicted_summary,\n",
    "            'actual': actual_summary,\n",
    "            'rouge_scores': scores\n",
    "        })\n",
    "\n",
    "    return errors\n",
    "\n",
    "\n",
    "# Perform error analysis\n",
    "error_samples = perform_error_analysis(trainer, tokenized_datasets[\"test\"])"
   ]
  },
  {
   "cell_type": "code",
   "execution_count": 12,
   "id": "c1f40e49f3de17f6",
   "metadata": {
    "ExecuteTime": {
     "end_time": "2024-08-15T05:40:42.009445Z",
     "start_time": "2024-08-15T05:40:42.002450Z"
    }
   },
   "outputs": [
    {
     "name": "stdout",
     "output_type": "stream",
     "text": [
      "Error Example 1:\n",
      "Input: summarize: WASHINGTON (CNN) -- Two U.S. Air Force F-15s escorted two Russian Bear long-range bombers...\n",
      "Predicted: Two U.S. Air Force F-15s escorted two Russian Bear long-range bombers out of air exclusion zone off the coast of Alaska.\n",
      "Actual: U.S. radar picks up the Russian planes about 500 miles off the Alaska coast.\n",
      "The Russians entered an air exclusion zone.\n",
      "They are escorted out of the area without incident.\n",
      "Russian planes last came near the U.S. coastline in February.\n",
      "ROUGE-L F1: 0.2121\n",
      "\n",
      "\n",
      "Error Example 2:\n",
      "Input: summarize: (CNN)  -- More U.S. troops have died in Afghanistan this year than in any year since the ...\n",
      "Predicted: More U.S. troops have died in Afghanistan this year than in any year since the war began nearly seven years ago.\n",
      "More Americans killed in Afghanistan in 2008, compared with 111 in all of 2007.\n",
      "Actual: CNN numbers: 112 Americans killed this year, compared with 111 last year.\n",
      "Operation Enduring Freedom has killed 585 Americans since 2001.\n",
      "Numbers include those who died outside Afghanistan as part of Enduring Freedom.\n",
      "ROUGE-L F1: 0.1739\n",
      "\n",
      "\n",
      "Error Example 3:\n",
      "Input: summarize: LAHORE, Pakistan (CNN) -- Two Pakistani television networks that transmit from Dubai in U...\n",
      "Predicted: Two Pakistani television networks that transmit from Dubai in United Arab Emirates were ordered off the air Friday at the request of Pakistani President Pervez Musharraf, officials from the networks said. GEO-TV and ARY Digital offer a variety of programming, including news, entertainment, sports and music.\n",
      "Actual: NEW: GEO-TV president: \"It seemed very obvious that they were going to do this\"\n",
      "Order comes on the request of Pakistani President Pervez Musharraf.\n",
      "GEO-TV and ARY Digital offer varied programming, including news.\n",
      "Both networks transmit from the United Arab Emirates.\n",
      "ROUGE-L F1: 0.4222\n",
      "\n",
      "\n",
      "Error Example 4:\n",
      "Input: summarize: PHNOM PENH, Cambodia (CNN) -- Cambodia has sent a letter to the United Nations Security C...\n",
      "Predicted: Cambodia sends letter to U.N. Security Council to draw attention to standoff with Thailand over ancient border temple on disputed land.\n",
      "Chambodian soldiers stand guard near Preah Vihear temple, close to Thai border.\n",
      "Actual: Cambodia: Letter to Security Council meant to 'draw attention to crisis'\n",
      "The two countries agreed to meet Monday to defuse tensions.\n",
      "Both Cambodia and Thailand lay claim to 11th century Preah Vihear temple.\n",
      "The International Court of Justice awarded the temple to Cambodia in 1962.\n",
      "ROUGE-L F1: 0.3544\n",
      "\n",
      "\n",
      "Error Example 5:\n",
      "Input: summarize: BEIRUT, Lebanon (CNN) -- The fiery leader of Lebanon's Hezbollah militant movement assure...\n",
      "Predicted: Hassan Nasrallah says Hezbollah will cooperate in Lebanon's political life.\n",
      "Hezbollah leader says he will cooperate with Lebanon's government.\n",
      "Actual: Hezbollah leader Hassan Nasrallah says Lebanon needs collaboration of everyone.\n",
      "Nasrallah praises election of Michel Sleiman as president after six months.\n",
      "Election comes after Hezbollah and government agreed power-sharing deal.\n",
      "Sleiman is considered a consensus president in the divided country.\n",
      "ROUGE-L F1: 0.1935\n",
      "\n",
      "\n",
      "Average length difference: 13.80 words\n",
      "Average content overlap: 0.16\n"
     ]
    }
   ],
   "source": [
    "# Print some error examples\n",
    "for i, error in enumerate(error_samples[:5]):\n",
    "    print(f\"Error Example {i + 1}:\")\n",
    "    print(f\"Input: {error['input'][:100]}...\")  # the text i want to summarize\n",
    "    print(f\"Predicted: {error['predicted']}\")  # the summarized text output\n",
    "    print(f\"Actual: {error['actual']}\")  # the actual summary\n",
    "    print(f\"ROUGE-L F1: {error['rouge_scores']['rougeL'].fmeasure:.4f}\")\n",
    "    print(\"\\n\")\n",
    "\n",
    "\n",
    "# Analyze error patterns\n",
    "def analyze_error_patterns(errors):\n",
    "    length_diff = []\n",
    "    content_overlap = []\n",
    "\n",
    "    for error in errors:\n",
    "        pred_len = len(error['predicted'].split())\n",
    "        actual_len = len(error['actual'].split())\n",
    "        length_diff.append(abs(pred_len - actual_len))\n",
    "\n",
    "        pred_set = set(error['predicted'].lower().split())\n",
    "        actual_set = set(error['actual'].lower().split())\n",
    "        overlap = len(pred_set.intersection(actual_set)) / len(pred_set.union(actual_set))\n",
    "        content_overlap.append(overlap)\n",
    "\n",
    "    print(f\"Average length difference: {np.mean(length_diff):.2f} words\")\n",
    "    print(f\"Average content overlap: {np.mean(content_overlap):.2f}\")\n",
    "\n",
    "\n",
    "analyze_error_patterns(error_samples)"
   ]
  },
  {
   "cell_type": "code",
   "execution_count": 63,
   "id": "387dfe40",
   "metadata": {},
   "outputs": [
    {
     "name": "stdout",
     "output_type": "stream",
     "text": [
      "{'loss': 5.221, 'grad_norm': 32.32697296142578, 'learning_rate': 1.8571428571428575e-05, 'epoch': 0.35555555555555557, 'step': 10}\n",
      "{'loss': 4.2943, 'grad_norm': 31.341472625732422, 'learning_rate': 1.7142857142857142e-05, 'epoch': 0.7111111111111111, 'step': 20}\n",
      "{'loss': 3.9025, 'grad_norm': 31.656057357788086, 'learning_rate': 1.5714285714285715e-05, 'epoch': 1.0666666666666667, 'step': 30}\n",
      "{'loss': 3.5154, 'grad_norm': 31.809490203857422, 'learning_rate': 1.4285714285714287e-05, 'epoch': 1.4222222222222223, 'step': 40}\n",
      "{'loss': 3.2487, 'grad_norm': 30.272335052490234, 'learning_rate': 1.2857142857142859e-05, 'epoch': 1.7777777777777777, 'step': 50}\n",
      "{'loss': 3.0614, 'grad_norm': 30.996252059936523, 'learning_rate': 1.1428571428571429e-05, 'epoch': 2.1333333333333333, 'step': 60}\n",
      "{'loss': 2.8835, 'grad_norm': 28.928918838500977, 'learning_rate': 1e-05, 'epoch': 2.488888888888889, 'step': 70}\n",
      "{'loss': 2.7442, 'grad_norm': 31.233362197875977, 'learning_rate': 8.571428571428571e-06, 'epoch': 2.8444444444444446, 'step': 80}\n",
      "{'loss': 2.5889, 'grad_norm': 29.376094818115234, 'learning_rate': 7.1428571428571436e-06, 'epoch': 3.2, 'step': 90}\n",
      "{'loss': 2.4866, 'grad_norm': 30.515165328979492, 'learning_rate': 5.7142857142857145e-06, 'epoch': 3.5555555555555554, 'step': 100}\n",
      "{'eval_loss': 2.1315457820892334, 'eval_rouge1': 0.2546130571755103, 'eval_rouge2': 0.1093442212280193, 'eval_rougeL': 0.20585234261855184, 'eval_runtime': 41.5844, 'eval_samples_per_second': 2.405, 'eval_steps_per_second': 1.202, 'epoch': 3.5555555555555554, 'step': 100}\n",
      "{'loss': 2.4351, 'grad_norm': 28.62091827392578, 'learning_rate': 4.2857142857142855e-06, 'epoch': 3.911111111111111, 'step': 110}\n",
      "{'loss': 2.3746, 'grad_norm': 28.8541259765625, 'learning_rate': 2.8571428571428573e-06, 'epoch': 4.266666666666667, 'step': 120}\n",
      "{'loss': 2.3208, 'grad_norm': 27.11536407470703, 'learning_rate': 1.4285714285714286e-06, 'epoch': 4.622222222222222, 'step': 130}\n",
      "{'loss': 2.3032, 'grad_norm': 28.445068359375, 'learning_rate': 0.0, 'epoch': 4.977777777777778, 'step': 140}\n",
      "{'train_runtime': 771.7629, 'train_samples_per_second': 5.831, 'train_steps_per_second': 0.181, 'total_flos': 1365809666457600.0, 'train_loss': 3.0985912050519673, 'epoch': 4.977777777777778, 'step': 140}\n",
      "{'eval_loss': 1.9911783933639526, 'eval_rouge1': 0.2555345756973549, 'eval_rouge2': 0.1110389753898788, 'eval_rougeL': 0.2060486794063048, 'eval_runtime': 43.524, 'eval_samples_per_second': 2.298, 'eval_steps_per_second': 1.149, 'epoch': 4.977777777777778, 'step': 140}\n"
     ]
    }
   ],
   "source": [
    "for log in trainer.state.log_history:\n",
    "    print(log)\n",
    "    # break"
   ]
  },
  {
   "cell_type": "code",
   "execution_count": 70,
   "id": "a90dcb5b",
   "metadata": {},
   "outputs": [
    {
     "data": {
      "text/plain": [
       "([10, 20, 30, 40, 50, 60, 70, 80, 90, 100, 110, 120, 130, 140],\n",
       " [2.1315457820892334, 1.9911783933639526])"
      ]
     },
     "execution_count": 70,
     "metadata": {},
     "output_type": "execute_result"
    }
   ],
   "source": [
    "steps, eval_loss, \n",
    "# train_loss"
   ]
  },
  {
   "cell_type": "code",
   "execution_count": 74,
   "id": "e1216732",
   "metadata": {},
   "outputs": [
    {
     "data": {
      "text/plain": [
       "[0,\n",
       " 0,\n",
       " 0,\n",
       " 0,\n",
       " 0,\n",
       " 0,\n",
       " 0,\n",
       " 0,\n",
       " 0,\n",
       " 0,\n",
       " 2.1315457820892334,\n",
       " 0,\n",
       " 0,\n",
       " 0,\n",
       " 0,\n",
       " 0,\n",
       " 1.9911783933639526]"
      ]
     },
     "execution_count": 74,
     "metadata": {},
     "output_type": "execute_result"
    }
   ],
   "source": [
    "eval_loss = [log.get('eval_loss', 0) for log in trainer.state.log_history]\n",
    "eval_loss"
   ]
  },
  {
   "cell_type": "code",
   "execution_count": 77,
   "id": "e264dcb9",
   "metadata": {},
   "outputs": [
    {
     "data": {
      "image/png": "[encoded data removed]",
      "text/plain": [
       "<Figure size 1000x600 with 1 Axes>"
      ]
     },
     "metadata": {},
     "output_type": "display_data"
    }
   ],
   "source": [
    "# train_loss = [log['loss'] for log in trainer.state.log_history if 'loss' in log]\n",
    "# eval_loss = [log['eval_loss'] for log in trainer.state.log_history if 'eval_loss' in log]\n",
    "# steps = range(1, len(train_loss) + 1)\n",
    "\n",
    "# Extract training and evaluation losses from the log history\n",
    "train_loss = [log['loss'] for log in trainer.state.log_history if 'loss' in log]\n",
    "# eval_loss = [log['eval_loss'] or 0 for log in trainer.state.log_history if 'eval_loss' in log]\n",
    "eval_loss = [log.get('eval_loss', 0) for log in trainer.state.log_history]\n",
    "steps = [log['step'] for log in trainer.state.log_history if 'loss' in log]\n",
    "\n",
    "# Plotting the losses\n",
    "plt.figure(figsize=(10, 6))\n",
    "plt.plot(steps, train_loss, label='Training Loss')\n",
    "plt.plot(steps, eval_loss[:len(train_loss)], label=\"Evaluation Loss\")\n",
    "plt.xlabel(\"Training Steps\")\n",
    "plt.ylabel(\"Loss\")\n",
    "plt.title(\"Training and Validation Loss Over Time\")\n",
    "plt.legend()\n",
    "plt.show()\n"
   ]
  },
  {
   "cell_type": "code",
   "execution_count": 78,
   "id": "12173702",
   "metadata": {},
   "outputs": [
    {
     "data": {
      "image/png": "[encoded data removed]",
      "text/plain": [
       "<Figure size 640x480 with 1 Axes>"
      ]
     },
     "metadata": {},
     "output_type": "display_data"
    },
    {
     "data": {
      "image/png": "[encoded data removed]",
      "text/plain": [
       "<Figure size 640x480 with 1 Axes>"
      ]
     },
     "metadata": {},
     "output_type": "display_data"
    }
   ],
   "source": [
    "length_diff = [abs(len(error['predicted'].split()) - len(error['actual'].split())) for error in error_samples]\n",
    "content_overlap = [len(set(error['predicted'].split()).intersection(set(error['actual'].split()))) / len(set(error['predicted'].split()).union(set(error['actual'].split()))) for error in error_samples]\n",
    "\n",
    "plt.hist(length_diff, bins=20, color='purple', alpha=0.7)\n",
    "plt.xlabel(\"Length Difference (words)\")\n",
    "plt.ylabel(\"Frequency\")\n",
    "plt.title(\"Distribution of Length Differences in Summaries\")\n",
    "plt.show()\n",
    "\n",
    "plt.hist(content_overlap, bins=20, color='teal', alpha=0.7)\n",
    "plt.xlabel(\"Content Overlap\")\n",
    "plt.ylabel(\"Frequency\")\n",
    "plt.title(\"Distribution of Content Overlap in Summaries\")\n",
    "plt.show()\n"
   ]
  },
  {
   "cell_type": "code",
   "execution_count": 35,
   "id": "42bd6f6a3d903e5e",
   "metadata": {
    "ExecuteTime": {
     "end_time": "2024-08-15T05:41:21.110188Z",
     "start_time": "2024-08-15T05:41:21.106467Z"
    }
   },
   "outputs": [],
   "source": [
    "paragraph = '''\n",
    "Pennsylvania Gov. Josh Shapiro said former President Donald Trump has left the Butler, Pennsylvania, area following the rally shooting Saturday.\n",
    "“Under the protection of US Secret Service and with the assistance of the Pennsylvania State Police, former President Trump has now left the Butler area,” Shapiro said in a statement posted to X. “Lori and I are thankful that his team reports that he is fine and we continue to wish him a full and speedy recovery.”\n",
    "“We mourn the loss of life and pray for the two victims who are being treated at this time,” he added. “I am grateful for all law enforcement who responded, protected the former president, and worked to bring the situation under control.”\n",
    "Federal law enforcement officials will continue to lead on the investigation into the shooting, Shapiro said. Meanwhile, Pennsylvania State Police will lead the investigation into the shooting of the other victims. Shapiro said he has been communicating with law enforcement on the ground in Pennsylvania and has spoken with President Joe Biden, who “offered his full support.”\n",
    "Shapiro said he knows “how painful and shocking this event is to so many of our fellow Pennsylvanians.” He asked “that we treat our fellow Americans with respect and join together to universally condemn the unacceptable violence we witnessed earlier today in Butler.”\n",
    "'''"
   ]
  },
  {
   "cell_type": "code",
   "execution_count": 36,
   "id": "b53d6051627c27a4",
   "metadata": {
    "ExecuteTime": {
     "end_time": "2024-08-15T05:44:34.099247Z",
     "start_time": "2024-08-15T05:44:34.087032Z"
    }
   },
   "outputs": [],
   "source": [
    "def generate_summary(text, max_length=128):\n",
    "    inputs = tokenizer(\"summarize: \" + text, return_tensors=\"pt\", truncation=True, max_length=512).to(device)\n",
    "    outputs = model.generate(**inputs, max_length=max_length, num_beams=4, early_stopping=True)\n",
    "    summary = tokenizer.decode(outputs[0], skip_special_tokens=True)\n",
    "    return summary\n"
   ]
  },
  {
   "cell_type": "code",
   "execution_count": 37,
   "id": "a5c913a72819e819",
   "metadata": {
    "ExecuteTime": {
     "end_time": "2024-08-15T05:44:38.056186Z",
     "start_time": "2024-08-15T05:44:35.128266Z"
    }
   },
   "outputs": [
    {
     "data": {
      "text/plain": [
       "'Pennsylvania Gov. Josh Shapiro says former President Donald Trump has left the Butler, Pennsylvania, area following the rally shooting.\\nShapiro: “We mourn the loss of life and pray for the two victims who are being treated at this time”.'"
      ]
     },
     "execution_count": 37,
     "metadata": {},
     "output_type": "execute_result"
    }
   ],
   "source": [
    "summary = generate_summary(paragraph)\n",
    "summary"
   ]
  },
  {
   "cell_type": "code",
   "execution_count": 79,
   "id": "52787faf272f6639",
   "metadata": {
    "ExecuteTime": {
     "end_time": "2024-08-15T05:45:22.417087Z",
     "start_time": "2024-08-15T05:45:21.273900Z"
    }
   },
   "outputs": [
    {
     "name": "stderr",
     "output_type": "stream",
     "text": [
      "Some non-default generation parameters are set in the model config. These should go into a GenerationConfig file (https://huggingface.co/docs/transformers/generation_strategies#save-a-custom-decoding-strategy-with-your-model) instead. This warning will be raised to an exception in v4.41.\n",
      "Non-default generation parameters: {'early_stopping': True, 'num_beams': 4, 'no_repeat_ngram_size': 3, 'forced_bos_token_id': 0, 'forced_eos_token_id': 2}\n"
     ]
    },
    {
     "data": {
      "text/plain": [
       "('./transformer_model3/tokenizer_config.json',\n",
       " './transformer_model3/special_tokens_map.json',\n",
       " './transformer_model3/vocab.json',\n",
       " './transformer_model3/merges.txt',\n",
       " './transformer_model3/added_tokens.json',\n",
       " './transformer_model3/tokenizer.json')"
      ]
     },
     "execution_count": 79,
     "metadata": {},
     "output_type": "execute_result"
    }
   ],
   "source": [
    "# Save the model\n",
    "model_save_path = \"./transformer_model3\"\n",
    "model.save_pretrained(model_save_path)\n",
    "tokenizer.save_pretrained(model_save_path)"
   ]
  },
  {
   "cell_type": "code",
   "execution_count": null,
   "id": "a0a74915301aafd3",
   "metadata": {},
   "outputs": [],
   "source": []
  },
  {
   "cell_type": "markdown",
   "id": "208952da483e9560",
   "metadata": {},
   "source": []
  }
 ],
 "metadata": {
  "kernelspec": {
   "display_name": "Python 3",
   "language": "python",
   "name": "python3"
  },
  "language_info": {
   "codemirror_mode": {
    "name": "ipython",
    "version": 3
   },
   "file_extension": ".py",
   "mimetype": "text/x-python",
   "name": "python",
   "nbconvert_exporter": "python",
   "pygments_lexer": "ipython3",
   "version": "3.11.5"
  }
 },
 "nbformat": 4,
 "nbformat_minor": 5
}
