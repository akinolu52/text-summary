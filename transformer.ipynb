{
 "cells": [
  {
   "cell_type": "code",
   "metadata": {
    "ExecuteTime": {
     "end_time": "2024-08-15T09:47:42.398136Z",
     "start_time": "2024-08-15T09:47:42.393535Z"
    }
   },
   "source": [
    "import re\n",
    "import warnings\n",
    "\n",
    "import matplotlib.pyplot as plt\n",
    "import numpy as np\n",
    "import torch\n",
    "from datasets import load_dataset\n",
    "from rouge_score import rouge_scorer\n",
    "from tqdm import tqdm\n",
    "from transformers import AutoModelForSeq2SeqLM, AutoTokenizer, DataCollatorForSeq2Seq\n",
    "from transformers import Seq2SeqTrainer, Seq2SeqTrainingArguments"
   ],
   "outputs": [],
   "execution_count": 4
  },
  {
   "metadata": {
    "ExecuteTime": {
     "end_time": "2024-08-15T09:47:46.045801Z",
     "start_time": "2024-08-15T09:47:46.039452Z"
    }
   },
   "cell_type": "code",
   "source": "warnings.filterwarnings(\"ignore\")",
   "outputs": [],
   "execution_count": 5
  },
  {
   "metadata": {
    "ExecuteTime": {
     "end_time": "2024-08-15T09:47:50.517874Z",
     "start_time": "2024-08-15T09:47:47.880689Z"
    }
   },
   "cell_type": "code",
   "source": [
    "# Use a smaller model\n",
    "model_name = \"facebook/bart-base\"  # Instead of bart-large-cnn\n",
    "\n",
    "# Set up the device\n",
    "device = torch.device(\"mps\" if torch.backends.mps.is_available() else \"cpu\")\n",
    "\n",
    "# Load the model and tokenizer\n",
    "model = AutoModelForSeq2SeqLM.from_pretrained(model_name).to(device)\n",
    "tokenizer = AutoTokenizer.from_pretrained(model_name)"
   ],
   "outputs": [],
   "execution_count": 6
  },
  {
   "metadata": {
    "ExecuteTime": {
     "end_time": "2024-08-15T09:47:54.903243Z",
     "start_time": "2024-08-15T09:47:52.052384Z"
    }
   },
   "cell_type": "code",
   "source": [
    "# Load a smaller portion of the dataset\n",
    "\n",
    "dataset = load_dataset(\"cnn_dailymail\", \"3.0.0\", split=\"train[:1000]\")  # Load only 1000 samples\n",
    "dataset = dataset.train_test_split(test_size=0.1)  # Split into train and validation"
   ],
   "outputs": [],
   "execution_count": 7
  },
  {
   "metadata": {
    "ExecuteTime": {
     "end_time": "2024-08-15T09:48:16.075970Z",
     "start_time": "2024-08-15T09:48:16.070973Z"
    }
   },
   "cell_type": "code",
   "source": "dataset['train']",
   "outputs": [
    {
     "data": {
      "text/plain": [
       "Dataset({\n",
       "    features: ['article', 'highlights', 'id'],\n",
       "    num_rows: 900\n",
       "})"
      ]
     },
     "execution_count": 8,
     "metadata": {},
     "output_type": "execute_result"
    }
   ],
   "execution_count": 8
  },
  {
   "metadata": {
    "ExecuteTime": {
     "end_time": "2024-08-15T09:48:31.963712Z",
     "start_time": "2024-08-15T09:48:31.959384Z"
    }
   },
   "cell_type": "code",
   "source": "dataset['train'].shape",
   "outputs": [
    {
     "data": {
      "text/plain": [
       "(900, 3)"
      ]
     },
     "execution_count": 9,
     "metadata": {},
     "output_type": "execute_result"
    }
   ],
   "execution_count": 9
  },
  {
   "metadata": {
    "ExecuteTime": {
     "end_time": "2024-08-15T09:48:43.971018Z",
     "start_time": "2024-08-15T09:48:43.966730Z"
    }
   },
   "cell_type": "code",
   "source": "dataset['train'].info",
   "outputs": [
    {
     "data": {
      "text/plain": [
       "DatasetInfo(description='', citation='', homepage='', license='', features={'article': Value(dtype='string', id=None), 'highlights': Value(dtype='string', id=None), 'id': Value(dtype='string', id=None)}, post_processed=None, supervised_keys=None, task_templates=None, builder_name='parquet', dataset_name='cnn_dailymail', config_name='3.0.0', version=0.0.0, splits={'train': SplitInfo(name='train', num_bytes=1261703785, num_examples=287113, shard_lengths=[115705, 115704, 55704], dataset_name='cnn_dailymail'), 'validation': SplitInfo(name='validation', num_bytes=57732412, num_examples=13368, shard_lengths=None, dataset_name='cnn_dailymail'), 'test': SplitInfo(name='test', num_bytes=49925732, num_examples=11490, shard_lengths=None, dataset_name='cnn_dailymail')}, download_checksums={'hf://datasets/cnn_dailymail@96df5e686bee6baa90b8bee7c28b81fa3fa6223d/3.0.0/train-00000-of-00003.parquet': {'num_bytes': 256540614, 'checksum': None}, 'hf://datasets/cnn_dailymail@96df5e686bee6baa90b8bee7c28b81fa3fa6223d/3.0.0/train-00001-of-00003.parquet': {'num_bytes': 256588241, 'checksum': None}, 'hf://datasets/cnn_dailymail@96df5e686bee6baa90b8bee7c28b81fa3fa6223d/3.0.0/train-00002-of-00003.parquet': {'num_bytes': 259300551, 'checksum': None}, 'hf://datasets/cnn_dailymail@96df5e686bee6baa90b8bee7c28b81fa3fa6223d/3.0.0/validation-00000-of-00001.parquet': {'num_bytes': 34664725, 'checksum': None}, 'hf://datasets/cnn_dailymail@96df5e686bee6baa90b8bee7c28b81fa3fa6223d/3.0.0/test-00000-of-00001.parquet': {'num_bytes': 30000471, 'checksum': None}}, download_size=837094602, post_processing_size=None, dataset_size=1369361929, size_in_bytes=2206456531)"
      ]
     },
     "execution_count": 10,
     "metadata": {},
     "output_type": "execute_result"
    }
   ],
   "execution_count": 10
  },
  {
   "metadata": {
    "ExecuteTime": {
     "end_time": "2024-08-15T09:48:56.942421Z",
     "start_time": "2024-08-15T09:48:56.939246Z"
    }
   },
   "cell_type": "code",
   "source": "dataset['train'].features",
   "outputs": [
    {
     "data": {
      "text/plain": [
       "{'article': Value(dtype='string', id=None),\n",
       " 'highlights': Value(dtype='string', id=None),\n",
       " 'id': Value(dtype='string', id=None)}"
      ]
     },
     "execution_count": 11,
     "metadata": {},
     "output_type": "execute_result"
    }
   ],
   "execution_count": 11
  },
  {
   "metadata": {
    "ExecuteTime": {
     "end_time": "2024-08-15T09:49:39.405352Z",
     "start_time": "2024-08-15T09:49:39.395948Z"
    }
   },
   "cell_type": "code",
   "source": [
    "contraction_mapping = {\n",
    "    \"ain't\": \"is not\",\n",
    "    \"aren't\": \"are not\", \"can't\": \"cannot\", \"'cause\": \"because\", \"could've\": \"could have\",\n",
    "    \"couldn't\": \"could not\",\n",
    "\n",
    "    \"didn't\": \"did not\", \"doesn't\": \"does not\", \"don't\": \"do not\", \"hadn't\": \"had not\", \"hasn't\": \"has not\",\n",
    "    \"haven't\": \"have not\",\n",
    "\n",
    "    \"he'd\": \"he would\", \"he'll\": \"he will\", \"he's\": \"he is\", \"how'd\": \"how did\", \"how'd'y\": \"how do you\",\n",
    "    \"how'll\": \"how will\", \"how's\": \"how is\",\n",
    "\n",
    "    \"I'd\": \"I would\", \"I'd've\": \"I would have\", \"I'll\": \"I will\", \"I'll've\": \"I will have\", \"I'm\": \"I am\",\n",
    "    \"I've\": \"I have\", \"i'd\": \"i would\",\n",
    "\n",
    "    \"i'd've\": \"i would have\", \"i'll\": \"i will\", \"i'll've\": \"i will have\", \"i'm\": \"i am\", \"i've\": \"i have\",\n",
    "    \"isn't\": \"is not\", \"it'd\": \"it would\",\n",
    "\n",
    "    \"it'd've\": \"it would have\", \"it'll\": \"it will\", \"it'll've\": \"it will have\", \"it's\": \"it is\",\n",
    "    \"let's\": \"let us\", \"ma'am\": \"madam\",\n",
    "\n",
    "    \"mayn't\": \"may not\", \"might've\": \"might have\", \"mightn't\": \"might not\", \"mightn't've\": \"might not have\",\n",
    "    \"must've\": \"must have\",\n",
    "\n",
    "    \"mustn't\": \"must not\", \"mustn't've\": \"must not have\", \"needn't\": \"need not\", \"needn't've\": \"need not have\",\n",
    "    \"o'clock\": \"of the clock\",\n",
    "\n",
    "    \"oughtn't\": \"ought not\", \"oughtn't've\": \"ought not have\", \"shan't\": \"shall not\", \"sha'n't\": \"shall not\",\n",
    "    \"shan't've\": \"shall not have\",\n",
    "\n",
    "    \"she'd\": \"she would\", \"she'd've\": \"she would have\", \"she'll\": \"she will\", \"she'll've\": \"she will have\",\n",
    "    \"she's\": \"she is\",\n",
    "\n",
    "    \"should've\": \"should have\", \"shouldn't\": \"should not\", \"shouldn't've\": \"should not have\",\n",
    "    \"so've\": \"so have\", \"so's\": \"so as\",\n",
    "\n",
    "    \"this's\": \"this is\", \"that'd\": \"that would\", \"that'd've\": \"that would have\", \"that's\": \"that is\",\n",
    "    \"there'd\": \"there would\",\n",
    "\n",
    "    \"there'd've\": \"there would have\", \"there's\": \"there is\", \"here's\": \"here is\", \"they'd\": \"they would\",\n",
    "    \"they'd've\": \"they would have\",\n",
    "\n",
    "    \"they'll\": \"they will\", \"they'll've\": \"they will have\", \"they're\": \"they are\", \"they've\": \"they have\",\n",
    "    \"to've\": \"to have\",\n",
    "\n",
    "    \"wasn't\": \"was not\", \"we'd\": \"we would\", \"we'd've\": \"we would have\", \"we'll\": \"we will\",\n",
    "    \"we'll've\": \"we will have\", \"we're\": \"we are\",\n",
    "\n",
    "    \"we've\": \"we have\", \"weren't\": \"were not\", \"what'll\": \"what will\", \"what'll've\": \"what will have\",\n",
    "    \"what're\": \"what are\",\n",
    "\n",
    "    \"what's\": \"what is\", \"what've\": \"what have\", \"when's\": \"when is\", \"when've\": \"when have\",\n",
    "    \"where'd\": \"where did\", \"where's\": \"where is\",\n",
    "\n",
    "    \"where've\": \"where have\", \"who'll\": \"who will\", \"who'll've\": \"who will have\", \"who's\": \"who is\",\n",
    "    \"who've\": \"who have\",\n",
    "\n",
    "    \"why's\": \"why is\", \"why've\": \"why have\", \"will've\": \"will have\", \"won't\": \"will not\",\n",
    "    \"won't've\": \"will not have\",\n",
    "\n",
    "    \"would've\": \"would have\", \"wouldn't\": \"would not\", \"wouldn't've\": \"would not have\", \"y'all\": \"you all\",\n",
    "\n",
    "    \"y'all'd\": \"you all would\", \"y'all'd've\": \"you all would have\", \"y'all're\": \"you all are\",\n",
    "    \"y'all've\": \"you all have\",\n",
    "    \"you'd\": \"you would\", \"you'd've\": \"you would have\", \"you'll\": \"you will\", \"you'll've\": \"you will have\",\n",
    "    \"you're\": \"you are\", \"you've\": \"you have\"}"
   ],
   "outputs": [],
   "execution_count": 14
  },
  {
   "cell_type": "code",
   "metadata": {
    "ExecuteTime": {
     "end_time": "2024-08-15T09:49:39.863052Z",
     "start_time": "2024-08-15T09:49:39.860385Z"
    }
   },
   "source": [
    "def replace_contractions(text):\n",
    "    def replace(match):\n",
    "        return contraction_mapping[match.group(0)]\n",
    "\n",
    "    return re.sub(\"|\".join(contraction_mapping.keys()), replace, text)\n",
    "\n",
    "\n",
    "def clean_text(text):\n",
    "    # Remove HTML tags\n",
    "    text = re.sub(r'<.*?>', '', text)\n",
    "    # Remove non-printable characters\n",
    "    text = re.sub(r'[^\\x00-\\x7F]+', ' ', text)\n",
    "    # Normalize whitespace\n",
    "    text = re.sub(r'\\s+', ' ', text).strip()\n",
    "\n",
    "    # text = text.lower()\n",
    "    return text"
   ],
   "outputs": [],
   "execution_count": 15
  },
  {
   "cell_type": "code",
   "metadata": {
    "ExecuteTime": {
     "end_time": "2024-08-15T09:49:42.059663Z",
     "start_time": "2024-08-15T09:49:40.463818Z"
    }
   },
   "source": [
    "# Preprocess function\n",
    "def preprocess_function(data):\n",
    "    # Clean the input articles\n",
    "    cleaned_articles = [clean_text(replace_contractions(doc)) for doc in data[\"article\"]]\n",
    "\n",
    "    # Clean the summaries\n",
    "    cleaned_summaries = [clean_text(replace_contractions(summary)) for summary in data[\"highlights\"]]\n",
    "\n",
    "    # Add summarize prefix to input text\n",
    "    inputs = [f\"summarize: {doc}\" for doc in cleaned_articles]\n",
    "\n",
    "    # Tokenize inputs\n",
    "    model_inputs = tokenizer(inputs, max_length=512, truncation=True, padding=\"max_length\")\n",
    "\n",
    "    # Tokenize labels (summaries)\n",
    "    labels = tokenizer(cleaned_summaries, max_length=128, truncation=True, padding=\"max_length\")\n",
    "\n",
    "    # Add labels to model inputs\n",
    "    model_inputs[\"labels\"] = labels[\"input_ids\"]\n",
    "\n",
    "    return model_inputs\n",
    "\n",
    "\n",
    "# Apply preprocessing\n",
    "tokenized_datasets = dataset.map(preprocess_function, batched=True)"
   ],
   "outputs": [
    {
     "data": {
      "text/plain": [
       "Map:   0%|          | 0/900 [00:00<?, ? examples/s]"
      ],
      "application/vnd.jupyter.widget-view+json": {
       "version_major": 2,
       "version_minor": 0,
       "model_id": "f303850fd40c4b83b97ed894f94a640b"
      }
     },
     "metadata": {},
     "output_type": "display_data"
    },
    {
     "data": {
      "text/plain": [
       "Map:   0%|          | 0/100 [00:00<?, ? examples/s]"
      ],
      "application/vnd.jupyter.widget-view+json": {
       "version_major": 2,
       "version_minor": 0,
       "model_id": "c987cf9ac8ab444e8f89de7db6c52864"
      }
     },
     "metadata": {},
     "output_type": "display_data"
    }
   ],
   "execution_count": 16
  },
  {
   "cell_type": "code",
   "metadata": {
    "ExecuteTime": {
     "end_time": "2024-08-15T09:49:43.890976Z",
     "start_time": "2024-08-15T09:49:43.888881Z"
    }
   },
   "source": [
    "# Data collator\n",
    "data_collator = DataCollatorForSeq2Seq(tokenizer, model=model)"
   ],
   "outputs": [],
   "execution_count": 17
  },
  {
   "cell_type": "code",
   "metadata": {
    "ExecuteTime": {
     "end_time": "2024-08-15T09:49:47.376098Z",
     "start_time": "2024-08-15T09:49:47.372817Z"
    }
   },
   "source": [
    "# Compute metrics function\n",
    "def compute_metrics(eval_pred):\n",
    "    predictions, labels = eval_pred\n",
    "    decoded_preds = tokenizer.batch_decode(predictions, skip_special_tokens=True)\n",
    "    labels = np.where(labels != -100, labels, tokenizer.pad_token_id)\n",
    "    decoded_labels = tokenizer.batch_decode(labels, skip_special_tokens=True)\n",
    "\n",
    "    scorer = rouge_scorer.RougeScorer(['rouge1', 'rouge2', 'rougeL'], use_stemmer=True)\n",
    "    scores = [scorer.score(pred, label) for pred, label in zip(decoded_preds, decoded_labels)]\n",
    "\n",
    "    return {\n",
    "        'rouge1': np.mean([score['rouge1'].fmeasure for score in scores]),\n",
    "        'rouge2': np.mean([score['rouge2'].fmeasure for score in scores]),\n",
    "        'rougeL': np.mean([score['rougeL'].fmeasure for score in scores]),\n",
    "    }"
   ],
   "outputs": [],
   "execution_count": 18
  },
  {
   "cell_type": "code",
   "metadata": {
    "ExecuteTime": {
     "end_time": "2024-08-15T10:28:11.191083Z",
     "start_time": "2024-08-15T10:28:11.157288Z"
    }
   },
   "source": [
    "# Training arguments\n",
    "training_args = Seq2SeqTrainingArguments(\n",
    "    output_dir=\"./results\",\n",
    "    evaluation_strategy=\"epoch\",\n",
    "    logging_strategy=\"epoch\",\n",
    "    eval_steps=100,\n",
    "    logging_steps=10,  # Log every 10 steps\n",
    "    learning_rate=2e-5,\n",
    "    per_device_train_batch_size=2,\n",
    "    per_device_eval_batch_size=2,\n",
    "    weight_decay=0.01,\n",
    "    save_total_limit=3,\n",
    "    num_train_epochs=5,\n",
    "    predict_with_generate=True,\n",
    "    fp16=False,\n",
    "    gradient_accumulation_steps=16,\n",
    ")"
   ],
   "outputs": [],
   "execution_count": 33
  },
  {
   "cell_type": "code",
   "metadata": {
    "ExecuteTime": {
     "end_time": "2024-08-15T10:28:11.618641Z",
     "start_time": "2024-08-15T10:28:11.612586Z"
    }
   },
   "source": "len(tokenized_datasets['train']), len(tokenized_datasets[\"test\"])",
   "outputs": [
    {
     "data": {
      "text/plain": [
       "(900, 100)"
      ]
     },
     "execution_count": 34,
     "metadata": {},
     "output_type": "execute_result"
    }
   ],
   "execution_count": 34
  },
  {
   "cell_type": "code",
   "metadata": {
    "ExecuteTime": {
     "end_time": "2024-08-15T10:44:40.165594Z",
     "start_time": "2024-08-15T10:28:12.298394Z"
    }
   },
   "source": [
    "try:\n",
    "    # Initialize Trainer\n",
    "    trainer = Seq2SeqTrainer(\n",
    "        model=model,\n",
    "        args=training_args,\n",
    "        train_dataset=tokenized_datasets[\"train\"],\n",
    "        eval_dataset=tokenized_datasets[\"test\"],\n",
    "        tokenizer=tokenizer,\n",
    "        data_collator=data_collator,\n",
    "        compute_metrics=compute_metrics,\n",
    "    )\n",
    "\n",
    "    # Train the model\n",
    "    trainer.train()\n",
    "except Exception as e:\n",
    "    # Handling any exceptions that may occur during the process and printing the error message.\n",
    "    print('Exception occurred: ', e)"
   ],
   "outputs": [
    {
     "data": {
      "text/plain": [
       "<IPython.core.display.HTML object>"
      ],
      "text/html": [
       "\n",
       "    <div>\n",
       "      \n",
       "      <progress value='140' max='140' style='width:300px; height:20px; vertical-align: middle;'></progress>\n",
       "      [140/140 16:20, Epoch 4/5]\n",
       "    </div>\n",
       "    <table border=\"1\" class=\"dataframe\">\n",
       "  <thead>\n",
       " <tr style=\"text-align: left;\">\n",
       "      <th>Epoch</th>\n",
       "      <th>Training Loss</th>\n",
       "      <th>Validation Loss</th>\n",
       "      <th>Rouge1</th>\n",
       "      <th>Rouge2</th>\n",
       "      <th>Rougel</th>\n",
       "    </tr>\n",
       "  </thead>\n",
       "  <tbody>\n",
       "    <tr>\n",
       "      <td>0</td>\n",
       "      <td>2.541700</td>\n",
       "      <td>1.890059</td>\n",
       "      <td>0.248773</td>\n",
       "      <td>0.105442</td>\n",
       "      <td>0.204777</td>\n",
       "    </tr>\n",
       "    <tr>\n",
       "      <td>1</td>\n",
       "      <td>1.919800</td>\n",
       "      <td>1.506356</td>\n",
       "      <td>0.241646</td>\n",
       "      <td>0.097132</td>\n",
       "      <td>0.198167</td>\n",
       "    </tr>\n",
       "    <tr>\n",
       "      <td>2</td>\n",
       "      <td>1.539700</td>\n",
       "      <td>1.302119</td>\n",
       "      <td>0.242530</td>\n",
       "      <td>0.093873</td>\n",
       "      <td>0.197609</td>\n",
       "    </tr>\n",
       "    <tr>\n",
       "      <td>3</td>\n",
       "      <td>1.336800</td>\n",
       "      <td>1.206022</td>\n",
       "      <td>0.246275</td>\n",
       "      <td>0.098009</td>\n",
       "      <td>0.201657</td>\n",
       "    </tr>\n",
       "    <tr>\n",
       "      <td>4</td>\n",
       "      <td>1.221800</td>\n",
       "      <td>1.179321</td>\n",
       "      <td>0.246465</td>\n",
       "      <td>0.097106</td>\n",
       "      <td>0.198899</td>\n",
       "    </tr>\n",
       "  </tbody>\n",
       "</table><p>"
      ]
     },
     "metadata": {},
     "output_type": "display_data"
    }
   ],
   "execution_count": 35
  },
  {
   "metadata": {
    "ExecuteTime": {
     "end_time": "2024-08-15T10:45:24.313400Z",
     "start_time": "2024-08-15T10:44:40.174080Z"
    }
   },
   "cell_type": "code",
   "source": [
    "# Evaluate the model\n",
    "results = trainer.evaluate()\n",
    "results"
   ],
   "outputs": [
    {
     "data": {
      "text/plain": [
       "<IPython.core.display.HTML object>"
      ],
      "text/html": [
       "\n",
       "    <div>\n",
       "      \n",
       "      <progress value='50' max='50' style='width:300px; height:20px; vertical-align: middle;'></progress>\n",
       "      [50/50 00:43]\n",
       "    </div>\n",
       "    "
      ]
     },
     "metadata": {},
     "output_type": "display_data"
    },
    {
     "data": {
      "text/plain": [
       "{'eval_loss': 1.1793214082717896,\n",
       " 'eval_rouge1': 0.24646477135601086,\n",
       " 'eval_rouge2': 0.0971059948405177,\n",
       " 'eval_rougeL': 0.19889894993861798,\n",
       " 'eval_runtime': 44.1169,\n",
       " 'eval_samples_per_second': 2.267,\n",
       " 'eval_steps_per_second': 1.133,\n",
       " 'epoch': 4.977777777777778}"
      ]
     },
     "execution_count": 36,
     "metadata": {},
     "output_type": "execute_result"
    }
   ],
   "execution_count": 36
  },
  {
   "metadata": {
    "ExecuteTime": {
     "end_time": "2024-08-15T10:45:24.474476Z",
     "start_time": "2024-08-15T10:45:24.315014Z"
    }
   },
   "cell_type": "code",
   "source": [
    "scores = results\n",
    "\n",
    "rouge_names = ['rouge1', 'rouge2', 'rougeL']\n",
    "score_values = [scores[f'eval_{rouge}'] for rouge in rouge_names]\n",
    "\n",
    "plt.bar(rouge_names, score_values, color=['blue', 'orange', 'green'])\n",
    "plt.xlabel(\"ROUGE Metrics\")\n",
    "plt.ylabel(\"F1 Score\")\n",
    "plt.title(\"Average ROUGE Scores\")\n",
    "plt.show()"
   ],
   "outputs": [
    {
     "data": {
      "text/plain": [
       "<Figure size 640x480 with 1 Axes>"
      ],
      "image/png": "[encoded data removed]"
     },
     "metadata": {},
     "output_type": "display_data"
    }
   ],
   "execution_count": 37
  },
  {
   "metadata": {
    "ExecuteTime": {
     "end_time": "2024-08-15T10:45:43.611190Z",
     "start_time": "2024-08-15T10:45:24.476058Z"
    }
   },
   "cell_type": "code",
   "source": [
    "# Error analysis function\n",
    "def perform_error_analysis(trainer, dataset, num_samples=10):\n",
    "    errors = []\n",
    "    for i in tqdm(range(min(num_samples, len(dataset)))):\n",
    "        input_ids = torch.tensor([dataset[i][\"input_ids\"]]).to(device)\n",
    "        attention_mask = torch.tensor([dataset[i][\"attention_mask\"]]).to(device)\n",
    "\n",
    "        with torch.no_grad():\n",
    "            outputs = trainer.model.generate(input_ids, attention_mask=attention_mask, max_length=128)\n",
    "\n",
    "        predicted_summary = tokenizer.decode(outputs[0], skip_special_tokens=True)\n",
    "        actual_summary = tokenizer.decode(dataset[i][\"labels\"], skip_special_tokens=True)\n",
    "        input_text = tokenizer.decode(input_ids[0], skip_special_tokens=True)\n",
    "\n",
    "        rouge_scores = rouge_scorer.RougeScorer(['rouge1', 'rouge2', 'rougeL'], use_stemmer=True)\n",
    "        scores = rouge_scores.score(predicted_summary, actual_summary)\n",
    "\n",
    "        errors.append({\n",
    "            'input': input_text,\n",
    "            'predicted': predicted_summary,\n",
    "            'actual': actual_summary,\n",
    "            'rouge_scores': scores\n",
    "        })\n",
    "\n",
    "    return errors\n",
    "\n",
    "\n",
    "# Perform error analysis\n",
    "error_samples = perform_error_analysis(trainer, tokenized_datasets[\"test\"])"
   ],
   "outputs": [
    {
     "name": "stderr",
     "output_type": "stream",
     "text": [
      "100%|██████████| 10/10 [00:19<00:00,  1.91s/it]\n"
     ]
    }
   ],
   "execution_count": 38
  },
  {
   "metadata": {
    "ExecuteTime": {
     "end_time": "2024-08-15T10:11:05.714215Z",
     "start_time": "2024-08-15T10:11:05.688162Z"
    }
   },
   "cell_type": "code",
   "source": [
    "# Print some error examples\n",
    "for i, error in enumerate(error_samples[:5]):\n",
    "    print(f\"Error Example {i + 1}:\")\n",
    "    print(f\"Input: {error['input'][:100]}...\")  # the text i want to summarize\n",
    "    print(f\"Predicted: {error['predicted']}\")  # the summarized text output\n",
    "    print(f\"Actual: {error['actual']}\")  # the actual summary\n",
    "    print(f\"ROUGE-L F1: {error['rouge_scores']['rougeL'].fmeasure:.4f}\")\n",
    "    print(\"\\n\")\n",
    "\n",
    "\n",
    "# Analyze error patterns\n",
    "def analyze_error_patterns(errors):\n",
    "    length_diff = []\n",
    "    content_overlap = []\n",
    "\n",
    "    for error in errors:\n",
    "        pred_len = len(error['predicted'].split())\n",
    "        actual_len = len(error['actual'].split())\n",
    "        length_diff.append(abs(pred_len - actual_len))\n",
    "\n",
    "        pred_set = set(error['predicted'].lower().split())\n",
    "        actual_set = set(error['actual'].lower().split())\n",
    "        overlap = len(pred_set.intersection(actual_set)) / len(pred_set.union(actual_set))\n",
    "        content_overlap.append(overlap)\n",
    "\n",
    "    print(f\"Average length difference: {np.mean(length_diff):.2f} words\")\n",
    "    print(f\"Average content overlap: {np.mean(content_overlap):.2f}\")\n",
    "\n",
    "\n",
    "analyze_error_patterns(error_samples)"
   ],
   "outputs": [
    {
     "name": "stdout",
     "output_type": "stream",
     "text": [
      "Error Example 1:\n",
      "Input: summarize: COPENHAGEN, Denamrk (CNN) -- What makes someone decide to become an actor? It sometimes s...\n",
      "Predicted: Connie Nielsen is not typical movie star. She is a Danish actress. She was born in Elling, a small coastal village in Denmark. She grew up in Denmark and studied acting in France and Italy.\n",
      "Actual: Connie Nielsen made her name playing Lucilla in Ridley Scott's \"Gladiator\" She has appeared in movies dealing with the wars in Afghanistan and Iraq. Nielsen speaks seven languages and is passionate about art and literature.\n",
      "ROUGE-L F1: 0.1972\n",
      "\n",
      "\n",
      "Error Example 2:\n",
      "Input: summarize: HONG KONG, China (Reuters) -- Paul Lee got his liver from an executed Chinese prisoner; K...\n",
      "Predicted: China, Pakistan, Egypt, Colombia and the Philippines have been arrested for kidnapping people, drugging them and stealing their kidneys. World Health Organization estimates that 21,000 liver transplants are carried out annually. Most of the transplants involve removing part of the donor's liver.\n",
      "Actual: Organ shortage in rich states has created a trade from poorer countries. \"Transplant tourists\" travel to poor countries to buy organs from the desperate. Pakistan, where trade in human organs is legal, is turning into a \"kidney bazaar\" Patients pay $8,500 for a new kidney, while donors are paid just $300 to $1,000.\n",
      "ROUGE-L F1: 0.0808\n",
      "\n",
      "\n",
      "Error Example 3:\n",
      "Input: summarize: (Mental Floss) -- Starting a legitimate business is hard, boring work. There is paperwork...\n",
      "Predicted: Ulysses S. Grant foiled a gold scam. In all likelihood, it would be much easier to just stumble upon some clever scam to line your pockets. Or so it would seem. Four teams of white-collar criminals foiled gold scams.\n",
      "Actual: When a business scam fails, it tends to fail in rather grand fashion. 360 B.C. scam: Sink ship and collect insurance on goods. President Grant foiled a gold speculation scam. Moving company founder goes to prison for bait-and-switch pricing.\n",
      "ROUGE-L F1: 0.1951\n",
      "\n",
      "\n",
      "Error Example 4:\n",
      "Input: summarize: NEW YORK (CNN) -- Topps Meat Co. on Saturday expanded a recall of ground beef from about ...\n",
      "Predicted: Topps expands recall of ground beef from about 300,000 pounds to 21.7 million pounds. The company said the products may be contaminated with E. coli O157:H7, a bacterium that can cause severe diarrhea and cramps.\n",
      "Actual: Topps Meat Co. hamburger patties may contain E. coli bacteria. New Jersey plant's grinding operation shut down. As many as 25 cases of illness recorded in eight states.\n",
      "ROUGE-L F1: 0.1194\n",
      "\n",
      "\n",
      "Error Example 5:\n",
      "Input: summarize: 1. \"F r Elise\" Bob Dylan wrote \"It Ain't Me, Babe\" for Joan Baez. Written by: Ludwig van ...\n",
      "Predicted: The song was originally titled \"Bagatelle in A minor\" based on some handwritten notation a Beethoven researcher claimed to have seen on a now-lost copy of the sheet music. The song was written after the band's manager spent a very drunken night dancing with a woman.\n",
      "Actual: Several famous songs written by men for a woman. Beethoven's \"F r Elise\" may have been written \"for Therese\" Songwriters make up stories about who is behind \"867-5309/Jenny\"\n",
      "ROUGE-L F1: 0.1266\n",
      "\n",
      "\n",
      "Average length difference: 12.60 words\n",
      "Average content overlap: 0.13\n"
     ]
    }
   ],
   "execution_count": 26
  },
  {
   "metadata": {
    "ExecuteTime": {
     "end_time": "2024-08-15T17:27:06.481401Z",
     "start_time": "2024-08-15T17:27:06.393404Z"
    }
   },
   "cell_type": "code",
   "source": [
    "# Extract training and evaluation losses from the log history\n",
    "train_loss = [log['loss'] for log in trainer.state.log_history if 'loss' in log and 'epoch' in log]\n",
    "eval_loss = [log['eval_loss'] for log in trainer.state.log_history if 'eval_loss' in log and 'epoch' in log]\n",
    "epochs = [log['epoch'] for log in trainer.state.log_history if 'epoch' in log]\n",
    "\n",
    "# Plotting the losses\n",
    "plt.figure(figsize=(10, 6))\n",
    "plt.plot(range(0, len(train_loss)), train_loss, label=\"Training Loss\")\n",
    "plt.plot(range(0, len(eval_loss)), eval_loss, label=\"Validation Loss\")\n",
    "plt.xlabel(\"Epoch\")\n",
    "plt.ylabel(\"Loss\")\n",
    "plt.title(\"Training and Validation Loss vs. Epoch\")\n",
    "plt.legend()\n",
    "plt.show()"
   ],
   "outputs": [
    {
     "data": {
      "text/plain": [
       "<Figure size 1000x600 with 1 Axes>"
      ],
      "image/png": "[encoded data removed]"
     },
     "metadata": {},
     "output_type": "display_data"
    }
   ],
   "execution_count": 46
  },
  {
   "metadata": {
    "ExecuteTime": {
     "end_time": "2024-08-15T10:11:19.149757Z",
     "start_time": "2024-08-15T10:11:18.966051Z"
    }
   },
   "cell_type": "code",
   "source": [
    "length_diff = [abs(len(error['predicted'].split()) - len(error['actual'].split())) for error in error_samples]\n",
    "content_overlap = [len(set(error['predicted'].split()).intersection(set(error['actual'].split()))) / len(\n",
    "    set(error['predicted'].split()).union(set(error['actual'].split()))) for error in error_samples]\n",
    "\n",
    "plt.hist(length_diff, bins=20, color='purple', alpha=0.7)\n",
    "plt.xlabel(\"Length Difference (words)\")\n",
    "plt.ylabel(\"Frequency\")\n",
    "plt.title(\"Distribution of Length Differences in Summaries\")\n",
    "plt.show()\n",
    "\n",
    "plt.hist(content_overlap, bins=20, color='teal', alpha=0.7)\n",
    "plt.xlabel(\"Content Overlap\")\n",
    "plt.ylabel(\"Frequency\")\n",
    "plt.title(\"Distribution of Content Overlap in Summaries\")\n",
    "plt.show()\n"
   ],
   "outputs": [
    {
     "data": {
      "text/plain": [
       "<Figure size 640x480 with 1 Axes>"
      ],
      "image/png": "[encoded data removed]"
     },
     "metadata": {},
     "output_type": "display_data"
    },
    {
     "data": {
      "text/plain": [
       "<Figure size 640x480 with 1 Axes>"
      ],
      "image/png": "[encoded data removed]"
     },
     "metadata": {},
     "output_type": "display_data"
    }
   ],
   "execution_count": 27
  },
  {
   "metadata": {
    "ExecuteTime": {
     "end_time": "2024-08-15T10:11:26.863926Z",
     "start_time": "2024-08-15T10:11:26.858985Z"
    }
   },
   "cell_type": "code",
   "source": [
    "paragraph = '''\n",
    "Pennsylvania Gov. Josh Shapiro said former President Donald Trump has left the Butler, Pennsylvania, area following the rally shooting Saturday.\n",
    "“Under the protection of US Secret Service and with the assistance of the Pennsylvania State Police, former President Trump has now left the Butler area,” Shapiro said in a statement posted to X. “Lori and I are thankful that his team reports that he is fine and we continue to wish him a full and speedy recovery.”\n",
    "“We mourn the loss of life and pray for the two victims who are being treated at this time,” he added. “I am grateful for all law enforcement who responded, protected the former president, and worked to bring the situation under control.”\n",
    "Federal law enforcement officials will continue to lead on the investigation into the shooting, Shapiro said. Meanwhile, Pennsylvania State Police will lead the investigation into the shooting of the other victims. Shapiro said he has been communicating with law enforcement on the ground in Pennsylvania and has spoken with President Joe Biden, who “offered his full support.”\n",
    "Shapiro said he knows “how painful and shocking this event is to so many of our fellow Pennsylvanians.” He asked “that we treat our fellow Americans with respect and join together to universally condemn the unacceptable violence we witnessed earlier today in Butler.”\n",
    "'''"
   ],
   "outputs": [],
   "execution_count": 28
  },
  {
   "metadata": {
    "ExecuteTime": {
     "end_time": "2024-08-15T10:11:27.354899Z",
     "start_time": "2024-08-15T10:11:27.350231Z"
    }
   },
   "cell_type": "code",
   "source": [
    "def generate_summary(text, max_length=128):\n",
    "    inputs = tokenizer(\"summarize: \" + text, return_tensors=\"pt\", truncation=True, max_length=512).to(device)\n",
    "    outputs = model.generate(**inputs, max_length=max_length, num_beams=4, early_stopping=True)\n",
    "    summary = tokenizer.decode(outputs[0], skip_special_tokens=True)\n",
    "    return summary\n"
   ],
   "outputs": [],
   "execution_count": 29
  },
  {
   "metadata": {
    "ExecuteTime": {
     "end_time": "2024-08-15T10:11:36.988348Z",
     "start_time": "2024-08-15T10:11:30.739340Z"
    }
   },
   "cell_type": "code",
   "source": [
    "summary = generate_summary(paragraph)\n",
    "summary"
   ],
   "outputs": [
    {
     "data": {
      "text/plain": [
       "'Pennsylvania Gov. Josh Shapiro says former President Donald Trump has left the Butler, Pennsylvania, area following the rally shooting. Shapiro: “We mourn the loss of life and pray for the two victims who are being treated at this time”“Under the protection of US Secret Service and with the assistance of the Pennsylvania State Police, former President Trump has now left the area,” Shapiro said in a statement posted to Facebook. “Lori and I are thankful that his team reports that he is fine and we continue to wish him a full and speedy recovery.”'"
      ]
     },
     "execution_count": 30,
     "metadata": {},
     "output_type": "execute_result"
    }
   ],
   "execution_count": 30
  },
  {
   "metadata": {
    "ExecuteTime": {
     "end_time": "2024-08-15T10:11:52.746353Z",
     "start_time": "2024-08-15T10:11:50.840596Z"
    }
   },
   "cell_type": "code",
   "source": [
    "# Save the model\n",
    "model_save_path = \"./transformer_model4\"\n",
    "model.save_pretrained(model_save_path)\n",
    "tokenizer.save_pretrained(model_save_path)"
   ],
   "outputs": [
    {
     "name": "stderr",
     "output_type": "stream",
     "text": [
      "Some non-default generation parameters are set in the model config. These should go into a GenerationConfig file (https://huggingface.co/docs/transformers/generation_strategies#save-a-custom-decoding-strategy-with-your-model) instead. This warning will be raised to an exception in v4.41.\n",
      "Non-default generation parameters: {'early_stopping': True, 'num_beams': 4, 'no_repeat_ngram_size': 3, 'forced_bos_token_id': 0, 'forced_eos_token_id': 2}\n"
     ]
    },
    {
     "data": {
      "text/plain": [
       "('./transformer_model4/tokenizer_config.json',\n",
       " './transformer_model4/special_tokens_map.json',\n",
       " './transformer_model4/vocab.json',\n",
       " './transformer_model4/merges.txt',\n",
       " './transformer_model4/added_tokens.json',\n",
       " './transformer_model4/tokenizer.json')"
      ]
     },
     "execution_count": 31,
     "metadata": {},
     "output_type": "execute_result"
    }
   ],
   "execution_count": 31
  },
  {
   "metadata": {},
   "cell_type": "code",
   "outputs": [],
   "execution_count": null,
   "source": ""
  },
  {
   "metadata": {},
   "cell_type": "markdown",
   "source": ""
  }
 ],
 "metadata": {
  "kernelspec": {
   "display_name": "base",
   "language": "python",
   "name": "python3"
  },
  "language_info": {
   "codemirror_mode": {
    "name": "ipython",
    "version": 3
   },
   "file_extension": ".py",
   "mimetype": "text/x-python",
   "name": "python",
   "nbconvert_exporter": "python",
   "pygments_lexer": "ipython3",
   "version": "3.11.5"
  }
 },
 "nbformat": 4,
 "nbformat_minor": 2
}
