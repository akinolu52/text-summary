{
 "cells": [
  {
   "metadata": {},
   "cell_type": "markdown",
   "source": "#Abstractive Summary"
  },
  {
   "cell_type": "code",
   "execution_count": 1,
   "metadata": {
    "_cell_guid": "b1076dfc-b9ad-4769-8c92-a6c4dae69d19",
    "_uuid": "8f2839f25d086af736a60e9eeb907d3b93b6e0e5"
   },
   "outputs": [],
   "source": [
    "\n",
    "import pickle\n",
    "import warnings\n",
    "\n",
    "import matplotlib.pyplot as plt\n",
    "import numpy as np\n",
    "import pandas as pd\n",
    "import tensorflow as tf\n",
    "from numpy import *\n",
    "from rouge_score import rouge_scorer\n",
    "from sklearn.model_selection import train_test_split\n",
    "from tensorflow.keras.callbacks import EarlyStopping\n",
    "from tensorflow.keras.layers import Input, LSTM, Embedding, Dense, TimeDistributed\n",
    "from tensorflow.keras.models import Model\n",
    "from tensorflow.keras.preprocessing.sequence import pad_sequences\n",
    "from tensorflow.keras.preprocessing.text import Tokenizer"
   ]
  },
  {
   "cell_type": "code",
   "execution_count": 2,
   "metadata": {},
   "outputs": [],
   "source": [
    "pd.set_option(\"display.max_colwidth\", 200)\n",
    "warnings.filterwarnings(\"ignore\")"
   ]
  },
  {
   "cell_type": "code",
   "execution_count": 3,
   "metadata": {},
   "outputs": [],
   "source": [
    "contraction_mapping = {\n",
    "    \"ain't\": \"is not\",\n",
    "    \"aren't\": \"are not\", \"can't\": \"cannot\", \"'cause\": \"because\", \"could've\": \"could have\",\n",
    "    \"couldn't\": \"could not\",\n",
    "\n",
    "    \"didn't\": \"did not\", \"doesn't\": \"does not\", \"don't\": \"do not\", \"hadn't\": \"had not\", \"hasn't\": \"has not\",\n",
    "    \"haven't\": \"have not\",\n",
    "\n",
    "    \"he'd\": \"he would\", \"he'll\": \"he will\", \"he's\": \"he is\", \"how'd\": \"how did\", \"how'd'y\": \"how do you\",\n",
    "    \"how'll\": \"how will\", \"how's\": \"how is\",\n",
    "\n",
    "    \"I'd\": \"I would\", \"I'd've\": \"I would have\", \"I'll\": \"I will\", \"I'll've\": \"I will have\", \"I'm\": \"I am\",\n",
    "    \"I've\": \"I have\", \"i'd\": \"i would\",\n",
    "\n",
    "    \"i'd've\": \"i would have\", \"i'll\": \"i will\", \"i'll've\": \"i will have\", \"i'm\": \"i am\", \"i've\": \"i have\",\n",
    "    \"isn't\": \"is not\", \"it'd\": \"it would\",\n",
    "\n",
    "    \"it'd've\": \"it would have\", \"it'll\": \"it will\", \"it'll've\": \"it will have\", \"it's\": \"it is\",\n",
    "    \"let's\": \"let us\", \"ma'am\": \"madam\",\n",
    "\n",
    "    \"mayn't\": \"may not\", \"might've\": \"might have\", \"mightn't\": \"might not\", \"mightn't've\": \"might not have\",\n",
    "    \"must've\": \"must have\",\n",
    "\n",
    "    \"mustn't\": \"must not\", \"mustn't've\": \"must not have\", \"needn't\": \"need not\", \"needn't've\": \"need not have\",\n",
    "    \"o'clock\": \"of the clock\",\n",
    "\n",
    "    \"oughtn't\": \"ought not\", \"oughtn't've\": \"ought not have\", \"shan't\": \"shall not\", \"sha'n't\": \"shall not\",\n",
    "    \"shan't've\": \"shall not have\",\n",
    "\n",
    "    \"she'd\": \"she would\", \"she'd've\": \"she would have\", \"she'll\": \"she will\", \"she'll've\": \"she will have\",\n",
    "    \"she's\": \"she is\",\n",
    "\n",
    "    \"should've\": \"should have\", \"shouldn't\": \"should not\", \"shouldn't've\": \"should not have\",\n",
    "    \"so've\": \"so have\", \"so's\": \"so as\",\n",
    "\n",
    "    \"this's\": \"this is\", \"that'd\": \"that would\", \"that'd've\": \"that would have\", \"that's\": \"that is\",\n",
    "    \"there'd\": \"there would\",\n",
    "\n",
    "    \"there'd've\": \"there would have\", \"there's\": \"there is\", \"here's\": \"here is\", \"they'd\": \"they would\",\n",
    "    \"they'd've\": \"they would have\",\n",
    "\n",
    "    \"they'll\": \"they will\", \"they'll've\": \"they will have\", \"they're\": \"they are\", \"they've\": \"they have\",\n",
    "    \"to've\": \"to have\",\n",
    "\n",
    "    \"wasn't\": \"was not\", \"we'd\": \"we would\", \"we'd've\": \"we would have\", \"we'll\": \"we will\",\n",
    "    \"we'll've\": \"we will have\", \"we're\": \"we are\",\n",
    "\n",
    "    \"we've\": \"we have\", \"weren't\": \"were not\", \"what'll\": \"what will\", \"what'll've\": \"what will have\",\n",
    "    \"what're\": \"what are\",\n",
    "\n",
    "    \"what's\": \"what is\", \"what've\": \"what have\", \"when's\": \"when is\", \"when've\": \"when have\",\n",
    "    \"where'd\": \"where did\", \"where's\": \"where is\",\n",
    "\n",
    "    \"where've\": \"where have\", \"who'll\": \"who will\", \"who'll've\": \"who will have\", \"who's\": \"who is\",\n",
    "    \"who've\": \"who have\",\n",
    "\n",
    "    \"why's\": \"why is\", \"why've\": \"why have\", \"will've\": \"will have\", \"won't\": \"will not\",\n",
    "    \"won't've\": \"will not have\",\n",
    "\n",
    "    \"would've\": \"would have\", \"wouldn't\": \"would not\", \"wouldn't've\": \"would not have\", \"y'all\": \"you all\",\n",
    "\n",
    "    \"y'all'd\": \"you all would\", \"y'all'd've\": \"you all would have\", \"y'all're\": \"you all are\",\n",
    "    \"y'all've\": \"you all have\",\n",
    "    \"you'd\": \"you would\", \"you'd've\": \"you would have\", \"you'll\": \"you will\", \"you'll've\": \"you will have\",\n",
    "    \"you're\": \"you are\", \"you've\": \"you have\"}"
   ]
  },
  {
   "cell_type": "code",
   "execution_count": 4,
   "metadata": {},
   "outputs": [],
   "source": [
    "class DataPreprocessor:\n",
    "    def __init__(self, max_text_len=100, max_summary_len=15):\n",
    "        self.max_text_len = max_text_len\n",
    "        self.max_summary_len = max_summary_len\n",
    "        self.x_tokenizer = None\n",
    "        self.y_tokenizer = None\n",
    "        # self.data = None\n",
    "\n",
    "    def load_csv_from_google_drive(self, url, name):\n",
    "        # Attempting to load a CSV file from a Google Drive link into a Pandas DataFrame.\n",
    "        try:\n",
    "            # Extracting file ID from the original URL to construct a direct download link.\n",
    "            url = 'https://drive.google.com/uc?id=' + url.split('/')[-2]\n",
    "\n",
    "            # Loading the CSV data from the constructed URL into a Pandas DataFrame.\n",
    "            df = pd.read_csv(url, encoding='iso-8859-1')\n",
    "\n",
    "            # Confirmation message upon successful loading of CSV data.\n",
    "            print(f'{name} CSV loaded successfully.')\n",
    "\n",
    "            # Returning the loaded DataFrame.\n",
    "            return df\n",
    "\n",
    "        except Exception as e:\n",
    "            # Handling any exceptions that may occur during the process and printing the error message.\n",
    "            print('Exception occurred: ', e)\n",
    "\n",
    "    def load_data(self, ):\n",
    "        print('Loading the summary dataset...')\n",
    "        summary_df = self.load_csv_from_google_drive(\n",
    "            \"https://drive.google.com/file/d/1jjjtai8R0BTfTtfucbOQPCJTllXfV9Dy/view?usp=sharing\", \"Summary\")\n",
    "\n",
    "        print('\\nLoading the raw dataset...')\n",
    "        raw_df = self.load_csv_from_google_drive(\n",
    "            \"https://drive.google.com/file/d/1pt4kBnL0i-qtBKwgxBeTTKnkGINq8miE/view?usp=sharing\", \"Raw\")\n",
    "\n",
    "        # preprocessing steps\n",
    "        raw_df_copy = raw_df.iloc[:, 0:2].copy()\n",
    "        summary_df_copy = summary_df.iloc[:, 0:6].copy()\n",
    "        summary_df_copy['text'] = summary_df_copy['author'].str.cat(summary_df_copy['date'].str.cat(\n",
    "            summary_df_copy['read_more'].str.cat(summary_df_copy['text'].str.cat(summary_df_copy['ctext'], sep=\" \"),\n",
    "                                                 sep=\" \"), sep=\" \"), sep=\" \")\n",
    "\n",
    "        data = pd.DataFrame()\n",
    "        data['text'] = pd.concat([raw_df_copy['text'], summary_df_copy['text']], ignore_index=True)\n",
    "        data['summary'] = pd.concat([raw_df_copy['headlines'], summary_df_copy['headlines']], ignore_index=True)\n",
    "\n",
    "        self.data = data\n",
    "        return self.data\n",
    "\n",
    "    def replace_contractions(self, text):\n",
    "        def replace(match):\n",
    "            return contraction_mapping[match.group(0)]\n",
    "\n",
    "        return re.sub(\"|\".join(contraction_mapping.keys()), replace, text)\n",
    "\n",
    "    def clean_text(self, _column):\n",
    "        for row in _column:\n",
    "            row = re.sub(\"(\\\\t)\", ' ', str(row)).lower()  #remove escape charecters\n",
    "            row = re.sub(\"(\\\\r)\", ' ', str(row)).lower()\n",
    "            row = re.sub(\"(\\\\n)\", ' ', str(row)).lower()\n",
    "\n",
    "            row = re.sub(\"(__+)\", ' ', str(row)).lower()  #remove _ if it occors more than one time consecutively\n",
    "            row = re.sub(\"(--+)\", ' ', str(row)).lower()  #remove - if it occors more than one time consecutively\n",
    "            row = re.sub(\"(~~+)\", ' ', str(row)).lower()  #remove ~ if it occors more than one time consecutively\n",
    "            row = re.sub(\"(\\+\\++)\", ' ', str(row)).lower()  #remove + if it occors more than one time consecutively\n",
    "            row = re.sub(\"(\\.\\.+)\", ' ', str(row)).lower()  #remove . if it occors more than one time consecutively\n",
    "\n",
    "            row = re.sub(r\"[<>()|&©ø\\[\\]\\'\\\",;?~*!]\", ' ', str(row)).lower()  #remove <>()|&©ø\"',;?~*!\n",
    "\n",
    "            row = re.sub(\"(mailto:)\", ' ', str(row)).lower()  #remove mailto:\n",
    "            row = re.sub(r\"(\\\\x9\\d)\", ' ', str(row)).lower()  #remove \\x9* in text\n",
    "            row = re.sub(\"([iI][nN][cC]\\d+)\", 'INC_NUM', str(row)).lower()  #replace INC nums to INC_NUM\n",
    "            row = re.sub(\"([cC][mM]\\d+)|([cC][hH][gG]\\d+)\", 'CM_NUM', str(row)).lower()  #replace CM# and CHG# to CM_NUM\n",
    "\n",
    "            row = re.sub(\"(\\.\\s+)\", ' ', str(row)).lower()  #remove full stop at end of words(not between)\n",
    "            row = re.sub(\"(\\-\\s+)\", ' ', str(row)).lower()  #remove - at end of words(not between)\n",
    "            row = re.sub(\"(\\:\\s+)\", ' ', str(row)).lower()  #remove : at end of words(not between)\n",
    "\n",
    "            row = re.sub(\"(\\s+.\\s+)\", ' ', str(row)).lower()  #remove any single charecters hanging between 2 spaces\n",
    "\n",
    "            #Replace any url as such https://abc.xyz.net/browse/sdf-5327 ====> abc.xyz.net\n",
    "            try:\n",
    "                url = re.search(r'((https*:\\/*)([^\\/\\s]+))(.[^\\s]+)', str(row))\n",
    "                repl_url = url.group(3)\n",
    "                row = re.sub(r'((https*:\\/*)([^\\/\\s]+))(.[^\\s]+)', repl_url, str(row))\n",
    "            except Exception:\n",
    "                pass  #there might be emails with no url in them\n",
    "\n",
    "            row = re.sub(\"(\\s+)\", ' ', str(row)).lower()  #remove multiple spaces\n",
    "\n",
    "            yield re.sub(\"(\\s+.\\s+)\", ' ', str(row)).lower()\n",
    "\n",
    "    def split_data(self, data):\n",
    "        x_train, x_val, y_train, y_val = train_test_split(data['text'], data['summary'], test_size=0.1, random_state=0,\n",
    "                                                          shuffle=True)\n",
    "        return x_train, x_val, y_train, y_val"
   ]
  },
  {
   "cell_type": "code",
   "execution_count": 5,
   "metadata": {},
   "outputs": [
    {
     "name": "stdout",
     "output_type": "stream",
     "text": [
      "Loading the summary dataset...\n",
      "Summary CSV loaded successfully.\n",
      "\n",
      "Loading the raw dataset...\n",
      "Raw CSV loaded successfully.\n"
     ]
    }
   ],
   "source": [
    "preprocessor = DataPreprocessor()\n",
    "df = preprocessor.load_data()"
   ]
  },
  {
   "cell_type": "code",
   "execution_count": 6,
   "metadata": {},
   "outputs": [
    {
     "data": {
      "text/plain": [
       "Index(['text', 'summary'], dtype='object')"
      ]
     },
     "execution_count": 6,
     "metadata": {},
     "output_type": "execute_result"
    }
   ],
   "source": [
    "df.columns"
   ]
  },
  {
   "cell_type": "markdown",
   "metadata": {},
   "source": [
    "### Data Exploration"
   ]
  },
  {
   "cell_type": "code",
   "execution_count": 7,
   "metadata": {},
   "outputs": [
    {
     "data": {
      "text/html": [
       "<div>\n",
       "<style scoped>\n",
       "    .dataframe tbody tr th:only-of-type {\n",
       "        vertical-align: middle;\n",
       "    }\n",
       "\n",
       "    .dataframe tbody tr th {\n",
       "        vertical-align: top;\n",
       "    }\n",
       "\n",
       "    .dataframe thead th {\n",
       "        text-align: right;\n",
       "    }\n",
       "</style>\n",
       "<table border=\"1\" class=\"dataframe\">\n",
       "  <thead>\n",
       "    <tr style=\"text-align: right;\">\n",
       "      <th></th>\n",
       "      <th>text</th>\n",
       "      <th>summary</th>\n",
       "    </tr>\n",
       "  </thead>\n",
       "  <tbody>\n",
       "    <tr>\n",
       "      <th>0</th>\n",
       "      <td>Saurav Kant, an alumnus of upGrad and IIIT-B's PG Program in Machine learning and Artificial Intelligence, was a Sr Systems Engineer at Infosys with almost 5 years of work experience. The program ...</td>\n",
       "      <td>upGrad learner switches to career in ML &amp; Al with 90% salary hike</td>\n",
       "    </tr>\n",
       "    <tr>\n",
       "      <th>1</th>\n",
       "      <td>Kunal Shah's credit card bill payment platform, CRED, gave users a chance to win free food from Swiggy for one year. Pranav Kaushik, a Delhi techie, bagged this reward after spending 2000 CRED coi...</td>\n",
       "      <td>Delhi techie wins free food from Swiggy for one year on CRED</td>\n",
       "    </tr>\n",
       "  </tbody>\n",
       "</table>\n",
       "</div>"
      ],
      "text/plain": [
       "                                                                                                                                                                                                      text  \\\n",
       "0  Saurav Kant, an alumnus of upGrad and IIIT-B's PG Program in Machine learning and Artificial Intelligence, was a Sr Systems Engineer at Infosys with almost 5 years of work experience. The program ...   \n",
       "1  Kunal Shah's credit card bill payment platform, CRED, gave users a chance to win free food from Swiggy for one year. Pranav Kaushik, a Delhi techie, bagged this reward after spending 2000 CRED coi...   \n",
       "\n",
       "                                                             summary  \n",
       "0  upGrad learner switches to career in ML & Al with 90% salary hike  \n",
       "1       Delhi techie wins free food from Swiggy for one year on CRED  "
      ]
     },
     "execution_count": 7,
     "metadata": {},
     "output_type": "execute_result"
    }
   ],
   "source": [
    "df.head(2)"
   ]
  },
  {
   "cell_type": "code",
   "execution_count": 8,
   "metadata": {},
   "outputs": [
    {
     "data": {
      "text/plain": [
       "0    Saurav Kant, an alumnus of upGrad and IIIT-B's PG Program in Machine learning and Artificial Intelligence, was a Sr Systems Engineer at Infosys with almost 5 years of work experience. The program ...\n",
       "1    Kunal Shah's credit card bill payment platform, CRED, gave users a chance to win free food from Swiggy for one year. Pranav Kaushik, a Delhi techie, bagged this reward after spending 2000 CRED coi...\n",
       "2    New Zealand defeated India by 8 wickets in the fourth ODI at Hamilton on Thursday to win their first match of the five-match ODI series. India lost an international match under Rohit Sharma's capt...\n",
       "3    With Aegon Life iTerm Insurance plan, customers can enjoy tax benefits on your premiums paid and save up to Ã¢ÂÂ¹46,800^ on taxes. The plan provides life cover up to the age of 100 years. Also, c...\n",
       "4    Speaking about the sexual harassment allegations against Rajkumar Hirani, Sonam Kapoor said, \"I've known Hirani for many years...What if it's not true, the [#MeToo] movement will get derailed.\" \"I...\n",
       "5    Pakistani singer Rahat Fateh Ali Khan has denied receiving any notice from the Enforcement Directorate over allegedly smuggling foreign currency out of India. \"It would have been better if the aut...\n",
       "6    India recorded their lowest ODI total in New Zealand after getting all out for 92 runs in 30.5 overs in the fourth ODI at Hamilton on Thursday. Seven of India's batsmen were dismissed for single-d...\n",
       "7    Weeks after ex-CBI Director Alok Verma told the Department of Personnel and Training to consider him retired, the Home Ministry asked him to join work on the last day of his fixed tenure as Direct...\n",
       "8    Andhra Pradesh CM N Chandrababu Naidu has said, \"When I met then US President Bill Clinton, I addressed him as Mr Clinton, not as 'sir'. (PM Narendra) Modi is my junior in politics...I addressed h...\n",
       "9    Congress candidate Shafia Zubair won the Ramgarh Assembly seat in Rajasthan, by defeating BJP's Sukhwant Singh with a margin of 12,228 votes in the bypoll. With this victory, Congress has taken it...\n",
       "Name: text, dtype: object"
      ]
     },
     "execution_count": 8,
     "metadata": {},
     "output_type": "execute_result"
    }
   ],
   "source": [
    "df['text'][:10]"
   ]
  },
  {
   "cell_type": "code",
   "execution_count": 9,
   "metadata": {},
   "outputs": [],
   "source": [
    "df['text'] = df['text'].apply(str).apply(preprocessor.replace_contractions)\n",
    "df['summary'] = df['summary'].apply(str).apply(preprocessor.replace_contractions)"
   ]
  },
  {
   "cell_type": "code",
   "execution_count": 10,
   "metadata": {},
   "outputs": [],
   "source": [
    "text_data = preprocessor.clean_text(df['text'])\n",
    "summary_data = preprocessor.clean_text(df['summary'])"
   ]
  },
  {
   "cell_type": "code",
   "execution_count": 11,
   "metadata": {},
   "outputs": [],
   "source": [
    "# from time import time\n",
    "# import spacy\n",
    "\n",
    "# # disabling Named Entity Recognition for speed\n",
    "# nlp = spacy.load('en_core_web_sm', disable=['ner', 'parser'])\n",
    "\n",
    "# t = time()\n",
    "\n",
    "# # Batch the data points into 5000 and run on all cores for faster preprocessing\n",
    "# text_column = [str(doc) for doc in nlp.pipe(text_data, batch_size=5000, n_process=-1)]\n",
    "\n",
    "# # Takes 7-8 mins\n",
    "# print(f'Time to clean up everything: {round((time() - t) / 60, 2)} mins')"
   ]
  },
  {
   "cell_type": "code",
   "execution_count": 12,
   "metadata": {},
   "outputs": [],
   "source": [
    "# #Taking advantage of spaCy .pipe() method to speed-up the cleaning process:\n",
    "\n",
    "\n",
    "# t = time()\n",
    "\n",
    "# # Batch the data points into 5000 and run on all cores for faster preprocessing\n",
    "# summary_column = [\n",
    "#     f'_START_ {str(doc)} _END_'\n",
    "#     for doc in nlp.pipe(summary_data, batch_size=5000, n_process=-1)\n",
    "# ]\n",
    "\n",
    "# print(f'Time to clean up everything: {round((time() - t) / 60, 2)} mins')"
   ]
  },
  {
   "cell_type": "code",
   "execution_count": 13,
   "metadata": {},
   "outputs": [],
   "source": [
    "# text_column[0]"
   ]
  },
  {
   "cell_type": "code",
   "execution_count": 14,
   "metadata": {},
   "outputs": [],
   "source": [
    "# summary_column[0]"
   ]
  },
  {
   "cell_type": "code",
   "execution_count": 15,
   "metadata": {},
   "outputs": [],
   "source": [
    "df['cleaned_text'] = pd.Series(text_data)\n",
    "df['cleaned_summary'] = pd.Series(summary_data)"
   ]
  },
  {
   "cell_type": "code",
   "execution_count": 16,
   "metadata": {},
   "outputs": [
    {
     "data": {
      "text/html": [
       "<div>\n",
       "<style scoped>\n",
       "    .dataframe tbody tr th:only-of-type {\n",
       "        vertical-align: middle;\n",
       "    }\n",
       "\n",
       "    .dataframe tbody tr th {\n",
       "        vertical-align: top;\n",
       "    }\n",
       "\n",
       "    .dataframe thead th {\n",
       "        text-align: right;\n",
       "    }\n",
       "</style>\n",
       "<table border=\"1\" class=\"dataframe\">\n",
       "  <thead>\n",
       "    <tr style=\"text-align: right;\">\n",
       "      <th></th>\n",
       "      <th>text</th>\n",
       "      <th>summary</th>\n",
       "      <th>cleaned_text</th>\n",
       "      <th>cleaned_summary</th>\n",
       "    </tr>\n",
       "  </thead>\n",
       "  <tbody>\n",
       "    <tr>\n",
       "      <th>0</th>\n",
       "      <td>Saurav Kant, an alumnus of upGrad and IIIT-B's PG Program in Machine learning and Artificial Intelligence, was a Sr Systems Engineer at Infosys with almost 5 years of work experience. The program ...</td>\n",
       "      <td>upGrad learner switches to career in ML &amp; Al with 90% salary hike</td>\n",
       "      <td>saurav kant an alumnus of upgrad and iiit-b pg program in machine learning and artificial intelligence was sr systems engineer at infosys with almost years of work experience the program and upgra...</td>\n",
       "      <td>upgrad learner switches to career in ml al with 90% salary hike</td>\n",
       "    </tr>\n",
       "    <tr>\n",
       "      <th>1</th>\n",
       "      <td>Kunal Shah's credit card bill payment platform, CRED, gave users a chance to win free food from Swiggy for one year. Pranav Kaushik, a Delhi techie, bagged this reward after spending 2000 CRED coi...</td>\n",
       "      <td>Delhi techie wins free food from Swiggy for one year on CRED</td>\n",
       "      <td>kunal shah credit card bill payment platform cred gave users chance to win free food from swiggy for one year pranav kaushik delhi techie bagged this reward after spending 2000 cred coins users ge...</td>\n",
       "      <td>delhi techie wins free food from swiggy for one year on cred</td>\n",
       "    </tr>\n",
       "    <tr>\n",
       "      <th>2</th>\n",
       "      <td>New Zealand defeated India by 8 wickets in the fourth ODI at Hamilton on Thursday to win their first match of the five-match ODI series. India lost an international match under Rohit Sharma's capt...</td>\n",
       "      <td>New Zealand end Rohit Sharma-led India's 12-match winning streak</td>\n",
       "      <td>new zealand defeated india by wickets in the fourth odi at hamilton on thursday to win their first match of the five-match odi series india lost an international match under rohit sharma captaincy...</td>\n",
       "      <td>new zealand end rohit sharma-led india 12-match winning streak</td>\n",
       "    </tr>\n",
       "    <tr>\n",
       "      <th>3</th>\n",
       "      <td>With Aegon Life iTerm Insurance plan, customers can enjoy tax benefits on your premiums paid and save up to Ã¢ÂÂ¹46,800^ on taxes. The plan provides life cover up to the age of 100 years. Also, c...</td>\n",
       "      <td>Aegon life iTerm insurance plan helps customers save tax</td>\n",
       "      <td>with aegon life iterm insurance plan customers can enjoy tax benefits on your premiums paid and save up to ã¢ââ¹46 800^ on taxes the plan provides life cover up to the age of 100 years also custo...</td>\n",
       "      <td>aegon life iterm insurance plan helps customers save tax</td>\n",
       "    </tr>\n",
       "    <tr>\n",
       "      <th>4</th>\n",
       "      <td>Speaking about the sexual harassment allegations against Rajkumar Hirani, Sonam Kapoor said, \"I have known Hirani for many years...What if it is not true, the [#MeToo] movement will get derailed.\"...</td>\n",
       "      <td>Have known Hirani for yrs, what if MeToo claims are not true: Sonam</td>\n",
       "      <td>speaking about the sexual harassment allegations against rajkumar hirani sonam kapoor said have known hirani for many years what if it is not true the #metoo movement will get derailed in the #met...</td>\n",
       "      <td>have known hirani for yrs what if metoo claims are not true sonam</td>\n",
       "    </tr>\n",
       "  </tbody>\n",
       "</table>\n",
       "</div>"
      ],
      "text/plain": [
       "                                                                                                                                                                                                      text  \\\n",
       "0  Saurav Kant, an alumnus of upGrad and IIIT-B's PG Program in Machine learning and Artificial Intelligence, was a Sr Systems Engineer at Infosys with almost 5 years of work experience. The program ...   \n",
       "1  Kunal Shah's credit card bill payment platform, CRED, gave users a chance to win free food from Swiggy for one year. Pranav Kaushik, a Delhi techie, bagged this reward after spending 2000 CRED coi...   \n",
       "2  New Zealand defeated India by 8 wickets in the fourth ODI at Hamilton on Thursday to win their first match of the five-match ODI series. India lost an international match under Rohit Sharma's capt...   \n",
       "3  With Aegon Life iTerm Insurance plan, customers can enjoy tax benefits on your premiums paid and save up to Ã¢ÂÂ¹46,800^ on taxes. The plan provides life cover up to the age of 100 years. Also, c...   \n",
       "4  Speaking about the sexual harassment allegations against Rajkumar Hirani, Sonam Kapoor said, \"I have known Hirani for many years...What if it is not true, the [#MeToo] movement will get derailed.\"...   \n",
       "\n",
       "                                                               summary  \\\n",
       "0    upGrad learner switches to career in ML & Al with 90% salary hike   \n",
       "1         Delhi techie wins free food from Swiggy for one year on CRED   \n",
       "2     New Zealand end Rohit Sharma-led India's 12-match winning streak   \n",
       "3             Aegon life iTerm insurance plan helps customers save tax   \n",
       "4  Have known Hirani for yrs, what if MeToo claims are not true: Sonam   \n",
       "\n",
       "                                                                                                                                                                                              cleaned_text  \\\n",
       "0  saurav kant an alumnus of upgrad and iiit-b pg program in machine learning and artificial intelligence was sr systems engineer at infosys with almost years of work experience the program and upgra...   \n",
       "1  kunal shah credit card bill payment platform cred gave users chance to win free food from swiggy for one year pranav kaushik delhi techie bagged this reward after spending 2000 cred coins users ge...   \n",
       "2  new zealand defeated india by wickets in the fourth odi at hamilton on thursday to win their first match of the five-match odi series india lost an international match under rohit sharma captaincy...   \n",
       "3  with aegon life iterm insurance plan customers can enjoy tax benefits on your premiums paid and save up to ã¢ââ¹46 800^ on taxes the plan provides life cover up to the age of 100 years also custo...   \n",
       "4  speaking about the sexual harassment allegations against rajkumar hirani sonam kapoor said have known hirani for many years what if it is not true the #metoo movement will get derailed in the #met...   \n",
       "\n",
       "                                                     cleaned_summary  \n",
       "0    upgrad learner switches to career in ml al with 90% salary hike  \n",
       "1       delhi techie wins free food from swiggy for one year on cred  \n",
       "2     new zealand end rohit sharma-led india 12-match winning streak  \n",
       "3           aegon life iterm insurance plan helps customers save tax  \n",
       "4  have known hirani for yrs what if metoo claims are not true sonam  "
      ]
     },
     "execution_count": 16,
     "metadata": {},
     "output_type": "execute_result"
    }
   ],
   "source": [
    "df.head()"
   ]
  },
  {
   "cell_type": "code",
   "execution_count": 17,
   "metadata": {},
   "outputs": [],
   "source": [
    "# df.to_csv('./cleaned_summary.csv')"
   ]
  },
  {
   "cell_type": "code",
   "execution_count": 18,
   "metadata": {},
   "outputs": [],
   "source": [
    "# Select the Summaries and Text between max_len defined above\n",
    "\n",
    "cleaned_text = np.array(df['cleaned_text'])\n",
    "cleaned_summary = np.array(df['cleaned_summary'])\n",
    "\n",
    "short_text = []\n",
    "short_summary = []\n",
    "\n",
    "for i in range(len(cleaned_text)):\n",
    "    if (len(cleaned_summary[i].split()) <= preprocessor.max_summary_len and len(\n",
    "            cleaned_text[i].split()) <= preprocessor.max_text_len):\n",
    "        short_text.append(cleaned_text[i])\n",
    "        short_summary.append(cleaned_summary[i])\n",
    "\n",
    "new_df = pd.DataFrame({\n",
    "    'text': short_text,\n",
    "    'summary': short_summary\n",
    "})"
   ]
  },
  {
   "cell_type": "code",
   "execution_count": 19,
   "metadata": {},
   "outputs": [
    {
     "data": {
      "text/html": [
       "<div>\n",
       "<style scoped>\n",
       "    .dataframe tbody tr th:only-of-type {\n",
       "        vertical-align: middle;\n",
       "    }\n",
       "\n",
       "    .dataframe tbody tr th {\n",
       "        vertical-align: top;\n",
       "    }\n",
       "\n",
       "    .dataframe thead th {\n",
       "        text-align: right;\n",
       "    }\n",
       "</style>\n",
       "<table border=\"1\" class=\"dataframe\">\n",
       "  <thead>\n",
       "    <tr style=\"text-align: right;\">\n",
       "      <th></th>\n",
       "      <th>text</th>\n",
       "      <th>summary</th>\n",
       "    </tr>\n",
       "  </thead>\n",
       "  <tbody>\n",
       "    <tr>\n",
       "      <th>0</th>\n",
       "      <td>saurav kant an alumnus of upgrad and iiit-b pg program in machine learning and artificial intelligence was sr systems engineer at infosys with almost years of work experience the program and upgra...</td>\n",
       "      <td>upgrad learner switches to career in ml al with 90% salary hike</td>\n",
       "    </tr>\n",
       "    <tr>\n",
       "      <th>1</th>\n",
       "      <td>kunal shah credit card bill payment platform cred gave users chance to win free food from swiggy for one year pranav kaushik delhi techie bagged this reward after spending 2000 cred coins users ge...</td>\n",
       "      <td>delhi techie wins free food from swiggy for one year on cred</td>\n",
       "    </tr>\n",
       "    <tr>\n",
       "      <th>2</th>\n",
       "      <td>new zealand defeated india by wickets in the fourth odi at hamilton on thursday to win their first match of the five-match odi series india lost an international match under rohit sharma captaincy...</td>\n",
       "      <td>new zealand end rohit sharma-led india 12-match winning streak</td>\n",
       "    </tr>\n",
       "    <tr>\n",
       "      <th>3</th>\n",
       "      <td>with aegon life iterm insurance plan customers can enjoy tax benefits on your premiums paid and save up to ã¢ââ¹46 800^ on taxes the plan provides life cover up to the age of 100 years also custo...</td>\n",
       "      <td>aegon life iterm insurance plan helps customers save tax</td>\n",
       "    </tr>\n",
       "    <tr>\n",
       "      <th>4</th>\n",
       "      <td>speaking about the sexual harassment allegations against rajkumar hirani sonam kapoor said have known hirani for many years what if it is not true the #metoo movement will get derailed in the #met...</td>\n",
       "      <td>have known hirani for yrs what if metoo claims are not true sonam</td>\n",
       "    </tr>\n",
       "  </tbody>\n",
       "</table>\n",
       "</div>"
      ],
      "text/plain": [
       "                                                                                                                                                                                                      text  \\\n",
       "0  saurav kant an alumnus of upgrad and iiit-b pg program in machine learning and artificial intelligence was sr systems engineer at infosys with almost years of work experience the program and upgra...   \n",
       "1  kunal shah credit card bill payment platform cred gave users chance to win free food from swiggy for one year pranav kaushik delhi techie bagged this reward after spending 2000 cred coins users ge...   \n",
       "2  new zealand defeated india by wickets in the fourth odi at hamilton on thursday to win their first match of the five-match odi series india lost an international match under rohit sharma captaincy...   \n",
       "3  with aegon life iterm insurance plan customers can enjoy tax benefits on your premiums paid and save up to ã¢ââ¹46 800^ on taxes the plan provides life cover up to the age of 100 years also custo...   \n",
       "4  speaking about the sexual harassment allegations against rajkumar hirani sonam kapoor said have known hirani for many years what if it is not true the #metoo movement will get derailed in the #met...   \n",
       "\n",
       "                                                             summary  \n",
       "0    upgrad learner switches to career in ml al with 90% salary hike  \n",
       "1       delhi techie wins free food from swiggy for one year on cred  \n",
       "2     new zealand end rohit sharma-led india 12-match winning streak  \n",
       "3           aegon life iterm insurance plan helps customers save tax  \n",
       "4  have known hirani for yrs what if metoo claims are not true sonam  "
      ]
     },
     "execution_count": 19,
     "metadata": {},
     "output_type": "execute_result"
    }
   ],
   "source": [
    "new_df.head()"
   ]
  },
  {
   "cell_type": "code",
   "execution_count": 20,
   "metadata": {},
   "outputs": [],
   "source": [
    "# Add sostok and eostok at \n",
    "new_df['summary'] = new_df['summary'].apply(lambda x: f'sostok {x} eostok')"
   ]
  },
  {
   "cell_type": "code",
   "execution_count": 21,
   "metadata": {},
   "outputs": [
    {
     "data": {
      "text/html": [
       "<div>\n",
       "<style scoped>\n",
       "    .dataframe tbody tr th:only-of-type {\n",
       "        vertical-align: middle;\n",
       "    }\n",
       "\n",
       "    .dataframe tbody tr th {\n",
       "        vertical-align: top;\n",
       "    }\n",
       "\n",
       "    .dataframe thead th {\n",
       "        text-align: right;\n",
       "    }\n",
       "</style>\n",
       "<table border=\"1\" class=\"dataframe\">\n",
       "  <thead>\n",
       "    <tr style=\"text-align: right;\">\n",
       "      <th></th>\n",
       "      <th>text</th>\n",
       "      <th>summary</th>\n",
       "    </tr>\n",
       "  </thead>\n",
       "  <tbody>\n",
       "    <tr>\n",
       "      <th>0</th>\n",
       "      <td>saurav kant an alumnus of upgrad and iiit-b pg program in machine learning and artificial intelligence was sr systems engineer at infosys with almost years of work experience the program and upgra...</td>\n",
       "      <td>sostok upgrad learner switches to career in ml al with 90% salary hike eostok</td>\n",
       "    </tr>\n",
       "    <tr>\n",
       "      <th>1</th>\n",
       "      <td>kunal shah credit card bill payment platform cred gave users chance to win free food from swiggy for one year pranav kaushik delhi techie bagged this reward after spending 2000 cred coins users ge...</td>\n",
       "      <td>sostok delhi techie wins free food from swiggy for one year on cred eostok</td>\n",
       "    </tr>\n",
       "    <tr>\n",
       "      <th>2</th>\n",
       "      <td>new zealand defeated india by wickets in the fourth odi at hamilton on thursday to win their first match of the five-match odi series india lost an international match under rohit sharma captaincy...</td>\n",
       "      <td>sostok new zealand end rohit sharma-led india 12-match winning streak eostok</td>\n",
       "    </tr>\n",
       "    <tr>\n",
       "      <th>3</th>\n",
       "      <td>with aegon life iterm insurance plan customers can enjoy tax benefits on your premiums paid and save up to ã¢ââ¹46 800^ on taxes the plan provides life cover up to the age of 100 years also custo...</td>\n",
       "      <td>sostok aegon life iterm insurance plan helps customers save tax eostok</td>\n",
       "    </tr>\n",
       "    <tr>\n",
       "      <th>4</th>\n",
       "      <td>speaking about the sexual harassment allegations against rajkumar hirani sonam kapoor said have known hirani for many years what if it is not true the #metoo movement will get derailed in the #met...</td>\n",
       "      <td>sostok have known hirani for yrs what if metoo claims are not true sonam eostok</td>\n",
       "    </tr>\n",
       "  </tbody>\n",
       "</table>\n",
       "</div>"
      ],
      "text/plain": [
       "                                                                                                                                                                                                      text  \\\n",
       "0  saurav kant an alumnus of upgrad and iiit-b pg program in machine learning and artificial intelligence was sr systems engineer at infosys with almost years of work experience the program and upgra...   \n",
       "1  kunal shah credit card bill payment platform cred gave users chance to win free food from swiggy for one year pranav kaushik delhi techie bagged this reward after spending 2000 cred coins users ge...   \n",
       "2  new zealand defeated india by wickets in the fourth odi at hamilton on thursday to win their first match of the five-match odi series india lost an international match under rohit sharma captaincy...   \n",
       "3  with aegon life iterm insurance plan customers can enjoy tax benefits on your premiums paid and save up to ã¢ââ¹46 800^ on taxes the plan provides life cover up to the age of 100 years also custo...   \n",
       "4  speaking about the sexual harassment allegations against rajkumar hirani sonam kapoor said have known hirani for many years what if it is not true the #metoo movement will get derailed in the #met...   \n",
       "\n",
       "                                                                           summary  \n",
       "0    sostok upgrad learner switches to career in ml al with 90% salary hike eostok  \n",
       "1       sostok delhi techie wins free food from swiggy for one year on cred eostok  \n",
       "2     sostok new zealand end rohit sharma-led india 12-match winning streak eostok  \n",
       "3           sostok aegon life iterm insurance plan helps customers save tax eostok  \n",
       "4  sostok have known hirani for yrs what if metoo claims are not true sonam eostok  "
      ]
     },
     "execution_count": 21,
     "metadata": {},
     "output_type": "execute_result"
    }
   ],
   "source": [
    "new_df.head()"
   ]
  },
  {
   "cell_type": "markdown",
   "metadata": {},
   "source": [
    "**SEQ2SEQ MODEL BUILDING **"
   ]
  },
  {
   "cell_type": "markdown",
   "metadata": {},
   "source": [
    "Split the data to TRAIN and VALIDATION sets"
   ]
  },
  {
   "cell_type": "code",
   "execution_count": 22,
   "metadata": {},
   "outputs": [
    {
     "name": "stdout",
     "output_type": "stream",
     "text": [
      "x_tr.shape: 88715\n",
      "y_tr.shape: 88715\n",
      "x_val.shape: 9858\n",
      "y_val.shape: 9858\n"
     ]
    }
   ],
   "source": [
    "x_tr, x_val, y_tr, y_val = preprocessor.split_data(new_df)\n",
    "\n",
    "print(f'x_tr.shape: {x_tr.shape[0]}')\n",
    "print(f'y_tr.shape: {y_tr.shape[0]}')\n",
    "print(f'x_val.shape: {x_val.shape[0]}')\n",
    "print(f'y_val.shape: {y_val.shape[0]}')"
   ]
  },
  {
   "cell_type": "code",
   "execution_count": 23,
   "metadata": {},
   "outputs": [],
   "source": [
    "# Lets tokenize the text to get the vocab count\n",
    "\n",
    "# prepare a tokenizer for reviews on training data\n",
    "x_tokenizer = Tokenizer()\n",
    "x_tokenizer.fit_on_texts(list(x_tr))"
   ]
  },
  {
   "cell_type": "markdown",
   "metadata": {},
   "source": [
    "**RARE WORD ANALYSIS FOR X i.e 'text'**\n",
    "* tot_cnt gives the size of vocabulary (which means every unique words in the text)\n",
    "\n",
    "* cnt gives me the no. of rare words whose count falls below threshold\n",
    "\n",
    "* tot_cnt - cnt gives me the top most common words"
   ]
  },
  {
   "cell_type": "code",
   "execution_count": 24,
   "metadata": {},
   "outputs": [],
   "source": [
    "def find_text_frequency_count(tokenized_text, threshold):\n",
    "    # Initialize count and frequency for words below the threshold\n",
    "    count = 0\n",
    "    frequency = 0\n",
    "\n",
    "    # Calculate total count of words and their total frequency\n",
    "    total_count = len(tokenized_text.word_counts)\n",
    "    total_frequency = 0\n",
    "\n",
    "    # Iterate through the word counts\n",
    "    for value in tokenized_text.word_counts.values():\n",
    "        total_frequency += value\n",
    "\n",
    "        # Check if the word count is below the threshold\n",
    "        if value < threshold:\n",
    "            count += 1\n",
    "            frequency += value\n",
    "\n",
    "    # Return the results\n",
    "    return count, total_count, frequency, total_frequency"
   ]
  },
  {
   "cell_type": "code",
   "execution_count": 25,
   "metadata": {},
   "outputs": [],
   "source": [
    "#prepare a tokenizer for reviews on training data\n",
    "y_tokenizer = Tokenizer()\n",
    "y_tokenizer.fit_on_texts(list(y_tr))"
   ]
  },
  {
   "cell_type": "code",
   "execution_count": 26,
   "metadata": {},
   "outputs": [
    {
     "name": "stdout",
     "output_type": "stream",
     "text": [
      "Rare vocabulary words in train dataset: 57.91%\n",
      "Rare words total Coverage in train dataset: 1.34\n"
     ]
    }
   ],
   "source": [
    "count, total_count, frequency, total_frequency = find_text_frequency_count(x_tokenizer, 4)\n",
    "\n",
    "print(f\"Rare vocabulary words in train dataset: {round((count / total_count) * 100, 2)}%\")\n",
    "print(f\"Rare words total Coverage in train dataset: {round((frequency / total_frequency) * 100, 2)}\")"
   ]
  },
  {
   "cell_type": "code",
   "execution_count": 27,
   "metadata": {},
   "outputs": [
    {
     "data": {
      "text/plain": [
       "(45958, 79357, 68802, 5153577)"
      ]
     },
     "execution_count": 27,
     "metadata": {},
     "output_type": "execute_result"
    }
   ],
   "source": [
    "count, total_count, frequency, total_frequency"
   ]
  },
  {
   "cell_type": "code",
   "execution_count": 28,
   "metadata": {},
   "outputs": [],
   "source": [
    "def tokenize_text(_train, _validate, num_words):\n",
    "    # prepare a tokenizer for reviews on training data\n",
    "    _tokenizer = Tokenizer(num_words=num_words)\n",
    "    _tokenizer.fit_on_texts(list(_train))\n",
    "\n",
    "    # convert text sequences into integer sequences\n",
    "    _train_seq = _tokenizer.texts_to_sequences(_train)\n",
    "    _validate_seq = _tokenizer.texts_to_sequences(_validate)\n",
    "\n",
    "    # padding zero upto maximum length\n",
    "    _train = pad_sequences(\n",
    "        _train_seq, maxlen=preprocessor.max_text_len, padding='post')\n",
    "    _validate = pad_sequences(\n",
    "        _validate_seq, maxlen=preprocessor.max_text_len, padding='post')\n",
    "\n",
    "    vocab_size = len(_tokenizer.word_index) + 1\n",
    "\n",
    "    return _train, _validate, vocab_size, _tokenizer"
   ]
  },
  {
   "cell_type": "code",
   "execution_count": 29,
   "metadata": {},
   "outputs": [
    {
     "name": "stdout",
     "output_type": "stream",
     "text": [
      "X vocabulary size is: 79358\n"
     ]
    }
   ],
   "source": [
    "# prepare a tokenizer for reviews on training data\n",
    "x_train, x_validate, x_vocab_size, x_tokenizer = tokenize_text(x_tr, x_val, total_count - count)\n",
    "\n",
    "print(f\"X vocabulary size is: {x_vocab_size}\")"
   ]
  },
  {
   "cell_type": "code",
   "execution_count": 30,
   "metadata": {},
   "outputs": [
    {
     "name": "stdout",
     "output_type": "stream",
     "text": [
      "Rare vocabulary words in test dataset: 66.36%\n",
      "Rare words total Coverage in test dataset: 4.16\n"
     ]
    }
   ],
   "source": [
    "count, total_count, frequency, total_frequency = find_text_frequency_count(y_tokenizer, threshold=6)\n",
    "\n",
    "print(f\"Rare vocabulary words in test dataset: {round((count / total_count) * 100, 2)}%\")\n",
    "print(f\"Rare words total Coverage in test dataset: {round((frequency / total_frequency) * 100, 2)}\")"
   ]
  },
  {
   "cell_type": "code",
   "execution_count": 31,
   "metadata": {},
   "outputs": [
    {
     "data": {
      "text/plain": [
       "(22846, 34425, 43150, 1037704)"
      ]
     },
     "execution_count": 31,
     "metadata": {},
     "output_type": "execute_result"
    }
   ],
   "source": [
    "count, total_count, frequency, total_frequency"
   ]
  },
  {
   "cell_type": "code",
   "execution_count": 32,
   "metadata": {},
   "outputs": [
    {
     "name": "stdout",
     "output_type": "stream",
     "text": [
      "Y vocabulary size is: 34426\n"
     ]
    }
   ],
   "source": [
    "# prepare a tokenizer for summary on training data\n",
    "y_train, y_validate, y_vocab_size, y_tokenizer = tokenize_text(y_tr, y_val, total_count - count)\n",
    "\n",
    "print(f\"Y vocabulary size is: {y_vocab_size}\")"
   ]
  },
  {
   "cell_type": "code",
   "execution_count": 33,
   "metadata": {},
   "outputs": [],
   "source": [
    "def remove_summary(_x_data, _y_data):\n",
    "    # Create a boolean mask for rows with exactly two non-zero elements\n",
    "    mask = np.array([np.count_nonzero(row) != 2 for row in _y_data])\n",
    "\n",
    "    # Use the mask to filter out the rows\n",
    "    _x_data = _x_data[mask]\n",
    "    _y_data = _y_data[mask]\n",
    "\n",
    "    return _x_data, _y_data"
   ]
  },
  {
   "cell_type": "code",
   "execution_count": 34,
   "metadata": {},
   "outputs": [],
   "source": [
    "x_train, y_train = remove_summary(x_train, y_train)\n",
    "x_validate, y_validate = remove_summary(x_validate, y_validate)"
   ]
  },
  {
   "cell_type": "code",
   "execution_count": 56,
   "metadata": {
    "jupyter": {
     "source_hidden": true
    }
   },
   "outputs": [],
   "source": [
    "class Seq2SeqModel:\n",
    "    def __init__(self, ):\n",
    "        self.latent_dim = 128\n",
    "        self.embedding_dim = 128\n",
    "        self.batch_size = 64\n",
    "        self.epochs = 15  # change to higher number 8 50\n",
    "        self.model = None\n",
    "        self.encoder_model = None\n",
    "        self.decoder_model = None\n",
    "        self.max_text_len = 100\n",
    "        self.max_summary_len = 15\n",
    "\n",
    "        self.encoder_inputs = None\n",
    "        self.encoder_outputs = None\n",
    "        self.decoder_inputs = None\n",
    "        self.decoder_outputs = None\n",
    "        self.dec_emb_layer = None\n",
    "        self.decoder_lstm = None\n",
    "        self.decoder_dense = None\n",
    "        self.state_h = None\n",
    "        self.state_c = None\n",
    "\n",
    "    def create_model(self, x_vocab_size, y_vocab_size):\n",
    "        # Encoder\n",
    "        self.encoder_inputs = Input(shape=(self.max_text_len,))\n",
    "\n",
    "        # embedding layer\n",
    "        enc_emb_layer = Embedding(x_vocab_size, self.embedding_dim, trainable=True)(self.encoder_inputs)\n",
    "\n",
    "        # encoder lstm 1\n",
    "        encoder_lstm1 = LSTM(self.latent_dim, return_sequences=True, return_state=True, dropout=0.4)  #,\n",
    "        #recurrent_dropout=0.4)\n",
    "        encoder_output1, state_h1, state_c1 = encoder_lstm1(enc_emb_layer)\n",
    "\n",
    "        # encoder lstm 2\n",
    "        encoder_lstm2 = LSTM(self.latent_dim, return_sequences=True, return_state=True, dropout=0.4)  #,\n",
    "        #recurrent_dropout=0.4)\n",
    "        encoder_output2, state_h2, state_c2 = encoder_lstm2(encoder_output1)\n",
    "\n",
    "        # encoder lstm 3\n",
    "        encoder_lstm3 = LSTM(self.latent_dim, return_state=True, return_sequences=True, dropout=0.4)  #,\n",
    "        #recurrent_dropout=0.4)\n",
    "        self.encoder_outputs, self.state_h, self.state_c = encoder_lstm3(encoder_output2)\n",
    "\n",
    "        # Set up the decoder, using `encoder_states` as initial state.\n",
    "        self.decoder_inputs = Input(shape=(None,))\n",
    "\n",
    "        # embedding layer\n",
    "        self.dec_emb_layer = Embedding(y_vocab_size, self.embedding_dim, trainable=True)\n",
    "        dec_emb = self.dec_emb_layer(self.decoder_inputs)\n",
    "\n",
    "        self.decoder_lstm = LSTM(self.latent_dim, return_sequences=True, return_state=True, dropout=0.4)  #,\n",
    "        #recurrent_dropout=0.2)\n",
    "        self.decoder_outputs, decoder_fwd_state, decoder_back_state = self.decoder_lstm(dec_emb,\n",
    "                                                                                        initial_state=[self.state_h,\n",
    "                                                                                                       self.state_c])\n",
    "\n",
    "        # dense layer\n",
    "        self.decoder_dense = TimeDistributed(Dense(y_vocab_size, activation='softmax'))\n",
    "        self.decoder_outputs = self.decoder_dense(self.decoder_outputs)\n",
    "\n",
    "        # Define the model \n",
    "        self.model = Model([self.encoder_inputs, self.decoder_inputs], self.decoder_outputs)\n",
    "\n",
    "        self.model.compile(optimizer=tf.keras.optimizers.RMSprop(learning_rate=0.0001),\n",
    "                           loss='sparse_categorical_crossentropy')\n",
    "        #'rmsprop'\n",
    "\n",
    "        self.get_model_summary()\n",
    "\n",
    "        return self.model\n",
    "\n",
    "    def encode_decoder(self, ):\n",
    "        # Encode the input sequence to get the feature vector\n",
    "        self.encoder_model = Model(inputs=self.encoder_inputs,\n",
    "                                   outputs=[self.encoder_outputs, self.state_h, self.state_c])\n",
    "\n",
    "        # Decoder setup\n",
    "        # Below tensors will hold the states of the previous time step\n",
    "        decoder_state_input_h = Input(shape=(self.latent_dim,))\n",
    "        decoder_state_input_c = Input(shape=(self.latent_dim,))\n",
    "        decoder_hidden_state_input = Input(shape=(self.max_text_len, self.latent_dim))\n",
    "\n",
    "        # Get the embeddings of the decoder sequence\n",
    "        dec_emb2 = self.dec_emb_layer(self.decoder_inputs)\n",
    "\n",
    "        # To predict the next word in the sequence, set the initial states to the states from the previous time step\n",
    "        decoder_outputs2, state_h2, state_c2 = self.decoder_lstm(dec_emb2, initial_state=[decoder_state_input_h,\n",
    "                                                                                          decoder_state_input_c])\n",
    "\n",
    "        # A dense softmax layer to generate prob dist. over the target vocabulary\n",
    "        decoder_outputs2 = self.decoder_dense(decoder_outputs2)\n",
    "\n",
    "        # Final decoder model\n",
    "        self.decoder_model = Model(\n",
    "            [self.decoder_inputs] + [decoder_hidden_state_input, decoder_state_input_h, decoder_state_input_c],\n",
    "            [decoder_outputs2] + [state_h2, state_c2]\n",
    "        )\n",
    "\n",
    "    def decode_sequence(self, input_seq, target_word_index, reverse_target_word_index):\n",
    "        # Encode the input as state vectors.\n",
    "        e_out, e_h, e_c = self.encoder_model.predict(input_seq)\n",
    "\n",
    "        # Generate empty target sequence of length 1.\n",
    "        target_seq = np.zeros((1, 1))\n",
    "\n",
    "        # Populate the first word of target sequence with the start word.\n",
    "        target_seq[0, 0] = target_word_index['sostok']\n",
    "\n",
    "        stop_condition = False\n",
    "        decoded_sentence = ''\n",
    "        while not stop_condition:\n",
    "            output_tokens, h, c = self.decoder_model.predict([target_seq] + [e_out, e_h, e_c])\n",
    "\n",
    "            # Sample a token\n",
    "            sampled_token_index = np.argmax(output_tokens[0, -1, :])\n",
    "            sampled_token = reverse_target_word_index[sampled_token_index]\n",
    "\n",
    "            if (sampled_token != 'eostok'):\n",
    "                decoded_sentence += f' {sampled_token}'\n",
    "\n",
    "            # Exit condition: either hit max length or find stop word.\n",
    "            if (sampled_token == 'eostok' or len(decoded_sentence.split()) >= (preprocessor.max_summary_len - 1)):\n",
    "                stop_condition = True\n",
    "\n",
    "            # Update the target sequence (of length 1).\n",
    "            target_seq = np.zeros((1, 1))\n",
    "            target_seq[0, 0] = sampled_token_index\n",
    "\n",
    "            # Update internal states\n",
    "            e_h, e_c = h, c\n",
    "\n",
    "        return decoded_sentence\n",
    "\n",
    "    def generate_summary(self, input_seq, target_word_index, reverse_target_word_index):\n",
    "        return ' '.join([reverse_target_word_index[i] for i in input_seq if\n",
    "                         i != 0 and i != target_word_index['sostok'] and i != target_word_index['eostok']])\n",
    "\n",
    "    def generate_text(self, input_seq, reverse_source_word_index):\n",
    "        return ' '.join([reverse_source_word_index[i] for i in input_seq if i != 0])\n",
    "\n",
    "    def get_model_summary(self):\n",
    "        return self.model.summary()\n",
    "\n",
    "    def plot(self, history):\n",
    "        plt.plot(history.history['loss'], label='train')\n",
    "        plt.plot(history.history['val_loss'], label='test')\n",
    "        plt.legend()\n",
    "        plt.show()\n",
    "\n",
    "    def save_model(self):\n",
    "        self.model.save('sequence_2_sequence.keras')\n",
    "        self.encoder_model.save('encoder_model.keras')\n",
    "        self.decoder_model.save('decoder_model.keras')\n",
    "        print('Model saved successfully...')\n",
    "\n",
    "    def train_model(self, _x_train, _y_train, _x_validate, _y_validate):\n",
    "        es = EarlyStopping(monitor='val_loss', mode='min', verbose=1, patience=4)\n",
    "\n",
    "        return self.model.fit(\n",
    "            [_x_train, _y_train[:, :-1]],\n",
    "            _y_train.reshape(_y_train.shape[0], _y_train.shape[1], 1)[:, 1:],\n",
    "            epochs=self.epochs,\n",
    "            callbacks=[es],\n",
    "            batch_size=self.batch_size,\n",
    "            validation_data=(\n",
    "                [_x_validate, _y_validate[:, :-1]],\n",
    "                _y_validate.reshape(_y_validate.shape[0], _y_validate.shape[1], 1)[:, 1:]\n",
    "            )\n",
    "        )\n"
   ]
  },
  {
   "cell_type": "code",
   "execution_count": 57,
   "metadata": {},
   "outputs": [
    {
     "name": "stdout",
     "output_type": "stream",
     "text": [
      "Model: \"model_4\"\n",
      "__________________________________________________________________________________________________\n",
      " Layer (type)                   Output Shape         Param #     Connected to                     \n",
      "==================================================================================================\n",
      " input_9 (InputLayer)           [(None, 100)]        0           []                               \n",
      "                                                                                                  \n",
      " embedding_8 (Embedding)        (None, 100, 128)     10157824    ['input_9[0][0]']                \n",
      "                                                                                                  \n",
      " lstm_16 (LSTM)                 [(None, 100, 128),   131584      ['embedding_8[0][0]']            \n",
      "                                 (None, 128),                                                     \n",
      "                                 (None, 128)]                                                     \n",
      "                                                                                                  \n",
      " input_10 (InputLayer)          [(None, None)]       0           []                               \n",
      "                                                                                                  \n",
      " lstm_17 (LSTM)                 [(None, 100, 128),   131584      ['lstm_16[0][0]']                \n",
      "                                 (None, 128),                                                     \n",
      "                                 (None, 128)]                                                     \n",
      "                                                                                                  \n",
      " embedding_9 (Embedding)        (None, None, 128)    4406528     ['input_10[0][0]']               \n",
      "                                                                                                  \n",
      " lstm_18 (LSTM)                 [(None, 100, 128),   131584      ['lstm_17[0][0]']                \n",
      "                                 (None, 128),                                                     \n",
      "                                 (None, 128)]                                                     \n",
      "                                                                                                  \n",
      " lstm_19 (LSTM)                 [(None, None, 128),  131584      ['embedding_9[0][0]',            \n",
      "                                 (None, 128),                     'lstm_18[0][1]',                \n",
      "                                 (None, 128)]                     'lstm_18[0][2]']                \n",
      "                                                                                                  \n",
      " time_distributed_4 (TimeDistri  (None, None, 34426)  4440954    ['lstm_19[0][0]']                \n",
      " buted)                                                                                           \n",
      "                                                                                                  \n",
      "==================================================================================================\n",
      "Total params: 19,531,642\n",
      "Trainable params: 19,531,642\n",
      "Non-trainable params: 0\n",
      "__________________________________________________________________________________________________\n"
     ]
    }
   ],
   "source": [
    "s2s_model = Seq2SeqModel()\n",
    "\n",
    "model = s2s_model.create_model(x_vocab_size, y_vocab_size)"
   ]
  },
  {
   "cell_type": "code",
   "execution_count": 58,
   "metadata": {},
   "outputs": [
    {
     "name": "stdout",
     "output_type": "stream",
     "text": [
      "TensorFlow version: 2.10.0\n",
      "Num GPUs Available: 1\n",
      "[PhysicalDevice(name='/physical_device:GPU:0', device_type='GPU')]\n"
     ]
    }
   ],
   "source": [
    "#Check that tensorflow is recognizing the GPU\n",
    "print(\"TensorFlow version:\", tf.__version__)\n",
    "print(\"Num GPUs Available:\", len(tf.config.list_physical_devices('GPU')))\n",
    "print(tf.config.list_physical_devices('GPU'))"
   ]
  },
  {
   "cell_type": "markdown",
   "metadata": {},
   "source": [
    "**Start training the model with the data**"
   ]
  },
  {
   "cell_type": "code",
   "execution_count": 59,
   "metadata": {},
   "outputs": [
    {
     "name": "stdout",
     "output_type": "stream",
     "text": [
      "Epoch 1/15\n",
      "1387/1387 [==============================] - 393s 279ms/step - loss: 2.1724 - val_loss: 0.7394\n",
      "Epoch 2/15\n",
      "1387/1387 [==============================] - 392s 282ms/step - loss: 0.7376 - val_loss: 0.7274\n",
      "Epoch 3/15\n",
      "1387/1387 [==============================] - 389s 280ms/step - loss: 0.7285 - val_loss: 0.7202\n",
      "Epoch 4/15\n",
      "1387/1387 [==============================] - 388s 280ms/step - loss: 0.7209 - val_loss: 0.7148\n",
      "Epoch 5/15\n",
      "1387/1387 [==============================] - 388s 280ms/step - loss: 0.7130 - val_loss: 0.7055\n",
      "Epoch 6/15\n",
      "1387/1387 [==============================] - 389s 280ms/step - loss: 0.7058 - val_loss: 0.6990\n",
      "Epoch 7/15\n",
      "1387/1387 [==============================] - 388s 280ms/step - loss: 0.6990 - val_loss: 0.6923\n",
      "Epoch 8/15\n",
      "1387/1387 [==============================] - 392s 282ms/step - loss: 0.6919 - val_loss: 0.6857\n",
      "Epoch 9/15\n",
      "1387/1387 [==============================] - 389s 281ms/step - loss: 0.6856 - val_loss: 0.6811\n",
      "Epoch 10/15\n",
      "1387/1387 [==============================] - 389s 281ms/step - loss: 0.6799 - val_loss: 0.6757\n",
      "Epoch 11/15\n",
      "1387/1387 [==============================] - 389s 281ms/step - loss: 0.6745 - val_loss: 0.6700\n",
      "Epoch 12/15\n",
      "1387/1387 [==============================] - 392s 282ms/step - loss: 0.6688 - val_loss: 0.6646\n",
      "Epoch 13/15\n",
      "1387/1387 [==============================] - 390s 281ms/step - loss: 0.6626 - val_loss: 0.6587\n",
      "Epoch 14/15\n",
      "1387/1387 [==============================] - 390s 281ms/step - loss: 0.6570 - val_loss: 0.6545\n",
      "Epoch 15/15\n",
      "1387/1387 [==============================] - 389s 281ms/step - loss: 0.6520 - val_loss: 0.6505\n"
     ]
    }
   ],
   "source": [
    "history = s2s_model.train_model(x_train, y_train, x_validate, y_validate)"
   ]
  },
  {
   "cell_type": "markdown",
   "metadata": {},
   "source": [
    "**Visualize the model learning**"
   ]
  },
  {
   "cell_type": "code",
   "execution_count": 154,
   "metadata": {
    "execution": {
     "iopub.execute_input": "2024-08-13T08:25:57.510094Z",
     "iopub.status.busy": "2024-08-13T08:25:57.509184Z",
     "iopub.status.idle": "2024-08-13T08:25:57.801135Z",
     "shell.execute_reply": "2024-08-13T08:25:57.800082Z",
     "shell.execute_reply.started": "2024-08-13T08:25:57.510059Z"
    }
   },
   "outputs": [
    {
     "data": {
      "image/png": "[encoded data removed]",
      "text/plain": [
       "<Figure size 640x480 with 1 Axes>"
      ]
     },
     "metadata": {},
     "output_type": "display_data"
    }
   ],
   "source": [
    "#plot of model at 5 epoch, latent_dim = 300, embedding_dim = 200, batch_size = 256\n",
    "s2s_model.plot(history)"
   ]
  },
  {
   "cell_type": "code",
   "execution_count": 55,
   "metadata": {},
   "outputs": [
    {
     "data": {
      "image/png": "[encoded data removed]",
      "text/plain": [
       "<Figure size 640x480 with 1 Axes>"
      ]
     },
     "metadata": {},
     "output_type": "display_data"
    }
   ],
   "source": [
    "#Run 2\n",
    "#plot of model at 15 epoch, latent_dim = 128, embedding_dim = 128, batch_size = 64,patience=2, removed recurrent_dropout=0.2\n",
    "plt.plot(history.history['loss'])\n",
    "plt.plot(history.history['val_loss'])\n",
    "plt.title('Model loss')\n",
    "plt.ylabel('Loss')\n",
    "plt.xlabel('Epoch')\n",
    "plt.legend(['Train', 'Validation'], loc='upper right')\n",
    "plt.show()\n",
    "\n",
    "# Plotting training & validation accuracy values\n",
    "#plt.plot(history.history['accuracy'])\n",
    "#plt.plot(history.history['val_accuracy'])\n",
    "#plt.title('Model accuracy')\n",
    "#plt.ylabel('Accuracy')\n",
    "#plt.xlabel('Epoch')\n",
    "#plt.legend(['Train', 'Validation'], loc='upper left')\n",
    "#plt.show()"
   ]
  },
  {
   "cell_type": "code",
   "execution_count": 60,
   "metadata": {},
   "outputs": [
    {
     "data": {
      "image/png": "[encoded data removed]",
      "text/plain": [
       "<Figure size 640x480 with 1 Axes>"
      ]
     },
     "metadata": {},
     "output_type": "display_data"
    }
   ],
   "source": [
    "#Run 3\n",
    "#plot of model at 15 epoch, latent_dim = 128, embedding_dim = 128, batch_size = 64,patience=4, removed recurrent_dropout=0.2, \n",
    "#included learning rate = 0.0001\n",
    "plt.plot(history.history['loss'])\n",
    "plt.plot(history.history['val_loss'])\n",
    "plt.title('Model loss')\n",
    "plt.ylabel('Loss')\n",
    "plt.xlabel('Epoch')\n",
    "plt.legend(['Train', 'Validation'], loc='upper right')\n",
    "plt.show()\n",
    "\n",
    "# Plotting training & validation accuracy values\n",
    "#plt.plot(history.history['accuracy'])\n",
    "#plt.plot(history.history['val_accuracy'])\n",
    "#plt.title('Model accuracy')\n",
    "#plt.ylabel('Accuracy')\n",
    "#plt.xlabel('Epoch')\n",
    "#plt.legend(['Train', 'Validation'], loc='upper left')\n",
    "#plt.show()"
   ]
  },
  {
   "cell_type": "code",
   "execution_count": null,
   "metadata": {},
   "outputs": [],
   "source": []
  },
  {
   "cell_type": "markdown",
   "metadata": {},
   "source": [
    "**Next, let’s build the dictionary to convert the index to word for target and source vocabulary:**"
   ]
  },
  {
   "cell_type": "code",
   "execution_count": 61,
   "metadata": {},
   "outputs": [],
   "source": [
    "reverse_source_word_index = x_tokenizer.index_word\n",
    "reverse_target_word_index = y_tokenizer.index_word\n",
    "target_word_index = y_tokenizer.word_index"
   ]
  },
  {
   "cell_type": "code",
   "execution_count": 62,
   "metadata": {},
   "outputs": [],
   "source": [
    "s2s_model.encode_decoder()"
   ]
  },
  {
   "cell_type": "code",
   "execution_count": 63,
   "metadata": {},
   "outputs": [
    {
     "name": "stdout",
     "output_type": "stream",
     "text": [
      "WARNING:tensorflow:Compiled the loaded model, but the compiled metrics have yet to be built. `model.compile_metrics` will be empty until you train or evaluate the model.\n",
      "WARNING:tensorflow:Compiled the loaded model, but the compiled metrics have yet to be built. `model.compile_metrics` will be empty until you train or evaluate the model.\n",
      "Model saved successfully...\n"
     ]
    }
   ],
   "source": [
    "s2s_model.save_model()"
   ]
  },
  {
   "cell_type": "code",
   "execution_count": 64,
   "metadata": {},
   "outputs": [
    {
     "name": "stdout",
     "output_type": "stream",
     "text": [
      "Model components saved successfully...\n"
     ]
    }
   ],
   "source": [
    "model_components = {\n",
    "    'x_tokenizer': x_tokenizer,\n",
    "    'y_tokenizer': y_tokenizer,\n",
    "    'reverse_source_word_index': reverse_source_word_index,\n",
    "    'reverse_target_word_index': reverse_target_word_index,\n",
    "    'target_word_index': target_word_index,\n",
    "    'max_text_len': preprocessor.max_text_len,\n",
    "    'max_summary_len': preprocessor.max_summary_len\n",
    "}\n",
    "\n",
    "with open('model_components.pkl', 'wb') as f:\n",
    "    pickle.dump(model_components, f)\n",
    "    print('Model components saved successfully...')"
   ]
  },
  {
   "cell_type": "markdown",
   "metadata": {},
   "source": [
    "**Run the model over the data to see the results**"
   ]
  },
  {
   "cell_type": "code",
   "execution_count": 104,
   "metadata": {},
   "outputs": [
    {
     "name": "stdout",
     "output_type": "stream",
     "text": [
      "1/1 [==============================] - 2s 2s/step\n",
      "1/1 [==============================] - 0s 34ms/step\n",
      "1/1 [==============================] - 0s 35ms/step\n",
      "1/1 [==============================] - 0s 30ms/step\n",
      "1/1 [==============================] - 0s 30ms/step\n",
      "1/1 [==============================] - 0s 37ms/step\n",
      "1/1 [==============================] - 0s 33ms/step\n",
      "1/1 [==============================] - 0s 33ms/step\n",
      "1/1 [==============================] - 0s 34ms/step\n",
      "1/1 [==============================] - 0s 35ms/step\n",
      "1/1 [==============================] - 0s 35ms/step\n",
      "1/1 [==============================] - 0s 36ms/step\n",
      "1/1 [==============================] - 0s 33ms/step\n",
      "1/1 [==============================] - 0s 57ms/step\n",
      "1/1 [==============================] - 0s 31ms/step\n",
      "1/1 [==============================] - 0s 30ms/step\n",
      "1/1 [==============================] - 0s 32ms/step\n",
      "1/1 [==============================] - 0s 35ms/step\n",
      "1/1 [==============================] - 0s 38ms/step\n",
      "1/1 [==============================] - 0s 33ms/step\n",
      "1/1 [==============================] - 0s 32ms/step\n",
      "1/1 [==============================] - 0s 31ms/step\n",
      "1/1 [==============================] - 0s 31ms/step\n",
      "1/1 [==============================] - 0s 32ms/step\n",
      "1/1 [==============================] - 0s 31ms/step\n",
      "1/1 [==============================] - 0s 35ms/step\n",
      "\n",
      "\n",
      "1/1 [==============================] - 0s 42ms/step\n",
      "1/1 [==============================] - 0s 30ms/step\n",
      "1/1 [==============================] - 0s 33ms/step\n",
      "1/1 [==============================] - 0s 33ms/step\n",
      "1/1 [==============================] - 0s 33ms/step\n",
      "1/1 [==============================] - 0s 33ms/step\n",
      "1/1 [==============================] - 0s 31ms/step\n",
      "1/1 [==============================] - 0s 33ms/step\n",
      "1/1 [==============================] - 0s 33ms/step\n",
      "1/1 [==============================] - 0s 53ms/step\n",
      "1/1 [==============================] - 0s 35ms/step\n",
      "1/1 [==============================] - 0s 30ms/step\n",
      "1/1 [==============================] - 0s 31ms/step\n",
      "1/1 [==============================] - 0s 30ms/step\n",
      "1/1 [==============================] - 0s 32ms/step\n",
      "1/1 [==============================] - 0s 32ms/step\n",
      "1/1 [==============================] - 0s 33ms/step\n",
      "1/1 [==============================] - 0s 35ms/step\n",
      "\n",
      "\n",
      "1/1 [==============================] - 0s 52ms/step\n",
      "1/1 [==============================] - 0s 34ms/step\n",
      "1/1 [==============================] - 0s 32ms/step\n",
      "1/1 [==============================] - 0s 34ms/step\n",
      "1/1 [==============================] - 0s 33ms/step\n",
      "1/1 [==============================] - 0s 36ms/step\n",
      "1/1 [==============================] - 0s 31ms/step\n",
      "1/1 [==============================] - 0s 32ms/step\n",
      "1/1 [==============================] - 0s 32ms/step\n",
      "1/1 [==============================] - 0s 30ms/step\n",
      "1/1 [==============================] - 0s 33ms/step\n",
      "1/1 [==============================] - 0s 55ms/step\n",
      "1/1 [==============================] - 0s 33ms/step\n",
      "1/1 [==============================] - 0s 33ms/step\n",
      "1/1 [==============================] - 0s 34ms/step\n",
      "1/1 [==============================] - 0s 33ms/step\n",
      "1/1 [==============================] - 0s 33ms/step\n",
      "1/1 [==============================] - 0s 31ms/step\n",
      "1/1 [==============================] - 0s 31ms/step\n",
      "1/1 [==============================] - 0s 31ms/step\n",
      "1/1 [==============================] - 0s 32ms/step\n",
      "1/1 [==============================] - 0s 32ms/step\n",
      "\n",
      "\n",
      "1/1 [==============================] - 0s 50ms/step\n",
      "1/1 [==============================] - 0s 31ms/step\n",
      "1/1 [==============================] - 0s 31ms/step\n",
      "1/1 [==============================] - 0s 33ms/step\n",
      "1/1 [==============================] - 0s 33ms/step\n",
      "1/1 [==============================] - 0s 33ms/step\n",
      "1/1 [==============================] - 0s 33ms/step\n",
      "1/1 [==============================] - 0s 33ms/step\n",
      "1/1 [==============================] - 0s 32ms/step\n",
      "1/1 [==============================] - 0s 31ms/step\n",
      "1/1 [==============================] - 0s 37ms/step\n",
      "1/1 [==============================] - 0s 31ms/step\n",
      "1/1 [==============================] - 0s 50ms/step\n",
      "1/1 [==============================] - 0s 29ms/step\n",
      "1/1 [==============================] - 0s 32ms/step\n",
      "1/1 [==============================] - 0s 34ms/step\n",
      "1/1 [==============================] - 0s 34ms/step\n",
      "1/1 [==============================] - 0s 33ms/step\n",
      "1/1 [==============================] - 0s 33ms/step\n",
      "1/1 [==============================] - 0s 33ms/step\n",
      "1/1 [==============================] - 0s 32ms/step\n",
      "1/1 [==============================] - 0s 33ms/step\n",
      "1/1 [==============================] - 0s 33ms/step\n",
      "1/1 [==============================] - 0s 35ms/step\n",
      "\n",
      "\n",
      "1/1 [==============================] - 0s 51ms/step\n",
      "1/1 [==============================] - 0s 36ms/step\n",
      "1/1 [==============================] - 0s 38ms/step\n",
      "1/1 [==============================] - 0s 35ms/step\n",
      "1/1 [==============================] - 0s 34ms/step\n",
      "1/1 [==============================] - 0s 35ms/step\n",
      "1/1 [==============================] - 0s 34ms/step\n",
      "1/1 [==============================] - 0s 34ms/step\n",
      "1/1 [==============================] - 0s 34ms/step\n",
      "1/1 [==============================] - 0s 40ms/step\n",
      "1/1 [==============================] - 0s 28ms/step\n",
      "1/1 [==============================] - 0s 39ms/step\n",
      "1/1 [==============================] - 0s 30ms/step\n",
      "1/1 [==============================] - 0s 33ms/step\n",
      "1/1 [==============================] - 0s 30ms/step\n",
      "1/1 [==============================] - 0s 35ms/step\n",
      "1/1 [==============================] - 0s 32ms/step\n",
      "1/1 [==============================] - 0s 28ms/step\n",
      "1/1 [==============================] - 0s 27ms/step\n",
      "1/1 [==============================] - 0s 26ms/step\n",
      "1/1 [==============================] - 0s 26ms/step\n",
      "1/1 [==============================] - 0s 29ms/step\n",
      "\n",
      "\n",
      "1/1 [==============================] - 0s 50ms/step\n",
      "1/1 [==============================] - 0s 30ms/step\n",
      "1/1 [==============================] - 0s 32ms/step\n",
      "1/1 [==============================] - 0s 32ms/step\n",
      "1/1 [==============================] - 0s 33ms/step\n",
      "1/1 [==============================] - 0s 27ms/step\n",
      "1/1 [==============================] - 0s 33ms/step\n",
      "1/1 [==============================] - 0s 35ms/step\n",
      "1/1 [==============================] - 0s 31ms/step\n",
      "1/1 [==============================] - 0s 30ms/step\n",
      "1/1 [==============================] - 0s 35ms/step\n",
      "1/1 [==============================] - 0s 48ms/step\n",
      "1/1 [==============================] - 0s 39ms/step\n",
      "1/1 [==============================] - 0s 30ms/step\n",
      "1/1 [==============================] - 0s 33ms/step\n",
      "1/1 [==============================] - 0s 33ms/step\n",
      "1/1 [==============================] - 0s 33ms/step\n",
      "1/1 [==============================] - 0s 32ms/step\n",
      "1/1 [==============================] - 0s 31ms/step\n",
      "1/1 [==============================] - 0s 29ms/step\n",
      "1/1 [==============================] - 0s 39ms/step\n",
      "1/1 [==============================] - 0s 38ms/step\n",
      "\n",
      "\n",
      "1/1 [==============================] - 0s 50ms/step\n",
      "1/1 [==============================] - 0s 35ms/step\n",
      "1/1 [==============================] - 0s 32ms/step\n",
      "1/1 [==============================] - 0s 33ms/step\n",
      "1/1 [==============================] - 0s 33ms/step\n",
      "1/1 [==============================] - 0s 39ms/step\n",
      "1/1 [==============================] - 0s 35ms/step\n",
      "1/1 [==============================] - 0s 33ms/step\n",
      "1/1 [==============================] - 0s 32ms/step\n",
      "1/1 [==============================] - 0s 49ms/step\n",
      "1/1 [==============================] - 0s 33ms/step\n",
      "1/1 [==============================] - 0s 32ms/step\n",
      "1/1 [==============================] - 0s 38ms/step\n",
      "1/1 [==============================] - 0s 32ms/step\n",
      "1/1 [==============================] - 0s 30ms/step\n",
      "1/1 [==============================] - 0s 31ms/step\n",
      "1/1 [==============================] - 0s 32ms/step\n",
      "1/1 [==============================] - 0s 29ms/step\n",
      "\n",
      "\n",
      "1/1 [==============================] - 0s 40ms/step\n",
      "1/1 [==============================] - 0s 29ms/step\n",
      "1/1 [==============================] - 0s 34ms/step\n",
      "1/1 [==============================] - 0s 36ms/step\n",
      "1/1 [==============================] - 0s 39ms/step\n",
      "1/1 [==============================] - 0s 32ms/step\n",
      "1/1 [==============================] - 0s 35ms/step\n",
      "1/1 [==============================] - 0s 33ms/step\n",
      "1/1 [==============================] - 0s 35ms/step\n",
      "1/1 [==============================] - 0s 46ms/step\n",
      "1/1 [==============================] - 0s 30ms/step\n",
      "1/1 [==============================] - 0s 30ms/step\n",
      "1/1 [==============================] - 0s 29ms/step\n",
      "1/1 [==============================] - 0s 33ms/step\n",
      "1/1 [==============================] - 0s 34ms/step\n",
      "1/1 [==============================] - 0s 35ms/step\n",
      "1/1 [==============================] - 0s 32ms/step\n",
      "1/1 [==============================] - 0s 33ms/step\n",
      "\n",
      "\n",
      "1/1 [==============================] - 0s 42ms/step\n",
      "1/1 [==============================] - 0s 28ms/step\n",
      "1/1 [==============================] - 0s 40ms/step\n",
      "1/1 [==============================] - 0s 31ms/step\n",
      "1/1 [==============================] - 0s 31ms/step\n",
      "1/1 [==============================] - 0s 38ms/step\n",
      "1/1 [==============================] - 0s 33ms/step\n",
      "1/1 [==============================] - 0s 49ms/step\n",
      "1/1 [==============================] - 0s 30ms/step\n",
      "1/1 [==============================] - 0s 41ms/step\n",
      "1/1 [==============================] - 0s 32ms/step\n",
      "1/1 [==============================] - 0s 33ms/step\n",
      "1/1 [==============================] - 0s 32ms/step\n",
      "1/1 [==============================] - 0s 27ms/step\n",
      "1/1 [==============================] - 0s 29ms/step\n",
      "1/1 [==============================] - 0s 26ms/step\n",
      "1/1 [==============================] - 0s 30ms/step\n",
      "1/1 [==============================] - 0s 33ms/step\n",
      "\n",
      "\n"
     ]
    }
   ],
   "source": [
    "scorer = rouge_scorer.RougeScorer(['rouge1', 'rouge2', 'rougeL'], use_stemmer=True)\n",
    "\n",
    "rouge_scores = {'rouge1': [], 'rouge2': [], 'rougeL': []}\n",
    "original_summary = []\n",
    "predicted_summary = []\n",
    "for i in range(1, 10):\n",
    "    #print(\"Review:\", s2s_model.generate_text(x_train[i], reverse_source_word_index))\n",
    "    original_summary.append(s2s_model.generate_summary(y_train[i], target_word_index, reverse_target_word_index))\n",
    "    predicted_summary.append(\n",
    "        s2s_model.decode_sequence(x_train[i].reshape(1, preprocessor.max_text_len), target_word_index,\n",
    "                                  reverse_target_word_index))\n",
    "\n",
    "    #to facilitate generating the rouge scores\n",
    "    original = s2s_model.generate_summary(y_train[i], target_word_index, reverse_target_word_index)\n",
    "    predicted = s2s_model.decode_sequence(x_train[i].reshape(1, preprocessor.max_text_len), target_word_index,\n",
    "                                          reverse_target_word_index)\n",
    "    print(\"\\n\")\n",
    "\n",
    "    # Print summaries for verification\n",
    "    #print(\"Original summary:\", original)\n",
    "    #print(\"Predicted summary:\", predicted)\n",
    "    #print(\"\\n\")\n",
    "\n",
    "    # Calculate ROUGE-1, ROUGE-2 and ROUGE-L \n",
    "    r_scores = scorer.score(original, predicted)\n",
    "    rouge_scores['rouge1'].append(r_scores['rouge1'].fmeasure)\n",
    "    rouge_scores['rouge2'].append(r_scores['rouge2'].fmeasure)\n",
    "    rouge_scores['rougeL'].append(r_scores['rougeL'].fmeasure)\n",
    "\n",
    "# Calculate the average ROUGE scores\n",
    "rouge1_mean = sum(rouge_scores['rouge1']) / len(rouge_scores['rouge1'])\n",
    "rouge2_mean = sum(rouge_scores['rouge2']) / len(rouge_scores['rouge2'])\n",
    "rougeL_mean = sum(rouge_scores['rougeL']) / len(rouge_scores['rougeL'])\n",
    "\n"
   ]
  },
  {
   "cell_type": "code",
   "execution_count": 105,
   "metadata": {},
   "outputs": [
    {
     "data": {
      "text/html": [
       "<div>\n",
       "<style scoped>\n",
       "    .dataframe tbody tr th:only-of-type {\n",
       "        vertical-align: middle;\n",
       "    }\n",
       "\n",
       "    .dataframe tbody tr th {\n",
       "        vertical-align: top;\n",
       "    }\n",
       "\n",
       "    .dataframe thead th {\n",
       "        text-align: right;\n",
       "    }\n",
       "</style>\n",
       "<table border=\"1\" class=\"dataframe\">\n",
       "  <thead>\n",
       "    <tr style=\"text-align: right;\">\n",
       "      <th></th>\n",
       "      <th>original_summary</th>\n",
       "      <th>predicted_summary</th>\n",
       "      <th>ROUGE-1</th>\n",
       "      <th>ROUGE-2</th>\n",
       "      <th>ROUGE-L</th>\n",
       "    </tr>\n",
       "  </thead>\n",
       "  <tbody>\n",
       "    <tr>\n",
       "      <th>0</th>\n",
       "      <td>sunny leone announces birth of twin boys</td>\n",
       "      <td>i am the the the the the the time of time</td>\n",
       "      <td>0.111111</td>\n",
       "      <td>0.0</td>\n",
       "      <td>0.111111</td>\n",
       "    </tr>\n",
       "    <tr>\n",
       "      <th>1</th>\n",
       "      <td>water rich diamonds of oceans deep inside earth</td>\n",
       "      <td>scientists to be in the first time</td>\n",
       "      <td>0.000000</td>\n",
       "      <td>0.0</td>\n",
       "      <td>0.000000</td>\n",
       "    </tr>\n",
       "    <tr>\n",
       "      <th>2</th>\n",
       "      <td>will pay legal fees to defend employees microsoft</td>\n",
       "      <td>india to be to be to be in india</td>\n",
       "      <td>0.117647</td>\n",
       "      <td>0.0</td>\n",
       "      <td>0.117647</td>\n",
       "    </tr>\n",
       "    <tr>\n",
       "      <th>3</th>\n",
       "      <td>evms to display candidates pictures in rajasthan bypoll</td>\n",
       "      <td>i am not not not be in india in india</td>\n",
       "      <td>0.111111</td>\n",
       "      <td>0.0</td>\n",
       "      <td>0.111111</td>\n",
       "    </tr>\n",
       "    <tr>\n",
       "      <th>4</th>\n",
       "      <td>not black day over emergency to criticise cong pm</td>\n",
       "      <td>pm modi to be to be for pm modi</td>\n",
       "      <td>0.222222</td>\n",
       "      <td>0.0</td>\n",
       "      <td>0.222222</td>\n",
       "    </tr>\n",
       "    <tr>\n",
       "      <th>5</th>\n",
       "      <td>rahul did not act on my sexual abuse complaint ex cong worker</td>\n",
       "      <td>pm modi to be to be in pm modi</td>\n",
       "      <td>0.000000</td>\n",
       "      <td>0.0</td>\n",
       "      <td>0.000000</td>\n",
       "    </tr>\n",
       "    <tr>\n",
       "      <th>6</th>\n",
       "      <td>iit iim graduate found hanging from ceiling in gurugram flat</td>\n",
       "      <td>man to be in mumbai in mumbai</td>\n",
       "      <td>0.117647</td>\n",
       "      <td>0.0</td>\n",
       "      <td>0.117647</td>\n",
       "    </tr>\n",
       "    <tr>\n",
       "      <th>7</th>\n",
       "      <td>longest wedding dress train is 27 times eiffel tower size</td>\n",
       "      <td>man to be in the world world</td>\n",
       "      <td>0.000000</td>\n",
       "      <td>0.0</td>\n",
       "      <td>0.000000</td>\n",
       "    </tr>\n",
       "    <tr>\n",
       "      <th>8</th>\n",
       "      <td>cricketer and junior champ chahal beats nz player at chess</td>\n",
       "      <td>india to be in india in india</td>\n",
       "      <td>0.000000</td>\n",
       "      <td>0.0</td>\n",
       "      <td>0.000000</td>\n",
       "    </tr>\n",
       "  </tbody>\n",
       "</table>\n",
       "</div>"
      ],
      "text/plain": [
       "                                                original_summary  \\\n",
       "0                       sunny leone announces birth of twin boys   \n",
       "1                water rich diamonds of oceans deep inside earth   \n",
       "2              will pay legal fees to defend employees microsoft   \n",
       "3        evms to display candidates pictures in rajasthan bypoll   \n",
       "4              not black day over emergency to criticise cong pm   \n",
       "5  rahul did not act on my sexual abuse complaint ex cong worker   \n",
       "6   iit iim graduate found hanging from ceiling in gurugram flat   \n",
       "7      longest wedding dress train is 27 times eiffel tower size   \n",
       "8     cricketer and junior champ chahal beats nz player at chess   \n",
       "\n",
       "                            predicted_summary   ROUGE-1  ROUGE-2   ROUGE-L  \n",
       "0   i am the the the the the the time of time  0.111111      0.0  0.111111  \n",
       "1          scientists to be in the first time  0.000000      0.0  0.000000  \n",
       "2            india to be to be to be in india  0.117647      0.0  0.117647  \n",
       "3       i am not not not be in india in india  0.111111      0.0  0.111111  \n",
       "4             pm modi to be to be for pm modi  0.222222      0.0  0.222222  \n",
       "5              pm modi to be to be in pm modi  0.000000      0.0  0.000000  \n",
       "6               man to be in mumbai in mumbai  0.117647      0.0  0.117647  \n",
       "7                man to be in the world world  0.000000      0.0  0.000000  \n",
       "8               india to be in india in india  0.000000      0.0  0.000000  "
      ]
     },
     "execution_count": 105,
     "metadata": {},
     "output_type": "execute_result"
    }
   ],
   "source": [
    "#create two dataframes 1) Dataframe with original summary and predicted summary 2) with calculated rouge socres\n",
    "rouge_scores_table = pd.DataFrame(list(zip(original_summary, predicted_summary)),\n",
    "                                  columns=['original_summary', 'predicted_summary'])\n",
    "rouge_table = pd.DataFrame(rouge_scores)\n",
    "\n",
    "#create a final dataframe with both results combined\n",
    "results_table = pd.concat([rouge_scores_table, rouge_table], ignore_index=True, axis=1)\n",
    "results_table.rename(columns={0: 'original_summary', 1: 'predicted_summary', 2: 'ROUGE-1', 3: 'ROUGE-2', 4: 'ROUGE-L'},\n",
    "                     inplace=True)\n",
    "\n",
    "#display the results\n",
    "results_table"
   ]
  },
  {
   "cell_type": "code",
   "execution_count": 107,
   "metadata": {},
   "outputs": [
    {
     "data": {
      "text/html": [
       "<div>\n",
       "<style scoped>\n",
       "    .dataframe tbody tr th:only-of-type {\n",
       "        vertical-align: middle;\n",
       "    }\n",
       "\n",
       "    .dataframe tbody tr th {\n",
       "        vertical-align: top;\n",
       "    }\n",
       "\n",
       "    .dataframe thead th {\n",
       "        text-align: right;\n",
       "    }\n",
       "</style>\n",
       "<table border=\"1\" class=\"dataframe\">\n",
       "  <thead>\n",
       "    <tr style=\"text-align: right;\">\n",
       "      <th></th>\n",
       "      <th>ROUGE-1</th>\n",
       "      <th>ROUGE-2</th>\n",
       "      <th>ROUGE-L</th>\n",
       "    </tr>\n",
       "  </thead>\n",
       "  <tbody>\n",
       "    <tr>\n",
       "      <th>0</th>\n",
       "      <td>0.08</td>\n",
       "      <td>0.0</td>\n",
       "      <td>0.08</td>\n",
       "    </tr>\n",
       "  </tbody>\n",
       "</table>\n",
       "</div>"
      ],
      "text/plain": [
       "   ROUGE-1  ROUGE-2  ROUGE-L\n",
       "0     0.08      0.0     0.08"
      ]
     },
     "execution_count": 107,
     "metadata": {},
     "output_type": "execute_result"
    }
   ],
   "source": [
    "#Show mean Rouge Scores in tabular format\n",
    "mean_rouge_scores = {'ROUGE-1': [rouge1_mean.round(2)], 'ROUGE-2': [rouge2_mean.round(2)],\n",
    "                     'ROUGE-L': [rougeL_mean.round(2)]}\n",
    "rouge_scores_mean = pd.DataFrame(mean_rouge_scores)\n",
    "rouge_scores_mean"
   ]
  },
  {
   "metadata": {},
   "cell_type": "markdown",
   "source": "# Extractive Summary"
  },
  {
   "cell_type": "code",
   "metadata": {
    "ExecuteTime": {
     "end_time": "2024-08-15T19:30:08.065279Z",
     "start_time": "2024-08-15T19:30:08.061808Z"
    }
   },
   "source": [
    "\n",
    "from string import punctuation\n",
    "\n",
    "import networkx as nx\n",
    "import nltk\n",
    "import spacy\n",
    "from nltk.corpus import stopwords\n",
    "from rouge_score import rouge_scorer\n",
    "from sklearn.feature_extraction.text import TfidfVectorizer\n",
    "from sklearn.metrics.pairwise import cosine_similarity\n",
    "from transformers import pipeline\n",
    "import re\n",
    "from sentence_transformers import SentenceTransformer, util\n",
    "import heapq\n",
    "from nltk.tokenize import sent_tokenize, word_tokenize\n",
    "\n",
    "nltk.download('punkt')\n",
    "nltk.download('stopwords')"
   ],
   "outputs": [
    {
     "name": "stderr",
     "output_type": "stream",
     "text": [
      "[nltk_data] Downloading package punkt to /Users/mac/nltk_data...\n",
      "[nltk_data]   Package punkt is already up-to-date!\n",
      "[nltk_data] Downloading package stopwords to /Users/mac/nltk_data...\n",
      "[nltk_data]   Package stopwords is already up-to-date!\n"
     ]
    },
    {
     "data": {
      "text/plain": [
       "True"
      ]
     },
     "execution_count": 8,
     "metadata": {},
     "output_type": "execute_result"
    }
   ],
   "execution_count": 8
  },
  {
   "cell_type": "code",
   "metadata": {
    "ExecuteTime": {
     "end_time": "2024-08-15T19:28:56.140463Z",
     "start_time": "2024-08-15T19:28:56.137959Z"
    }
   },
   "source": [
    "paragraph = '''\n",
    "Pennsylvania Gov. Josh Shapiro said former President Donald Trump has left the Butler, Pennsylvania, area following the rally shooting Saturday.\n",
    "\n",
    "“Under the protection of US Secret Service and with the assistance of the Pennsylvania State Police, former President Trump has now left the Butler area,” Shapiro said in a statement posted to X. “Lori and I are thankful that his team reports that he is fine and we continue to wish him a full and speedy recovery.”\n",
    "\n",
    "“We mourn the loss of life and pray for the two victims who are being treated at this time,” he added. “I am grateful for all law enforcement who responded, protected the former president, and worked to bring the situation under control.”\n",
    "\n",
    "Federal law enforcement officials will continue to lead on the investigation into the shooting, Shapiro said. Meanwhile, Pennsylvania State Police will lead the investigation into the shooting of the other victims. Shapiro said he has been communicating with law enforcement on the ground in Pennsylvania and has spoken with President Joe Biden, who “offered his full support.”\n",
    "\n",
    "Shapiro said he knows “how painful and shocking this event is to so many of our fellow Pennsylvanians.” He asked “that we treat our fellow Americans with respect and join together to universally condemn the unacceptable violence we witnessed earlier today in Butler.”\n",
    "'''"
   ],
   "outputs": [],
   "execution_count": 2
  },
  {
   "cell_type": "code",
   "metadata": {
    "ExecuteTime": {
     "end_time": "2024-08-15T19:28:56.143823Z",
     "start_time": "2024-08-15T19:28:56.141104Z"
    }
   },
   "source": [
    "stop_words = set(stopwords.words('english') + list(punctuation))"
   ],
   "outputs": [],
   "execution_count": 3
  },
  {
   "cell_type": "code",
   "metadata": {
    "ExecuteTime": {
     "end_time": "2024-08-15T19:28:56.147289Z",
     "start_time": "2024-08-15T19:28:56.145079Z"
    }
   },
   "source": [
    "def clean_text(text):\n",
    "    text = text.strip()\n",
    "\n",
    "    # remove extra whitespaces\n",
    "    text = re.sub(r'\\s+', ' ', text)\n",
    "\n",
    "    # remove \\n and quotes like “, ‘, ”\n",
    "    text = re.sub(r'[\\n“”‘’]', '', text)\n",
    "\n",
    "    return text"
   ],
   "outputs": [],
   "execution_count": 4
  },
  {
   "cell_type": "markdown",
   "metadata": {},
   "source": [
    "### Extractive text summarization using word frequency"
   ]
  },
  {
   "cell_type": "code",
   "metadata": {
    "ExecuteTime": {
     "end_time": "2024-08-15T19:29:03.237363Z",
     "start_time": "2024-08-15T19:29:03.233888Z"
    }
   },
   "source": [
    "def summarize_text(text):\n",
    "    text = clean_text(text)\n",
    "    # Tokenize the text into sentences\n",
    "    sentences = sent_tokenize(text)\n",
    "\n",
    "    # Tokenize the text into words and filter out stopwords and punctuation\n",
    "    words = word_tokenize(text.lower())\n",
    "    filtered_words = [word for word in words if word not in stop_words]\n",
    "\n",
    "    # Calculate word frequencies\n",
    "    word_frequencies = {}\n",
    "    for word in filtered_words:\n",
    "        if word not in word_frequencies:\n",
    "            word_frequencies[word] = 1\n",
    "        else:\n",
    "            word_frequencies[word] += 1\n",
    "\n",
    "    # Calculate sentence scores\n",
    "    sentence_scores = {}\n",
    "    for sentence in sentences:\n",
    "        for word in word_tokenize(sentence.lower()):\n",
    "            if word in word_frequencies:\n",
    "                if sentence not in sentence_scores:\n",
    "                    sentence_scores[sentence] = word_frequencies[word]\n",
    "                else:\n",
    "                    sentence_scores[sentence] += word_frequencies[word]\n",
    "\n",
    "    # Get the top 30% of sentences with the highest scores\n",
    "    summary_sentences = heapq.nlargest(int(len(sentences) * 0.3), sentence_scores, key=sentence_scores.get)\n",
    "    summary = ' '.join(summary_sentences)\n",
    "    return summary\n"
   ],
   "outputs": [],
   "execution_count": 5
  },
  {
   "cell_type": "code",
   "metadata": {
    "ExecuteTime": {
     "end_time": "2024-08-15T19:29:07.030431Z",
     "start_time": "2024-08-15T19:29:07.021014Z"
    }
   },
   "source": [
    "freq_summary = summarize_text(paragraph)\n",
    "freq_summary"
   ],
   "outputs": [
    {
     "data": {
      "text/plain": [
       "'Under the protection of US Secret Service and with the assistance of the Pennsylvania State Police, former President Trump has now left the Butler area, Shapiro said in a statement posted to X. Lori and I are thankful that his team reports that he is fine and we continue to wish him a full and speedy recovery. Josh Shapiro said former President Donald Trump has left the Butler, Pennsylvania, area following the rally shooting Saturday. Shapiro said he has been communicating with law enforcement on the ground in Pennsylvania and has spoken with President Joe Biden, who offered his full support.'"
      ]
     },
     "execution_count": 6,
     "metadata": {},
     "output_type": "execute_result"
    }
   ],
   "execution_count": 6
  },
  {
   "cell_type": "markdown",
   "metadata": {},
   "source": [
    "### Extractive text summarization using TF-IDF"
   ]
  },
  {
   "cell_type": "code",
   "metadata": {
    "ExecuteTime": {
     "end_time": "2024-08-15T19:29:13.378513Z",
     "start_time": "2024-08-15T19:29:13.374750Z"
    }
   },
   "source": [
    "def compute_tfidf_scores(text):\n",
    "    vectorizer = TfidfVectorizer(stop_words=list(stop_words))\n",
    "    vectors = vectorizer.fit_transform([text])\n",
    "    feature_names = vectorizer.get_feature_names_out()\n",
    "    # dense =\n",
    "    dense_list = vectors.todense().tolist()\n",
    "    tfidf_scores = dict(zip(feature_names, dense_list[0]))\n",
    "    return tfidf_scores\n",
    "\n",
    "\n",
    "def summarize_text_with_tfidf(text, summary_ratio=0.3):\n",
    "    text = clean_text(text)\n",
    "    # Tokenize the text into sentences\n",
    "    sentences = sent_tokenize(text)\n",
    "    if len(sentences) == 0:\n",
    "        return \"\"\n",
    "\n",
    "    # Compute TF-IDF scores for words in the text\n",
    "    tfidf_scores = compute_tfidf_scores(text)\n",
    "\n",
    "    # Calculate sentence scores\n",
    "    sentence_scores = {}\n",
    "    for sentence in sentences:\n",
    "        words = word_tokenize(sentence.lower())\n",
    "        sentence_score = sum(tfidf_scores.get(word, 0) for word in words)\n",
    "        sentence_scores[sentence] = sentence_score / len(words)  # Normalize by sentence length\n",
    "\n",
    "    # Get the top `summary_ratio`% of sentences with the highest scores\n",
    "    num_summary_sentences = max(1, int(len(sentences) * summary_ratio))\n",
    "    summary_sentences = heapq.nlargest(num_summary_sentences, sentence_scores, key=sentence_scores.get)\n",
    "    summary = ' '.join(summary_sentences)\n",
    "    return summary"
   ],
   "outputs": [],
   "execution_count": 7
  },
  {
   "cell_type": "code",
   "metadata": {
    "ExecuteTime": {
     "end_time": "2024-08-15T19:22:36.171650Z",
     "start_time": "2024-08-15T19:22:36.096889Z"
    }
   },
   "source": [
    "tfidf_summary = summarize_text_with_tfidf(paragraph)\n",
    "tfidf_summary"
   ],
   "outputs": [
    {
     "data": {
      "text/plain": [
       "'Pennsylvania Gov. Josh Shapiro said former President Donald Trump has left the Butler, Pennsylvania, area following the rally shooting Saturday. Federal law enforcement officials will continue to lead on the investigation into the shooting, Shapiro said.'"
      ]
     },
     "execution_count": 7,
     "metadata": {},
     "output_type": "execute_result"
    }
   ],
   "execution_count": 7
  },
  {
   "cell_type": "markdown",
   "metadata": {},
   "source": [
    "### Extractive text summarization using transformer"
   ]
  },
  {
   "metadata": {},
   "cell_type": "code",
   "outputs": [],
   "execution_count": null,
   "source": "%pip install rouge_score"
  },
  {
   "metadata": {
    "jupyter": {
     "is_executing": true
    },
    "ExecuteTime": {
     "start_time": "2024-08-15T19:30:45.624689Z"
    }
   },
   "cell_type": "code",
   "source": "model = SentenceTransformer('all-MiniLM-L6-v2')",
   "outputs": [],
   "execution_count": null
  },
  {
   "cell_type": "code",
   "metadata": {
    "jupyter": {
     "is_executing": true
    },
    "ExecuteTime": {
     "start_time": "2024-08-15T19:22:41.290692Z"
    }
   },
   "source": [
    "\n",
    "\n",
    "\n",
    "def compute_sentence_embeddings(sentences):\n",
    "    embeddings = model.encode(sentences, convert_to_tensor=True)\n",
    "    return embeddings\n",
    "\n",
    "\n",
    "def summarize_text_with_transformer(text, summary_ratio=0.3):\n",
    "    text = clean_text(text)\n",
    "\n",
    "    # Tokenize the text into sentences\n",
    "    sentences = sent_tokenize(text)\n",
    "    if len(sentences) == 0:\n",
    "        return \"\"\n",
    "\n",
    "    # Compute sentence embeddings\n",
    "    sentence_embeddings = compute_sentence_embeddings(sentences)\n",
    "\n",
    "    # Compute pairwise sentence similarities\n",
    "    sentence_scores = {}\n",
    "    for i, sentence in enumerate(sentences):\n",
    "        sentence_score = util.pytorch_cos_sim(sentence_embeddings[i], sentence_embeddings).sum().item()\n",
    "        sentence_scores[sentence] = sentence_score / len(sentences)  # Normalize by number of sentences\n",
    "\n",
    "    # Get the top `summary_ratio`% of sentences with the highest scores\n",
    "    num_summary_sentences = max(1, int(len(sentences) * summary_ratio))\n",
    "    summary_sentences = heapq.nlargest(num_summary_sentences, sentence_scores, key=sentence_scores.get)\n",
    "    summary = ' '.join(summary_sentences)\n",
    "    return summary"
   ],
   "outputs": [
    {
     "name": "stderr",
     "output_type": "stream",
     "text": [
      "/Users/mac/anaconda3/lib/python3.11/site-packages/huggingface_hub/file_download.py:1132: FutureWarning: `resume_download` is deprecated and will be removed in version 1.0.0. Downloads always resume when possible. If you want to force a new download, use `force_download=True`.\n",
      "  warnings.warn(\n"
     ]
    }
   ],
   "execution_count": null
  },
  {
   "cell_type": "code",
   "execution_count": null,
   "metadata": {},
   "outputs": [],
   "source": [
    "transformer_summary = summarize_text_with_transformer(paragraph)\n",
    "transformer_summary"
   ]
  },
  {
   "cell_type": "markdown",
   "metadata": {},
   "source": [
    "### Extractive text summarization using NER"
   ]
  },
  {
   "cell_type": "code",
   "execution_count": 7,
   "metadata": {},
   "outputs": [],
   "source": [
    "nlp = spacy.load('en_core_web_sm')\n",
    "\n",
    "\n",
    "def score_with_ner(sentence, nlp_model):\n",
    "    doc = nlp_model(sentence)\n",
    "    return len([ent for ent in doc.ents])\n",
    "\n",
    "\n",
    "def summarize_text_with_ner(text, summary_ratio=0.3):\n",
    "    text = clean_text(text)\n",
    "\n",
    "    sentences = sent_tokenize(text)\n",
    "    if len(sentences) == 0:\n",
    "        return \"\"\n",
    "\n",
    "    sentence_embeddings = compute_sentence_embeddings(sentences)\n",
    "    sentence_scores = {}\n",
    "\n",
    "    for i, sentence in enumerate(sentences):\n",
    "        ner_score = score_with_ner(sentence, nlp)\n",
    "        sentence_score = util.pytorch_cos_sim(sentence_embeddings[i], sentence_embeddings).sum().item()\n",
    "        sentence_scores[sentence] = (sentence_score + ner_score) / len(sentences)\n",
    "\n",
    "    num_summary_sentences = max(1, int(len(sentences) * summary_ratio))\n",
    "    summary_sentences = heapq.nlargest(num_summary_sentences, sentence_scores, key=sentence_scores.get)\n",
    "    summary = ' '.join(summary_sentences)\n",
    "    return summary\n"
   ]
  },
  {
   "cell_type": "code",
   "execution_count": 8,
   "metadata": {},
   "outputs": [
    {
     "ename": "NameError",
     "evalue": "name 'compute_sentence_embeddings' is not defined",
     "output_type": "error",
     "traceback": [
      "\u001B[0;31m---------------------------------------------------------------------------\u001B[0m",
      "\u001B[0;31mNameError\u001B[0m                                 Traceback (most recent call last)",
      "Cell \u001B[0;32mIn[8], line 1\u001B[0m\n\u001B[0;32m----> 1\u001B[0m ner_summary \u001B[38;5;241m=\u001B[39m summarize_text_with_ner(paragraph)\n\u001B[1;32m      2\u001B[0m ner_summary\n",
      "Cell \u001B[0;32mIn[7], line 16\u001B[0m, in \u001B[0;36msummarize_text_with_ner\u001B[0;34m(text, summary_ratio)\u001B[0m\n\u001B[1;32m     13\u001B[0m \u001B[38;5;28;01mif\u001B[39;00m \u001B[38;5;28mlen\u001B[39m(sentences) \u001B[38;5;241m==\u001B[39m \u001B[38;5;241m0\u001B[39m:\n\u001B[1;32m     14\u001B[0m     \u001B[38;5;28;01mreturn\u001B[39;00m \u001B[38;5;124m\"\u001B[39m\u001B[38;5;124m\"\u001B[39m\n\u001B[0;32m---> 16\u001B[0m sentence_embeddings \u001B[38;5;241m=\u001B[39m compute_sentence_embeddings(sentences)\n\u001B[1;32m     17\u001B[0m sentence_scores \u001B[38;5;241m=\u001B[39m {}\n\u001B[1;32m     19\u001B[0m \u001B[38;5;28;01mfor\u001B[39;00m i, sentence \u001B[38;5;129;01min\u001B[39;00m \u001B[38;5;28menumerate\u001B[39m(sentences):\n",
      "\u001B[0;31mNameError\u001B[0m: name 'compute_sentence_embeddings' is not defined"
     ]
    }
   ],
   "source": [
    "ner_summary = summarize_text_with_ner(paragraph)\n",
    "ner_summary"
   ]
  },
  {
   "cell_type": "markdown",
   "metadata": {},
   "source": [
    "### Extractive text summarization using TextRank"
   ]
  },
  {
   "cell_type": "code",
   "execution_count": 9,
   "metadata": {},
   "outputs": [],
   "source": [
    "def summarize_text_with_textrank(text, summary_ratio=0.3):\n",
    "    text = clean_text(text)\n",
    "\n",
    "    sentences = sent_tokenize(text)\n",
    "    if len(sentences) == 0:\n",
    "        return \"\"\n",
    "\n",
    "    # Compute sentence embeddings\n",
    "    sentence_embeddings = model.encode(sentences)\n",
    "\n",
    "    # Compute cosine similarity matrix\n",
    "    similarity_matrix = cosine_similarity(sentence_embeddings)\n",
    "\n",
    "    # Build the similarity graph\n",
    "    similarity_graph = nx.from_numpy_array(similarity_matrix)\n",
    "\n",
    "    # Apply PageRank algorithm\n",
    "    scores = nx.pagerank(similarity_graph)\n",
    "\n",
    "    # Rank sentences by their scores\n",
    "    ranked_sentences = sorted(((scores[i], s) for i, s in enumerate(sentences)), reverse=True)\n",
    "\n",
    "    # Select the top `summary_ratio`% sentences\n",
    "    num_summary_sentences = max(1, int(len(sentences) * summary_ratio))\n",
    "    summary_sentences = [s for score, s in ranked_sentences[:num_summary_sentences]]\n",
    "    summary = ' '.join(summary_sentences)\n",
    "    return summary\n"
   ]
  },
  {
   "cell_type": "code",
   "execution_count": 10,
   "metadata": {},
   "outputs": [
    {
     "ename": "NameError",
     "evalue": "name 'model' is not defined",
     "output_type": "error",
     "traceback": [
      "\u001B[0;31m---------------------------------------------------------------------------\u001B[0m",
      "\u001B[0;31mNameError\u001B[0m                                 Traceback (most recent call last)",
      "Cell \u001B[0;32mIn[10], line 1\u001B[0m\n\u001B[0;32m----> 1\u001B[0m textrank_summary \u001B[38;5;241m=\u001B[39m summarize_text_with_textrank(paragraph)\n\u001B[1;32m      2\u001B[0m textrank_summary\n",
      "Cell \u001B[0;32mIn[9], line 9\u001B[0m, in \u001B[0;36msummarize_text_with_textrank\u001B[0;34m(text, summary_ratio)\u001B[0m\n\u001B[1;32m      6\u001B[0m     \u001B[38;5;28;01mreturn\u001B[39;00m \u001B[38;5;124m\"\u001B[39m\u001B[38;5;124m\"\u001B[39m\n\u001B[1;32m      8\u001B[0m \u001B[38;5;66;03m# Compute sentence embeddings\u001B[39;00m\n\u001B[0;32m----> 9\u001B[0m sentence_embeddings \u001B[38;5;241m=\u001B[39m model\u001B[38;5;241m.\u001B[39mencode(sentences)\n\u001B[1;32m     11\u001B[0m \u001B[38;5;66;03m# Compute cosine similarity matrix\u001B[39;00m\n\u001B[1;32m     12\u001B[0m similarity_matrix \u001B[38;5;241m=\u001B[39m cosine_similarity(sentence_embeddings)\n",
      "\u001B[0;31mNameError\u001B[0m: name 'model' is not defined"
     ]
    }
   ],
   "source": [
    "textrank_summary = summarize_text_with_textrank(paragraph)\n",
    "textrank_summary"
   ]
  },
  {
   "cell_type": "markdown",
   "metadata": {},
   "source": [
    "### Extractive text summarization using redundancy removal"
   ]
  },
  {
   "cell_type": "code",
   "execution_count": 11,
   "metadata": {},
   "outputs": [],
   "source": [
    "def redundancy_removal(selected_sentences, new_sentence, model, threshold=0.7):\n",
    "    new_embedding = model.encode([new_sentence])[0]\n",
    "    for sent in selected_sentences:\n",
    "        sent_embedding = model.encode([sent])[0]\n",
    "        if cosine_similarity([new_embedding], [sent_embedding])[0][0] > threshold:\n",
    "            return False\n",
    "    return True\n",
    "\n",
    "\n",
    "def summarize_text_with_redundancy_removal(text, summary_ratio=0.3, redundancy_threshold=0.7):\n",
    "    text = clean_text(text)\n",
    "\n",
    "    sentences = sent_tokenize(text)\n",
    "    if len(sentences) == 0:\n",
    "        return \"\"\n",
    "\n",
    "    sentence_embeddings = model.encode(sentences)\n",
    "    similarity_matrix = cosine_similarity(sentence_embeddings)\n",
    "    similarity_graph = nx.from_numpy_array(similarity_matrix)\n",
    "    scores = nx.pagerank(similarity_graph)\n",
    "    ranked_sentences = sorted(((scores[i], s) for i, s in enumerate(sentences)), reverse=True)\n",
    "\n",
    "    num_summary_sentences = max(1, int(len(sentences) * summary_ratio))\n",
    "    summary_sentences = []\n",
    "    for score, sentence in ranked_sentences:\n",
    "        if len(summary_sentences) < num_summary_sentences and redundancy_removal(summary_sentences, sentence, model,\n",
    "                                                                                 redundancy_threshold):\n",
    "            summary_sentences.append(sentence)\n",
    "\n",
    "    summary = ' '.join(summary_sentences)\n",
    "    return summary\n"
   ]
  },
  {
   "cell_type": "code",
   "execution_count": 12,
   "metadata": {},
   "outputs": [
    {
     "ename": "NameError",
     "evalue": "name 'model' is not defined",
     "output_type": "error",
     "traceback": [
      "\u001B[0;31m---------------------------------------------------------------------------\u001B[0m",
      "\u001B[0;31mNameError\u001B[0m                                 Traceback (most recent call last)",
      "Cell \u001B[0;32mIn[12], line 1\u001B[0m\n\u001B[0;32m----> 1\u001B[0m redundancy_removal_summary \u001B[38;5;241m=\u001B[39m summarize_text_with_redundancy_removal(paragraph)\n\u001B[1;32m      2\u001B[0m redundancy_removal_summary\n",
      "Cell \u001B[0;32mIn[11], line 17\u001B[0m, in \u001B[0;36msummarize_text_with_redundancy_removal\u001B[0;34m(text, summary_ratio, redundancy_threshold)\u001B[0m\n\u001B[1;32m     14\u001B[0m \u001B[38;5;28;01mif\u001B[39;00m \u001B[38;5;28mlen\u001B[39m(sentences) \u001B[38;5;241m==\u001B[39m \u001B[38;5;241m0\u001B[39m:\n\u001B[1;32m     15\u001B[0m     \u001B[38;5;28;01mreturn\u001B[39;00m \u001B[38;5;124m\"\u001B[39m\u001B[38;5;124m\"\u001B[39m\n\u001B[0;32m---> 17\u001B[0m sentence_embeddings \u001B[38;5;241m=\u001B[39m model\u001B[38;5;241m.\u001B[39mencode(sentences)\n\u001B[1;32m     18\u001B[0m similarity_matrix \u001B[38;5;241m=\u001B[39m cosine_similarity(sentence_embeddings)\n\u001B[1;32m     19\u001B[0m similarity_graph \u001B[38;5;241m=\u001B[39m nx\u001B[38;5;241m.\u001B[39mfrom_numpy_array(similarity_matrix)\n",
      "\u001B[0;31mNameError\u001B[0m: name 'model' is not defined"
     ]
    }
   ],
   "source": [
    "redundancy_removal_summary = summarize_text_with_redundancy_removal(paragraph)\n",
    "redundancy_removal_summary"
   ]
  },
  {
   "cell_type": "markdown",
   "metadata": {},
   "source": [
    "### Extractive text summarization using Bert"
   ]
  },
  {
   "cell_type": "code",
   "execution_count": null,
   "metadata": {},
   "outputs": [],
   "source": [
    "summarizer = pipeline(\"summarization\", model=\"sshleifer/distilbart-cnn-12-6\")\n",
    "\n",
    "\n",
    "def summarize_text_with_bert(text, summary_ratio=0.3):\n",
    "    max_length = int(len(text.split()) * summary_ratio)\n",
    "    min_length = max(5, int(max_length * 0.3))\n",
    "    summary = summarizer(text, max_length=max_length, min_length=min_length, do_sample=False)\n",
    "    return summary[0]['summary_text'].strip()"
   ]
  },
  {
   "cell_type": "code",
   "execution_count": null,
   "metadata": {},
   "outputs": [],
   "source": [
    "bert_summary = summarize_text_with_bert(paragraph)\n",
    "bert_summary"
   ]
  },
  {
   "cell_type": "markdown",
   "metadata": {},
   "source": [
    "### Evaluation of the summaries"
   ]
  },
  {
   "cell_type": "code",
   "execution_count": null,
   "metadata": {},
   "outputs": [],
   "source": [
    "def rouge_evaluate_summary(reference, summary) -> float:\n",
    "    _scorer = rouge_scorer.RougeScorer(['rouge1', 'rouge2', 'rougeL'], use_stemmer=True)\n",
    "    return _scorer.score(reference, summary)\n",
    "\n",
    "\n",
    "from nltk.translate.bleu_score import sentence_bleu\n",
    "\n",
    "\n",
    "def blue_evaluate_summary(reference, summary):\n",
    "    return sentence_bleu(reference, summary)\n",
    "    # return sacrebleu.corpus_bleu(summary, [reference])\n",
    "\n",
    "\n",
    "def evaluate_all_summaries(reference, summaries):\n",
    "    evaluation_results = []\n",
    "    for method, summary in summaries.items():\n",
    "        _rouge_scores = rouge_evaluate_summary(reference, summary)\n",
    "\n",
    "        evaluation_results.append({\n",
    "            'method': method,\n",
    "            'rouge1': round(_rouge_scores['rouge1'].fmeasure, 4),\n",
    "            'rouge2': round(_rouge_scores['rouge2'].fmeasure, 4),\n",
    "            'rougeL': round(_rouge_scores['rougeL'].fmeasure, 4),\n",
    "        })\n",
    "    return evaluation_results"
   ]
  },
  {
   "cell_type": "code",
   "execution_count": null,
   "metadata": {},
   "outputs": [],
   "source": [
    "all_summaries = {\n",
    "    'Frequency Summary': freq_summary,\n",
    "    'Tfidf Summary': tfidf_summary,\n",
    "    'Transformer Summary': transformer_summary,\n",
    "    'Ner Summary': ner_summary,\n",
    "    'Textrank Summary': textrank_summary,\n",
    "    'Redundancy Removal Summary': redundancy_removal_summary,\n",
    "    'Bert Summary': bert_summary,\n",
    "}\n",
    "\n",
    "all_summaries_functions = {\n",
    "    'Frequency Summary': summarize_text,\n",
    "    'Tfidf Summary': summarize_text_with_tfidf,\n",
    "    'Transformer Summary': summarize_text_with_transformer,\n",
    "    'Ner Summary': summarize_text_with_ner,\n",
    "    'Textrank Summary': summarize_text_with_textrank,\n",
    "    'Redundancy Removal Summary': summarize_text_with_redundancy_removal,\n",
    "    'Bert Summary': summarize_text_with_bert,\n",
    "}"
   ]
  },
  {
   "cell_type": "code",
   "execution_count": null,
   "metadata": {},
   "outputs": [],
   "source": [
    "scores_rouge = evaluate_all_summaries(paragraph, all_summaries)\n"
   ]
  },
  {
   "cell_type": "code",
   "execution_count": null,
   "metadata": {},
   "outputs": [],
   "source": [
    "import pandas as pd\n",
    "\n",
    "df = pd.DataFrame(scores_rouge)\n",
    "\n",
    "df"
   ]
  },
  {
   "cell_type": "code",
   "execution_count": null,
   "metadata": {},
   "outputs": [],
   "source": [
    "def get_best_method(metric):\n",
    "    # Find the best method based on the chosen metric\n",
    "    _best_method_name = df.loc[df[metric].idxmax(), 'method']\n",
    "\n",
    "    # Retrieve the corresponding summary function\n",
    "    _best_summary_func = all_summaries_functions.get(_best_method_name)\n",
    "\n",
    "    return _best_method_name, _best_summary_func\n",
    "\n",
    "\n",
    "chosen_metric = 'rougeL'\n",
    "best_extractive_method_name, best_extractive_summary_func = get_best_method(chosen_metric)\n",
    "\n",
    "print(f\"Best method based on {chosen_metric}: {best_extractive_method_name}\")"
   ]
  }
 ],
 "metadata": {
  "kaggle": {
   "accelerator": "gpu",
   "dataSources": [
    {
     "datasetId": 1895,
     "sourceId": 791838,
     "sourceType": "datasetVersion"
    },
    {
     "sourceId": 51841083,
     "sourceType": "kernelVersion"
    }
   ],
   "dockerImageVersionId": 30747,
   "isGpuEnabled": true,
   "isInternetEnabled": true,
   "language": "python",
   "sourceType": "notebook"
  },
  "kernelspec": {
   "display_name": "Python 3 (ipykernel)",
   "language": "python",
   "name": "python3"
  },
  "language_info": {
   "codemirror_mode": {
    "name": "ipython",
    "version": 3
   },
   "file_extension": ".py",
   "mimetype": "text/x-python",
   "name": "python",
   "nbconvert_exporter": "python",
   "pygments_lexer": "ipython3",
   "version": "3.11.5"
  }
 },
 "nbformat": 4,
 "nbformat_minor": 4
}
